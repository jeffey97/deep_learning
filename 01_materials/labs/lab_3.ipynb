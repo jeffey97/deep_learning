{
 "cells": [
  {
   "cell_type": "markdown",
   "metadata": {},
   "source": [
    "# Recommender Systems\n",
    "\n",
    "In this lab, we'll be using Keras to build a recommender system. We'll be using the MovieLens dataset, a common benchmark dataset for recommender systems. \n",
    "\n",
    "MovieLens is a web-based recommender system and virtual community that recommends movies for its users to watch, based on their film preferences using collaborative filtering of members' movie ratings and movie reviews. You can check out the website here: https://movielens.org/\n",
    "\n",
    "We will download a subset of the dataset containing 100k ratings. There are tens of millions of ratings in the full dataset, spanning hundreds of thousands of users and movies. The subset we'll be using is a good example to demonstrate the concepts in this lab."
   ]
  },
  {
   "cell_type": "code",
   "execution_count": 37,
   "metadata": {},
   "outputs": [],
   "source": [
    "%matplotlib inline\n",
    "import matplotlib.pyplot as plt\n",
    "import numpy as np\n",
    "from zipfile import ZipFile\n",
    "from urllib.request import urlretrieve\n",
    "from pathlib import Path\n",
    "\n",
    "ML_100K_URL = \"http://files.grouplens.org/datasets/movielens/ml-100k.zip\"\n",
    "ML_100K_FILENAME = Path(\"ml-100k.zip\")\n",
    "ML_100K_FOLDER = Path(\"ml-100k\")\n",
    "\n",
    "if not ML_100K_FOLDER.exists():\n",
    "    if not ML_100K_FILENAME.exists():\n",
    "        urlretrieve(ML_100K_URL, ML_100K_FILENAME.name)\n",
    "    with ZipFile(ML_100K_FILENAME.name) as zipf:\n",
    "        zipf.extractall()"
   ]
  },
  {
   "cell_type": "markdown",
   "metadata": {},
   "source": [
    "The goal of MovieLens is to enable models to predict the rating a user would give to a movie they have not yet watched. This is a classic example of a recommendation system. The dataset is huge, and contains many parts giving information about the movies, the users, and the ratings. To begin with, we will look at the ratings file. Each line in the ratings file (u.data) is formatted as:\n",
    "\n",
    "`user_id, item_id, rating, timestamp`\n",
    "\n",
    "Which tells us a single user's rating of a single movie.\n",
    "\n",
    "We will start by loading the ratings data into a pandas dataframe and then take a look at the first few rows. If you haven't used Pandas before, it's an extremely powerful library for dealing with tabular data. You can think of it as a Python version of Excel."
   ]
  },
  {
   "cell_type": "code",
   "execution_count": 3,
   "metadata": {},
   "outputs": [
    {
     "data": {
      "text/html": [
       "<div>\n",
       "<style scoped>\n",
       "    .dataframe tbody tr th:only-of-type {\n",
       "        vertical-align: middle;\n",
       "    }\n",
       "\n",
       "    .dataframe tbody tr th {\n",
       "        vertical-align: top;\n",
       "    }\n",
       "\n",
       "    .dataframe thead th {\n",
       "        text-align: right;\n",
       "    }\n",
       "</style>\n",
       "<table border=\"1\" class=\"dataframe\">\n",
       "  <thead>\n",
       "    <tr style=\"text-align: right;\">\n",
       "      <th></th>\n",
       "      <th>user_id</th>\n",
       "      <th>item_id</th>\n",
       "      <th>rating</th>\n",
       "      <th>timestamp</th>\n",
       "    </tr>\n",
       "  </thead>\n",
       "  <tbody>\n",
       "    <tr>\n",
       "      <th>0</th>\n",
       "      <td>196</td>\n",
       "      <td>242</td>\n",
       "      <td>3</td>\n",
       "      <td>881250949</td>\n",
       "    </tr>\n",
       "    <tr>\n",
       "      <th>1</th>\n",
       "      <td>186</td>\n",
       "      <td>302</td>\n",
       "      <td>3</td>\n",
       "      <td>891717742</td>\n",
       "    </tr>\n",
       "    <tr>\n",
       "      <th>2</th>\n",
       "      <td>22</td>\n",
       "      <td>377</td>\n",
       "      <td>1</td>\n",
       "      <td>878887116</td>\n",
       "    </tr>\n",
       "    <tr>\n",
       "      <th>3</th>\n",
       "      <td>244</td>\n",
       "      <td>51</td>\n",
       "      <td>2</td>\n",
       "      <td>880606923</td>\n",
       "    </tr>\n",
       "    <tr>\n",
       "      <th>4</th>\n",
       "      <td>166</td>\n",
       "      <td>346</td>\n",
       "      <td>1</td>\n",
       "      <td>886397596</td>\n",
       "    </tr>\n",
       "    <tr>\n",
       "      <th>...</th>\n",
       "      <td>...</td>\n",
       "      <td>...</td>\n",
       "      <td>...</td>\n",
       "      <td>...</td>\n",
       "    </tr>\n",
       "    <tr>\n",
       "      <th>99995</th>\n",
       "      <td>880</td>\n",
       "      <td>476</td>\n",
       "      <td>3</td>\n",
       "      <td>880175444</td>\n",
       "    </tr>\n",
       "    <tr>\n",
       "      <th>99996</th>\n",
       "      <td>716</td>\n",
       "      <td>204</td>\n",
       "      <td>5</td>\n",
       "      <td>879795543</td>\n",
       "    </tr>\n",
       "    <tr>\n",
       "      <th>99997</th>\n",
       "      <td>276</td>\n",
       "      <td>1090</td>\n",
       "      <td>1</td>\n",
       "      <td>874795795</td>\n",
       "    </tr>\n",
       "    <tr>\n",
       "      <th>99998</th>\n",
       "      <td>13</td>\n",
       "      <td>225</td>\n",
       "      <td>2</td>\n",
       "      <td>882399156</td>\n",
       "    </tr>\n",
       "    <tr>\n",
       "      <th>99999</th>\n",
       "      <td>12</td>\n",
       "      <td>203</td>\n",
       "      <td>3</td>\n",
       "      <td>879959583</td>\n",
       "    </tr>\n",
       "  </tbody>\n",
       "</table>\n",
       "<p>100000 rows × 4 columns</p>\n",
       "</div>"
      ],
      "text/plain": [
       "       user_id  item_id  rating  timestamp\n",
       "0          196      242       3  881250949\n",
       "1          186      302       3  891717742\n",
       "2           22      377       1  878887116\n",
       "3          244       51       2  880606923\n",
       "4          166      346       1  886397596\n",
       "...        ...      ...     ...        ...\n",
       "99995      880      476       3  880175444\n",
       "99996      716      204       5  879795543\n",
       "99997      276     1090       1  874795795\n",
       "99998       13      225       2  882399156\n",
       "99999       12      203       3  879959583\n",
       "\n",
       "[100000 rows x 4 columns]"
      ]
     },
     "execution_count": 3,
     "metadata": {},
     "output_type": "execute_result"
    }
   ],
   "source": [
    "import pandas as pd\n",
    "\n",
    "raw_ratings = pd.read_csv(ML_100K_FOLDER / \"u.data\", sep='\\t',\n",
    "                          names=[\"user_id\", \"item_id\", \"rating\", \"timestamp\"])\n",
    "raw_ratings"
   ]
  },
  {
   "cell_type": "markdown",
   "metadata": {},
   "source": [
    "The second file we'll look at is the movie metadata. This file (u.item) contains information about each movie, including the title and release date. Each line in the file is formatted as:\n",
    "\n",
    "`movie_id | movie_title | release_date | video_release_date | IMDb_URL | unknown | Action | Adventure | Animation | Children's | Comedy | Crime | Documentary | Drama | Fantasy | Film-Noir | Horror | Musical | Mystery | Romance | Sci-Fi | Thriller | War | Western`\n",
    "\n",
    "As you can see, the genres are binary variables. As with one-hot encoding, a 1 indicates that the movie is of that genre, and a 0 indicates that it is not. We aren't going to work with the genre data in this lab, but it's easy to imagine that it could be useful in a real-world recommendation system."
   ]
  },
  {
   "cell_type": "code",
   "execution_count": 4,
   "metadata": {},
   "outputs": [
    {
     "data": {
      "text/html": [
       "<div>\n",
       "<style scoped>\n",
       "    .dataframe tbody tr th:only-of-type {\n",
       "        vertical-align: middle;\n",
       "    }\n",
       "\n",
       "    .dataframe tbody tr th {\n",
       "        vertical-align: top;\n",
       "    }\n",
       "\n",
       "    .dataframe thead th {\n",
       "        text-align: right;\n",
       "    }\n",
       "</style>\n",
       "<table border=\"1\" class=\"dataframe\">\n",
       "  <thead>\n",
       "    <tr style=\"text-align: right;\">\n",
       "      <th></th>\n",
       "      <th>item_id</th>\n",
       "      <th>title</th>\n",
       "      <th>release_date</th>\n",
       "      <th>video_release_date</th>\n",
       "      <th>imdb_url</th>\n",
       "    </tr>\n",
       "  </thead>\n",
       "  <tbody>\n",
       "    <tr>\n",
       "      <th>0</th>\n",
       "      <td>1</td>\n",
       "      <td>Toy Story (1995)</td>\n",
       "      <td>01-Jan-1995</td>\n",
       "      <td>NaN</td>\n",
       "      <td>http://us.imdb.com/M/title-exact?Toy%20Story%2...</td>\n",
       "    </tr>\n",
       "    <tr>\n",
       "      <th>1</th>\n",
       "      <td>2</td>\n",
       "      <td>GoldenEye (1995)</td>\n",
       "      <td>01-Jan-1995</td>\n",
       "      <td>NaN</td>\n",
       "      <td>http://us.imdb.com/M/title-exact?GoldenEye%20(...</td>\n",
       "    </tr>\n",
       "    <tr>\n",
       "      <th>2</th>\n",
       "      <td>3</td>\n",
       "      <td>Four Rooms (1995)</td>\n",
       "      <td>01-Jan-1995</td>\n",
       "      <td>NaN</td>\n",
       "      <td>http://us.imdb.com/M/title-exact?Four%20Rooms%...</td>\n",
       "    </tr>\n",
       "    <tr>\n",
       "      <th>3</th>\n",
       "      <td>4</td>\n",
       "      <td>Get Shorty (1995)</td>\n",
       "      <td>01-Jan-1995</td>\n",
       "      <td>NaN</td>\n",
       "      <td>http://us.imdb.com/M/title-exact?Get%20Shorty%...</td>\n",
       "    </tr>\n",
       "    <tr>\n",
       "      <th>4</th>\n",
       "      <td>5</td>\n",
       "      <td>Copycat (1995)</td>\n",
       "      <td>01-Jan-1995</td>\n",
       "      <td>NaN</td>\n",
       "      <td>http://us.imdb.com/M/title-exact?Copycat%20(1995)</td>\n",
       "    </tr>\n",
       "    <tr>\n",
       "      <th>...</th>\n",
       "      <td>...</td>\n",
       "      <td>...</td>\n",
       "      <td>...</td>\n",
       "      <td>...</td>\n",
       "      <td>...</td>\n",
       "    </tr>\n",
       "    <tr>\n",
       "      <th>1677</th>\n",
       "      <td>1678</td>\n",
       "      <td>Mat' i syn (1997)</td>\n",
       "      <td>06-Feb-1998</td>\n",
       "      <td>NaN</td>\n",
       "      <td>http://us.imdb.com/M/title-exact?Mat%27+i+syn+...</td>\n",
       "    </tr>\n",
       "    <tr>\n",
       "      <th>1678</th>\n",
       "      <td>1679</td>\n",
       "      <td>B. Monkey (1998)</td>\n",
       "      <td>06-Feb-1998</td>\n",
       "      <td>NaN</td>\n",
       "      <td>http://us.imdb.com/M/title-exact?B%2E+Monkey+(...</td>\n",
       "    </tr>\n",
       "    <tr>\n",
       "      <th>1679</th>\n",
       "      <td>1680</td>\n",
       "      <td>Sliding Doors (1998)</td>\n",
       "      <td>01-Jan-1998</td>\n",
       "      <td>NaN</td>\n",
       "      <td>http://us.imdb.com/Title?Sliding+Doors+(1998)</td>\n",
       "    </tr>\n",
       "    <tr>\n",
       "      <th>1680</th>\n",
       "      <td>1681</td>\n",
       "      <td>You So Crazy (1994)</td>\n",
       "      <td>01-Jan-1994</td>\n",
       "      <td>NaN</td>\n",
       "      <td>http://us.imdb.com/M/title-exact?You%20So%20Cr...</td>\n",
       "    </tr>\n",
       "    <tr>\n",
       "      <th>1681</th>\n",
       "      <td>1682</td>\n",
       "      <td>Scream of Stone (Schrei aus Stein) (1991)</td>\n",
       "      <td>08-Mar-1996</td>\n",
       "      <td>NaN</td>\n",
       "      <td>http://us.imdb.com/M/title-exact?Schrei%20aus%...</td>\n",
       "    </tr>\n",
       "  </tbody>\n",
       "</table>\n",
       "<p>1682 rows × 5 columns</p>\n",
       "</div>"
      ],
      "text/plain": [
       "      item_id                                      title release_date  \\\n",
       "0           1                           Toy Story (1995)  01-Jan-1995   \n",
       "1           2                           GoldenEye (1995)  01-Jan-1995   \n",
       "2           3                          Four Rooms (1995)  01-Jan-1995   \n",
       "3           4                          Get Shorty (1995)  01-Jan-1995   \n",
       "4           5                             Copycat (1995)  01-Jan-1995   \n",
       "...       ...                                        ...          ...   \n",
       "1677     1678                          Mat' i syn (1997)  06-Feb-1998   \n",
       "1678     1679                           B. Monkey (1998)  06-Feb-1998   \n",
       "1679     1680                       Sliding Doors (1998)  01-Jan-1998   \n",
       "1680     1681                        You So Crazy (1994)  01-Jan-1994   \n",
       "1681     1682  Scream of Stone (Schrei aus Stein) (1991)  08-Mar-1996   \n",
       "\n",
       "      video_release_date                                           imdb_url  \n",
       "0                    NaN  http://us.imdb.com/M/title-exact?Toy%20Story%2...  \n",
       "1                    NaN  http://us.imdb.com/M/title-exact?GoldenEye%20(...  \n",
       "2                    NaN  http://us.imdb.com/M/title-exact?Four%20Rooms%...  \n",
       "3                    NaN  http://us.imdb.com/M/title-exact?Get%20Shorty%...  \n",
       "4                    NaN  http://us.imdb.com/M/title-exact?Copycat%20(1995)  \n",
       "...                  ...                                                ...  \n",
       "1677                 NaN  http://us.imdb.com/M/title-exact?Mat%27+i+syn+...  \n",
       "1678                 NaN  http://us.imdb.com/M/title-exact?B%2E+Monkey+(...  \n",
       "1679                 NaN      http://us.imdb.com/Title?Sliding+Doors+(1998)  \n",
       "1680                 NaN  http://us.imdb.com/M/title-exact?You%20So%20Cr...  \n",
       "1681                 NaN  http://us.imdb.com/M/title-exact?Schrei%20aus%...  \n",
       "\n",
       "[1682 rows x 5 columns]"
      ]
     },
     "execution_count": 4,
     "metadata": {},
     "output_type": "execute_result"
    }
   ],
   "source": [
    "columns_to_keep = ['item_id', 'title', 'release_date', 'video_release_date', 'imdb_url']\n",
    "items = pd.read_csv(ML_100K_FOLDER / \"u.item\", sep='|', names=columns_to_keep,\n",
    "                    encoding='latin-1', usecols=range(5))\n",
    "items"
   ]
  },
  {
   "cell_type": "markdown",
   "metadata": {},
   "source": [
    "By default, the `release_date` column is a string. We can convert it to a `datetime` object using the `pd.to_datetime` function. This will make it easier to work with in the future (if we want to do things like check which date came first, for example).\n",
    " \n",
    "We can also extract the year from the date and store it in a separate column. This will make it easier to do things like plot the number of movies released each year."
   ]
  },
  {
   "cell_type": "code",
   "execution_count": 5,
   "metadata": {},
   "outputs": [],
   "source": [
    "items['release_date'] = pd.to_datetime(items['release_date']) # Pandas makes this easy!\n",
    "items['release_year'] = items['release_date'].dt.year # For later use"
   ]
  },
  {
   "cell_type": "markdown",
   "metadata": {},
   "source": [
    "For our purposes, it will be easier to work with the data if we merge our two dataframes into a single dataframe. We can do this using the `merge` method. We'll merge the `items` dataframe into the `raw_ratings` dataframe, using the `item_id` column as the key. This will add the movie title and release year to each rating."
   ]
  },
  {
   "cell_type": "code",
   "execution_count": 6,
   "metadata": {},
   "outputs": [],
   "source": [
    "all_ratings = pd.merge(items, raw_ratings)"
   ]
  },
  {
   "cell_type": "code",
   "execution_count": 7,
   "metadata": {},
   "outputs": [
    {
     "data": {
      "text/html": [
       "<div>\n",
       "<style scoped>\n",
       "    .dataframe tbody tr th:only-of-type {\n",
       "        vertical-align: middle;\n",
       "    }\n",
       "\n",
       "    .dataframe tbody tr th {\n",
       "        vertical-align: top;\n",
       "    }\n",
       "\n",
       "    .dataframe thead th {\n",
       "        text-align: right;\n",
       "    }\n",
       "</style>\n",
       "<table border=\"1\" class=\"dataframe\">\n",
       "  <thead>\n",
       "    <tr style=\"text-align: right;\">\n",
       "      <th></th>\n",
       "      <th>item_id</th>\n",
       "      <th>title</th>\n",
       "      <th>release_date</th>\n",
       "      <th>video_release_date</th>\n",
       "      <th>imdb_url</th>\n",
       "      <th>release_year</th>\n",
       "      <th>user_id</th>\n",
       "      <th>rating</th>\n",
       "      <th>timestamp</th>\n",
       "    </tr>\n",
       "  </thead>\n",
       "  <tbody>\n",
       "    <tr>\n",
       "      <th>0</th>\n",
       "      <td>1</td>\n",
       "      <td>Toy Story (1995)</td>\n",
       "      <td>1995-01-01</td>\n",
       "      <td>NaN</td>\n",
       "      <td>http://us.imdb.com/M/title-exact?Toy%20Story%2...</td>\n",
       "      <td>1995.0</td>\n",
       "      <td>308</td>\n",
       "      <td>4</td>\n",
       "      <td>887736532</td>\n",
       "    </tr>\n",
       "    <tr>\n",
       "      <th>1</th>\n",
       "      <td>1</td>\n",
       "      <td>Toy Story (1995)</td>\n",
       "      <td>1995-01-01</td>\n",
       "      <td>NaN</td>\n",
       "      <td>http://us.imdb.com/M/title-exact?Toy%20Story%2...</td>\n",
       "      <td>1995.0</td>\n",
       "      <td>287</td>\n",
       "      <td>5</td>\n",
       "      <td>875334088</td>\n",
       "    </tr>\n",
       "    <tr>\n",
       "      <th>2</th>\n",
       "      <td>1</td>\n",
       "      <td>Toy Story (1995)</td>\n",
       "      <td>1995-01-01</td>\n",
       "      <td>NaN</td>\n",
       "      <td>http://us.imdb.com/M/title-exact?Toy%20Story%2...</td>\n",
       "      <td>1995.0</td>\n",
       "      <td>148</td>\n",
       "      <td>4</td>\n",
       "      <td>877019411</td>\n",
       "    </tr>\n",
       "    <tr>\n",
       "      <th>3</th>\n",
       "      <td>1</td>\n",
       "      <td>Toy Story (1995)</td>\n",
       "      <td>1995-01-01</td>\n",
       "      <td>NaN</td>\n",
       "      <td>http://us.imdb.com/M/title-exact?Toy%20Story%2...</td>\n",
       "      <td>1995.0</td>\n",
       "      <td>280</td>\n",
       "      <td>4</td>\n",
       "      <td>891700426</td>\n",
       "    </tr>\n",
       "    <tr>\n",
       "      <th>4</th>\n",
       "      <td>1</td>\n",
       "      <td>Toy Story (1995)</td>\n",
       "      <td>1995-01-01</td>\n",
       "      <td>NaN</td>\n",
       "      <td>http://us.imdb.com/M/title-exact?Toy%20Story%2...</td>\n",
       "      <td>1995.0</td>\n",
       "      <td>66</td>\n",
       "      <td>3</td>\n",
       "      <td>883601324</td>\n",
       "    </tr>\n",
       "  </tbody>\n",
       "</table>\n",
       "</div>"
      ],
      "text/plain": [
       "   item_id             title release_date  video_release_date  \\\n",
       "0        1  Toy Story (1995)   1995-01-01                 NaN   \n",
       "1        1  Toy Story (1995)   1995-01-01                 NaN   \n",
       "2        1  Toy Story (1995)   1995-01-01                 NaN   \n",
       "3        1  Toy Story (1995)   1995-01-01                 NaN   \n",
       "4        1  Toy Story (1995)   1995-01-01                 NaN   \n",
       "\n",
       "                                            imdb_url  release_year  user_id  \\\n",
       "0  http://us.imdb.com/M/title-exact?Toy%20Story%2...        1995.0      308   \n",
       "1  http://us.imdb.com/M/title-exact?Toy%20Story%2...        1995.0      287   \n",
       "2  http://us.imdb.com/M/title-exact?Toy%20Story%2...        1995.0      148   \n",
       "3  http://us.imdb.com/M/title-exact?Toy%20Story%2...        1995.0      280   \n",
       "4  http://us.imdb.com/M/title-exact?Toy%20Story%2...        1995.0       66   \n",
       "\n",
       "   rating  timestamp  \n",
       "0       4  887736532  \n",
       "1       5  875334088  \n",
       "2       4  877019411  \n",
       "3       4  891700426  \n",
       "4       3  883601324  "
      ]
     },
     "execution_count": 7,
     "metadata": {},
     "output_type": "execute_result"
    }
   ],
   "source": [
    "all_ratings.head()"
   ]
  },
  {
   "cell_type": "markdown",
   "metadata": {},
   "source": [
    "### Data preprocessing\n",
    "\n",
    "It's always important to understand the data you've collected. Thankfully, Pandas continues to make this easy for us. Using the `describe` method, we can get a quick statistical summary of the data."
   ]
  },
  {
   "cell_type": "code",
   "execution_count": 8,
   "metadata": {},
   "outputs": [
    {
     "data": {
      "text/html": [
       "<div>\n",
       "<style scoped>\n",
       "    .dataframe tbody tr th:only-of-type {\n",
       "        vertical-align: middle;\n",
       "    }\n",
       "\n",
       "    .dataframe tbody tr th {\n",
       "        vertical-align: top;\n",
       "    }\n",
       "\n",
       "    .dataframe thead th {\n",
       "        text-align: right;\n",
       "    }\n",
       "</style>\n",
       "<table border=\"1\" class=\"dataframe\">\n",
       "  <thead>\n",
       "    <tr style=\"text-align: right;\">\n",
       "      <th></th>\n",
       "      <th>item_id</th>\n",
       "      <th>release_date</th>\n",
       "      <th>video_release_date</th>\n",
       "      <th>release_year</th>\n",
       "      <th>user_id</th>\n",
       "      <th>rating</th>\n",
       "      <th>timestamp</th>\n",
       "    </tr>\n",
       "  </thead>\n",
       "  <tbody>\n",
       "    <tr>\n",
       "      <th>count</th>\n",
       "      <td>100000.000000</td>\n",
       "      <td>99991</td>\n",
       "      <td>0.0</td>\n",
       "      <td>99991.000000</td>\n",
       "      <td>100000.00000</td>\n",
       "      <td>100000.000000</td>\n",
       "      <td>1.000000e+05</td>\n",
       "    </tr>\n",
       "    <tr>\n",
       "      <th>mean</th>\n",
       "      <td>425.530130</td>\n",
       "      <td>1988-02-09 00:43:11.369223296</td>\n",
       "      <td>NaN</td>\n",
       "      <td>1987.956216</td>\n",
       "      <td>462.48475</td>\n",
       "      <td>3.529860</td>\n",
       "      <td>8.835289e+08</td>\n",
       "    </tr>\n",
       "    <tr>\n",
       "      <th>min</th>\n",
       "      <td>1.000000</td>\n",
       "      <td>1922-01-01 00:00:00</td>\n",
       "      <td>NaN</td>\n",
       "      <td>1922.000000</td>\n",
       "      <td>1.00000</td>\n",
       "      <td>1.000000</td>\n",
       "      <td>8.747247e+08</td>\n",
       "    </tr>\n",
       "    <tr>\n",
       "      <th>25%</th>\n",
       "      <td>175.000000</td>\n",
       "      <td>1986-01-01 00:00:00</td>\n",
       "      <td>NaN</td>\n",
       "      <td>1986.000000</td>\n",
       "      <td>254.00000</td>\n",
       "      <td>3.000000</td>\n",
       "      <td>8.794487e+08</td>\n",
       "    </tr>\n",
       "    <tr>\n",
       "      <th>50%</th>\n",
       "      <td>322.000000</td>\n",
       "      <td>1994-01-01 00:00:00</td>\n",
       "      <td>NaN</td>\n",
       "      <td>1994.000000</td>\n",
       "      <td>447.00000</td>\n",
       "      <td>4.000000</td>\n",
       "      <td>8.828269e+08</td>\n",
       "    </tr>\n",
       "    <tr>\n",
       "      <th>75%</th>\n",
       "      <td>631.000000</td>\n",
       "      <td>1996-09-28 00:00:00</td>\n",
       "      <td>NaN</td>\n",
       "      <td>1996.000000</td>\n",
       "      <td>682.00000</td>\n",
       "      <td>4.000000</td>\n",
       "      <td>8.882600e+08</td>\n",
       "    </tr>\n",
       "    <tr>\n",
       "      <th>max</th>\n",
       "      <td>1682.000000</td>\n",
       "      <td>1998-10-23 00:00:00</td>\n",
       "      <td>NaN</td>\n",
       "      <td>1998.000000</td>\n",
       "      <td>943.00000</td>\n",
       "      <td>5.000000</td>\n",
       "      <td>8.932866e+08</td>\n",
       "    </tr>\n",
       "    <tr>\n",
       "      <th>std</th>\n",
       "      <td>330.798356</td>\n",
       "      <td>NaN</td>\n",
       "      <td>NaN</td>\n",
       "      <td>14.155523</td>\n",
       "      <td>266.61442</td>\n",
       "      <td>1.125674</td>\n",
       "      <td>5.343856e+06</td>\n",
       "    </tr>\n",
       "  </tbody>\n",
       "</table>\n",
       "</div>"
      ],
      "text/plain": [
       "             item_id                   release_date  video_release_date  \\\n",
       "count  100000.000000                          99991                 0.0   \n",
       "mean      425.530130  1988-02-09 00:43:11.369223296                 NaN   \n",
       "min         1.000000            1922-01-01 00:00:00                 NaN   \n",
       "25%       175.000000            1986-01-01 00:00:00                 NaN   \n",
       "50%       322.000000            1994-01-01 00:00:00                 NaN   \n",
       "75%       631.000000            1996-09-28 00:00:00                 NaN   \n",
       "max      1682.000000            1998-10-23 00:00:00                 NaN   \n",
       "std       330.798356                            NaN                 NaN   \n",
       "\n",
       "       release_year       user_id         rating     timestamp  \n",
       "count  99991.000000  100000.00000  100000.000000  1.000000e+05  \n",
       "mean    1987.956216     462.48475       3.529860  8.835289e+08  \n",
       "min     1922.000000       1.00000       1.000000  8.747247e+08  \n",
       "25%     1986.000000     254.00000       3.000000  8.794487e+08  \n",
       "50%     1994.000000     447.00000       4.000000  8.828269e+08  \n",
       "75%     1996.000000     682.00000       4.000000  8.882600e+08  \n",
       "max     1998.000000     943.00000       5.000000  8.932866e+08  \n",
       "std       14.155523     266.61442       1.125674  5.343856e+06  "
      ]
     },
     "execution_count": 8,
     "metadata": {},
     "output_type": "execute_result"
    }
   ],
   "source": [
    "all_ratings.describe()"
   ]
  },
  {
   "cell_type": "markdown",
   "metadata": {},
   "source": [
    "Let's do a bit more pandas magic to compute the popularity of each movie (number of ratings). We will use the `groupby` method to group the dataframe by the `item_id` column and then use the `size` method to compute the number of ratings for each movie. We will use the `reset_index` method to convert the resulting Series into a dataframe with an `item_id` column."
   ]
  },
  {
   "cell_type": "code",
   "execution_count": 9,
   "metadata": {},
   "outputs": [],
   "source": [
    "popularity = all_ratings.groupby('item_id').size().reset_index(name='popularity')\n",
    "items = pd.merge(popularity, items)"
   ]
  },
  {
   "cell_type": "code",
   "execution_count": 10,
   "metadata": {},
   "outputs": [
    {
     "data": {
      "image/png": "[encoded data removed]",
      "text/plain": [
       "<Figure size 640x480 with 1 Axes>"
      ]
     },
     "metadata": {},
     "output_type": "display_data"
    }
   ],
   "source": [
    "items['popularity'].plot.hist(bins=30);"
   ]
  },
  {
   "cell_type": "code",
   "execution_count": 11,
   "metadata": {},
   "outputs": [
    {
     "data": {
      "text/plain": [
       "np.int64(141)"
      ]
     },
     "execution_count": 11,
     "metadata": {},
     "output_type": "execute_result"
    }
   ],
   "source": [
    "(items['popularity'] == 1).sum() # Number of movies with only one rating"
   ]
  },
  {
   "cell_type": "code",
   "execution_count": 12,
   "metadata": {},
   "outputs": [
    {
     "data": {
      "text/plain": [
       "49                  Star Wars (1977)\n",
       "257                   Contact (1997)\n",
       "99                      Fargo (1996)\n",
       "180        Return of the Jedi (1983)\n",
       "293                 Liar Liar (1997)\n",
       "285      English Patient, The (1996)\n",
       "287                    Scream (1996)\n",
       "0                   Toy Story (1995)\n",
       "299             Air Force One (1997)\n",
       "120    Independence Day (ID4) (1996)\n",
       "Name: title, dtype: object"
      ]
     },
     "execution_count": 12,
     "metadata": {},
     "output_type": "execute_result"
    }
   ],
   "source": [
    "items.nlargest(10, 'popularity')['title'] # Get the 10 most popular movies"
   ]
  },
  {
   "cell_type": "code",
   "execution_count": 13,
   "metadata": {},
   "outputs": [
    {
     "data": {
      "text/html": [
       "<div>\n",
       "<style scoped>\n",
       "    .dataframe tbody tr th:only-of-type {\n",
       "        vertical-align: middle;\n",
       "    }\n",
       "\n",
       "    .dataframe tbody tr th {\n",
       "        vertical-align: top;\n",
       "    }\n",
       "\n",
       "    .dataframe thead th {\n",
       "        text-align: right;\n",
       "    }\n",
       "</style>\n",
       "<table border=\"1\" class=\"dataframe\">\n",
       "  <thead>\n",
       "    <tr style=\"text-align: right;\">\n",
       "      <th></th>\n",
       "      <th>item_id</th>\n",
       "      <th>popularity</th>\n",
       "      <th>release_date</th>\n",
       "      <th>video_release_date</th>\n",
       "      <th>release_year</th>\n",
       "      <th>user_id</th>\n",
       "      <th>rating</th>\n",
       "      <th>timestamp</th>\n",
       "    </tr>\n",
       "  </thead>\n",
       "  <tbody>\n",
       "    <tr>\n",
       "      <th>count</th>\n",
       "      <td>100000.000000</td>\n",
       "      <td>100000.000000</td>\n",
       "      <td>99991</td>\n",
       "      <td>0.0</td>\n",
       "      <td>99991.000000</td>\n",
       "      <td>100000.00000</td>\n",
       "      <td>100000.000000</td>\n",
       "      <td>1.000000e+05</td>\n",
       "    </tr>\n",
       "    <tr>\n",
       "      <th>mean</th>\n",
       "      <td>425.530130</td>\n",
       "      <td>168.071900</td>\n",
       "      <td>1988-02-09 00:43:11.369223296</td>\n",
       "      <td>NaN</td>\n",
       "      <td>1987.956216</td>\n",
       "      <td>462.48475</td>\n",
       "      <td>3.529860</td>\n",
       "      <td>8.835289e+08</td>\n",
       "    </tr>\n",
       "    <tr>\n",
       "      <th>min</th>\n",
       "      <td>1.000000</td>\n",
       "      <td>1.000000</td>\n",
       "      <td>1922-01-01 00:00:00</td>\n",
       "      <td>NaN</td>\n",
       "      <td>1922.000000</td>\n",
       "      <td>1.00000</td>\n",
       "      <td>1.000000</td>\n",
       "      <td>8.747247e+08</td>\n",
       "    </tr>\n",
       "    <tr>\n",
       "      <th>25%</th>\n",
       "      <td>175.000000</td>\n",
       "      <td>71.000000</td>\n",
       "      <td>1986-01-01 00:00:00</td>\n",
       "      <td>NaN</td>\n",
       "      <td>1986.000000</td>\n",
       "      <td>254.00000</td>\n",
       "      <td>3.000000</td>\n",
       "      <td>8.794487e+08</td>\n",
       "    </tr>\n",
       "    <tr>\n",
       "      <th>50%</th>\n",
       "      <td>322.000000</td>\n",
       "      <td>145.000000</td>\n",
       "      <td>1994-01-01 00:00:00</td>\n",
       "      <td>NaN</td>\n",
       "      <td>1994.000000</td>\n",
       "      <td>447.00000</td>\n",
       "      <td>4.000000</td>\n",
       "      <td>8.828269e+08</td>\n",
       "    </tr>\n",
       "    <tr>\n",
       "      <th>75%</th>\n",
       "      <td>631.000000</td>\n",
       "      <td>239.000000</td>\n",
       "      <td>1996-09-28 00:00:00</td>\n",
       "      <td>NaN</td>\n",
       "      <td>1996.000000</td>\n",
       "      <td>682.00000</td>\n",
       "      <td>4.000000</td>\n",
       "      <td>8.882600e+08</td>\n",
       "    </tr>\n",
       "    <tr>\n",
       "      <th>max</th>\n",
       "      <td>1682.000000</td>\n",
       "      <td>583.000000</td>\n",
       "      <td>1998-10-23 00:00:00</td>\n",
       "      <td>NaN</td>\n",
       "      <td>1998.000000</td>\n",
       "      <td>943.00000</td>\n",
       "      <td>5.000000</td>\n",
       "      <td>8.932866e+08</td>\n",
       "    </tr>\n",
       "    <tr>\n",
       "      <th>std</th>\n",
       "      <td>330.798356</td>\n",
       "      <td>121.784558</td>\n",
       "      <td>NaN</td>\n",
       "      <td>NaN</td>\n",
       "      <td>14.155523</td>\n",
       "      <td>266.61442</td>\n",
       "      <td>1.125674</td>\n",
       "      <td>5.343856e+06</td>\n",
       "    </tr>\n",
       "  </tbody>\n",
       "</table>\n",
       "</div>"
      ],
      "text/plain": [
       "             item_id     popularity                   release_date  \\\n",
       "count  100000.000000  100000.000000                          99991   \n",
       "mean      425.530130     168.071900  1988-02-09 00:43:11.369223296   \n",
       "min         1.000000       1.000000            1922-01-01 00:00:00   \n",
       "25%       175.000000      71.000000            1986-01-01 00:00:00   \n",
       "50%       322.000000     145.000000            1994-01-01 00:00:00   \n",
       "75%       631.000000     239.000000            1996-09-28 00:00:00   \n",
       "max      1682.000000     583.000000            1998-10-23 00:00:00   \n",
       "std       330.798356     121.784558                            NaN   \n",
       "\n",
       "       video_release_date  release_year       user_id         rating  \\\n",
       "count                 0.0  99991.000000  100000.00000  100000.000000   \n",
       "mean                  NaN   1987.956216     462.48475       3.529860   \n",
       "min                   NaN   1922.000000       1.00000       1.000000   \n",
       "25%                   NaN   1986.000000     254.00000       3.000000   \n",
       "50%                   NaN   1994.000000     447.00000       4.000000   \n",
       "75%                   NaN   1996.000000     682.00000       4.000000   \n",
       "max                   NaN   1998.000000     943.00000       5.000000   \n",
       "std                   NaN     14.155523     266.61442       1.125674   \n",
       "\n",
       "          timestamp  \n",
       "count  1.000000e+05  \n",
       "mean   8.835289e+08  \n",
       "min    8.747247e+08  \n",
       "25%    8.794487e+08  \n",
       "50%    8.828269e+08  \n",
       "75%    8.882600e+08  \n",
       "max    8.932866e+08  \n",
       "std    5.343856e+06  "
      ]
     },
     "execution_count": 13,
     "metadata": {},
     "output_type": "execute_result"
    }
   ],
   "source": [
    "all_ratings = pd.merge(popularity, all_ratings)\n",
    "all_ratings.describe()"
   ]
  },
  {
   "cell_type": "code",
   "execution_count": 14,
   "metadata": {
    "collapsed": false
   },
   "outputs": [],
   "source": [
    "indexed_items = items.set_index('item_id')"
   ]
  },
  {
   "cell_type": "code",
   "execution_count": 15,
   "metadata": {},
   "outputs": [
    {
     "data": {
      "text/html": [
       "<div>\n",
       "<style scoped>\n",
       "    .dataframe tbody tr th:only-of-type {\n",
       "        vertical-align: middle;\n",
       "    }\n",
       "\n",
       "    .dataframe tbody tr th {\n",
       "        vertical-align: top;\n",
       "    }\n",
       "\n",
       "    .dataframe thead th {\n",
       "        text-align: right;\n",
       "    }\n",
       "</style>\n",
       "<table border=\"1\" class=\"dataframe\">\n",
       "  <thead>\n",
       "    <tr style=\"text-align: right;\">\n",
       "      <th></th>\n",
       "      <th>item_id</th>\n",
       "      <th>popularity</th>\n",
       "      <th>title</th>\n",
       "      <th>release_date</th>\n",
       "      <th>video_release_date</th>\n",
       "      <th>imdb_url</th>\n",
       "      <th>release_year</th>\n",
       "      <th>user_id</th>\n",
       "      <th>rating</th>\n",
       "      <th>timestamp</th>\n",
       "    </tr>\n",
       "  </thead>\n",
       "  <tbody>\n",
       "    <tr>\n",
       "      <th>0</th>\n",
       "      <td>1</td>\n",
       "      <td>452</td>\n",
       "      <td>Toy Story (1995)</td>\n",
       "      <td>1995-01-01</td>\n",
       "      <td>NaN</td>\n",
       "      <td>http://us.imdb.com/M/title-exact?Toy%20Story%2...</td>\n",
       "      <td>1995.0</td>\n",
       "      <td>308</td>\n",
       "      <td>4</td>\n",
       "      <td>887736532</td>\n",
       "    </tr>\n",
       "    <tr>\n",
       "      <th>1</th>\n",
       "      <td>1</td>\n",
       "      <td>452</td>\n",
       "      <td>Toy Story (1995)</td>\n",
       "      <td>1995-01-01</td>\n",
       "      <td>NaN</td>\n",
       "      <td>http://us.imdb.com/M/title-exact?Toy%20Story%2...</td>\n",
       "      <td>1995.0</td>\n",
       "      <td>287</td>\n",
       "      <td>5</td>\n",
       "      <td>875334088</td>\n",
       "    </tr>\n",
       "    <tr>\n",
       "      <th>2</th>\n",
       "      <td>1</td>\n",
       "      <td>452</td>\n",
       "      <td>Toy Story (1995)</td>\n",
       "      <td>1995-01-01</td>\n",
       "      <td>NaN</td>\n",
       "      <td>http://us.imdb.com/M/title-exact?Toy%20Story%2...</td>\n",
       "      <td>1995.0</td>\n",
       "      <td>148</td>\n",
       "      <td>4</td>\n",
       "      <td>877019411</td>\n",
       "    </tr>\n",
       "    <tr>\n",
       "      <th>3</th>\n",
       "      <td>1</td>\n",
       "      <td>452</td>\n",
       "      <td>Toy Story (1995)</td>\n",
       "      <td>1995-01-01</td>\n",
       "      <td>NaN</td>\n",
       "      <td>http://us.imdb.com/M/title-exact?Toy%20Story%2...</td>\n",
       "      <td>1995.0</td>\n",
       "      <td>280</td>\n",
       "      <td>4</td>\n",
       "      <td>891700426</td>\n",
       "    </tr>\n",
       "    <tr>\n",
       "      <th>4</th>\n",
       "      <td>1</td>\n",
       "      <td>452</td>\n",
       "      <td>Toy Story (1995)</td>\n",
       "      <td>1995-01-01</td>\n",
       "      <td>NaN</td>\n",
       "      <td>http://us.imdb.com/M/title-exact?Toy%20Story%2...</td>\n",
       "      <td>1995.0</td>\n",
       "      <td>66</td>\n",
       "      <td>3</td>\n",
       "      <td>883601324</td>\n",
       "    </tr>\n",
       "  </tbody>\n",
       "</table>\n",
       "</div>"
      ],
      "text/plain": [
       "   item_id  popularity             title release_date  video_release_date  \\\n",
       "0        1         452  Toy Story (1995)   1995-01-01                 NaN   \n",
       "1        1         452  Toy Story (1995)   1995-01-01                 NaN   \n",
       "2        1         452  Toy Story (1995)   1995-01-01                 NaN   \n",
       "3        1         452  Toy Story (1995)   1995-01-01                 NaN   \n",
       "4        1         452  Toy Story (1995)   1995-01-01                 NaN   \n",
       "\n",
       "                                            imdb_url  release_year  user_id  \\\n",
       "0  http://us.imdb.com/M/title-exact?Toy%20Story%2...        1995.0      308   \n",
       "1  http://us.imdb.com/M/title-exact?Toy%20Story%2...        1995.0      287   \n",
       "2  http://us.imdb.com/M/title-exact?Toy%20Story%2...        1995.0      148   \n",
       "3  http://us.imdb.com/M/title-exact?Toy%20Story%2...        1995.0      280   \n",
       "4  http://us.imdb.com/M/title-exact?Toy%20Story%2...        1995.0       66   \n",
       "\n",
       "   rating  timestamp  \n",
       "0       4  887736532  \n",
       "1       5  875334088  \n",
       "2       4  877019411  \n",
       "3       4  891700426  \n",
       "4       3  883601324  "
      ]
     },
     "execution_count": 15,
     "metadata": {},
     "output_type": "execute_result"
    }
   ],
   "source": [
    "all_ratings.head()"
   ]
  },
  {
   "cell_type": "markdown",
   "metadata": {
    "collapsed": false
   },
   "source": [
    "**Quick Exercise**:\n",
    "\n",
    "As we have seen, the `groupby` method is a powerful tool to quickly compute statistics on the data. Use it to compute the average rating for each movie.\n",
    "\n",
    "**Hint**: you can use the `mean` method after the `groupby` method."
   ]
  },
  {
   "cell_type": "code",
   "execution_count": 16,
   "metadata": {
    "collapsed": false
   },
   "outputs": [
    {
     "data": {
      "text/plain": [
       "title\n",
       "'Til There Was You (1997)                2.333333\n",
       "1-900 (1994)                             2.600000\n",
       "101 Dalmatians (1996)                    2.908257\n",
       "12 Angry Men (1957)                      4.344000\n",
       "187 (1997)                               3.024390\n",
       "                                           ...   \n",
       "Young Guns II (1990)                     2.772727\n",
       "Young Poisoner's Handbook, The (1995)    3.341463\n",
       "Zeus and Roxanne (1997)                  2.166667\n",
       "unknown                                  3.444444\n",
       "Á köldum klaka (Cold Fever) (1994)       3.000000\n",
       "Name: rating, Length: 1664, dtype: float64"
      ]
     },
     "execution_count": 16,
     "metadata": {},
     "output_type": "execute_result"
    }
   ],
   "source": [
    "# Your code here\n",
    "all_ratings.groupby('title')['rating'].mean()\n"
   ]
  },
  {
   "cell_type": "markdown",
   "metadata": {},
   "source": [
    "Let's split the enriched data in a train / test split to make it possible to do predictive modeling:"
   ]
  },
  {
   "cell_type": "code",
   "execution_count": 17,
   "metadata": {},
   "outputs": [],
   "source": [
    "from sklearn.model_selection import train_test_split\n",
    "\n",
    "ratings_train, ratings_test = train_test_split(\n",
    "    all_ratings, test_size=0.2, random_state=0)\n",
    "\n",
    "user_id_train = np.array(ratings_train['user_id'])\n",
    "item_id_train = np.array(ratings_train['item_id'])\n",
    "rating_train = np.array(ratings_train['rating'])\n",
    "\n",
    "user_id_test = np.array(ratings_test['user_id'])\n",
    "item_id_test = np.array(ratings_test['item_id'])\n",
    "rating_test = np.array(ratings_test['rating'])"
   ]
  },
  {
   "cell_type": "markdown",
   "metadata": {},
   "source": [
    "# Explicit feedback: supervised ratings prediction\n",
    "\n",
    "Now let's begin to do some recommendation! We will build a model that takes a user and a movie as input and outputs a predicted rating. We will be taking advantage of embeddings to represent users and movies. That means that each movie and user will have an abstract representation in a continuous vector space. The model will learn these representations based on the ratings."
   ]
  },
  {
   "cell_type": "markdown",
   "metadata": {},
   "source": [
    "## Predictive ratings  as a regression problem\n",
    "\n",
    "The following code implements the following architecture:\n",
    "\n",
    "<img src=\"https://raw.githubusercontent.com/UofT-DSI/deep_learning/main/notebooks/images/rec_archi_1.svg\" style=\"width: 600px;\" />"
   ]
  },
  {
   "cell_type": "code",
   "execution_count": 18,
   "metadata": {},
   "outputs": [],
   "source": [
    "from tensorflow.keras.layers import Embedding, Flatten, Dense, Dropout\n",
    "from tensorflow.keras.layers import Dot\n",
    "from tensorflow.keras.models import Model"
   ]
  },
  {
   "cell_type": "code",
   "execution_count": 19,
   "metadata": {},
   "outputs": [
    {
     "name": "stderr",
     "output_type": "stream",
     "text": [
      "c:\\Users\\JEFFEY MARKUS\\AppData\\Local\\Programs\\Python\\Python312\\Lib\\site-packages\\keras\\src\\layers\\core\\embedding.py:90: UserWarning: Argument `input_length` is deprecated. Just remove it.\n",
      "  warnings.warn(\n"
     ]
    }
   ],
   "source": [
    "# For each sample we input the integer identifiers\n",
    "# of a single user and a single item\n",
    "class RegressionModel(Model):\n",
    "    def __init__(self, embedding_size, max_user_id, max_item_id):\n",
    "        super().__init__()\n",
    "        \n",
    "        self.user_embedding = Embedding(output_dim=embedding_size,\n",
    "                                        input_dim=max_user_id + 1,\n",
    "                                        input_length=1,\n",
    "                                        name='user_embedding')\n",
    "        self.item_embedding = Embedding(output_dim=embedding_size,\n",
    "                                        input_dim=max_item_id + 1,\n",
    "                                        input_length=1,\n",
    "                                        name='item_embedding')\n",
    "        \n",
    "        # The following two layers don't have parameters.\n",
    "        self.flatten = Flatten()\n",
    "        self.dot = Dot(axes=1)\n",
    "        \n",
    "    def call(self, inputs):\n",
    "        user_inputs = inputs[0]\n",
    "        item_inputs = inputs[1]\n",
    "        \n",
    "        user_vecs = self.flatten(self.user_embedding(user_inputs))\n",
    "        item_vecs = self.flatten(self.item_embedding(item_inputs))\n",
    "        \n",
    "        y = self.dot([user_vecs, item_vecs])\n",
    "        return y\n",
    "\n",
    "\n",
    "model = RegressionModel(embedding_size=64, max_user_id=all_ratings['user_id'].max(), max_item_id=all_ratings['item_id'].max())\n",
    "model.compile(optimizer=\"adam\", loss='mae')"
   ]
  },
  {
   "cell_type": "markdown",
   "metadata": {},
   "source": [
    "### Monitoring runs\n",
    "\n",
    "When training a model with Keras, we get a `history` object back that contains lots of information about the training run. We can use this to plot the training and validation loss to see how the model has improved during training."
   ]
  },
  {
   "cell_type": "code",
   "execution_count": 20,
   "metadata": {},
   "outputs": [
    {
     "name": "stdout",
     "output_type": "stream",
     "text": [
      "Epoch 1/10\n",
      "\u001b[1m1125/1125\u001b[0m \u001b[32m━━━━━━━━━━━━━━━━━━━━\u001b[0m\u001b[37m\u001b[0m \u001b[1m7s\u001b[0m 5ms/step - loss: 3.3089 - val_loss: 1.0576\n",
      "Epoch 2/10\n",
      "\u001b[1m1125/1125\u001b[0m \u001b[32m━━━━━━━━━━━━━━━━━━━━\u001b[0m\u001b[37m\u001b[0m \u001b[1m5s\u001b[0m 5ms/step - loss: 0.9148 - val_loss: 0.7958\n",
      "Epoch 3/10\n",
      "\u001b[1m1125/1125\u001b[0m \u001b[32m━━━━━━━━━━━━━━━━━━━━\u001b[0m\u001b[37m\u001b[0m \u001b[1m8s\u001b[0m 7ms/step - loss: 0.7576 - val_loss: 0.7662\n",
      "Epoch 4/10\n",
      "\u001b[1m1125/1125\u001b[0m \u001b[32m━━━━━━━━━━━━━━━━━━━━\u001b[0m\u001b[37m\u001b[0m \u001b[1m8s\u001b[0m 7ms/step - loss: 0.7279 - val_loss: 0.7536\n",
      "Epoch 5/10\n",
      "\u001b[1m1125/1125\u001b[0m \u001b[32m━━━━━━━━━━━━━━━━━━━━\u001b[0m\u001b[37m\u001b[0m \u001b[1m7s\u001b[0m 6ms/step - loss: 0.7033 - val_loss: 0.7454\n",
      "Epoch 6/10\n",
      "\u001b[1m1125/1125\u001b[0m \u001b[32m━━━━━━━━━━━━━━━━━━━━\u001b[0m\u001b[37m\u001b[0m \u001b[1m6s\u001b[0m 5ms/step - loss: 0.6786 - val_loss: 0.7448\n",
      "Epoch 7/10\n",
      "\u001b[1m1125/1125\u001b[0m \u001b[32m━━━━━━━━━━━━━━━━━━━━\u001b[0m\u001b[37m\u001b[0m \u001b[1m5s\u001b[0m 5ms/step - loss: 0.6572 - val_loss: 0.7400\n",
      "Epoch 8/10\n",
      "\u001b[1m1125/1125\u001b[0m \u001b[32m━━━━━━━━━━━━━━━━━━━━\u001b[0m\u001b[37m\u001b[0m \u001b[1m5s\u001b[0m 4ms/step - loss: 0.6361 - val_loss: 0.7370\n",
      "Epoch 9/10\n",
      "\u001b[1m1125/1125\u001b[0m \u001b[32m━━━━━━━━━━━━━━━━━━━━\u001b[0m\u001b[37m\u001b[0m \u001b[1m6s\u001b[0m 5ms/step - loss: 0.6124 - val_loss: 0.7391\n",
      "Epoch 10/10\n",
      "\u001b[1m1125/1125\u001b[0m \u001b[32m━━━━━━━━━━━━━━━━━━━━\u001b[0m\u001b[37m\u001b[0m \u001b[1m6s\u001b[0m 5ms/step - loss: 0.5856 - val_loss: 0.7393\n",
      "CPU times: total: 42.5 s\n",
      "Wall time: 1min 4s\n"
     ]
    }
   ],
   "source": [
    "%%time\n",
    "\n",
    "# Training the model\n",
    "history = model.fit([user_id_train, item_id_train], rating_train,\n",
    "                    batch_size=64, epochs=10, validation_split=0.1,\n",
    "                    shuffle=True)"
   ]
  },
  {
   "cell_type": "code",
   "execution_count": 21,
   "metadata": {},
   "outputs": [
    {
     "data": {
      "image/png": "[encoded data removed]",
      "text/plain": [
       "<Figure size 640x480 with 1 Axes>"
      ]
     },
     "metadata": {},
     "output_type": "display_data"
    }
   ],
   "source": [
    "plt.plot(history.history['loss'], label='train')\n",
    "plt.plot(history.history['val_loss'], label='validation')\n",
    "plt.ylim(0, 2)\n",
    "plt.legend(loc='best')\n",
    "plt.title('Loss');"
   ]
  },
  {
   "cell_type": "markdown",
   "metadata": {},
   "source": [
    "**Questions**:\n",
    "\n",
    "- Does it look like our model has overfit? Why or why not?\n",
    "- Suggest something we could do to prevent overfitting.\n",
    "\n",
    "\n",
    "Now that the model is trained, let's check out the quality of predictions:"
   ]
  },
  {
   "cell_type": "code",
   "execution_count": 22,
   "metadata": {},
   "outputs": [],
   "source": [
    "def plot_predictions(y_true, y_pred):\n",
    "    plt.figure(figsize=(4, 4))\n",
    "    plt.xlim(-1, 6)\n",
    "    plt.xlabel(\"True rating\")\n",
    "    plt.ylim(-1, 6)\n",
    "    plt.ylabel(\"Predicted rating\")\n",
    "    plt.scatter(y_true, y_pred, s=60, alpha=0.01)"
   ]
  },
  {
   "cell_type": "code",
   "execution_count": 23,
   "metadata": {},
   "outputs": [
    {
     "name": "stdout",
     "output_type": "stream",
     "text": [
      "\u001b[1m625/625\u001b[0m \u001b[32m━━━━━━━━━━━━━━━━━━━━\u001b[0m\u001b[37m\u001b[0m \u001b[1m2s\u001b[0m 3ms/step\n",
      "Final test MSE: 0.901\n",
      "Final test MAE: 0.732\n"
     ]
    },
    {
     "data": {
      "image/png": "[encoded data removed]",
      "text/plain": [
       "<Figure size 400x400 with 1 Axes>"
      ]
     },
     "metadata": {},
     "output_type": "display_data"
    }
   ],
   "source": [
    "from sklearn.metrics import mean_squared_error\n",
    "from sklearn.metrics import mean_absolute_error\n",
    "\n",
    "test_preds = model.predict([user_id_test, item_id_test])\n",
    "print(\"Final test MSE: %0.3f\" % mean_squared_error(test_preds, rating_test))\n",
    "print(\"Final test MAE: %0.3f\" % mean_absolute_error(test_preds, rating_test))\n",
    "plot_predictions(rating_test, test_preds)"
   ]
  },
  {
   "cell_type": "markdown",
   "metadata": {
    "collapsed": false
   },
   "source": [
    "This graph shows us the range of predicted ratings our model gives, organized by the true rating. We can see that generally, the higher the true rating the higher the predicted rating, although there is quite a range of predictions for each instance. That's okay - our model is very simple, and human preferences are very complex!\n",
    "\n",
    "Taking a look at the Mean Absolute Error, hopefully you got something around 0.75. This means that, on average, our predicted ratings are about 0.75 stars off from the true ratings. This is a pretty good result for a first attempt. We could probably do better with a more complex model, but we'll leave that for another time."
   ]
  },
  {
   "cell_type": "markdown",
   "metadata": {},
   "source": [
    "### Model Embeddings\n",
    "\n",
    "Our model was built with two embedding layers. These layers have learned a representation of both the users and the movies in our dataset. We can extract these representations and use them to find similar movies or users. We can also do interesting exploratory analysis, like finding the most popular movies among our users, or finding the users that are most interested in a given movie."
   ]
  },
  {
   "cell_type": "code",
   "execution_count": 24,
   "metadata": {},
   "outputs": [
    {
     "data": {
      "text/plain": [
       "[(944, 64), (1683, 64)]"
      ]
     },
     "execution_count": 24,
     "metadata": {},
     "output_type": "execute_result"
    }
   ],
   "source": [
    "# weights and shape\n",
    "weights = model.get_weights()\n",
    "[w.shape for w in weights]"
   ]
  },
  {
   "cell_type": "code",
   "execution_count": 25,
   "metadata": {},
   "outputs": [],
   "source": [
    "user_embeddings = weights[0]\n",
    "item_embeddings = weights[1]"
   ]
  },
  {
   "cell_type": "code",
   "execution_count": 26,
   "metadata": {},
   "outputs": [
    {
     "name": "stdout",
     "output_type": "stream",
     "text": [
      "Title for item_id=181: Return of the Jedi (1983)\n"
     ]
    }
   ],
   "source": [
    "item_id = 181\n",
    "print(f\"Title for item_id={item_id}: {indexed_items['title'][item_id]}\")"
   ]
  },
  {
   "cell_type": "code",
   "execution_count": 27,
   "metadata": {},
   "outputs": [
    {
     "name": "stdout",
     "output_type": "stream",
     "text": [
      "Embedding vector for item_id=181\n",
      "[ 0.02791446 -0.41549814  0.4342678   0.48526254  0.20411874  0.20469977\n",
      "  0.21501362  0.56554735 -0.00869061 -0.3676508   0.19743891  0.24642548\n",
      "  0.51652247  0.34490868  0.01003495  0.22996007 -0.21608451  0.3586862\n",
      "  0.21928035 -0.4265097   0.4854563   0.15895131 -0.1636483  -0.358859\n",
      "  0.3639578   0.46030405  0.15235639  0.22021516  0.19788909  0.26682827\n",
      "  0.11549541 -0.10136182 -0.13076635  0.03549514 -0.5299603   0.48234332\n",
      "  0.24946117  0.0859583  -0.3131884   0.10293392  0.02057293  0.38899744\n",
      "  0.01921544 -0.35822743  0.23532271  0.41621172  0.27496576  0.35709992\n",
      " -0.40834543  0.62334716  0.13027221  0.42295736  0.1737447   0.5250281\n",
      " -0.47244734 -0.33558193 -0.06508902 -0.33274937 -0.36273643 -0.4835343\n",
      " -0.22805837  0.46819678 -0.4433782  -0.44814783]\n",
      "shape: (64,)\n"
     ]
    }
   ],
   "source": [
    "print(f\"Embedding vector for item_id={item_id}\")\n",
    "print(item_embeddings[item_id])\n",
    "print(\"shape:\", item_embeddings[item_id].shape)"
   ]
  },
  {
   "cell_type": "markdown",
   "metadata": {
    "collapsed": false
   },
   "source": [
    "As we discussed in lecture, our embeddings are not directly interpretable - we can't look at, say, a value of 0.297 in the embedding vector and say \"this means that the movie is a drama\". As an aside, there is a field of research dedicated to making _interpretable_ embeddings, but it's not something we'll cover in this course. "
   ]
  },
  {
   "cell_type": "markdown",
   "metadata": {},
   "source": [
    "### Finding our most similar items\n",
    "\n",
    "Now we can have some fun, investigating the embeddings we've learned. We can start by finding the most similar items to a given item. We can do this by computing the cosine similarity between the item's embedding and the embedding of every other item. We can use the `cosine_similarity` function from `sklearn` to do this."
   ]
  },
  {
   "cell_type": "code",
   "execution_count": 28,
   "metadata": {
    "collapsed": false
   },
   "outputs": [],
   "source": [
    "from sklearn.metrics.pairwise import cosine_similarity\n",
    "\n",
    "def cosine(a, b):\n",
    "    # Reshape to the shape our function expects\n",
    "    a = a.reshape(1, -1)\n",
    "    b = b.reshape(1, -1)\n",
    "    return cosine_similarity(a, b)[0, 0]"
   ]
  },
  {
   "cell_type": "code",
   "execution_count": 29,
   "metadata": {},
   "outputs": [
    {
     "name": "stdout",
     "output_type": "stream",
     "text": [
      "Star Wars (1977)\n",
      "Return of the Jedi (1983)\n",
      "Cosine similarity: 0.911\n"
     ]
    }
   ],
   "source": [
    "def print_similarity(item_a, item_b, item_embeddings, titles):\n",
    "    print(titles[item_a])\n",
    "    print(titles[item_b])\n",
    "    similarity = cosine(item_embeddings[item_a],\n",
    "                        item_embeddings[item_b])\n",
    "    print(f\"Cosine similarity: {similarity:.3}\")\n",
    "    \n",
    "print_similarity(50, 181, item_embeddings, indexed_items[\"title\"])"
   ]
  },
  {
   "cell_type": "markdown",
   "metadata": {
    "collapsed": false
   },
   "source": [
    "It makes sense that the original Star Wars, and its later sequel Return of the Jedi have a high similarity. Let's try some other examples:"
   ]
  },
  {
   "cell_type": "code",
   "execution_count": 30,
   "metadata": {},
   "outputs": [
    {
     "name": "stdout",
     "output_type": "stream",
     "text": [
      "Return of the Jedi (1983)\n",
      "Scream (1996)\n",
      "Cosine similarity: 0.675\n"
     ]
    }
   ],
   "source": [
    "print_similarity(181, 288, item_embeddings, indexed_items[\"title\"])"
   ]
  },
  {
   "cell_type": "code",
   "execution_count": 31,
   "metadata": {},
   "outputs": [
    {
     "name": "stdout",
     "output_type": "stream",
     "text": [
      "Return of the Jedi (1983)\n",
      "Toy Story (1995)\n",
      "Cosine similarity: 0.856\n"
     ]
    }
   ],
   "source": [
    "print_similarity(181, 1, item_embeddings, indexed_items[\"title\"])"
   ]
  },
  {
   "cell_type": "code",
   "execution_count": 32,
   "metadata": {},
   "outputs": [
    {
     "name": "stdout",
     "output_type": "stream",
     "text": [
      "Return of the Jedi (1983)\n",
      "Return of the Jedi (1983)\n",
      "Cosine similarity: 1.0\n"
     ]
    }
   ],
   "source": [
    "print_similarity(181, 181, item_embeddings, indexed_items[\"title\"])"
   ]
  },
  {
   "cell_type": "markdown",
   "metadata": {
    "collapsed": false
   },
   "source": [
    "*Quick Exercise*:\n",
    "\n",
    "- Find some other films and compare their similarity. Do the results make sense to you? Can you find a pair of films that are very _dissimilar_?"
   ]
  },
  {
   "cell_type": "code",
   "execution_count": 33,
   "metadata": {
    "collapsed": false
   },
   "outputs": [
    {
     "data": {
      "text/html": [
       "<div>\n",
       "<style scoped>\n",
       "    .dataframe tbody tr th:only-of-type {\n",
       "        vertical-align: middle;\n",
       "    }\n",
       "\n",
       "    .dataframe tbody tr th {\n",
       "        vertical-align: top;\n",
       "    }\n",
       "\n",
       "    .dataframe thead th {\n",
       "        text-align: right;\n",
       "    }\n",
       "</style>\n",
       "<table border=\"1\" class=\"dataframe\">\n",
       "  <thead>\n",
       "    <tr style=\"text-align: right;\">\n",
       "      <th></th>\n",
       "      <th>popularity</th>\n",
       "      <th>title</th>\n",
       "      <th>release_date</th>\n",
       "      <th>video_release_date</th>\n",
       "      <th>imdb_url</th>\n",
       "      <th>release_year</th>\n",
       "    </tr>\n",
       "    <tr>\n",
       "      <th>item_id</th>\n",
       "      <th></th>\n",
       "      <th></th>\n",
       "      <th></th>\n",
       "      <th></th>\n",
       "      <th></th>\n",
       "      <th></th>\n",
       "    </tr>\n",
       "  </thead>\n",
       "  <tbody>\n",
       "    <tr>\n",
       "      <th>379</th>\n",
       "      <td>43</td>\n",
       "      <td>Tales From the Crypt Presents: Demon Knight (1...</td>\n",
       "      <td>1995-01-01</td>\n",
       "      <td>NaN</td>\n",
       "      <td>http://us.imdb.com/M/title-exact?Tales%20From%...</td>\n",
       "      <td>1995.0</td>\n",
       "    </tr>\n",
       "    <tr>\n",
       "      <th>720</th>\n",
       "      <td>86</td>\n",
       "      <td>First Knight (1995)</td>\n",
       "      <td>1995-01-01</td>\n",
       "      <td>NaN</td>\n",
       "      <td>http://us.imdb.com/M/title-exact?First%20Knigh...</td>\n",
       "      <td>1995.0</td>\n",
       "    </tr>\n",
       "  </tbody>\n",
       "</table>\n",
       "</div>"
      ],
      "text/plain": [
       "         popularity                                              title  \\\n",
       "item_id                                                                  \n",
       "379              43  Tales From the Crypt Presents: Demon Knight (1...   \n",
       "720              86                                First Knight (1995)   \n",
       "\n",
       "        release_date  video_release_date  \\\n",
       "item_id                                    \n",
       "379       1995-01-01                 NaN   \n",
       "720       1995-01-01                 NaN   \n",
       "\n",
       "                                                  imdb_url  release_year  \n",
       "item_id                                                                   \n",
       "379      http://us.imdb.com/M/title-exact?Tales%20From%...        1995.0  \n",
       "720      http://us.imdb.com/M/title-exact?First%20Knigh...        1995.0  "
      ]
     },
     "execution_count": 33,
     "metadata": {},
     "output_type": "execute_result"
    }
   ],
   "source": [
    "# Code to help you search for a movie title\n",
    "partial_title = \"Knight\"\n",
    "indexed_items[indexed_items['title'].str.contains(partial_title)]"
   ]
  },
  {
   "cell_type": "code",
   "execution_count": 34,
   "metadata": {},
   "outputs": [
    {
     "name": "stdout",
     "output_type": "stream",
     "text": [
      "Tales From the Crypt Presents: Demon Knight (1995)\n",
      "First Knight (1995)\n",
      "Cosine similarity: 0.664\n"
     ]
    }
   ],
   "source": [
    "# Your code here\n",
    "print_similarity(379, 720, item_embeddings, indexed_items[\"title\"])"
   ]
  },
  {
   "cell_type": "markdown",
   "metadata": {
    "collapsed": false
   },
   "source": [
    "Sometimes, even without knowing anything about a user, we can recommend films by asking them about a film that they do like. The code below compares the similarity of a given film to all others, and returns the most similar films."
   ]
  },
  {
   "cell_type": "code",
   "execution_count": 38,
   "metadata": {},
   "outputs": [
    {
     "data": {
      "text/plain": [
       "[(np.int64(50), 'Star Wars (1977)', np.float32(1.0000001)),\n",
       " (np.int64(172), 'Empire Strikes Back, The (1980)', np.float32(0.92622364)),\n",
       " (np.int64(181), 'Return of the Jedi (1983)', np.float32(0.91080225)),\n",
       " (np.int64(22), 'Braveheart (1995)', np.float32(0.8713532)),\n",
       " (np.int64(199),\n",
       "  'Bridge on the River Kwai, The (1957)',\n",
       "  np.float32(0.86724204)),\n",
       " (np.int64(174), 'Raiders of the Lost Ark (1981)', np.float32(0.86401904)),\n",
       " (np.int64(12), 'Usual Suspects, The (1995)', np.float32(0.86353993)),\n",
       " (np.int64(183), 'Alien (1979)', np.float32(0.8632304)),\n",
       " (np.int64(127), 'Godfather, The (1972)', np.float32(0.8604622)),\n",
       " (np.int64(210),\n",
       "  'Indiana Jones and the Last Crusade (1989)',\n",
       "  np.float32(0.8584292))]"
      ]
     },
     "execution_count": 38,
     "metadata": {},
     "output_type": "execute_result"
    }
   ],
   "source": [
    "def most_similar(item_id, item_embeddings, titles,\n",
    "                 top_n=30):\n",
    "    # Compute the cosine similarity between the item and all other items\n",
    "    sims = cosine_similarity(item_embeddings[item_id].reshape(1, -1),\n",
    "                             item_embeddings).ravel()\n",
    "    \n",
    "    # [::-1] makes it possible to reverse the order of a numpy\n",
    "    # array, this is required because most similar items have\n",
    "    # a larger cosine similarity value\n",
    "    sorted_indexes = np.argsort(sims)[::-1]\n",
    "    idxs = sorted_indexes[0:top_n]\n",
    "    return list(zip(idxs, titles[idxs], sims[idxs]))\n",
    "\n",
    "# Find the most similar films to \"Star Wars\"\n",
    "most_similar(50, item_embeddings, indexed_items[\"title\"], top_n=10)"
   ]
  },
  {
   "cell_type": "code",
   "execution_count": 39,
   "metadata": {},
   "outputs": [
    {
     "data": {
      "text/plain": [
       "[(np.int64(227),\n",
       "  'Star Trek VI: The Undiscovered Country (1991)',\n",
       "  np.float32(1.0)),\n",
       " (np.int64(230),\n",
       "  'Star Trek IV: The Voyage Home (1986)',\n",
       "  np.float32(0.8811487)),\n",
       " (np.int64(755), 'Jumanji (1995)', np.float32(0.8721571)),\n",
       " (np.int64(228),\n",
       "  'Star Trek: The Wrath of Khan (1982)',\n",
       "  np.float32(0.87047255)),\n",
       " (np.int64(195), 'Terminator, The (1984)', np.float32(0.8660762)),\n",
       " (np.int64(183), 'Alien (1979)', np.float32(0.86181664)),\n",
       " (np.int64(85), 'Ref, The (1994)', np.float32(0.8533771)),\n",
       " (np.int64(147), 'Long Kiss Goodnight, The (1996)', np.float32(0.8516861)),\n",
       " (np.int64(1269), 'Love in the Afternoon (1957)', np.float32(0.8504245)),\n",
       " (np.int64(431), 'Highlander (1986)', np.float32(0.84926784))]"
      ]
     },
     "execution_count": 39,
     "metadata": {},
     "output_type": "execute_result"
    }
   ],
   "source": [
    "# Find the most similar films to \"Star Trek VI: The Undiscovered Country\"\n",
    "most_similar(227, item_embeddings, indexed_items[\"title\"], top_n=10)"
   ]
  },
  {
   "cell_type": "markdown",
   "metadata": {},
   "source": [
    "The similarities do not always make sense: the number of ratings is low and the embedding  does not automatically capture semantic relationships in that context. Better representations arise with higher number of ratings, and less overfitting  in models or maybe better loss function, such as those based on implicit feedback."
   ]
  },
  {
   "cell_type": "markdown",
   "metadata": {},
   "source": [
    "### Visualizing embeddings using TSNE\n",
    "\n",
    "The [t-SNE](https://en.wikipedia.org/wiki/T-distributed_stochastic_neighbor_embedding) algorithm enables us to visualize high dimensional vectors in a 2D space by preserving local neighborhoods. We can use it to get a 2D visualization of the item embeddings and see if similar items are close in the embedding space."
   ]
  },
  {
   "cell_type": "code",
   "execution_count": 40,
   "metadata": {},
   "outputs": [],
   "source": [
    "from sklearn.manifold import TSNE\n",
    "\n",
    "item_tsne = TSNE(learning_rate=\"auto\", init=\"pca\", perplexity=30).fit_transform(item_embeddings)"
   ]
  },
  {
   "cell_type": "code",
   "execution_count": 41,
   "metadata": {},
   "outputs": [
    {
     "data": {
      "image/png": "[encoded data removed]",
      "text/plain": [
       "<Figure size 1000x1000 with 1 Axes>"
      ]
     },
     "metadata": {},
     "output_type": "display_data"
    }
   ],
   "source": [
    "import matplotlib.pyplot as plt\n",
    "\n",
    "plt.figure(figsize=(10, 10))\n",
    "plt.scatter(item_tsne[:, 0], item_tsne[:, 1]);\n",
    "plt.xticks(()); plt.yticks(());\n",
    "plt.show()"
   ]
  },
  {
   "cell_type": "code",
   "execution_count": 43,
   "metadata": {
    "tags": []
   },
   "outputs": [
    {
     "ename": "ValueError",
     "evalue": "Mime type rendering requires nbformat>=4.2.0 but it is not installed",
     "output_type": "error",
     "traceback": [
      "\u001b[1;31m---------------------------------------------------------------------------\u001b[0m",
      "\u001b[1;31mValueError\u001b[0m                                Traceback (most recent call last)",
      "File \u001b[1;32m~\\AppData\\Roaming\\Python\\Python312\\site-packages\\IPython\\core\\formatters.py:925\u001b[0m, in \u001b[0;36mIPythonDisplayFormatter.__call__\u001b[1;34m(self, obj)\u001b[0m\n\u001b[0;32m    923\u001b[0m method \u001b[38;5;241m=\u001b[39m get_real_method(obj, \u001b[38;5;28mself\u001b[39m\u001b[38;5;241m.\u001b[39mprint_method)\n\u001b[0;32m    924\u001b[0m \u001b[38;5;28;01mif\u001b[39;00m method \u001b[38;5;129;01mis\u001b[39;00m \u001b[38;5;129;01mnot\u001b[39;00m \u001b[38;5;28;01mNone\u001b[39;00m:\n\u001b[1;32m--> 925\u001b[0m     \u001b[43mmethod\u001b[49m\u001b[43m(\u001b[49m\u001b[43m)\u001b[49m\n\u001b[0;32m    926\u001b[0m     \u001b[38;5;28;01mreturn\u001b[39;00m \u001b[38;5;28;01mTrue\u001b[39;00m\n",
      "File \u001b[1;32mc:\\Users\\JEFFEY MARKUS\\AppData\\Local\\Programs\\Python\\Python312\\Lib\\site-packages\\plotly\\basedatatypes.py:832\u001b[0m, in \u001b[0;36mBaseFigure._ipython_display_\u001b[1;34m(self)\u001b[0m\n\u001b[0;32m    829\u001b[0m \u001b[38;5;28;01mimport\u001b[39;00m \u001b[38;5;21;01mplotly\u001b[39;00m\u001b[38;5;21;01m.\u001b[39;00m\u001b[38;5;21;01mio\u001b[39;00m \u001b[38;5;28;01mas\u001b[39;00m \u001b[38;5;21;01mpio\u001b[39;00m\n\u001b[0;32m    831\u001b[0m \u001b[38;5;28;01mif\u001b[39;00m pio\u001b[38;5;241m.\u001b[39mrenderers\u001b[38;5;241m.\u001b[39mrender_on_display \u001b[38;5;129;01mand\u001b[39;00m pio\u001b[38;5;241m.\u001b[39mrenderers\u001b[38;5;241m.\u001b[39mdefault:\n\u001b[1;32m--> 832\u001b[0m     \u001b[43mpio\u001b[49m\u001b[38;5;241;43m.\u001b[39;49m\u001b[43mshow\u001b[49m\u001b[43m(\u001b[49m\u001b[38;5;28;43mself\u001b[39;49m\u001b[43m)\u001b[49m\n\u001b[0;32m    833\u001b[0m \u001b[38;5;28;01melse\u001b[39;00m:\n\u001b[0;32m    834\u001b[0m     \u001b[38;5;28mprint\u001b[39m(\u001b[38;5;28mrepr\u001b[39m(\u001b[38;5;28mself\u001b[39m))\n",
      "File \u001b[1;32mc:\\Users\\JEFFEY MARKUS\\AppData\\Local\\Programs\\Python\\Python312\\Lib\\site-packages\\plotly\\io\\_renderers.py:394\u001b[0m, in \u001b[0;36mshow\u001b[1;34m(fig, renderer, validate, **kwargs)\u001b[0m\n\u001b[0;32m    389\u001b[0m         \u001b[38;5;28;01mraise\u001b[39;00m \u001b[38;5;167;01mValueError\u001b[39;00m(\n\u001b[0;32m    390\u001b[0m             \u001b[38;5;124m\"\u001b[39m\u001b[38;5;124mMime type rendering requires ipython but it is not installed\u001b[39m\u001b[38;5;124m\"\u001b[39m\n\u001b[0;32m    391\u001b[0m         )\n\u001b[0;32m    393\u001b[0m     \u001b[38;5;28;01mif\u001b[39;00m \u001b[38;5;129;01mnot\u001b[39;00m nbformat \u001b[38;5;129;01mor\u001b[39;00m Version(nbformat\u001b[38;5;241m.\u001b[39m__version__) \u001b[38;5;241m<\u001b[39m Version(\u001b[38;5;124m\"\u001b[39m\u001b[38;5;124m4.2.0\u001b[39m\u001b[38;5;124m\"\u001b[39m):\n\u001b[1;32m--> 394\u001b[0m         \u001b[38;5;28;01mraise\u001b[39;00m \u001b[38;5;167;01mValueError\u001b[39;00m(\n\u001b[0;32m    395\u001b[0m             \u001b[38;5;124m\"\u001b[39m\u001b[38;5;124mMime type rendering requires nbformat>=4.2.0 but it is not installed\u001b[39m\u001b[38;5;124m\"\u001b[39m\n\u001b[0;32m    396\u001b[0m         )\n\u001b[0;32m    398\u001b[0m     ipython_display\u001b[38;5;241m.\u001b[39mdisplay(bundle, raw\u001b[38;5;241m=\u001b[39m\u001b[38;5;28;01mTrue\u001b[39;00m)\n\u001b[0;32m    400\u001b[0m \u001b[38;5;66;03m# external renderers\u001b[39;00m\n",
      "\u001b[1;31mValueError\u001b[0m: Mime type rendering requires nbformat>=4.2.0 but it is not installed"
     ]
    },
    {
     "data": {
      "application/vnd.plotly.v1+json": {
       "config": {
        "plotlyServerURL": "https://plot.ly"
       },
       "data": [
        {
         "customdata": [
          [
           1,
           "Toy Story (1995)",
           452
          ],
          [
           2,
           "GoldenEye (1995)",
           131
          ],
          [
           3,
           "Four Rooms (1995)",
           90
          ],
          [
           4,
           "Get Shorty (1995)",
           209
          ],
          [
           5,
           "Copycat (1995)",
           86
          ],
          [
           6,
           "Shanghai Triad (Yao a yao yao dao waipo qiao) (1995)",
           26
          ],
          [
           7,
           "Twelve Monkeys (1995)",
           392
          ],
          [
           8,
           "Babe (1995)",
           219
          ],
          [
           9,
           "Dead Man Walking (1995)",
           299
          ],
          [
           10,
           "Richard III (1995)",
           89
          ],
          [
           11,
           "Seven (Se7en) (1995)",
           236
          ],
          [
           12,
           "Usual Suspects, The (1995)",
           267
          ],
          [
           13,
           "Mighty Aphrodite (1995)",
           184
          ],
          [
           14,
           "Postino, Il (1994)",
           183
          ],
          [
           15,
           "Mr. Holland's Opus (1995)",
           293
          ],
          [
           16,
           "French Twist (Gazon maudit) (1995)",
           39
          ],
          [
           17,
           "From Dusk Till Dawn (1996)",
           92
          ],
          [
           18,
           "White Balloon, The (1995)",
           10
          ],
          [
           19,
           "Antonia's Line (1995)",
           69
          ],
          [
           20,
           "Angels and Insects (1995)",
           72
          ],
          [
           21,
           "Muppet Treasure Island (1996)",
           84
          ],
          [
           22,
           "Braveheart (1995)",
           297
          ],
          [
           23,
           "Taxi Driver (1976)",
           182
          ],
          [
           24,
           "Rumble in the Bronx (1995)",
           174
          ],
          [
           25,
           "Birdcage, The (1996)",
           293
          ],
          [
           26,
           "Brothers McMullen, The (1995)",
           73
          ],
          [
           27,
           "Bad Boys (1995)",
           57
          ],
          [
           28,
           "Apollo 13 (1995)",
           276
          ],
          [
           29,
           "Batman Forever (1995)",
           114
          ],
          [
           30,
           "Belle de jour (1967)",
           37
          ],
          [
           31,
           "Crimson Tide (1995)",
           154
          ],
          [
           32,
           "Crumb (1994)",
           81
          ],
          [
           33,
           "Desperado (1995)",
           97
          ],
          [
           34,
           "Doom Generation, The (1995)",
           7
          ],
          [
           35,
           "Free Willy 2: The Adventure Home (1995)",
           11
          ],
          [
           36,
           "Mad Love (1995)",
           13
          ],
          [
           37,
           "Nadja (1994)",
           8
          ],
          [
           38,
           "Net, The (1995)",
           120
          ],
          [
           39,
           "Strange Days (1995)",
           87
          ],
          [
           40,
           "To Wong Foo, Thanks for Everything! Julie Newmar (1995)",
           57
          ],
          [
           41,
           "Billy Madison (1995)",
           37
          ],
          [
           42,
           "Clerks (1994)",
           148
          ],
          [
           43,
           "Disclosure (1994)",
           40
          ],
          [
           44,
           "Dolores Claiborne (1994)",
           79
          ],
          [
           45,
           "Eat Drink Man Woman (1994)",
           80
          ],
          [
           46,
           "Exotica (1994)",
           27
          ],
          [
           47,
           "Ed Wood (1994)",
           133
          ],
          [
           48,
           "Hoop Dreams (1994)",
           117
          ],
          [
           49,
           "I.Q. (1994)",
           81
          ],
          [
           50,
           "Star Wars (1977)",
           583
          ],
          [
           51,
           "Legends of the Fall (1994)",
           81
          ],
          [
           52,
           "Madness of King George, The (1994)",
           91
          ],
          [
           53,
           "Natural Born Killers (1994)",
           128
          ],
          [
           54,
           "Outbreak (1995)",
           104
          ],
          [
           55,
           "Professional, The (1994)",
           149
          ],
          [
           56,
           "Pulp Fiction (1994)",
           394
          ],
          [
           57,
           "Priest (1994)",
           40
          ],
          [
           58,
           "Quiz Show (1994)",
           175
          ],
          [
           59,
           "Three Colors: Red (1994)",
           83
          ],
          [
           60,
           "Three Colors: Blue (1993)",
           64
          ],
          [
           61,
           "Three Colors: White (1994)",
           59
          ],
          [
           62,
           "Stargate (1994)",
           127
          ],
          [
           63,
           "Santa Clause, The (1994)",
           82
          ],
          [
           64,
           "Shawshank Redemption, The (1994)",
           283
          ],
          [
           65,
           "What's Eating Gilbert Grape (1993)",
           115
          ],
          [
           66,
           "While You Were Sleeping (1995)",
           162
          ],
          [
           67,
           "Ace Ventura: Pet Detective (1994)",
           103
          ],
          [
           68,
           "Crow, The (1994)",
           134
          ],
          [
           69,
           "Forrest Gump (1994)",
           321
          ],
          [
           70,
           "Four Weddings and a Funeral (1994)",
           251
          ],
          [
           71,
           "Lion King, The (1994)",
           220
          ],
          [
           72,
           "Mask, The (1994)",
           129
          ],
          [
           73,
           "Maverick (1994)",
           128
          ],
          [
           74,
           "Faster Pussycat! Kill! Kill! (1965)",
           7
          ],
          [
           75,
           "Brother Minister: The Assassination of Malcolm X (1994)",
           5
          ],
          [
           76,
           "Carlito's Way (1993)",
           54
          ],
          [
           77,
           "Firm, The (1993)",
           151
          ],
          [
           78,
           "Free Willy (1993)",
           33
          ],
          [
           79,
           "Fugitive, The (1993)",
           336
          ],
          [
           80,
           "Hot Shots! Part Deux (1993)",
           68
          ],
          [
           81,
           "Hudsucker Proxy, The (1994)",
           110
          ],
          [
           82,
           "Jurassic Park (1993)",
           261
          ],
          [
           83,
           "Much Ado About Nothing (1993)",
           176
          ],
          [
           84,
           "Robert A. Heinlein's The Puppet Masters (1994)",
           18
          ],
          [
           85,
           "Ref, The (1994)",
           58
          ],
          [
           86,
           "Remains of the Day, The (1993)",
           150
          ],
          [
           87,
           "Searching for Bobby Fischer (1993)",
           138
          ],
          [
           88,
           "Sleepless in Seattle (1993)",
           213
          ],
          [
           89,
           "Blade Runner (1982)",
           275
          ],
          [
           90,
           "So I Married an Axe Murderer (1993)",
           95
          ],
          [
           91,
           "Nightmare Before Christmas, The (1993)",
           143
          ],
          [
           92,
           "True Romance (1993)",
           104
          ],
          [
           93,
           "Welcome to the Dollhouse (1995)",
           112
          ],
          [
           94,
           "Home Alone (1990)",
           137
          ],
          [
           95,
           "Aladdin (1992)",
           219
          ],
          [
           96,
           "Terminator 2: Judgment Day (1991)",
           295
          ],
          [
           97,
           "Dances with Wolves (1990)",
           256
          ],
          [
           98,
           "Silence of the Lambs, The (1991)",
           390
          ],
          [
           99,
           "Snow White and the Seven Dwarfs (1937)",
           172
          ],
          [
           100,
           "Fargo (1996)",
           508
          ],
          [
           101,
           "Heavy Metal (1981)",
           73
          ],
          [
           102,
           "Aristocats, The (1970)",
           54
          ],
          [
           103,
           "All Dogs Go to Heaven 2 (1996)",
           15
          ],
          [
           104,
           "Theodore Rex (1995)",
           5
          ],
          [
           105,
           "Sgt. Bilko (1996)",
           74
          ],
          [
           106,
           "Diabolique (1996)",
           71
          ],
          [
           107,
           "Moll Flanders (1996)",
           42
          ],
          [
           108,
           "Kids in the Hall: Brain Candy (1996)",
           65
          ],
          [
           109,
           "Mystery Science Theater 3000: The Movie (1996)",
           130
          ],
          [
           110,
           "Operation Dumbo Drop (1995)",
           31
          ],
          [
           111,
           "Truth About Cats & Dogs, The (1996)",
           272
          ],
          [
           112,
           "Flipper (1996)",
           20
          ],
          [
           113,
           "Horseman on the Roof, The (Hussard sur le toit, Le) (1995)",
           9
          ],
          [
           114,
           "Wallace & Gromit: The Best of Aardman Animation (1996)",
           67
          ],
          [
           115,
           "Haunted World of Edward D. Wood Jr., The (1995)",
           15
          ],
          [
           116,
           "Cold Comfort Farm (1995)",
           125
          ],
          [
           117,
           "Rock, The (1996)",
           378
          ],
          [
           118,
           "Twister (1996)",
           293
          ],
          [
           119,
           "Maya Lin: A Strong Clear Vision (1994)",
           4
          ],
          [
           120,
           "Striptease (1996)",
           67
          ],
          [
           121,
           "Independence Day (ID4) (1996)",
           429
          ],
          [
           122,
           "Cable Guy, The (1996)",
           106
          ],
          [
           123,
           "Frighteners, The (1996)",
           115
          ],
          [
           124,
           "Lone Star (1996)",
           187
          ],
          [
           125,
           "Phenomenon (1996)",
           244
          ],
          [
           126,
           "Spitfire Grill, The (1996)",
           97
          ],
          [
           127,
           "Godfather, The (1972)",
           413
          ],
          [
           128,
           "Supercop (1992)",
           65
          ],
          [
           129,
           "Bound (1996)",
           129
          ],
          [
           130,
           "Kansas City (1996)",
           23
          ],
          [
           131,
           "Breakfast at Tiffany's (1961)",
           95
          ],
          [
           132,
           "Wizard of Oz, The (1939)",
           246
          ],
          [
           133,
           "Gone with the Wind (1939)",
           171
          ],
          [
           134,
           "Citizen Kane (1941)",
           198
          ],
          [
           135,
           "2001: A Space Odyssey (1968)",
           259
          ],
          [
           136,
           "Mr. Smith Goes to Washington (1939)",
           105
          ],
          [
           137,
           "Big Night (1996)",
           171
          ],
          [
           138,
           "D3: The Mighty Ducks (1996)",
           19
          ],
          [
           139,
           "Love Bug, The (1969)",
           50
          ],
          [
           140,
           "Homeward Bound: The Incredible Journey (1993)",
           61
          ],
          [
           141,
           "20,000 Leagues Under the Sea (1954)",
           72
          ],
          [
           142,
           "Bedknobs and Broomsticks (1971)",
           57
          ],
          [
           143,
           "Sound of Music, The (1965)",
           222
          ],
          [
           144,
           "Die Hard (1988)",
           243
          ],
          [
           145,
           "Lawnmower Man, The (1992)",
           65
          ],
          [
           146,
           "Unhook the Stars (1996)",
           10
          ],
          [
           147,
           "Long Kiss Goodnight, The (1996)",
           185
          ],
          [
           148,
           "Ghost and the Darkness, The (1996)",
           128
          ],
          [
           149,
           "Jude (1996)",
           23
          ],
          [
           150,
           "Swingers (1996)",
           157
          ],
          [
           151,
           "Willy Wonka and the Chocolate Factory (1971)",
           326
          ],
          [
           152,
           "Sleeper (1973)",
           82
          ],
          [
           153,
           "Fish Called Wanda, A (1988)",
           247
          ],
          [
           154,
           "Monty Python's Life of Brian (1979)",
           174
          ],
          [
           155,
           "Dirty Dancing (1987)",
           98
          ],
          [
           156,
           "Reservoir Dogs (1992)",
           148
          ],
          [
           157,
           "Platoon (1986)",
           127
          ],
          [
           158,
           "Weekend at Bernie's (1989)",
           60
          ],
          [
           159,
           "Basic Instinct (1992)",
           101
          ],
          [
           160,
           "Glengarry Glen Ross (1992)",
           69
          ],
          [
           161,
           "Top Gun (1986)",
           220
          ],
          [
           162,
           "On Golden Pond (1981)",
           106
          ],
          [
           163,
           "Return of the Pink Panther, The (1974)",
           92
          ],
          [
           164,
           "Abyss, The (1989)",
           151
          ],
          [
           165,
           "Jean de Florette (1986)",
           64
          ],
          [
           166,
           "Manon of the Spring (Manon des sources) (1986)",
           58
          ],
          [
           167,
           "Private Benjamin (1980)",
           67
          ],
          [
           168,
           "Monty Python and the Holy Grail (1974)",
           316
          ],
          [
           169,
           "Wrong Trousers, The (1993)",
           118
          ],
          [
           170,
           "Cinema Paradiso (1988)",
           121
          ],
          [
           171,
           "Delicatessen (1991)",
           65
          ],
          [
           172,
           "Empire Strikes Back, The (1980)",
           367
          ],
          [
           173,
           "Princess Bride, The (1987)",
           324
          ],
          [
           174,
           "Raiders of the Lost Ark (1981)",
           420
          ],
          [
           175,
           "Brazil (1985)",
           208
          ],
          [
           176,
           "Aliens (1986)",
           284
          ],
          [
           177,
           "Good, The Bad and The Ugly, The (1966)",
           137
          ],
          [
           178,
           "12 Angry Men (1957)",
           125
          ],
          [
           179,
           "Clockwork Orange, A (1971)",
           221
          ],
          [
           180,
           "Apocalypse Now (1979)",
           221
          ],
          [
           181,
           "Return of the Jedi (1983)",
           507
          ],
          [
           182,
           "GoodFellas (1990)",
           226
          ],
          [
           183,
           "Alien (1979)",
           291
          ],
          [
           184,
           "Army of Darkness (1993)",
           116
          ],
          [
           185,
           "Psycho (1960)",
           239
          ],
          [
           186,
           "Blues Brothers, The (1980)",
           251
          ],
          [
           187,
           "Godfather: Part II, The (1974)",
           209
          ],
          [
           188,
           "Full Metal Jacket (1987)",
           170
          ],
          [
           189,
           "Grand Day Out, A (1992)",
           66
          ],
          [
           190,
           "Henry V (1989)",
           124
          ],
          [
           191,
           "Amadeus (1984)",
           276
          ],
          [
           192,
           "Raging Bull (1980)",
           116
          ],
          [
           193,
           "Right Stuff, The (1983)",
           157
          ],
          [
           194,
           "Sting, The (1973)",
           241
          ],
          [
           195,
           "Terminator, The (1984)",
           301
          ],
          [
           196,
           "Dead Poets Society (1989)",
           251
          ],
          [
           197,
           "Graduate, The (1967)",
           239
          ],
          [
           198,
           "Nikita (La Femme Nikita) (1990)",
           127
          ],
          [
           199,
           "Bridge on the River Kwai, The (1957)",
           165
          ],
          [
           200,
           "Shining, The (1980)",
           206
          ],
          [
           201,
           "Evil Dead II (1987)",
           89
          ],
          [
           202,
           "Groundhog Day (1993)",
           280
          ],
          [
           203,
           "Unforgiven (1992)",
           182
          ],
          [
           204,
           "Back to the Future (1985)",
           350
          ],
          [
           205,
           "Patton (1970)",
           136
          ],
          [
           206,
           "Akira (1988)",
           50
          ],
          [
           207,
           "Cyrano de Bergerac (1990)",
           66
          ],
          [
           208,
           "Young Frankenstein (1974)",
           200
          ],
          [
           209,
           "This Is Spinal Tap (1984)",
           191
          ],
          [
           210,
           "Indiana Jones and the Last Crusade (1989)",
           331
          ],
          [
           211,
           "M*A*S*H (1970)",
           206
          ],
          [
           212,
           "Unbearable Lightness of Being, The (1988)",
           92
          ],
          [
           213,
           "Room with a View, A (1986)",
           134
          ],
          [
           214,
           "Pink Floyd - The Wall (1982)",
           114
          ],
          [
           215,
           "Field of Dreams (1989)",
           212
          ],
          [
           216,
           "When Harry Met Sally... (1989)",
           290
          ],
          [
           217,
           "Bram Stoker's Dracula (1992)",
           120
          ],
          [
           218,
           "Cape Fear (1991)",
           171
          ],
          [
           219,
           "Nightmare on Elm Street, A (1984)",
           111
          ],
          [
           220,
           "Mirror Has Two Faces, The (1996)",
           66
          ],
          [
           221,
           "Breaking the Waves (1996)",
           74
          ],
          [
           222,
           "Star Trek: First Contact (1996)",
           365
          ],
          [
           223,
           "Sling Blade (1996)",
           136
          ],
          [
           224,
           "Ridicule (1996)",
           44
          ],
          [
           225,
           "101 Dalmatians (1996)",
           109
          ],
          [
           226,
           "Die Hard 2 (1990)",
           166
          ],
          [
           227,
           "Star Trek VI: The Undiscovered Country (1991)",
           161
          ],
          [
           228,
           "Star Trek: The Wrath of Khan (1982)",
           244
          ],
          [
           229,
           "Star Trek III: The Search for Spock (1984)",
           171
          ],
          [
           230,
           "Star Trek IV: The Voyage Home (1986)",
           199
          ],
          [
           231,
           "Batman Returns (1992)",
           142
          ],
          [
           232,
           "Young Guns (1988)",
           101
          ],
          [
           233,
           "Under Siege (1992)",
           124
          ],
          [
           234,
           "Jaws (1975)",
           280
          ],
          [
           235,
           "Mars Attacks! (1996)",
           217
          ],
          [
           236,
           "Citizen Ruth (1996)",
           45
          ],
          [
           237,
           "Jerry Maguire (1996)",
           384
          ],
          [
           238,
           "Raising Arizona (1987)",
           256
          ],
          [
           239,
           "Sneakers (1992)",
           150
          ],
          [
           240,
           "Beavis and Butt-head Do America (1996)",
           156
          ],
          [
           241,
           "Last of the Mohicans, The (1992)",
           128
          ],
          [
           242,
           "Kolya (1996)",
           117
          ],
          [
           243,
           "Jungle2Jungle (1997)",
           132
          ],
          [
           244,
           "Smilla's Sense of Snow (1997)",
           48
          ],
          [
           245,
           "Devil's Own, The (1997)",
           240
          ],
          [
           246,
           "Chasing Amy (1997)",
           124
          ],
          [
           247,
           "Turbo: A Power Rangers Movie (1997)",
           5
          ],
          [
           248,
           "Grosse Pointe Blank (1997)",
           160
          ],
          [
           249,
           "Austin Powers: International Man of Mystery (1997)",
           130
          ],
          [
           250,
           "Fifth Element, The (1997)",
           197
          ],
          [
           251,
           "Shall We Dance? (1996)",
           46
          ],
          [
           252,
           "Lost World: Jurassic Park, The (1997)",
           158
          ],
          [
           253,
           "Pillow Book, The (1995)",
           26
          ],
          [
           254,
           "Batman & Robin (1997)",
           62
          ],
          [
           255,
           "My Best Friend's Wedding (1997)",
           172
          ],
          [
           256,
           "When the Cats Away (Chacun cherche son chat) (1996)",
           16
          ],
          [
           257,
           "Men in Black (1997)",
           303
          ],
          [
           258,
           "Contact (1997)",
           509
          ],
          [
           259,
           "George of the Jungle (1997)",
           162
          ],
          [
           260,
           "Event Horizon (1997)",
           127
          ],
          [
           261,
           "Air Bud (1997)",
           43
          ],
          [
           262,
           "In the Company of Men (1997)",
           66
          ],
          [
           263,
           "Steel (1997)",
           19
          ],
          [
           264,
           "Mimic (1997)",
           101
          ],
          [
           265,
           "Hunt for Red October, The (1990)",
           227
          ],
          [
           266,
           "Kull the Conqueror (1997)",
           35
          ],
          [
           267,
           "unknown",
           9
          ],
          [
           268,
           "Chasing Amy (1997)",
           255
          ],
          [
           269,
           "Full Monty, The (1997)",
           315
          ],
          [
           270,
           "Gattaca (1997)",
           136
          ],
          [
           271,
           "Starship Troopers (1997)",
           211
          ],
          [
           272,
           "Good Will Hunting (1997)",
           198
          ],
          [
           273,
           "Heat (1995)",
           223
          ],
          [
           274,
           "Sabrina (1995)",
           190
          ],
          [
           275,
           "Sense and Sensibility (1995)",
           268
          ],
          [
           276,
           "Leaving Las Vegas (1995)",
           298
          ],
          [
           277,
           "Restoration (1995)",
           71
          ],
          [
           278,
           "Bed of Roses (1996)",
           60
          ],
          [
           279,
           "Once Upon a Time... When We Were Colored (1995)",
           28
          ],
          [
           280,
           "Up Close and Personal (1996)",
           85
          ],
          [
           281,
           "River Wild, The (1994)",
           146
          ],
          [
           282,
           "Time to Kill, A (1996)",
           232
          ],
          [
           283,
           "Emma (1996)",
           177
          ],
          [
           284,
           "Tin Cup (1996)",
           193
          ],
          [
           285,
           "Secrets & Lies (1996)",
           162
          ],
          [
           286,
           "English Patient, The (1996)",
           481
          ],
          [
           287,
           "Marvin's Room (1996)",
           78
          ],
          [
           288,
           "Scream (1996)",
           478
          ],
          [
           289,
           "Evita (1996)",
           259
          ],
          [
           290,
           "Fierce Creatures (1997)",
           96
          ],
          [
           291,
           "Absolute Power (1997)",
           127
          ],
          [
           292,
           "Rosewood (1997)",
           114
          ],
          [
           293,
           "Donnie Brasco (1997)",
           147
          ],
          [
           294,
           "Liar Liar (1997)",
           485
          ],
          [
           295,
           "Breakdown (1997)",
           77
          ],
          [
           296,
           "Promesse, La (1996)",
           6
          ],
          [
           297,
           "Ulee's Gold (1997)",
           50
          ],
          [
           298,
           "Face/Off (1997)",
           194
          ],
          [
           299,
           "Hoodlum (1997)",
           73
          ],
          [
           300,
           "Air Force One (1997)",
           431
          ],
          [
           301,
           "In & Out (1997)",
           230
          ],
          [
           302,
           "L.A. Confidential (1997)",
           297
          ],
          [
           303,
           "Ulee's Gold (1997)",
           134
          ],
          [
           304,
           "Fly Away Home (1996)",
           149
          ],
          [
           305,
           "Ice Storm, The (1997)",
           87
          ],
          [
           306,
           "Mrs. Brown (Her Majesty, Mrs. Brown) (1997)",
           96
          ],
          [
           307,
           "Devil's Advocate, The (1997)",
           188
          ],
          [
           308,
           "FairyTale: A True Story (1997)",
           30
          ],
          [
           309,
           "Deceiver (1997)",
           28
          ],
          [
           310,
           "Rainmaker, The (1997)",
           145
          ],
          [
           311,
           "Wings of the Dove, The (1997)",
           75
          ],
          [
           312,
           "Midnight in the Garden of Good and Evil (1997)",
           80
          ],
          [
           313,
           "Titanic (1997)",
           350
          ],
          [
           314,
           "3 Ninjas: High Noon At Mega Mountain (1998)",
           5
          ],
          [
           315,
           "Apt Pupil (1998)",
           160
          ],
          [
           316,
           "As Good As It Gets (1997)",
           112
          ],
          [
           317,
           "In the Name of the Father (1993)",
           102
          ],
          [
           318,
           "Schindler's List (1993)",
           298
          ],
          [
           319,
           "Everyone Says I Love You (1996)",
           168
          ],
          [
           320,
           "Paradise Lost: The Child Murders at Robin Hood Hills (1996)",
           20
          ],
          [
           321,
           "Mother (1996)",
           169
          ],
          [
           322,
           "Murder at 1600 (1997)",
           218
          ],
          [
           323,
           "Dante's Peak (1997)",
           240
          ],
          [
           324,
           "Lost Highway (1997)",
           125
          ],
          [
           325,
           "Crash (1996)",
           128
          ],
          [
           326,
           "G.I. Jane (1997)",
           175
          ],
          [
           327,
           "Cop Land (1997)",
           175
          ],
          [
           328,
           "Conspiracy Theory (1997)",
           295
          ],
          [
           329,
           "Desperate Measures (1998)",
           45
          ],
          [
           330,
           "187 (1997)",
           41
          ],
          [
           331,
           "Edge, The (1997)",
           113
          ],
          [
           332,
           "Kiss the Girls (1997)",
           143
          ],
          [
           333,
           "Game, The (1997)",
           251
          ],
          [
           334,
           "U Turn (1997)",
           64
          ],
          [
           335,
           "How to Be a Player (1997)",
           21
          ],
          [
           336,
           "Playing God (1997)",
           43
          ],
          [
           337,
           "House of Yes, The (1997)",
           18
          ],
          [
           338,
           "Bean (1997)",
           91
          ],
          [
           339,
           "Mad City (1997)",
           47
          ],
          [
           340,
           "Boogie Nights (1997)",
           189
          ],
          [
           341,
           "Critical Care (1997)",
           11
          ],
          [
           342,
           "Man Who Knew Too Little, The (1997)",
           52
          ],
          [
           343,
           "Alien: Resurrection (1997)",
           124
          ],
          [
           344,
           "Apostle, The (1997)",
           55
          ],
          [
           345,
           "Deconstructing Harry (1997)",
           65
          ],
          [
           346,
           "Jackie Brown (1997)",
           126
          ],
          [
           347,
           "Wag the Dog (1997)",
           137
          ],
          [
           348,
           "Desperate Measures (1998)",
           27
          ],
          [
           349,
           "Hard Rain (1998)",
           31
          ],
          [
           350,
           "Fallen (1998)",
           41
          ],
          [
           351,
           "Prophecy II, The (1998)",
           20
          ],
          [
           352,
           "Spice World (1997)",
           26
          ],
          [
           353,
           "Deep Rising (1998)",
           14
          ],
          [
           354,
           "Wedding Singer, The (1998)",
           72
          ],
          [
           355,
           "Sphere (1998)",
           41
          ],
          [
           356,
           "Client, The (1994)",
           97
          ],
          [
           357,
           "One Flew Over the Cuckoo's Nest (1975)",
           264
          ],
          [
           358,
           "Spawn (1997)",
           143
          ],
          [
           359,
           "Assignment, The (1997)",
           18
          ],
          [
           360,
           "Wonderland (1997)",
           10
          ],
          [
           361,
           "Incognito (1997)",
           10
          ],
          [
           362,
           "Blues Brothers 2000 (1998)",
           28
          ],
          [
           363,
           "Sudden Death (1995)",
           47
          ],
          [
           364,
           "Ace Ventura: When Nature Calls (1995)",
           37
          ],
          [
           365,
           "Powder (1995)",
           48
          ],
          [
           366,
           "Dangerous Minds (1995)",
           47
          ],
          [
           367,
           "Clueless (1995)",
           170
          ],
          [
           368,
           "Bio-Dome (1996)",
           31
          ],
          [
           369,
           "Black Sheep (1996)",
           55
          ],
          [
           370,
           "Mary Reilly (1996)",
           39
          ],
          [
           371,
           "Bridges of Madison County, The (1995)",
           67
          ],
          [
           372,
           "Jeffrey (1995)",
           34
          ],
          [
           373,
           "Judge Dredd (1995)",
           39
          ],
          [
           374,
           "Mighty Morphin Power Rangers: The Movie (1995)",
           11
          ],
          [
           375,
           "Showgirls (1995)",
           23
          ],
          [
           376,
           "Houseguest (1994)",
           24
          ],
          [
           377,
           "Heavyweights (1994)",
           13
          ],
          [
           378,
           "Miracle on 34th Street (1994)",
           101
          ],
          [
           379,
           "Tales From the Crypt Presents: Demon Knight (1995)",
           43
          ],
          [
           380,
           "Star Trek: Generations (1994)",
           116
          ],
          [
           381,
           "Muriel's Wedding (1994)",
           100
          ],
          [
           382,
           "Adventures of Priscilla, Queen of the Desert, The (1994)",
           111
          ],
          [
           383,
           "Flintstones, The (1994)",
           31
          ],
          [
           384,
           "Naked Gun 33 1/3: The Final Insult (1994)",
           69
          ],
          [
           385,
           "True Lies (1994)",
           208
          ],
          [
           386,
           "Addams Family Values (1993)",
           87
          ],
          [
           387,
           "Age of Innocence, The (1993)",
           65
          ],
          [
           388,
           "Beverly Hills Cop III (1994)",
           28
          ],
          [
           389,
           "Black Beauty (1994)",
           27
          ],
          [
           390,
           "Fear of a Black Hat (1993)",
           10
          ],
          [
           391,
           "Last Action Hero (1993)",
           59
          ],
          [
           392,
           "Man Without a Face, The (1993)",
           68
          ],
          [
           393,
           "Mrs. Doubtfire (1993)",
           192
          ],
          [
           394,
           "Radioland Murders (1994)",
           12
          ],
          [
           395,
           "Robin Hood: Men in Tights (1993)",
           56
          ],
          [
           396,
           "Serial Mom (1994)",
           54
          ],
          [
           397,
           "Striking Distance (1993)",
           12
          ],
          [
           398,
           "Super Mario Bros. (1993)",
           26
          ],
          [
           399,
           "Three Musketeers, The (1993)",
           89
          ],
          [
           400,
           "Little Rascals, The (1994)",
           18
          ],
          [
           401,
           "Brady Bunch Movie, The (1995)",
           76
          ],
          [
           402,
           "Ghost (1990)",
           170
          ],
          [
           403,
           "Batman (1989)",
           201
          ],
          [
           404,
           "Pinocchio (1940)",
           101
          ],
          [
           405,
           "Mission: Impossible (1996)",
           344
          ],
          [
           406,
           "Thinner (1996)",
           49
          ],
          [
           407,
           "Spy Hard (1996)",
           43
          ],
          [
           408,
           "Close Shave, A (1995)",
           112
          ],
          [
           409,
           "Jack (1996)",
           70
          ],
          [
           410,
           "Kingpin (1996)",
           162
          ],
          [
           411,
           "Nutty Professor, The (1996)",
           163
          ],
          [
           412,
           "Very Brady Sequel, A (1996)",
           93
          ],
          [
           413,
           "Tales from the Crypt Presents: Bordello of Blood (1996)",
           55
          ],
          [
           414,
           "My Favorite Year (1982)",
           62
          ],
          [
           415,
           "Apple Dumpling Gang, The (1975)",
           25
          ],
          [
           416,
           "Old Yeller (1957)",
           64
          ],
          [
           417,
           "Parent Trap, The (1961)",
           73
          ],
          [
           418,
           "Cinderella (1950)",
           129
          ],
          [
           419,
           "Mary Poppins (1964)",
           178
          ],
          [
           420,
           "Alice in Wonderland (1951)",
           81
          ],
          [
           421,
           "William Shakespeare's Romeo and Juliet (1996)",
           106
          ],
          [
           422,
           "Aladdin and the King of Thieves (1996)",
           26
          ],
          [
           423,
           "E.T. the Extra-Terrestrial (1982)",
           300
          ],
          [
           424,
           "Children of the Corn: The Gathering (1996)",
           19
          ],
          [
           425,
           "Bob Roberts (1992)",
           85
          ],
          [
           426,
           "Transformers: The Movie, The (1986)",
           32
          ],
          [
           427,
           "To Kill a Mockingbird (1962)",
           219
          ],
          [
           428,
           "Harold and Maude (1971)",
           121
          ],
          [
           429,
           "Day the Earth Stood Still, The (1951)",
           97
          ],
          [
           430,
           "Duck Soup (1933)",
           93
          ],
          [
           431,
           "Highlander (1986)",
           153
          ],
          [
           432,
           "Fantasia (1940)",
           174
          ],
          [
           433,
           "Heathers (1989)",
           171
          ],
          [
           434,
           "Forbidden Planet (1956)",
           67
          ],
          [
           435,
           "Butch Cassidy and the Sundance Kid (1969)",
           216
          ],
          [
           436,
           "American Werewolf in London, An (1981)",
           99
          ],
          [
           437,
           "Amityville 1992: It's About Time (1992)",
           5
          ],
          [
           438,
           "Amityville 3-D (1983)",
           6
          ],
          [
           439,
           "Amityville: A New Generation (1993)",
           5
          ],
          [
           440,
           "Amityville II: The Possession (1982)",
           14
          ],
          [
           441,
           "Amityville Horror, The (1979)",
           53
          ],
          [
           442,
           "Amityville Curse, The (1990)",
           4
          ],
          [
           443,
           "Birds, The (1963)",
           162
          ],
          [
           444,
           "Blob, The (1958)",
           46
          ],
          [
           445,
           "Body Snatcher, The (1945)",
           22
          ],
          [
           446,
           "Burnt Offerings (1976)",
           9
          ],
          [
           447,
           "Carrie (1976)",
           121
          ],
          [
           448,
           "Omen, The (1976)",
           85
          ],
          [
           449,
           "Star Trek: The Motion Picture (1979)",
           117
          ],
          [
           450,
           "Star Trek V: The Final Frontier (1989)",
           63
          ],
          [
           451,
           "Grease (1978)",
           170
          ],
          [
           452,
           "Jaws 2 (1978)",
           66
          ],
          [
           453,
           "Jaws 3-D (1983)",
           16
          ],
          [
           454,
           "Bastard Out of Carolina (1996)",
           16
          ],
          [
           455,
           "Jackie Chan's First Strike (1996)",
           145
          ],
          [
           456,
           "Beverly Hills Ninja (1997)",
           48
          ],
          [
           457,
           "Free Willy 3: The Rescue (1997)",
           27
          ],
          [
           458,
           "Nixon (1995)",
           90
          ],
          [
           459,
           "Cry, the Beloved Country (1995)",
           24
          ],
          [
           460,
           "Crossing Guard, The (1995)",
           28
          ],
          [
           461,
           "Smoke (1995)",
           74
          ],
          [
           462,
           "Like Water For Chocolate (Como agua para chocolate) (1992)",
           148
          ],
          [
           463,
           "Secret of Roan Inish, The (1994)",
           71
          ],
          [
           464,
           "Vanya on 42nd Street (1994)",
           27
          ],
          [
           465,
           "Jungle Book, The (1994)",
           85
          ],
          [
           466,
           "Red Rock West (1992)",
           52
          ],
          [
           467,
           "Bronx Tale, A (1993)",
           48
          ],
          [
           468,
           "Rudy (1993)",
           64
          ],
          [
           469,
           "Short Cuts (1993)",
           67
          ],
          [
           470,
           "Tombstone (1993)",
           108
          ],
          [
           471,
           "Courage Under Fire (1996)",
           221
          ],
          [
           472,
           "Dragonheart (1996)",
           158
          ],
          [
           473,
           "James and the Giant Peach (1996)",
           126
          ],
          [
           474,
           "Dr. Strangelove or: How I Learned to Stop Worrying and Love the Bomb (1963)",
           194
          ],
          [
           475,
           "Trainspotting (1996)",
           250
          ],
          [
           476,
           "First Wives Club, The (1996)",
           160
          ],
          [
           477,
           "Matilda (1996)",
           95
          ],
          [
           478,
           "Philadelphia Story, The (1940)",
           104
          ],
          [
           479,
           "Vertigo (1958)",
           179
          ],
          [
           480,
           "North by Northwest (1959)",
           179
          ],
          [
           481,
           "Apartment, The (1960)",
           63
          ],
          [
           482,
           "Some Like It Hot (1959)",
           128
          ],
          [
           483,
           "Casablanca (1942)",
           243
          ],
          [
           484,
           "Maltese Falcon, The (1941)",
           138
          ],
          [
           485,
           "My Fair Lady (1964)",
           125
          ],
          [
           486,
           "Sabrina (1954)",
           64
          ],
          [
           487,
           "Roman Holiday (1953)",
           68
          ],
          [
           488,
           "Sunset Blvd. (1950)",
           65
          ],
          [
           489,
           "Notorious (1946)",
           52
          ],
          [
           490,
           "To Catch a Thief (1955)",
           50
          ],
          [
           491,
           "Adventures of Robin Hood, The (1938)",
           67
          ],
          [
           492,
           "East of Eden (1955)",
           59
          ],
          [
           493,
           "Thin Man, The (1934)",
           60
          ],
          [
           494,
           "His Girl Friday (1940)",
           56
          ],
          [
           495,
           "Around the World in 80 Days (1956)",
           59
          ],
          [
           496,
           "It's a Wonderful Life (1946)",
           231
          ],
          [
           497,
           "Bringing Up Baby (1938)",
           68
          ],
          [
           498,
           "African Queen, The (1951)",
           152
          ],
          [
           499,
           "Cat on a Hot Tin Roof (1958)",
           62
          ],
          [
           500,
           "Fly Away Home (1996)",
           31
          ],
          [
           501,
           "Dumbo (1941)",
           123
          ],
          [
           502,
           "Bananas (1971)",
           57
          ],
          [
           503,
           "Candidate, The (1972)",
           39
          ],
          [
           504,
           "Bonnie and Clyde (1967)",
           122
          ],
          [
           505,
           "Dial M for Murder (1954)",
           68
          ],
          [
           506,
           "Rebel Without a Cause (1955)",
           90
          ],
          [
           507,
           "Streetcar Named Desire, A (1951)",
           98
          ],
          [
           508,
           "People vs. Larry Flynt, The (1996)",
           215
          ],
          [
           509,
           "My Left Foot (1989)",
           121
          ],
          [
           510,
           "Magnificent Seven, The (1954)",
           121
          ],
          [
           511,
           "Lawrence of Arabia (1962)",
           173
          ],
          [
           512,
           "Wings of Desire (1987)",
           57
          ],
          [
           513,
           "Third Man, The (1949)",
           72
          ],
          [
           514,
           "Annie Hall (1977)",
           180
          ],
          [
           515,
           "Boot, Das (1981)",
           201
          ],
          [
           516,
           "Local Hero (1983)",
           63
          ],
          [
           517,
           "Manhattan (1979)",
           91
          ],
          [
           518,
           "Miller's Crossing (1990)",
           89
          ],
          [
           519,
           "Treasure of the Sierra Madre, The (1948)",
           80
          ],
          [
           520,
           "Great Escape, The (1963)",
           124
          ],
          [
           521,
           "Deer Hunter, The (1978)",
           120
          ],
          [
           522,
           "Down by Law (1986)",
           35
          ],
          [
           523,
           "Cool Hand Luke (1967)",
           164
          ],
          [
           524,
           "Great Dictator, The (1940)",
           46
          ],
          [
           525,
           "Big Sleep, The (1946)",
           73
          ],
          [
           526,
           "Ben-Hur (1959)",
           124
          ],
          [
           527,
           "Gandhi (1982)",
           195
          ],
          [
           528,
           "Killing Fields, The (1984)",
           121
          ],
          [
           529,
           "My Life as a Dog (Mitt liv som hund) (1985)",
           93
          ],
          [
           530,
           "Man Who Would Be King, The (1975)",
           80
          ],
          [
           531,
           "Shine (1996)",
           129
          ],
          [
           532,
           "Kama Sutra: A Tale of Love (1996)",
           22
          ],
          [
           533,
           "Daytrippers, The (1996)",
           15
          ],
          [
           534,
           "Traveller (1997)",
           13
          ],
          [
           535,
           "Addicted to Love (1997)",
           54
          ],
          [
           536,
           "Ponette (1996)",
           10
          ],
          [
           537,
           "My Own Private Idaho (1991)",
           30
          ],
          [
           538,
           "Anastasia (1997)",
           66
          ],
          [
           539,
           "Mouse Hunt (1997)",
           44
          ],
          [
           540,
           "Money Train (1995)",
           43
          ],
          [
           541,
           "Mortal Kombat (1995)",
           49
          ],
          [
           542,
           "Pocahontas (1995)",
           51
          ],
          [
           543,
           "Misérables, Les (1995)",
           21
          ],
          [
           544,
           "Things to Do in Denver when You're Dead (1995)",
           71
          ],
          [
           545,
           "Vampire in Brooklyn (1995)",
           12
          ],
          [
           546,
           "Broken Arrow (1996)",
           254
          ],
          [
           547,
           "Young Poisoner's Handbook, The (1995)",
           41
          ],
          [
           548,
           "NeverEnding Story III, The (1994)",
           12
          ],
          [
           549,
           "Rob Roy (1995)",
           92
          ],
          [
           550,
           "Die Hard: With a Vengeance (1995)",
           151
          ],
          [
           551,
           "Lord of Illusions (1995)",
           24
          ],
          [
           552,
           "Species (1995)",
           45
          ],
          [
           553,
           "Walk in the Clouds, A (1995)",
           63
          ],
          [
           554,
           "Waterworld (1995)",
           102
          ],
          [
           555,
           "White Man's Burden (1995)",
           10
          ],
          [
           556,
           "Wild Bill (1995)",
           12
          ],
          [
           557,
           "Farinelli: il castrato (1994)",
           17
          ],
          [
           558,
           "Heavenly Creatures (1994)",
           70
          ],
          [
           559,
           "Interview with the Vampire (1994)",
           137
          ],
          [
           560,
           "Kid in King Arthur's Court, A (1995)",
           22
          ],
          [
           561,
           "Mary Shelley's Frankenstein (1994)",
           59
          ],
          [
           562,
           "Quick and the Dead, The (1995)",
           48
          ],
          [
           563,
           "Stephen King's The Langoliers (1995)",
           29
          ],
          [
           564,
           "Tales from the Hood (1995)",
           27
          ],
          [
           565,
           "Village of the Damned (1995)",
           22
          ],
          [
           566,
           "Clear and Present Danger (1994)",
           179
          ],
          [
           567,
           "Wes Craven's New Nightmare (1994)",
           35
          ],
          [
           568,
           "Speed (1994)",
           230
          ],
          [
           569,
           "Wolf (1994)",
           67
          ],
          [
           570,
           "Wyatt Earp (1994)",
           50
          ],
          [
           571,
           "Another Stakeout (1993)",
           28
          ],
          [
           572,
           "Blown Away (1994)",
           29
          ],
          [
           573,
           "Body Snatchers (1993)",
           33
          ],
          [
           574,
           "Boxing Helena (1993)",
           15
          ],
          [
           575,
           "City Slickers II: The Legend of Curly's Gold (1994)",
           44
          ],
          [
           576,
           "Cliffhanger (1993)",
           93
          ],
          [
           577,
           "Coneheads (1993)",
           41
          ],
          [
           578,
           "Demolition Man (1993)",
           92
          ],
          [
           579,
           "Fatal Instinct (1993)",
           19
          ],
          [
           580,
           "Englishman Who Went Up a Hill, But Came Down a Mountain, The (1995)",
           32
          ],
          [
           581,
           "Kalifornia (1993)",
           59
          ],
          [
           582,
           "Piano, The (1993)",
           168
          ],
          [
           583,
           "Romeo Is Bleeding (1993)",
           37
          ],
          [
           584,
           "Secret Garden, The (1993)",
           79
          ],
          [
           585,
           "Son in Law (1993)",
           39
          ],
          [
           586,
           "Terminal Velocity (1994)",
           34
          ],
          [
           587,
           "Hour of the Pig, The (1993)",
           14
          ],
          [
           588,
           "Beauty and the Beast (1991)",
           202
          ],
          [
           589,
           "Wild Bunch, The (1969)",
           43
          ],
          [
           590,
           "Hellraiser: Bloodline (1996)",
           18
          ],
          [
           591,
           "Primal Fear (1996)",
           178
          ],
          [
           592,
           "True Crime (1995)",
           9
          ],
          [
           593,
           "Stalingrad (1993)",
           12
          ],
          [
           594,
           "Heavy (1995)",
           5
          ],
          [
           595,
           "Fan, The (1996)",
           64
          ],
          [
           596,
           "Hunchback of Notre Dame, The (1996)",
           127
          ],
          [
           597,
           "Eraser (1996)",
           206
          ],
          [
           598,
           "Big Squeeze, The (1996)",
           4
          ],
          [
           599,
           "Police Story 4: Project S (Chao ji ji hua) (1993)",
           1
          ],
          [
           600,
           "Daniel Defoe's Robinson Crusoe (1996)",
           2
          ],
          [
           601,
           "For Whom the Bell Tolls (1943)",
           20
          ],
          [
           602,
           "American in Paris, An (1951)",
           50
          ],
          [
           603,
           "Rear Window (1954)",
           209
          ],
          [
           604,
           "It Happened One Night (1934)",
           81
          ],
          [
           605,
           "Meet Me in St. Louis (1944)",
           31
          ],
          [
           606,
           "All About Eve (1950)",
           66
          ],
          [
           607,
           "Rebecca (1940)",
           66
          ],
          [
           608,
           "Spellbound (1945)",
           30
          ],
          [
           609,
           "Father of the Bride (1950)",
           60
          ],
          [
           610,
           "Gigi (1958)",
           41
          ],
          [
           611,
           "Laura (1944)",
           40
          ],
          [
           612,
           "Lost Horizon (1937)",
           34
          ],
          [
           613,
           "My Man Godfrey (1936)",
           27
          ],
          [
           614,
           "Giant (1956)",
           51
          ],
          [
           615,
           "39 Steps, The (1935)",
           59
          ],
          [
           616,
           "Night of the Living Dead (1968)",
           64
          ],
          [
           617,
           "Blue Angel, The (Blaue Engel, Der) (1930)",
           18
          ],
          [
           618,
           "Picnic (1955)",
           18
          ],
          [
           619,
           "Extreme Measures (1996)",
           64
          ],
          [
           620,
           "Chamber, The (1996)",
           43
          ],
          [
           621,
           "Davy Crockett, King of the Wild Frontier (1955)",
           11
          ],
          [
           622,
           "Swiss Family Robinson (1960)",
           39
          ],
          [
           623,
           "Angels in the Outfield (1994)",
           39
          ],
          [
           624,
           "Three Caballeros, The (1945)",
           22
          ],
          [
           625,
           "Sword in the Stone, The (1963)",
           82
          ],
          [
           626,
           "So Dear to My Heart (1949)",
           4
          ],
          [
           627,
           "Robin Hood: Prince of Thieves (1991)",
           75
          ],
          [
           628,
           "Sleepers (1996)",
           169
          ],
          [
           629,
           "Victor/Victoria (1982)",
           77
          ],
          [
           630,
           "Great Race, The (1965)",
           31
          ],
          [
           631,
           "Crying Game, The (1992)",
           119
          ],
          [
           632,
           "Sophie's Choice (1982)",
           58
          ],
          [
           633,
           "Christmas Carol, A (1938)",
           69
          ],
          [
           634,
           "Microcosmos: Le peuple de l'herbe (1996)",
           24
          ],
          [
           635,
           "Fog, The (1980)",
           23
          ],
          [
           636,
           "Escape from New York (1981)",
           91
          ],
          [
           637,
           "Howling, The (1981)",
           38
          ],
          [
           638,
           "Return of Martin Guerre, The (Retour de Martin Guerre, Le) (1982)",
           44
          ],
          [
           639,
           "Tin Drum, The (Blechtrommel, Die) (1979)",
           40
          ],
          [
           640,
           "Cook the Thief His Wife & Her Lover, The (1989)",
           82
          ],
          [
           641,
           "Paths of Glory (1957)",
           33
          ],
          [
           642,
           "Grifters, The (1990)",
           89
          ],
          [
           643,
           "The Innocent (1994)",
           4
          ],
          [
           644,
           "Thin Blue Line, The (1988)",
           35
          ],
          [
           645,
           "Paris Is Burning (1990)",
           27
          ],
          [
           646,
           "Once Upon a Time in the West (1969)",
           38
          ],
          [
           647,
           "Ran (1985)",
           70
          ],
          [
           648,
           "Quiet Man, The (1952)",
           67
          ],
          [
           649,
           "Once Upon a Time in America (1984)",
           50
          ],
          [
           650,
           "Seventh Seal, The (Sjunde inseglet, Det) (1957)",
           72
          ],
          [
           651,
           "Glory (1989)",
           171
          ],
          [
           652,
           "Rosencrantz and Guildenstern Are Dead (1990)",
           90
          ],
          [
           653,
           "Touch of Evil (1958)",
           34
          ],
          [
           654,
           "Chinatown (1974)",
           147
          ],
          [
           655,
           "Stand by Me (1986)",
           227
          ],
          [
           656,
           "M (1931)",
           44
          ],
          [
           657,
           "Manchurian Candidate, The (1962)",
           131
          ],
          [
           658,
           "Pump Up the Volume (1990)",
           79
          ],
          [
           659,
           "Arsenic and Old Lace (1944)",
           115
          ],
          [
           660,
           "Fried Green Tomatoes (1991)",
           153
          ],
          [
           661,
           "High Noon (1952)",
           88
          ],
          [
           662,
           "Somewhere in Time (1980)",
           82
          ],
          [
           663,
           "Being There (1979)",
           116
          ],
          [
           664,
           "Paris, Texas (1984)",
           46
          ],
          [
           665,
           "Alien 3 (1992)",
           100
          ],
          [
           666,
           "Blood For Dracula (Andy Warhol's Dracula) (1974)",
           5
          ],
          [
           667,
           "Audrey Rose (1977)",
           12
          ],
          [
           668,
           "Blood Beach (1981)",
           6
          ],
          [
           669,
           "Body Parts (1991)",
           13
          ],
          [
           670,
           "Body Snatchers (1993)",
           36
          ],
          [
           671,
           "Bride of Frankenstein (1935)",
           46
          ],
          [
           672,
           "Candyman (1992)",
           65
          ],
          [
           673,
           "Cape Fear (1962)",
           86
          ],
          [
           674,
           "Cat People (1982)",
           48
          ],
          [
           675,
           "Nosferatu (Nosferatu, eine Symphonie des Grauens) (1922)",
           54
          ],
          [
           676,
           "Crucible, The (1996)",
           77
          ],
          [
           677,
           "Fire on the Mountain (1996)",
           1
          ],
          [
           678,
           "Volcano (1997)",
           219
          ],
          [
           679,
           "Conan the Barbarian (1981)",
           107
          ],
          [
           680,
           "Kull the Conqueror (1997)",
           34
          ],
          [
           681,
           "Wishmaster (1997)",
           27
          ],
          [
           682,
           "I Know What You Did Last Summer (1997)",
           100
          ],
          [
           683,
           "Rocket Man (1997)",
           49
          ],
          [
           684,
           "In the Line of Fire (1993)",
           169
          ],
          [
           685,
           "Executive Decision (1996)",
           157
          ],
          [
           686,
           "Perfect World, A (1993)",
           50
          ],
          [
           687,
           "McHale's Navy (1997)",
           69
          ],
          [
           688,
           "Leave It to Beaver (1997)",
           44
          ],
          [
           689,
           "Jackal, The (1997)",
           87
          ],
          [
           690,
           "Seven Years in Tibet (1997)",
           155
          ],
          [
           691,
           "Dark City (1998)",
           16
          ],
          [
           692,
           "American President, The (1995)",
           164
          ],
          [
           693,
           "Casino (1995)",
           91
          ],
          [
           694,
           "Persuasion (1995)",
           44
          ],
          [
           695,
           "Kicking and Screaming (1995)",
           13
          ],
          [
           696,
           "City Hall (1996)",
           79
          ],
          [
           697,
           "Basketball Diaries, The (1995)",
           40
          ],
          [
           698,
           "Browning Version, The (1994)",
           10
          ],
          [
           699,
           "Little Women (1994)",
           102
          ],
          [
           700,
           "Miami Rhapsody (1995)",
           15
          ],
          [
           701,
           "Wonderful, Horrible Life of Leni Riefenstahl, The (1993)",
           10
          ],
          [
           702,
           "Barcelona (1994)",
           53
          ],
          [
           703,
           "Widows' Peak (1994)",
           19
          ],
          [
           704,
           "House of the Spirits, The (1993)",
           24
          ],
          [
           705,
           "Singin' in the Rain (1952)",
           137
          ],
          [
           706,
           "Bad Moon (1996)",
           6
          ],
          [
           707,
           "Enchanted April (1991)",
           70
          ],
          [
           708,
           "Sex, Lies, and Videotape (1989)",
           101
          ],
          [
           709,
           "Strictly Ballroom (1992)",
           104
          ],
          [
           710,
           "Better Off Dead... (1985)",
           79
          ],
          [
           711,
           "Substance of Fire, The (1996)",
           1
          ],
          [
           712,
           "Tin Men (1987)",
           51
          ],
          [
           713,
           "Othello (1995)",
           72
          ],
          [
           714,
           "Carrington (1995)",
           13
          ],
          [
           715,
           "To Die For (1995)",
           87
          ],
          [
           716,
           "Home for the Holidays (1995)",
           58
          ],
          [
           717,
           "Juror, The (1996)",
           82
          ],
          [
           718,
           "In the Bleak Midwinter (1995)",
           16
          ],
          [
           719,
           "Canadian Bacon (1994)",
           29
          ],
          [
           720,
           "First Knight (1995)",
           86
          ],
          [
           721,
           "Mallrats (1995)",
           54
          ],
          [
           722,
           "Nine Months (1995)",
           58
          ],
          [
           723,
           "Boys on the Side (1995)",
           34
          ],
          [
           724,
           "Circle of Friends (1995)",
           76
          ],
          [
           725,
           "Exit to Eden (1994)",
           16
          ],
          [
           726,
           "Fluke (1995)",
           14
          ],
          [
           727,
           "Immortal Beloved (1994)",
           63
          ],
          [
           728,
           "Junior (1994)",
           45
          ],
          [
           729,
           "Nell (1994)",
           81
          ],
          [
           730,
           "Queen Margot (Reine Margot, La) (1994)",
           24
          ],
          [
           731,
           "Corrina, Corrina (1994)",
           39
          ],
          [
           732,
           "Dave (1993)",
           180
          ],
          [
           733,
           "Go Fish (1994)",
           15
          ],
          [
           734,
           "Made in America (1993)",
           27
          ],
          [
           735,
           "Philadelphia (1993)",
           137
          ],
          [
           736,
           "Shadowlands (1993)",
           78
          ],
          [
           737,
           "Sirens (1994)",
           59
          ],
          [
           738,
           "Threesome (1994)",
           31
          ],
          [
           739,
           "Pretty Woman (1990)",
           164
          ],
          [
           740,
           "Jane Eyre (1996)",
           63
          ],
          [
           741,
           "Last Supper, The (1995)",
           58
          ],
          [
           742,
           "Ransom (1996)",
           267
          ],
          [
           743,
           "Crow: City of Angels, The (1996)",
           39
          ],
          [
           744,
           "Michael Collins (1996)",
           92
          ],
          [
           745,
           "Ruling Class, The (1972)",
           16
          ],
          [
           746,
           "Real Genius (1985)",
           119
          ],
          [
           747,
           "Benny & Joon (1993)",
           102
          ],
          [
           748,
           "Saint, The (1997)",
           316
          ],
          [
           749,
           "MatchMaker, The (1997)",
           51
          ],
          [
           750,
           "Amistad (1997)",
           124
          ],
          [
           751,
           "Tomorrow Never Dies (1997)",
           180
          ],
          [
           752,
           "Replacement Killers, The (1998)",
           39
          ],
          [
           753,
           "Burnt By the Sun (1994)",
           24
          ],
          [
           754,
           "Red Corner (1997)",
           57
          ],
          [
           755,
           "Jumanji (1995)",
           96
          ],
          [
           756,
           "Father of the Bride Part II (1995)",
           128
          ],
          [
           757,
           "Across the Sea of Time (1995)",
           4
          ],
          [
           758,
           "Lawnmower Man 2: Beyond Cyberspace (1996)",
           21
          ],
          [
           759,
           "Fair Game (1995)",
           11
          ],
          [
           760,
           "Screamers (1995)",
           46
          ],
          [
           761,
           "Nick of Time (1995)",
           44
          ],
          [
           762,
           "Beautiful Girls (1996)",
           115
          ],
          [
           763,
           "Happy Gilmore (1996)",
           149
          ],
          [
           764,
           "If Lucy Fell (1996)",
           29
          ],
          [
           765,
           "Boomerang (1992)",
           32
          ],
          [
           766,
           "Man of the Year (1995)",
           9
          ],
          [
           767,
           "Addiction, The (1995)",
           11
          ],
          [
           768,
           "Casper (1995)",
           52
          ],
          [
           769,
           "Congo (1995)",
           42
          ],
          [
           770,
           "Devil in a Blue Dress (1995)",
           57
          ],
          [
           771,
           "Johnny Mnemonic (1995)",
           41
          ],
          [
           772,
           "Kids (1995)",
           49
          ],
          [
           773,
           "Mute Witness (1994)",
           17
          ],
          [
           774,
           "Prophecy, The (1995)",
           32
          ],
          [
           775,
           "Something to Talk About (1995)",
           26
          ],
          [
           776,
           "Three Wishes (1995)",
           9
          ],
          [
           777,
           "Castle Freak (1995)",
           4
          ],
          [
           778,
           "Don Juan DeMarco (1995)",
           76
          ],
          [
           779,
           "Drop Zone (1994)",
           31
          ],
          [
           780,
           "Dumb & Dumber (1994)",
           69
          ],
          [
           781,
           "French Kiss (1995)",
           84
          ],
          [
           782,
           "Little Odessa (1994)",
           10
          ],
          [
           783,
           "Milk Money (1994)",
           37
          ],
          [
           784,
           "Beyond Bedlam (1993)",
           2
          ],
          [
           785,
           "Only You (1994)",
           39
          ],
          [
           786,
           "Perez Family, The (1995)",
           14
          ],
          [
           787,
           "Roommates (1995)",
           13
          ],
          [
           788,
           "Relative Fear (1994)",
           3
          ],
          [
           789,
           "Swimming with Sharks (1995)",
           47
          ],
          [
           790,
           "Tommy Boy (1995)",
           66
          ],
          [
           791,
           "Baby-Sitters Club, The (1995)",
           10
          ],
          [
           792,
           "Bullets Over Broadway (1994)",
           86
          ],
          [
           793,
           "Crooklyn (1994)",
           10
          ],
          [
           794,
           "It Could Happen to You (1994)",
           46
          ],
          [
           795,
           "Richie Rich (1994)",
           21
          ],
          [
           796,
           "Speechless (1994)",
           36
          ],
          [
           797,
           "Timecop (1994)",
           31
          ],
          [
           798,
           "Bad Company (1995)",
           9
          ],
          [
           799,
           "Boys Life (1995)",
           5
          ],
          [
           800,
           "In the Mouth of Madness (1995)",
           26
          ],
          [
           801,
           "Air Up There, The (1994)",
           16
          ],
          [
           802,
           "Hard Target (1993)",
           40
          ],
          [
           803,
           "Heaven & Earth (1993)",
           9
          ],
          [
           804,
           "Jimmy Hollywood (1994)",
           8
          ],
          [
           805,
           "Manhattan Murder Mystery (1993)",
           27
          ],
          [
           806,
           "Menace II Society (1993)",
           50
          ],
          [
           807,
           "Poetic Justice (1993)",
           9
          ],
          [
           808,
           "Program, The (1993)",
           31
          ],
          [
           809,
           "Rising Sun (1993)",
           43
          ],
          [
           810,
           "Shadow, The (1994)",
           45
          ],
          [
           811,
           "Thirty-Two Short Films About Glenn Gould (1993)",
           18
          ],
          [
           812,
           "Andre (1994)",
           18
          ],
          [
           813,
           "Celluloid Closet, The (1995)",
           56
          ],
          [
           814,
           "Great Day in Harlem, A (1994)",
           1
          ],
          [
           815,
           "One Fine Day (1996)",
           112
          ],
          [
           816,
           "Candyman: Farewell to the Flesh (1995)",
           21
          ],
          [
           817,
           "Frisk (1995)",
           3
          ],
          [
           818,
           "Girl 6 (1996)",
           25
          ],
          [
           819,
           "Eddie (1996)",
           40
          ],
          [
           820,
           "Space Jam (1996)",
           93
          ],
          [
           821,
           "Mrs. Winterbourne (1996)",
           22
          ],
          [
           822,
           "Faces (1968)",
           4
          ],
          [
           823,
           "Mulholland Falls (1996)",
           82
          ],
          [
           824,
           "Great White Hype, The (1996)",
           49
          ],
          [
           825,
           "Arrival, The (1996)",
           83
          ],
          [
           826,
           "Phantom, The (1996)",
           80
          ],
          [
           827,
           "Daylight (1996)",
           57
          ],
          [
           828,
           "Alaska (1996)",
           13
          ],
          [
           829,
           "Fled (1996)",
           34
          ],
          [
           830,
           "Power 98 (1995)",
           1
          ],
          [
           831,
           "Escape from L.A. (1996)",
           91
          ],
          [
           832,
           "Bogus (1996)",
           22
          ],
          [
           833,
           "Bulletproof (1996)",
           49
          ],
          [
           834,
           "Halloween: The Curse of Michael Myers (1995)",
           25
          ],
          [
           835,
           "Gay Divorcee, The (1934)",
           15
          ],
          [
           836,
           "Ninotchka (1939)",
           26
          ],
          [
           837,
           "Meet John Doe (1941)",
           25
          ],
          [
           838,
           "In the Line of Duty 2 (1987)",
           4
          ],
          [
           839,
           "Loch Ness (1995)",
           4
          ],
          [
           840,
           "Last Man Standing (1996)",
           53
          ],
          [
           841,
           "Glimmer Man, The (1996)",
           48
          ],
          [
           842,
           "Pollyanna (1960)",
           27
          ],
          [
           843,
           "Shaggy Dog, The (1959)",
           30
          ],
          [
           844,
           "Freeway (1996)",
           42
          ],
          [
           845,
           "That Thing You Do! (1996)",
           176
          ],
          [
           846,
           "To Gillian on Her 37th Birthday (1996)",
           44
          ],
          [
           847,
           "Looking for Richard (1996)",
           55
          ],
          [
           848,
           "Murder, My Sweet (1944)",
           9
          ],
          [
           849,
           "Days of Thunder (1990)",
           53
          ],
          [
           850,
           "Perfect Candidate, A (1996)",
           4
          ],
          [
           851,
           "Two or Three Things I Know About Her (1966)",
           4
          ],
          [
           852,
           "Bloody Child, The (1996)",
           1
          ],
          [
           853,
           "Braindead (1992)",
           14
          ],
          [
           854,
           "Bad Taste (1987)",
           16
          ],
          [
           855,
           "Diva (1981)",
           66
          ],
          [
           856,
           "Night on Earth (1991)",
           36
          ],
          [
           857,
           "Paris Was a Woman (1995)",
           1
          ],
          [
           858,
           "Amityville: Dollhouse (1996)",
           3
          ],
          [
           859,
           "April Fool's Day (1986)",
           15
          ],
          [
           860,
           "Believers, The (1987)",
           16
          ],
          [
           861,
           "Nosferatu a Venezia (1986)",
           3
          ],
          [
           862,
           "Jingle All the Way (1996)",
           18
          ],
          [
           863,
           "Garden of Finzi-Contini, The (Giardino dei Finzi-Contini, Il) (1970)",
           24
          ],
          [
           864,
           "My Fellow Americans (1996)",
           86
          ],
          [
           865,
           "Ice Storm, The (1997)",
           21
          ],
          [
           866,
           "Michael (1996)",
           119
          ],
          [
           867,
           "Whole Wide World, The (1996)",
           6
          ],
          [
           868,
           "Hearts and Minds (1996)",
           5
          ],
          [
           869,
           "Fools Rush In (1997)",
           24
          ],
          [
           870,
           "Touch (1997)",
           9
          ],
          [
           871,
           "Vegas Vacation (1997)",
           75
          ],
          [
           872,
           "Love Jones (1997)",
           42
          ],
          [
           873,
           "Picture Perfect (1997)",
           81
          ],
          [
           874,
           "Career Girls (1997)",
           39
          ],
          [
           875,
           "She's So Lovely (1997)",
           53
          ],
          [
           876,
           "Money Talks (1997)",
           47
          ],
          [
           877,
           "Excess Baggage (1997)",
           52
          ],
          [
           878,
           "That Darn Cat! (1997)",
           33
          ],
          [
           879,
           "Peacemaker, The (1997)",
           136
          ],
          [
           880,
           "Soul Food (1997)",
           59
          ],
          [
           881,
           "Money Talks (1997)",
           45
          ],
          [
           882,
           "Washington Square (1997)",
           34
          ],
          [
           883,
           "Telling Lies in America (1997)",
           13
          ],
          [
           884,
           "Year of the Horse (1997)",
           7
          ],
          [
           885,
           "Phantoms (1998)",
           13
          ],
          [
           886,
           "Life Less Ordinary, A (1997)",
           53
          ],
          [
           887,
           "Eve's Bayou (1997)",
           64
          ],
          [
           888,
           "One Night Stand (1997)",
           15
          ],
          [
           889,
           "Tango Lesson, The (1997)",
           13
          ],
          [
           890,
           "Mortal Kombat: Annihilation (1997)",
           43
          ],
          [
           891,
           "Bent (1997)",
           6
          ],
          [
           892,
           "Flubber (1997)",
           53
          ],
          [
           893,
           "For Richer or Poorer (1997)",
           14
          ],
          [
           894,
           "Home Alone 3 (1997)",
           19
          ],
          [
           895,
           "Scream 2 (1997)",
           106
          ],
          [
           896,
           "Sweet Hereafter, The (1997)",
           44
          ],
          [
           897,
           "Time Tracers (1995)",
           2
          ],
          [
           898,
           "Postman, The (1997)",
           58
          ],
          [
           899,
           "Winter Guest, The (1997)",
           9
          ],
          [
           900,
           "Kundun (1997)",
           42
          ],
          [
           901,
           "Mr. Magoo (1997)",
           12
          ],
          [
           902,
           "Big Lebowski, The (1998)",
           42
          ],
          [
           903,
           "Afterglow (1997)",
           18
          ],
          [
           904,
           "Ma vie en rose (My Life in Pink) (1997)",
           20
          ],
          [
           905,
           "Great Expectations (1998)",
           27
          ],
          [
           906,
           "Oscar & Lucinda (1997)",
           21
          ],
          [
           907,
           "Vermin (1998)",
           2
          ],
          [
           908,
           "Half Baked (1998)",
           20
          ],
          [
           909,
           "Dangerous Beauty (1998)",
           13
          ],
          [
           910,
           "Nil By Mouth (1997)",
           4
          ],
          [
           911,
           "Twilight (1998)",
           4
          ],
          [
           912,
           "U.S. Marshalls (1998)",
           9
          ],
          [
           913,
           "Love and Death on Long Island (1997)",
           2
          ],
          [
           914,
           "Wild Things (1998)",
           11
          ],
          [
           915,
           "Primary Colors (1998)",
           13
          ],
          [
           916,
           "Lost in Space (1998)",
           18
          ],
          [
           917,
           "Mercury Rising (1998)",
           7
          ],
          [
           918,
           "City of Angels (1998)",
           8
          ],
          [
           919,
           "City of Lost Children, The (1995)",
           96
          ],
          [
           920,
           "Two Bits (1995)",
           5
          ],
          [
           921,
           "Farewell My Concubine (1993)",
           46
          ],
          [
           922,
           "Dead Man (1995)",
           34
          ],
          [
           923,
           "Raise the Red Lantern (1991)",
           58
          ],
          [
           924,
           "White Squall (1996)",
           85
          ],
          [
           925,
           "Unforgettable (1996)",
           34
          ],
          [
           926,
           "Down Periscope (1996)",
           101
          ],
          [
           927,
           "Flower of My Secret, The (Flor de mi secreto, La) (1995)",
           6
          ],
          [
           928,
           "Craft, The (1996)",
           104
          ],
          [
           929,
           "Harriet the Spy (1996)",
           40
          ],
          [
           930,
           "Chain Reaction (1996)",
           80
          ],
          [
           931,
           "Island of Dr. Moreau, The (1996)",
           57
          ],
          [
           932,
           "First Kid (1996)",
           40
          ],
          [
           933,
           "Funeral, The (1996)",
           21
          ],
          [
           934,
           "Preacher's Wife, The (1996)",
           68
          ],
          [
           935,
           "Paradise Road (1997)",
           7
          ],
          [
           936,
           "Brassed Off (1996)",
           32
          ],
          [
           937,
           "Thousand Acres, A (1997)",
           37
          ],
          [
           938,
           "Smile Like Yours, A (1997)",
           25
          ],
          [
           939,
           "Murder in the First (1995)",
           60
          ],
          [
           940,
           "Airheads (1994)",
           32
          ],
          [
           941,
           "With Honors (1994)",
           46
          ],
          [
           942,
           "What's Love Got to Do with It (1993)",
           45
          ],
          [
           943,
           "Killing Zoe (1994)",
           40
          ],
          [
           944,
           "Renaissance Man (1994)",
           43
          ],
          [
           945,
           "Charade (1963)",
           40
          ],
          [
           946,
           "Fox and the Hound, The (1981)",
           61
          ],
          [
           947,
           "Big Blue, The (Grand bleu, Le) (1988)",
           17
          ],
          [
           948,
           "Booty Call (1997)",
           48
          ],
          [
           949,
           "How to Make an American Quilt (1995)",
           71
          ],
          [
           950,
           "Georgia (1995)",
           30
          ],
          [
           951,
           "Indian in the Cupboard, The (1995)",
           39
          ],
          [
           952,
           "Blue in the Face (1995)",
           45
          ],
          [
           953,
           "Unstrung Heroes (1995)",
           22
          ],
          [
           954,
           "Unzipped (1995)",
           11
          ],
          [
           955,
           "Before Sunrise (1995)",
           49
          ],
          [
           956,
           "Nobody's Fool (1994)",
           46
          ],
          [
           957,
           "Pushing Hands (1992)",
           2
          ],
          [
           958,
           "To Live (Huozhe) (1994)",
           14
          ],
          [
           959,
           "Dazed and Confused (1993)",
           64
          ],
          [
           960,
           "Naked (1993)",
           25
          ],
          [
           961,
           "Orlando (1993)",
           34
          ],
          [
           962,
           "Ruby in Paradise (1993)",
           23
          ],
          [
           963,
           "Some Folks Call It a Sling Blade (1993)",
           41
          ],
          [
           964,
           "Month by the Lake, A (1995)",
           9
          ],
          [
           965,
           "Funny Face (1957)",
           21
          ],
          [
           966,
           "Affair to Remember, An (1957)",
           26
          ],
          [
           967,
           "Little Lord Fauntleroy (1936)",
           12
          ],
          [
           968,
           "Inspector General, The (1949)",
           18
          ],
          [
           969,
           "Winnie the Pooh and the Blustery Day (1968)",
           75
          ],
          [
           970,
           "Hear My Song (1991)",
           8
          ],
          [
           971,
           "Mediterraneo (1991)",
           34
          ],
          [
           972,
           "Passion Fish (1992)",
           28
          ],
          [
           973,
           "Grateful Dead (1995)",
           4
          ],
          [
           974,
           "Eye for an Eye (1996)",
           32
          ],
          [
           975,
           "Fear (1996)",
           44
          ],
          [
           976,
           "Solo (1996)",
           12
          ],
          [
           977,
           "Substitute, The (1996)",
           49
          ],
          [
           978,
           "Heaven's Prisoners (1996)",
           27
          ],
          [
           979,
           "Trigger Effect, The (1996)",
           35
          ],
          [
           980,
           "Mother Night (1996)",
           22
          ],
          [
           981,
           "Dangerous Ground (1997)",
           8
          ],
          [
           982,
           "Maximum Risk (1996)",
           20
          ],
          [
           983,
           "Rich Man's Wife, The (1996)",
           15
          ],
          [
           984,
           "Shadow Conspiracy (1997)",
           44
          ],
          [
           985,
           "Blood & Wine (1997)",
           22
          ],
          [
           986,
           "Turbulence (1997)",
           23
          ],
          [
           987,
           "Underworld (1997)",
           4
          ],
          [
           988,
           "Beautician and the Beast, The (1997)",
           86
          ],
          [
           989,
           "Cats Don't Dance (1997)",
           32
          ],
          [
           990,
           "Anna Karenina (1997)",
           33
          ],
          [
           991,
           "Keys to Tulsa (1997)",
           25
          ],
          [
           992,
           "Head Above Water (1996)",
           4
          ],
          [
           993,
           "Hercules (1997)",
           66
          ],
          [
           994,
           "Last Time I Committed Suicide, The (1997)",
           7
          ],
          [
           995,
           "Kiss Me, Guido (1997)",
           31
          ],
          [
           996,
           "Big Green, The (1995)",
           14
          ],
          [
           997,
           "Stuart Saves His Family (1995)",
           16
          ],
          [
           998,
           "Cabin Boy (1994)",
           16
          ],
          [
           999,
           "Clean Slate (1994)",
           10
          ],
          [
           1000,
           "Lightning Jack (1994)",
           10
          ],
          [
           1001,
           "Stupids, The (1996)",
           17
          ],
          [
           1002,
           "Pest, The (1997)",
           8
          ],
          [
           1003,
           "That Darn Cat! (1997)",
           8
          ],
          [
           1004,
           "Geronimo: An American Legend (1993)",
           9
          ],
          [
           1005,
           "Double vie de Véronique, La (Double Life of Veronique, The) (1991)",
           22
          ],
          [
           1006,
           "Until the End of the World (Bis ans Ende der Welt) (1991)",
           23
          ],
          [
           1007,
           "Waiting for Guffman (1996)",
           47
          ],
          [
           1008,
           "I Shot Andy Warhol (1996)",
           37
          ],
          [
           1009,
           "Stealing Beauty (1996)",
           64
          ],
          [
           1010,
           "Basquiat (1996)",
           44
          ],
          [
           1011,
           "2 Days in the Valley (1996)",
           93
          ],
          [
           1012,
           "Private Parts (1997)",
           100
          ],
          [
           1013,
           "Anaconda (1997)",
           38
          ],
          [
           1014,
           "Romy and Michele's High School Reunion (1997)",
           98
          ],
          [
           1015,
           "Shiloh (1997)",
           12
          ],
          [
           1016,
           "Con Air (1997)",
           137
          ],
          [
           1017,
           "Trees Lounge (1996)",
           50
          ],
          [
           1018,
           "Tie Me Up! Tie Me Down! (1990)",
           32
          ],
          [
           1019,
           "Die xue shuang xiong (Killer, The) (1989)",
           31
          ],
          [
           1020,
           "Gaslight (1944)",
           35
          ],
          [
           1021,
           "8 1/2 (1963)",
           38
          ],
          [
           1022,
           "Fast, Cheap & Out of Control (1997)",
           32
          ],
          [
           1023,
           "Fathers' Day (1997)",
           31
          ],
          [
           1024,
           "Mrs. Dalloway (1997)",
           15
          ],
          [
           1025,
           "Fire Down Below (1997)",
           44
          ],
          [
           1026,
           "Lay of the Land, The (1997)",
           4
          ],
          [
           1027,
           "Shooter, The (1995)",
           3
          ],
          [
           1028,
           "Grumpier Old Men (1995)",
           148
          ],
          [
           1029,
           "Jury Duty (1995)",
           14
          ],
          [
           1030,
           "Beverly Hillbillies, The (1993)",
           20
          ],
          [
           1031,
           "Lassie (1994)",
           7
          ],
          [
           1032,
           "Little Big League (1994)",
           16
          ],
          [
           1033,
           "Homeward Bound II: Lost in San Francisco (1996)",
           32
          ],
          [
           1034,
           "Quest, The (1996)",
           27
          ],
          [
           1035,
           "Cool Runnings (1993)",
           68
          ],
          [
           1036,
           "Drop Dead Fred (1991)",
           24
          ],
          [
           1037,
           "Grease 2 (1982)",
           24
          ],
          [
           1038,
           "Switchback (1997)",
           17
          ],
          [
           1039,
           "Hamlet (1996)",
           90
          ],
          [
           1040,
           "Two if by Sea (1996)",
           25
          ],
          [
           1041,
           "Forget Paris (1995)",
           62
          ],
          [
           1042,
           "Just Cause (1995)",
           28
          ],
          [
           1043,
           "Rent-a-Kid (1995)",
           8
          ],
          [
           1044,
           "Paper, The (1994)",
           40
          ],
          [
           1045,
           "Fearless (1993)",
           25
          ],
          [
           1046,
           "Malice (1993)",
           46
          ],
          [
           1047,
           "Multiplicity (1996)",
           134
          ],
          [
           1048,
           "She's the One (1996)",
           73
          ],
          [
           1049,
           "House Arrest (1996)",
           25
          ],
          [
           1050,
           "Ghost and Mrs. Muir, The (1947)",
           43
          ],
          [
           1051,
           "Associate, The (1996)",
           41
          ],
          [
           1052,
           "Dracula: Dead and Loving It (1995)",
           25
          ],
          [
           1053,
           "Now and Then (1995)",
           24
          ],
          [
           1054,
           "Mr. Wrong (1996)",
           23
          ],
          [
           1055,
           "Simple Twist of Fate, A (1994)",
           10
          ],
          [
           1056,
           "Cronos (1992)",
           10
          ],
          [
           1057,
           "Pallbearer, The (1996)",
           22
          ],
          [
           1058,
           "War, The (1994)",
           15
          ],
          [
           1059,
           "Don't Be a Menace to South Central While Drinking Your Juice in the Hood (1996)",
           35
          ],
          [
           1060,
           "Adventures of Pinocchio, The (1996)",
           39
          ],
          [
           1061,
           "Evening Star, The (1996)",
           29
          ],
          [
           1062,
           "Four Days in September (1997)",
           12
          ],
          [
           1063,
           "Little Princess, A (1995)",
           41
          ],
          [
           1064,
           "Crossfire (1947)",
           4
          ],
          [
           1065,
           "Koyaanisqatsi (1983)",
           53
          ],
          [
           1066,
           "Balto (1995)",
           16
          ],
          [
           1067,
           "Bottle Rocket (1996)",
           44
          ],
          [
           1068,
           "Star Maker, The (Uomo delle stelle, L') (1995)",
           12
          ],
          [
           1069,
           "Amateur (1994)",
           18
          ],
          [
           1070,
           "Living in Oblivion (1995)",
           27
          ],
          [
           1071,
           "Party Girl (1995)",
           16
          ],
          [
           1072,
           "Pyromaniac's Love Story, A (1995)",
           7
          ],
          [
           1073,
           "Shallow Grave (1994)",
           66
          ],
          [
           1074,
           "Reality Bites (1994)",
           77
          ],
          [
           1075,
           "Man of No Importance, A (1994)",
           7
          ],
          [
           1076,
           "Pagemaster, The (1994)",
           12
          ],
          [
           1077,
           "Love and a .45 (1994)",
           8
          ],
          [
           1078,
           "Oliver & Company (1988)",
           22
          ],
          [
           1079,
           "Joe's Apartment (1996)",
           45
          ],
          [
           1080,
           "Celestial Clockwork (1994)",
           2
          ],
          [
           1081,
           "Curdled (1996)",
           8
          ],
          [
           1082,
           "Female Perversions (1996)",
           8
          ],
          [
           1083,
           "Albino Alligator (1996)",
           6
          ],
          [
           1084,
           "Anne Frank Remembered (1995)",
           21
          ],
          [
           1085,
           "Carried Away (1996)",
           11
          ],
          [
           1086,
           "It's My Party (1995)",
           21
          ],
          [
           1087,
           "Bloodsport 2 (1995)",
           10
          ],
          [
           1088,
           "Double Team (1997)",
           13
          ],
          [
           1089,
           "Speed 2: Cruise Control (1997)",
           38
          ],
          [
           1090,
           "Sliver (1993)",
           37
          ],
          [
           1091,
           "Pete's Dragon (1977)",
           43
          ],
          [
           1092,
           "Dear God (1996)",
           12
          ],
          [
           1093,
           "Live Nude Girls (1995)",
           23
          ],
          [
           1094,
           "Thin Line Between Love and Hate, A (1996)",
           12
          ],
          [
           1095,
           "High School High (1996)",
           29
          ],
          [
           1096,
           "Commandments (1997)",
           3
          ],
          [
           1097,
           "Hate (Haine, La) (1995)",
           18
          ],
          [
           1098,
           "Flirting With Disaster (1996)",
           42
          ],
          [
           1099,
           "Red Firecracker, Green Firecracker (1994)",
           13
          ],
          [
           1100,
           "What Happened Was... (1994)",
           8
          ],
          [
           1101,
           "Six Degrees of Separation (1993)",
           74
          ],
          [
           1102,
           "Two Much (1996)",
           7
          ],
          [
           1103,
           "Trust (1990)",
           19
          ],
          [
           1104,
           "C'est arrivé près de chez vous (1992)",
           4
          ],
          [
           1105,
           "Firestorm (1998)",
           18
          ],
          [
           1106,
           "Newton Boys, The (1998)",
           4
          ],
          [
           1107,
           "Beyond Rangoon (1995)",
           18
          ],
          [
           1108,
           "Feast of July (1995)",
           5
          ],
          [
           1109,
           "Death and the Maiden (1994)",
           28
          ],
          [
           1110,
           "Tank Girl (1995)",
           41
          ],
          [
           1111,
           "Double Happiness (1994)",
           7
          ],
          [
           1112,
           "Cobb (1994)",
           15
          ],
          [
           1113,
           "Mrs. Parker and the Vicious Circle (1994)",
           22
          ],
          [
           1114,
           "Faithful (1996)",
           10
          ],
          [
           1115,
           "Twelfth Night (1996)",
           29
          ],
          [
           1116,
           "Mark of Zorro, The (1940)",
           13
          ],
          [
           1117,
           "Surviving Picasso (1996)",
           19
          ],
          [
           1118,
           "Up in Smoke (1978)",
           47
          ],
          [
           1119,
           "Some Kind of Wonderful (1987)",
           59
          ],
          [
           1120,
           "I'm Not Rappaport (1996)",
           17
          ],
          [
           1121,
           "Umbrellas of Cherbourg, The (Parapluies de Cherbourg, Les) (1964)",
           21
          ],
          [
           1122,
           "They Made Me a Criminal (1939)",
           1
          ],
          [
           1123,
           "Last Time I Saw Paris, The (1954)",
           3
          ],
          [
           1124,
           "Farewell to Arms, A (1932)",
           12
          ],
          [
           1125,
           "Innocents, The (1961)",
           4
          ],
          [
           1126,
           "Old Man and the Sea, The (1958)",
           32
          ],
          [
           1127,
           "Truman Show, The (1998)",
           11
          ],
          [
           1128,
           "Heidi Fleiss: Hollywood Madam (1995) ",
           13
          ],
          [
           1129,
           "Chungking Express (1994)",
           28
          ],
          [
           1130,
           "Jupiter's Wife (1994)",
           1
          ],
          [
           1131,
           "Safe (1995)",
           13
          ],
          [
           1132,
           "Feeling Minnesota (1996)",
           32
          ],
          [
           1133,
           "Escape to Witch Mountain (1975)",
           30
          ],
          [
           1134,
           "Get on the Bus (1996)",
           38
          ],
          [
           1135,
           "Doors, The (1991)",
           46
          ],
          [
           1136,
           "Ghosts of Mississippi (1996)",
           29
          ],
          [
           1137,
           "Beautiful Thing (1996)",
           29
          ],
          [
           1138,
           "Best Men (1997)",
           5
          ],
          [
           1139,
           "Hackers (1995)",
           33
          ],
          [
           1140,
           "Road to Wellville, The (1994)",
           17
          ],
          [
           1141,
           "War Room, The (1993)",
           9
          ],
          [
           1142,
           "When We Were Kings (1996)",
           44
          ],
          [
           1143,
           "Hard Eight (1996)",
           15
          ],
          [
           1144,
           "Quiet Room, The (1996)",
           3
          ],
          [
           1145,
           "Blue Chips (1994)",
           9
          ],
          [
           1146,
           "Calendar Girl (1993)",
           3
          ],
          [
           1147,
           "My Family (1995)",
           21
          ],
          [
           1148,
           "Tom & Viv (1994)",
           9
          ],
          [
           1149,
           "Walkabout (1971)",
           26
          ],
          [
           1150,
           "Last Dance (1996)",
           9
          ],
          [
           1151,
           "Original Gangstas (1996)",
           7
          ],
          [
           1152,
           "In Love and War (1996)",
           28
          ],
          [
           1153,
           "Backbeat (1993)",
           19
          ],
          [
           1154,
           "Alphaville (1965)",
           12
          ],
          [
           1155,
           "Rendezvous in Paris (Rendez-vous de Paris, Les) (1995)",
           3
          ],
          [
           1156,
           "Cyclo (1995)",
           1
          ],
          [
           1157,
           "Relic, The (1997)",
           25
          ],
          [
           1158,
           "Fille seule, La (A Single Girl) (1995)",
           4
          ],
          [
           1159,
           "Stalker (1979)",
           11
          ],
          [
           1160,
           "Love! Valour! Compassion! (1997)",
           26
          ],
          [
           1161,
           "Palookaville (1996)",
           13
          ],
          [
           1162,
           "Phat Beach (1996)",
           5
          ],
          [
           1163,
           "Portrait of a Lady, The (1996)",
           25
          ],
          [
           1164,
           "Zeus and Roxanne (1997)",
           6
          ],
          [
           1165,
           "Big Bully (1996)",
           14
          ],
          [
           1166,
           "Love & Human Remains (1993)",
           12
          ],
          [
           1167,
           "Sum of Us, The (1994)",
           11
          ],
          [
           1168,
           "Little Buddha (1993)",
           22
          ],
          [
           1169,
           "Fresh (1994)",
           10
          ],
          [
           1170,
           "Spanking the Monkey (1994)",
           27
          ],
          [
           1171,
           "Wild Reeds (1994)",
           14
          ],
          [
           1172,
           "Women, The (1939)",
           15
          ],
          [
           1173,
           "Bliss (1997)",
           7
          ],
          [
           1174,
           "Caught (1996)",
           8
          ],
          [
           1175,
           "Hugo Pool (1997)",
           5
          ],
          [
           1176,
           "Welcome To Sarajevo (1997)",
           22
          ],
          [
           1177,
           "Dunston Checks In (1996)",
           7
          ],
          [
           1178,
           "Major Payne (1994)",
           19
          ],
          [
           1179,
           "Man of the House (1995)",
           9
          ],
          [
           1180,
           "I Love Trouble (1994)",
           10
          ],
          [
           1181,
           "Low Down Dirty Shame, A (1994)",
           10
          ],
          [
           1182,
           "Cops and Robbersons (1994)",
           13
          ],
          [
           1183,
           "Cowboy Way, The (1994)",
           19
          ],
          [
           1184,
           "Endless Summer 2, The (1994)",
           10
          ],
          [
           1185,
           "In the Army Now (1994)",
           18
          ],
          [
           1186,
           "Inkwell, The (1994)",
           3
          ],
          [
           1187,
           "Switchblade Sisters (1975)",
           13
          ],
          [
           1188,
           "Young Guns II (1990)",
           44
          ],
          [
           1189,
           "Prefontaine (1997)",
           3
          ],
          [
           1190,
           "That Old Feeling (1997)",
           11
          ],
          [
           1191,
           "Letter From Death Row, A (1998)",
           3
          ],
          [
           1192,
           "Boys of St. Vincent, The (1993)",
           13
          ],
          [
           1193,
           "Before the Rain (Pred dozhdot) (1994)",
           10
          ],
          [
           1194,
           "Once Were Warriors (1994)",
           31
          ],
          [
           1195,
           "Strawberry and Chocolate (Fresa y chocolate) (1993)",
           11
          ],
          [
           1196,
           "Savage Nights (Nuits fauves, Les) (1992)",
           3
          ],
          [
           1197,
           "Family Thing, A (1996)",
           45
          ],
          [
           1198,
           "Purple Noon (1960)",
           7
          ],
          [
           1199,
           "Cemetery Man (Dellamorte Dellamore) (1994)",
           23
          ],
          [
           1200,
           "Kim (1950)",
           7
          ],
          [
           1201,
           "Marlene Dietrich: Shadow and Light (1996) ",
           1
          ],
          [
           1202,
           "Maybe, Maybe Not (Bewegte Mann, Der) (1994)",
           8
          ],
          [
           1203,
           "Top Hat (1935)",
           21
          ],
          [
           1204,
           "To Be or Not to Be (1942)",
           18
          ],
          [
           1205,
           "Secret Agent, The (1996)",
           6
          ],
          [
           1206,
           "Amos & Andrew (1993)",
           19
          ],
          [
           1207,
           "Jade (1995)",
           17
          ],
          [
           1208,
           "Kiss of Death (1995)",
           20
          ],
          [
           1209,
           "Mixed Nuts (1994)",
           15
          ],
          [
           1210,
           "Virtuosity (1995)",
           38
          ],
          [
           1211,
           "Blue Sky (1994)",
           12
          ],
          [
           1212,
           "Flesh and Bone (1993)",
           6
          ],
          [
           1213,
           "Guilty as Sin (1993)",
           6
          ],
          [
           1214,
           "In the Realm of the Senses (Ai no corrida) (1976)",
           9
          ],
          [
           1215,
           "Barb Wire (1996)",
           30
          ],
          [
           1216,
           "Kissed (1996)",
           6
          ],
          [
           1217,
           "Assassins (1995)",
           39
          ],
          [
           1218,
           "Friday (1995)",
           26
          ],
          [
           1219,
           "Goofy Movie, A (1995)",
           20
          ],
          [
           1220,
           "Higher Learning (1995)",
           30
          ],
          [
           1221,
           "When a Man Loves a Woman (1994)",
           39
          ],
          [
           1222,
           "Judgment Night (1993)",
           25
          ],
          [
           1223,
           "King of the Hill (1993)",
           4
          ],
          [
           1224,
           "Scout, The (1994)",
           12
          ],
          [
           1225,
           "Angus (1995)",
           14
          ],
          [
           1226,
           "Night Falls on Manhattan (1997)",
           32
          ],
          [
           1227,
           "Awfully Big Adventure, An (1995)",
           8
          ],
          [
           1228,
           "Under Siege 2: Dark Territory (1995)",
           48
          ],
          [
           1229,
           "Poison Ivy II (1995)",
           13
          ],
          [
           1230,
           "Ready to Wear (Pret-A-Porter) (1994)",
           18
          ],
          [
           1231,
           "Marked for Death (1990)",
           22
          ],
          [
           1232,
           "Madonna: Truth or Dare (1991)",
           17
          ],
          [
           1233,
           "Nénette et Boni (1996)",
           6
          ],
          [
           1234,
           "Chairman of the Board (1998)",
           8
          ],
          [
           1235,
           "Big Bang Theory, The (1994)",
           1
          ],
          [
           1236,
           "Other Voices, Other Rooms (1997)",
           1
          ],
          [
           1237,
           "Twisted (1996)",
           6
          ],
          [
           1238,
           "Full Speed (1996)",
           8
          ],
          [
           1239,
           "Cutthroat Island (1995)",
           18
          ],
          [
           1240,
           "Ghost in the Shell (Kokaku kidotai) (1995)",
           26
          ],
          [
           1241,
           "Van, The (1996)",
           6
          ],
          [
           1242,
           "Old Lady Who Walked in the Sea, The (Vieille qui marchait dans la mer, La) (1991)",
           5
          ],
          [
           1243,
           "Night Flier (1997)",
           7
          ],
          [
           1244,
           "Metro (1997)",
           36
          ],
          [
           1245,
           "Gridlock'd (1997)",
           19
          ],
          [
           1246,
           "Bushwhacked (1995)",
           7
          ],
          [
           1247,
           "Bad Girls (1994)",
           6
          ],
          [
           1248,
           "Blink (1994)",
           19
          ],
          [
           1249,
           "For Love or Money (1993)",
           12
          ],
          [
           1250,
           "Best of the Best 3: No Turning Back (1995)",
           6
          ],
          [
           1251,
           "A Chef in Love (1996)",
           8
          ],
          [
           1252,
           "Contempt (Mépris, Le) (1963)",
           9
          ],
          [
           1253,
           "Tie That Binds, The (1995)",
           7
          ],
          [
           1254,
           "Gone Fishin' (1997)",
           11
          ],
          [
           1255,
           "Broken English (1996)",
           8
          ],
          [
           1256,
           "Designated Mourner, The (1997)",
           3
          ],
          [
           1257,
           "Designated Mourner, The (1997)",
           4
          ],
          [
           1258,
           "Trial and Error (1997)",
           23
          ],
          [
           1259,
           "Pie in the Sky (1995)",
           4
          ],
          [
           1260,
           "Total Eclipse (1995)",
           4
          ],
          [
           1261,
           "Run of the Country, The (1995)",
           4
          ],
          [
           1262,
           "Walking and Talking (1996)",
           8
          ],
          [
           1263,
           "Foxfire (1996)",
           15
          ],
          [
           1264,
           "Nothing to Lose (1994)",
           7
          ],
          [
           1265,
           "Star Maps (1997)",
           19
          ],
          [
           1266,
           "Bread and Chocolate (Pane e cioccolata) (1973)",
           12
          ],
          [
           1267,
           "Clockers (1995)",
           33
          ],
          [
           1268,
           "Bitter Moon (1992)",
           10
          ],
          [
           1269,
           "Love in the Afternoon (1957)",
           10
          ],
          [
           1270,
           "Life with Mikey (1993)",
           7
          ],
          [
           1271,
           "North (1994)",
           7
          ],
          [
           1272,
           "Talking About Sex (1994)",
           5
          ],
          [
           1273,
           "Color of Night (1994)",
           15
          ],
          [
           1274,
           "Robocop 3 (1993)",
           11
          ],
          [
           1275,
           "Killer (Bulletproof Heart) (1994)",
           4
          ],
          [
           1276,
           "Sunset Park (1996)",
           8
          ],
          [
           1277,
           "Set It Off (1996)",
           19
          ],
          [
           1278,
           "Selena (1997)",
           16
          ],
          [
           1279,
           "Wild America (1997)",
           9
          ],
          [
           1280,
           "Gang Related (1997)",
           16
          ],
          [
           1281,
           "Manny & Lo (1996)",
           13
          ],
          [
           1282,
           "Grass Harp, The (1995)",
           9
          ],
          [
           1283,
           "Out to Sea (1997)",
           19
          ],
          [
           1284,
           "Before and After (1996)",
           26
          ],
          [
           1285,
           "Princess Caraboo (1994)",
           15
          ],
          [
           1286,
           "Shall We Dance? (1937)",
           17
          ],
          [
           1287,
           "Ed (1996)",
           6
          ],
          [
           1288,
           "Denise Calls Up (1995)",
           7
          ],
          [
           1289,
           "Jack and Sarah (1995)",
           7
          ],
          [
           1290,
           "Country Life (1994)",
           2
          ],
          [
           1291,
           "Celtic Pride (1996)",
           15
          ],
          [
           1292,
           "Simple Wish, A (1997)",
           3
          ],
          [
           1293,
           "Star Kid (1997)",
           3
          ],
          [
           1294,
           "Ayn Rand: A Sense of Life (1997)",
           7
          ],
          [
           1295,
           "Kicked in the Head (1997)",
           7
          ],
          [
           1296,
           "Indian Summer (1996)",
           20
          ],
          [
           1297,
           "Love Affair (1994)",
           12
          ],
          [
           1298,
           "Band Wagon, The (1953)",
           9
          ],
          [
           1299,
           "Penny Serenade (1941)",
           8
          ],
          [
           1300,
           "'Til There Was You (1997)",
           9
          ],
          [
           1301,
           "Stripes (1981)",
           5
          ],
          [
           1302,
           "Late Bloomers (1996)",
           5
          ],
          [
           1303,
           "Getaway, The (1994)",
           18
          ],
          [
           1304,
           "New York Cop (1996)",
           2
          ],
          [
           1305,
           "National Lampoon's Senior Trip (1995)",
           7
          ],
          [
           1306,
           "Delta of Venus (1994)",
           2
          ],
          [
           1307,
           "Carmen Miranda: Bananas Is My Business (1994)",
           2
          ],
          [
           1308,
           "Babyfever (1994)",
           2
          ],
          [
           1309,
           "Very Natural Thing, A (1974)",
           1
          ],
          [
           1310,
           "Walk in the Sun, A (1945)",
           1
          ],
          [
           1311,
           "Waiting to Exhale (1995)",
           16
          ],
          [
           1312,
           "Pompatus of Love, The (1996)",
           7
          ],
          [
           1313,
           "Palmetto (1998)",
           14
          ],
          [
           1314,
           "Surviving the Game (1994)",
           11
          ],
          [
           1315,
           "Inventing the Abbotts (1997)",
           23
          ],
          [
           1316,
           "Horse Whisperer, The (1998)",
           7
          ],
          [
           1317,
           "Journey of August King, The (1995)",
           4
          ],
          [
           1318,
           "Catwalk (1995)",
           3
          ],
          [
           1319,
           "Neon Bible, The (1995)",
           4
          ],
          [
           1320,
           "Homage (1995)",
           1
          ],
          [
           1321,
           "Open Season (1996)",
           2
          ],
          [
           1322,
           "Metisse (Café au Lait) (1993)",
           6
          ],
          [
           1323,
           "Wooden Man's Bride, The (Wu Kui) (1994)",
           3
          ],
          [
           1324,
           "Loaded (1994)",
           5
          ],
          [
           1325,
           "August (1996)",
           1
          ],
          [
           1326,
           "Boys (1996)",
           6
          ],
          [
           1327,
           "Captives (1994)",
           3
          ],
          [
           1328,
           "Of Love and Shadows (1994)",
           6
          ],
          [
           1329,
           "Low Life, The (1994)",
           1
          ],
          [
           1330,
           "An Unforgettable Summer (1994)",
           4
          ],
          [
           1331,
           "Last Klezmer: Leopold Kozlowski, His Life and Music, The (1995)",
           4
          ],
          [
           1332,
           "My Life and Times With Antonin Artaud (En compagnie d'Antonin Artaud) (1993)",
           2
          ],
          [
           1333,
           "Midnight Dancers (Sibak) (1994)",
           5
          ],
          [
           1334,
           "Somebody to Love (1994)",
           2
          ],
          [
           1335,
           "American Buffalo (1996)",
           11
          ],
          [
           1336,
           "Kazaam (1996)",
           10
          ],
          [
           1337,
           "Larger Than Life (1996)",
           9
          ],
          [
           1338,
           "Two Deaths (1995)",
           4
          ],
          [
           1339,
           "Stefano Quantestorie (1993)",
           1
          ],
          [
           1340,
           "Crude Oasis, The (1995)",
           1
          ],
          [
           1341,
           "Hedd Wyn (1992)",
           1
          ],
          [
           1342,
           "Convent, The (Convento, O) (1995)",
           2
          ],
          [
           1343,
           "Lotto Land (1995)",
           1
          ],
          [
           1344,
           "Story of Xinghua, The (1993)",
           5
          ],
          [
           1345,
           "Day the Sun Turned Cold, The (Tianguo niezi) (1994)",
           2
          ],
          [
           1346,
           "Dingo (1992)",
           5
          ],
          [
           1347,
           "Ballad of Narayama, The (Narayama Bushiko) (1958)",
           4
          ],
          [
           1348,
           "Every Other Weekend (1990)",
           1
          ],
          [
           1349,
           "Mille bolle blu (1993)",
           1
          ],
          [
           1350,
           "Crows and Sparrows (1949)",
           2
          ],
          [
           1351,
           "Lover's Knot (1996)",
           3
          ],
          [
           1352,
           "Shadow of Angels (Schatten der Engel) (1976)",
           1
          ],
          [
           1353,
           "1-900 (1994)",
           5
          ],
          [
           1354,
           "Venice/Venice (1992)",
           2
          ],
          [
           1355,
           "Infinity (1996)",
           6
          ],
          [
           1356,
           "Ed's Next Move (1996)",
           3
          ],
          [
           1357,
           "For the Moment (1994)",
           3
          ],
          [
           1358,
           "The Deadly Cure (1996)",
           2
          ],
          [
           1359,
           "Boys in Venice (1996)",
           2
          ],
          [
           1360,
           "Sexual Life of the Belgians, The (1994)",
           2
          ],
          [
           1361,
           "Search for One-eye Jimmy, The (1996)",
           3
          ],
          [
           1362,
           "American Strays (1996)",
           2
          ],
          [
           1363,
           "Leopard Son, The (1996)",
           1
          ],
          [
           1364,
           "Bird of Prey (1996)",
           1
          ],
          [
           1365,
           "Johnny 100 Pesos (1993)",
           2
          ],
          [
           1366,
           "JLG/JLG - autoportrait de décembre (1994)",
           1
          ],
          [
           1367,
           "Faust (1994)",
           5
          ],
          [
           1368,
           "Mina Tannenbaum (1994)",
           6
          ],
          [
           1369,
           "Forbidden Christ, The (Cristo proibito, Il) (1950)",
           4
          ],
          [
           1370,
           "I Can't Sleep (J'ai pas sommeil) (1994)",
           3
          ],
          [
           1371,
           "Machine, The (1994)",
           2
          ],
          [
           1372,
           "Stranger, The (1994)",
           3
          ],
          [
           1373,
           "Good Morning (1971)",
           1
          ],
          [
           1374,
           "Falling in Love Again (1980)",
           2
          ],
          [
           1375,
           "Cement Garden, The (1993)",
           10
          ],
          [
           1376,
           "Meet Wally Sparks (1997)",
           7
          ],
          [
           1377,
           "Hotel de Love (1996)",
           4
          ],
          [
           1378,
           "Rhyme & Reason (1997)",
           5
          ],
          [
           1379,
           "Love and Other Catastrophes (1996)",
           7
          ],
          [
           1380,
           "Hollow Reed (1996)",
           6
          ],
          [
           1381,
           "Losing Chase (1996)",
           8
          ],
          [
           1382,
           "Bonheur, Le (1965)",
           4
          ],
          [
           1383,
           "Second Jungle Book: Mowgli & Baloo, The (1997)",
           6
          ],
          [
           1384,
           "Squeeze (1996)",
           3
          ],
          [
           1385,
           "Roseanna's Grave (For Roseanna) (1997)",
           5
          ],
          [
           1386,
           "Tetsuo II: Body Hammer (1992)",
           6
          ],
          [
           1387,
           "Fall (1997)",
           3
          ],
          [
           1388,
           "Gabbeh (1996)",
           6
          ],
          [
           1389,
           "Mondo (1996)",
           3
          ],
          [
           1390,
           "Innocent Sleep, The (1995)",
           2
          ],
          [
           1391,
           "For Ever Mozart (1996)",
           3
          ],
          [
           1392,
           "Locusts, The (1997)",
           5
          ],
          [
           1393,
           "Stag (1997)",
           9
          ],
          [
           1394,
           "Swept from the Sea (1997)",
           7
          ],
          [
           1395,
           "Hurricane Streets (1998)",
           6
          ],
          [
           1396,
           "Stonewall (1995)",
           5
          ],
          [
           1397,
           "Of Human Bondage (1934)",
           5
          ],
          [
           1398,
           "Anna (1996)",
           2
          ],
          [
           1399,
           "Stranger in the House (1997)",
           7
          ],
          [
           1400,
           "Picture Bride (1995)",
           10
          ],
          [
           1401,
           "M. Butterfly (1993)",
           18
          ],
          [
           1402,
           "Ciao, Professore! (1993)",
           4
          ],
          [
           1403,
           "Caro Diario (Dear Diary) (1994)",
           4
          ],
          [
           1404,
           "Withnail and I (1987)",
           13
          ],
          [
           1405,
           "Boy's Life 2 (1997)",
           6
          ],
          [
           1406,
           "When Night Is Falling (1995)",
           5
          ],
          [
           1407,
           "Specialist, The (1994)",
           20
          ],
          [
           1408,
           "Gordy (1995)",
           3
          ],
          [
           1409,
           "Swan Princess, The (1994)",
           7
          ],
          [
           1410,
           "Harlem (1993)",
           4
          ],
          [
           1411,
           "Barbarella (1968)",
           28
          ],
          [
           1412,
           "Land Before Time III: The Time of the Great Giving (1995) (V)",
           6
          ],
          [
           1413,
           "Street Fighter (1994)",
           8
          ],
          [
           1414,
           "Coldblooded (1995)",
           1
          ],
          [
           1415,
           "Next Karate Kid, The (1994)",
           9
          ],
          [
           1416,
           "No Escape (1994)",
           5
          ],
          [
           1417,
           "Turning, The (1992)",
           2
          ],
          [
           1418,
           "Joy Luck Club, The (1993)",
           3
          ],
          [
           1419,
           "Highlander III: The Sorcerer (1994)",
           16
          ],
          [
           1420,
           "Gilligan's Island: The Movie (1998)",
           3
          ],
          [
           1421,
           "My Crazy Life (Mi vida loca) (1993)",
           11
          ],
          [
           1422,
           "Suture (1993)",
           4
          ],
          [
           1423,
           "Walking Dead, The (1995)",
           4
          ],
          [
           1424,
           "I Like It Like That (1994)",
           3
          ],
          [
           1425,
           "I'll Do Anything (1994)",
           10
          ],
          [
           1426,
           "Grace of My Heart (1996)",
           8
          ],
          [
           1427,
           "Drunks (1995)",
           5
          ],
          [
           1428,
           "SubUrbia (1997)",
           12
          ],
          [
           1429,
           "Sliding Doors (1998)",
           4
          ],
          [
           1430,
           "Ill Gotten Gains (1997)",
           3
          ],
          [
           1431,
           "Legal Deceit (1997)",
           5
          ],
          [
           1432,
           "Mighty, The (1998)",
           3
          ],
          [
           1433,
           "Men of Means (1998)",
           2
          ],
          [
           1434,
           "Shooting Fish (1997)",
           10
          ],
          [
           1435,
           "Steal Big, Steal Little (1995)",
           7
          ],
          [
           1436,
           "Mr. Jones (1993)",
           2
          ],
          [
           1437,
           "House Party 3 (1994)",
           9
          ],
          [
           1438,
           "Panther (1995)",
           5
          ],
          [
           1439,
           "Jason's Lyric (1994)",
           8
          ],
          [
           1440,
           "Above the Rim (1994)",
           5
          ],
          [
           1441,
           "Moonlight and Valentino (1995)",
           7
          ],
          [
           1442,
           "Scarlet Letter, The (1995)",
           5
          ],
          [
           1443,
           "8 Seconds (1994)",
           4
          ],
          [
           1444,
           "That Darn Cat! (1965)",
           19
          ],
          [
           1445,
           "Ladybird Ladybird (1994)",
           4
          ],
          [
           1446,
           "Bye Bye, Love (1995)",
           15
          ],
          [
           1447,
           "Century (1993)",
           1
          ],
          [
           1448,
           "My Favorite Season (1993)",
           3
          ],
          [
           1449,
           "Pather Panchali (1955)",
           8
          ],
          [
           1450,
           "Golden Earrings (1947)",
           2
          ],
          [
           1451,
           "Foreign Correspondent (1940)",
           15
          ],
          [
           1452,
           "Lady of Burlesque (1943)",
           1
          ],
          [
           1453,
           "Angel on My Shoulder (1946)",
           1
          ],
          [
           1454,
           "Angel and the Badman (1947)",
           6
          ],
          [
           1455,
           "Outlaw, The (1943)",
           2
          ],
          [
           1456,
           "Beat the Devil (1954)",
           7
          ],
          [
           1457,
           "Love Is All There Is (1996)",
           1
          ],
          [
           1458,
           "Damsel in Distress, A (1937)",
           1
          ],
          [
           1459,
           "Madame Butterfly (1995)",
           7
          ],
          [
           1460,
           "Sleepover (1995)",
           1
          ],
          [
           1461,
           "Here Comes Cookie (1935)",
           1
          ],
          [
           1462,
           "Thieves (Voleurs, Les) (1996)",
           7
          ],
          [
           1463,
           "Boys, Les (1997)",
           3
          ],
          [
           1464,
           "Stars Fell on Henrietta, The (1995)",
           3
          ],
          [
           1465,
           "Last Summer in the Hamptons (1995)",
           3
          ],
          [
           1466,
           "Margaret's Museum (1995)",
           6
          ],
          [
           1467,
           "Saint of Fort Washington, The (1993)",
           2
          ],
          [
           1468,
           "Cure, The (1995)",
           6
          ],
          [
           1469,
           "Tom and Huck (1995)",
           12
          ],
          [
           1470,
           "Gumby: The Movie (1995)",
           5
          ],
          [
           1471,
           "Hideaway (1995)",
           9
          ],
          [
           1472,
           "Visitors, The (Visiteurs, Les) (1993)",
           2
          ],
          [
           1473,
           "Little Princess, The (1939)",
           9
          ],
          [
           1474,
           "Nina Takes a Lover (1994)",
           6
          ],
          [
           1475,
           "Bhaji on the Beach (1993)",
           8
          ],
          [
           1476,
           "Raw Deal (1948)",
           1
          ],
          [
           1477,
           "Nightwatch (1997)",
           2
          ],
          [
           1478,
           "Dead Presidents (1995)",
           18
          ],
          [
           1479,
           "Reckless (1995)",
           8
          ],
          [
           1480,
           "Herbie Rides Again (1974)",
           11
          ],
          [
           1481,
           "S.F.W. (1994)",
           2
          ],
          [
           1482,
           "Gate of Heavenly Peace, The (1995)",
           1
          ],
          [
           1483,
           "Man in the Iron Mask, The (1998)",
           12
          ],
          [
           1484,
           "Jerky Boys, The (1994)",
           3
          ],
          [
           1485,
           "Colonel Chabert, Le (1994)",
           4
          ],
          [
           1486,
           "Girl in the Cadillac (1995)",
           1
          ],
          [
           1487,
           "Even Cowgirls Get the Blues (1993)",
           5
          ],
          [
           1488,
           "Germinal (1993)",
           4
          ],
          [
           1489,
           "Chasers (1994)",
           5
          ],
          [
           1490,
           "Fausto (1993)",
           3
          ],
          [
           1491,
           "Tough and Deadly (1995)",
           2
          ],
          [
           1492,
           "Window to Paris (1994)",
           1
          ],
          [
           1493,
           "Modern Affair, A (1995)",
           1
          ],
          [
           1494,
           "Mostro, Il (1994)",
           1
          ],
          [
           1495,
           "Flirt (1995)",
           5
          ],
          [
           1496,
           "Carpool (1996)",
           5
          ],
          [
           1497,
           "Line King: Al Hirschfeld, The (1996)",
           2
          ],
          [
           1498,
           "Farmer & Chase (1995)",
           1
          ],
          [
           1499,
           "Grosse Fatigue (1994)",
           4
          ],
          [
           1500,
           "Santa with Muscles (1996)",
           2
          ],
          [
           1501,
           "Prisoner of the Mountains (Kavkazsky Plennik) (1996)",
           5
          ],
          [
           1502,
           "Naked in New York (1994)",
           2
          ],
          [
           1503,
           "Gold Diggers: The Secret of Bear Mountain (1995)",
           10
          ],
          [
           1504,
           "Bewegte Mann, Der (1994)",
           3
          ],
          [
           1505,
           "Killer: A Journal of Murder (1995)",
           1
          ],
          [
           1506,
           "Nelly & Monsieur Arnaud (1995)",
           3
          ],
          [
           1507,
           "Three Lives and Only One Death (1996)",
           1
          ],
          [
           1508,
           "Babysitter, The (1995)",
           3
          ],
          [
           1509,
           "Getting Even with Dad (1994)",
           5
          ],
          [
           1510,
           "Mad Dog Time (1996)",
           1
          ],
          [
           1511,
           "Children of the Revolution (1996)",
           5
          ],
          [
           1512,
           "World of Apu, The (Apur Sansar) (1959)",
           6
          ],
          [
           1513,
           "Sprung (1997)",
           3
          ],
          [
           1514,
           "Dream With the Fishes (1997)",
           7
          ],
          [
           1515,
           "Wings of Courage (1995)",
           1
          ],
          [
           1516,
           "Wedding Gift, The (1994)",
           3
          ],
          [
           1517,
           "Race the Sun (1996)",
           5
          ],
          [
           1518,
           "Losing Isaiah (1995)",
           12
          ],
          [
           1519,
           "New Jersey Drive (1995)",
           2
          ],
          [
           1520,
           "Fear, The (1995)",
           1
          ],
          [
           1521,
           "Mr. Wonderful (1993)",
           4
          ],
          [
           1522,
           "Trial by Jury (1994)",
           7
          ],
          [
           1523,
           "Good Man in Africa, A (1994)",
           2
          ],
          [
           1524,
           "Kaspar Hauser (1993)",
           8
          ],
          [
           1525,
           "Object of My Affection, The (1998)",
           1
          ],
          [
           1526,
           "Witness (1985)",
           1
          ],
          [
           1527,
           "Senseless (1998)",
           7
          ],
          [
           1528,
           "Nowhere (1997)",
           3
          ],
          [
           1529,
           "Underground (1995)",
           5
          ],
          [
           1530,
           "Jefferson in Paris (1995)",
           5
          ],
          [
           1531,
           "Far From Home: The Adventures of Yellow Dog (1995)",
           7
          ],
          [
           1532,
           "Foreign Student (1994)",
           2
          ],
          [
           1533,
           "I Don't Want to Talk About It (De eso no se habla) (1993)",
           1
          ],
          [
           1534,
           "Twin Town (1997)",
           6
          ],
          [
           1535,
           "Enfer, L' (1994)",
           4
          ],
          [
           1536,
           "Aiqing wansui (1994)",
           1
          ],
          [
           1537,
           "Cosi (1996)",
           4
          ],
          [
           1538,
           "All Over Me (1997)",
           3
          ],
          [
           1539,
           "Being Human (1993)",
           4
          ],
          [
           1540,
           "Amazing Panda Adventure, The (1995)",
           10
          ],
          [
           1541,
           "Beans of Egypt, Maine, The (1994)",
           2
          ],
          [
           1542,
           "Scarlet Letter, The (1926)",
           2
          ],
          [
           1543,
           "Johns (1996)",
           1
          ],
          [
           1544,
           "It Takes Two (1995)",
           3
          ],
          [
           1545,
           "Frankie Starlight (1995)",
           4
          ],
          [
           1546,
           "Shadows (Cienie) (1988)",
           1
          ],
          [
           1547,
           "Show, The (1995)",
           2
          ],
          [
           1548,
           "The Courtyard (1995)",
           1
          ],
          [
           1549,
           "Dream Man (1995)",
           2
          ],
          [
           1550,
           "Destiny Turns on the Radio (1995)",
           2
          ],
          [
           1551,
           "Glass Shield, The (1994)",
           2
          ],
          [
           1552,
           "Hunted, The (1995)",
           3
          ],
          [
           1553,
           "Underneath, The (1995)",
           4
          ],
          [
           1554,
           "Safe Passage (1994)",
           2
          ],
          [
           1555,
           "Secret Adventures of Tom Thumb, The (1993)",
           5
          ],
          [
           1556,
           "Condition Red (1995)",
           2
          ],
          [
           1557,
           "Yankee Zulu (1994)",
           1
          ],
          [
           1558,
           "Aparajito (1956)",
           7
          ],
          [
           1559,
           "Hostile Intentions (1994)",
           1
          ],
          [
           1560,
           "Clean Slate (Coup de Torchon) (1981)",
           4
          ],
          [
           1561,
           "Tigrero: A Film That Was Never Made (1994)",
           1
          ],
          [
           1562,
           "Eye of Vichy, The (Oeil de Vichy, L') (1993)",
           1
          ],
          [
           1563,
           "Promise, The (Versprechen, Das) (1994)",
           1
          ],
          [
           1564,
           "To Cross the Rubicon (1991)",
           1
          ],
          [
           1565,
           "Daens (1992)",
           1
          ],
          [
           1566,
           "Man from Down Under, The (1943)",
           1
          ],
          [
           1567,
           "Careful (1992)",
           1
          ],
          [
           1568,
           "Vermont Is For Lovers (1992)",
           1
          ],
          [
           1569,
           "Vie est belle, La (Life is Rosey) (1987)",
           1
          ],
          [
           1570,
           "Quartier Mozart (1992)",
           1
          ],
          [
           1571,
           "Touki Bouki (Journey of the Hyena) (1973)",
           1
          ],
          [
           1572,
           "Wend Kuuni (God's Gift) (1982)",
           1
          ],
          [
           1573,
           "Spirits of the Dead (Tre passi nel delirio) (1968)",
           2
          ],
          [
           1574,
           "Pharaoh's Army (1995)",
           1
          ],
          [
           1575,
           "I, Worst of All (Yo, la peor de todas) (1990)",
           1
          ],
          [
           1576,
           "Hungarian Fairy Tale, A (1987)",
           1
          ],
          [
           1577,
           "Death in the Garden (Mort en ce jardin, La) (1956)",
           1
          ],
          [
           1578,
           "Collectionneuse, La (1967)",
           2
          ],
          [
           1579,
           "Baton Rouge (1988)",
           1
          ],
          [
           1580,
           "Liebelei (1933)",
           1
          ],
          [
           1581,
           "Woman in Question, The (1950)",
           1
          ],
          [
           1582,
           "T-Men (1947)",
           1
          ],
          [
           1583,
           "Invitation, The (Zaproszenie) (1986)",
           1
          ],
          [
           1584,
           "Symphonie pastorale, La (1946)",
           1
          ],
          [
           1585,
           "American Dream (1990)",
           2
          ],
          [
           1586,
           "Lashou shentan (1992)",
           1
          ],
          [
           1587,
           "Terror in a Texas Town (1958)",
           1
          ],
          [
           1588,
           "Salut cousin! (1996)",
           2
          ],
          [
           1589,
           "Schizopolis (1996)",
           4
          ],
          [
           1590,
           "To Have, or Not (1995)",
           2
          ],
          [
           1591,
           "Duoluo tianshi (1995)",
           6
          ],
          [
           1592,
           "Magic Hour, The (1998)",
           5
          ],
          [
           1593,
           "Death in Brunswick (1991)",
           1
          ],
          [
           1594,
           "Everest (1998)",
           2
          ],
          [
           1595,
           "Shopping (1994)",
           1
          ],
          [
           1596,
           "Nemesis 2: Nebula (1995)",
           1
          ],
          [
           1597,
           "Romper Stomper (1992)",
           5
          ],
          [
           1598,
           "City of Industry (1997)",
           6
          ],
          [
           1599,
           "Someone Else's America (1995)",
           1
          ],
          [
           1600,
           "Guantanamera (1994)",
           4
          ],
          [
           1601,
           "Office Killer (1997)",
           1
          ],
          [
           1602,
           "Price Above Rubies, A (1998)",
           3
          ],
          [
           1603,
           "Angela (1995)",
           1
          ],
          [
           1604,
           "He Walked by Night (1948)",
           1
          ],
          [
           1605,
           "Love Serenade (1996)",
           4
          ],
          [
           1606,
           "Deceiver (1997)",
           1
          ],
          [
           1607,
           "Hurricane Streets (1998)",
           3
          ],
          [
           1608,
           "Buddy (1997)",
           4
          ],
          [
           1609,
           "B*A*P*S (1997)",
           3
          ],
          [
           1610,
           "Truth or Consequences, N.M. (1997)",
           3
          ],
          [
           1611,
           "Intimate Relations (1996)",
           2
          ],
          [
           1612,
           "Leading Man, The (1996)",
           4
          ],
          [
           1613,
           "Tokyo Fist (1995)",
           1
          ],
          [
           1614,
           "Reluctant Debutante, The (1958)",
           1
          ],
          [
           1615,
           "Warriors of Virtue (1997)",
           10
          ],
          [
           1616,
           "Desert Winds (1995)",
           1
          ],
          [
           1617,
           "Hugo Pool (1997)",
           2
          ],
          [
           1618,
           "King of New York (1990)",
           1
          ],
          [
           1619,
           "All Things Fair (1996)",
           1
          ],
          [
           1620,
           "Sixth Man, The (1997)",
           9
          ],
          [
           1621,
           "Butterfly Kiss (1995)",
           1
          ],
          [
           1622,
           "Paris, France (1993)",
           3
          ],
          [
           1623,
           "Cérémonie, La (1995)",
           3
          ],
          [
           1624,
           "Hush (1998)",
           1
          ],
          [
           1625,
           "Nightwatch (1997)",
           1
          ],
          [
           1626,
           "Nobody Loves Me (Keiner liebt mich) (1994)",
           1
          ],
          [
           1627,
           "Wife, The (1995)",
           1
          ],
          [
           1628,
           "Lamerica (1994)",
           4
          ],
          [
           1629,
           "Nico Icon (1995)",
           2
          ],
          [
           1630,
           "Silence of the Palace, The (Saimt el Qusur) (1994)",
           1
          ],
          [
           1631,
           "Slingshot, The (1993)",
           2
          ],
          [
           1632,
           "Land and Freedom (Tierra y libertad) (1995)",
           1
          ],
          [
           1633,
           "Á köldum klaka (Cold Fever) (1994)",
           1
          ],
          [
           1634,
           "Etz Hadomim Tafus (Under the Domin Tree) (1994)",
           1
          ],
          [
           1635,
           "Two Friends (1986) ",
           1
          ],
          [
           1636,
           "Brothers in Trouble (1995)",
           1
          ],
          [
           1637,
           "Girls Town (1996)",
           1
          ],
          [
           1638,
           "Normal Life (1996)",
           1
          ],
          [
           1639,
           "Bitter Sugar (Azucar Amargo) (1996)",
           3
          ],
          [
           1640,
           "Eighth Day, The (1996)",
           1
          ],
          [
           1641,
           "Dadetown (1995)",
           1
          ],
          [
           1642,
           "Some Mother's Son (1996)",
           2
          ],
          [
           1643,
           "Angel Baby (1995)",
           4
          ],
          [
           1644,
           "Sudden Manhattan (1996)",
           2
          ],
          [
           1645,
           "Butcher Boy, The (1998)",
           1
          ],
          [
           1646,
           "Men With Guns (1997)",
           2
          ],
          [
           1647,
           "Hana-bi (1997)",
           1
          ],
          [
           1648,
           "Niagara, Niagara (1997)",
           1
          ],
          [
           1649,
           "Big One, The (1997)",
           1
          ],
          [
           1650,
           "Butcher Boy, The (1998)",
           1
          ],
          [
           1651,
           "Spanish Prisoner, The (1997)",
           1
          ],
          [
           1652,
           "Temptress Moon (Feng Yue) (1996)",
           3
          ],
          [
           1653,
           "Entertaining Angels: The Dorothy Day Story (1996)",
           1
          ],
          [
           1654,
           "Chairman of the Board (1998)",
           1
          ],
          [
           1655,
           "Favor, The (1994)",
           1
          ],
          [
           1656,
           "Little City (1998)",
           2
          ],
          [
           1657,
           "Target (1995)",
           1
          ],
          [
           1658,
           "Substance of Fire, The (1996)",
           3
          ],
          [
           1659,
           "Getting Away With Murder (1996)",
           1
          ],
          [
           1660,
           "Small Faces (1995)",
           1
          ],
          [
           1661,
           "New Age, The (1994)",
           1
          ],
          [
           1662,
           "Rough Magic (1995)",
           2
          ],
          [
           1663,
           "Nothing Personal (1995)",
           1
          ],
          [
           1664,
           "8 Heads in a Duffel Bag (1997)",
           4
          ],
          [
           1665,
           "Brother's Kiss, A (1997)",
           1
          ],
          [
           1666,
           "Ripe (1996)",
           1
          ],
          [
           1667,
           "Next Step, The (1995)",
           1
          ],
          [
           1668,
           "Wedding Bell Blues (1996)",
           1
          ],
          [
           1669,
           "MURDER and murder (1996)",
           1
          ],
          [
           1670,
           "Tainted (1998)",
           1
          ],
          [
           1671,
           "Further Gesture, A (1996)",
           1
          ],
          [
           1672,
           "Kika (1993)",
           2
          ],
          [
           1673,
           "Mirage (1995)",
           1
          ],
          [
           1674,
           "Mamma Roma (1962)",
           1
          ],
          [
           1675,
           "Sunchaser, The (1996)",
           1
          ],
          [
           1676,
           "War at Home, The (1996)",
           1
          ],
          [
           1677,
           "Sweet Nothing (1995)",
           1
          ],
          [
           1678,
           "Mat' i syn (1997)",
           1
          ],
          [
           1679,
           "B. Monkey (1998)",
           1
          ],
          [
           1680,
           "Sliding Doors (1998)",
           1
          ],
          [
           1681,
           "You So Crazy (1994)",
           1
          ],
          [
           1682,
           "Scream of Stone (Schrei aus Stein) (1991)",
           1
          ]
         ],
         "hovertemplate": "tsne_1=%{x}<br>tsne_2=%{y}<br>item_id=%{customdata[0]}<br>title=%{customdata[1]}<br>popularity=%{marker.color}<extra></extra>",
         "legendgroup": "",
         "marker": {
          "color": [
           452,
           131,
           90,
           209,
           86,
           26,
           392,
           219,
           299,
           89,
           236,
           267,
           184,
           183,
           293,
           39,
           92,
           10,
           69,
           72,
           84,
           297,
           182,
           174,
           293,
           73,
           57,
           276,
           114,
           37,
           154,
           81,
           97,
           7,
           11,
           13,
           8,
           120,
           87,
           57,
           37,
           148,
           40,
           79,
           80,
           27,
           133,
           117,
           81,
           583,
           81,
           91,
           128,
           104,
           149,
           394,
           40,
           175,
           83,
           64,
           59,
           127,
           82,
           283,
           115,
           162,
           103,
           134,
           321,
           251,
           220,
           129,
           128,
           7,
           5,
           54,
           151,
           33,
           336,
           68,
           110,
           261,
           176,
           18,
           58,
           150,
           138,
           213,
           275,
           95,
           143,
           104,
           112,
           137,
           219,
           295,
           256,
           390,
           172,
           508,
           73,
           54,
           15,
           5,
           74,
           71,
           42,
           65,
           130,
           31,
           272,
           20,
           9,
           67,
           15,
           125,
           378,
           293,
           4,
           67,
           429,
           106,
           115,
           187,
           244,
           97,
           413,
           65,
           129,
           23,
           95,
           246,
           171,
           198,
           259,
           105,
           171,
           19,
           50,
           61,
           72,
           57,
           222,
           243,
           65,
           10,
           185,
           128,
           23,
           157,
           326,
           82,
           247,
           174,
           98,
           148,
           127,
           60,
           101,
           69,
           220,
           106,
           92,
           151,
           64,
           58,
           67,
           316,
           118,
           121,
           65,
           367,
           324,
           420,
           208,
           284,
           137,
           125,
           221,
           221,
           507,
           226,
           291,
           116,
           239,
           251,
           209,
           170,
           66,
           124,
           276,
           116,
           157,
           241,
           301,
           251,
           239,
           127,
           165,
           206,
           89,
           280,
           182,
           350,
           136,
           50,
           66,
           200,
           191,
           331,
           206,
           92,
           134,
           114,
           212,
           290,
           120,
           171,
           111,
           66,
           74,
           365,
           136,
           44,
           109,
           166,
           161,
           244,
           171,
           199,
           142,
           101,
           124,
           280,
           217,
           45,
           384,
           256,
           150,
           156,
           128,
           117,
           132,
           48,
           240,
           124,
           5,
           160,
           130,
           197,
           46,
           158,
           26,
           62,
           172,
           16,
           303,
           509,
           162,
           127,
           43,
           66,
           19,
           101,
           227,
           35,
           9,
           255,
           315,
           136,
           211,
           198,
           223,
           190,
           268,
           298,
           71,
           60,
           28,
           85,
           146,
           232,
           177,
           193,
           162,
           481,
           78,
           478,
           259,
           96,
           127,
           114,
           147,
           485,
           77,
           6,
           50,
           194,
           73,
           431,
           230,
           297,
           134,
           149,
           87,
           96,
           188,
           30,
           28,
           145,
           75,
           80,
           350,
           5,
           160,
           112,
           102,
           298,
           168,
           20,
           169,
           218,
           240,
           125,
           128,
           175,
           175,
           295,
           45,
           41,
           113,
           143,
           251,
           64,
           21,
           43,
           18,
           91,
           47,
           189,
           11,
           52,
           124,
           55,
           65,
           126,
           137,
           27,
           31,
           41,
           20,
           26,
           14,
           72,
           41,
           97,
           264,
           143,
           18,
           10,
           10,
           28,
           47,
           37,
           48,
           47,
           170,
           31,
           55,
           39,
           67,
           34,
           39,
           11,
           23,
           24,
           13,
           101,
           43,
           116,
           100,
           111,
           31,
           69,
           208,
           87,
           65,
           28,
           27,
           10,
           59,
           68,
           192,
           12,
           56,
           54,
           12,
           26,
           89,
           18,
           76,
           170,
           201,
           101,
           344,
           49,
           43,
           112,
           70,
           162,
           163,
           93,
           55,
           62,
           25,
           64,
           73,
           129,
           178,
           81,
           106,
           26,
           300,
           19,
           85,
           32,
           219,
           121,
           97,
           93,
           153,
           174,
           171,
           67,
           216,
           99,
           5,
           6,
           5,
           14,
           53,
           4,
           162,
           46,
           22,
           9,
           121,
           85,
           117,
           63,
           170,
           66,
           16,
           16,
           145,
           48,
           27,
           90,
           24,
           28,
           74,
           148,
           71,
           27,
           85,
           52,
           48,
           64,
           67,
           108,
           221,
           158,
           126,
           194,
           250,
           160,
           95,
           104,
           179,
           179,
           63,
           128,
           243,
           138,
           125,
           64,
           68,
           65,
           52,
           50,
           67,
           59,
           60,
           56,
           59,
           231,
           68,
           152,
           62,
           31,
           123,
           57,
           39,
           122,
           68,
           90,
           98,
           215,
           121,
           121,
           173,
           57,
           72,
           180,
           201,
           63,
           91,
           89,
           80,
           124,
           120,
           35,
           164,
           46,
           73,
           124,
           195,
           121,
           93,
           80,
           129,
           22,
           15,
           13,
           54,
           10,
           30,
           66,
           44,
           43,
           49,
           51,
           21,
           71,
           12,
           254,
           41,
           12,
           92,
           151,
           24,
           45,
           63,
           102,
           10,
           12,
           17,
           70,
           137,
           22,
           59,
           48,
           29,
           27,
           22,
           179,
           35,
           230,
           67,
           50,
           28,
           29,
           33,
           15,
           44,
           93,
           41,
           92,
           19,
           32,
           59,
           168,
           37,
           79,
           39,
           34,
           14,
           202,
           43,
           18,
           178,
           9,
           12,
           5,
           64,
           127,
           206,
           4,
           1,
           2,
           20,
           50,
           209,
           81,
           31,
           66,
           66,
           30,
           60,
           41,
           40,
           34,
           27,
           51,
           59,
           64,
           18,
           18,
           64,
           43,
           11,
           39,
           39,
           22,
           82,
           4,
           75,
           169,
           77,
           31,
           119,
           58,
           69,
           24,
           23,
           91,
           38,
           44,
           40,
           82,
           33,
           89,
           4,
           35,
           27,
           38,
           70,
           67,
           50,
           72,
           171,
           90,
           34,
           147,
           227,
           44,
           131,
           79,
           115,
           153,
           88,
           82,
           116,
           46,
           100,
           5,
           12,
           6,
           13,
           36,
           46,
           65,
           86,
           48,
           54,
           77,
           1,
           219,
           107,
           34,
           27,
           100,
           49,
           169,
           157,
           50,
           69,
           44,
           87,
           155,
           16,
           164,
           91,
           44,
           13,
           79,
           40,
           10,
           102,
           15,
           10,
           53,
           19,
           24,
           137,
           6,
           70,
           101,
           104,
           79,
           1,
           51,
           72,
           13,
           87,
           58,
           82,
           16,
           29,
           86,
           54,
           58,
           34,
           76,
           16,
           14,
           63,
           45,
           81,
           24,
           39,
           180,
           15,
           27,
           137,
           78,
           59,
           31,
           164,
           63,
           58,
           267,
           39,
           92,
           16,
           119,
           102,
           316,
           51,
           124,
           180,
           39,
           24,
           57,
           96,
           128,
           4,
           21,
           11,
           46,
           44,
           115,
           149,
           29,
           32,
           9,
           11,
           52,
           42,
           57,
           41,
           49,
           17,
           32,
           26,
           9,
           4,
           76,
           31,
           69,
           84,
           10,
           37,
           2,
           39,
           14,
           13,
           3,
           47,
           66,
           10,
           86,
           10,
           46,
           21,
           36,
           31,
           9,
           5,
           26,
           16,
           40,
           9,
           8,
           27,
           50,
           9,
           31,
           43,
           45,
           18,
           18,
           56,
           1,
           112,
           21,
           3,
           25,
           40,
           93,
           22,
           4,
           82,
           49,
           83,
           80,
           57,
           13,
           34,
           1,
           91,
           22,
           49,
           25,
           15,
           26,
           25,
           4,
           4,
           53,
           48,
           27,
           30,
           42,
           176,
           44,
           55,
           9,
           53,
           4,
           4,
           1,
           14,
           16,
           66,
           36,
           1,
           3,
           15,
           16,
           3,
           18,
           24,
           86,
           21,
           119,
           6,
           5,
           24,
           9,
           75,
           42,
           81,
           39,
           53,
           47,
           52,
           33,
           136,
           59,
           45,
           34,
           13,
           7,
           13,
           53,
           64,
           15,
           13,
           43,
           6,
           53,
           14,
           19,
           106,
           44,
           2,
           58,
           9,
           42,
           12,
           42,
           18,
           20,
           27,
           21,
           2,
           20,
           13,
           4,
           4,
           9,
           2,
           11,
           13,
           18,
           7,
           8,
           96,
           5,
           46,
           34,
           58,
           85,
           34,
           101,
           6,
           104,
           40,
           80,
           57,
           40,
           21,
           68,
           7,
           32,
           37,
           25,
           60,
           32,
           46,
           45,
           40,
           43,
           40,
           61,
           17,
           48,
           71,
           30,
           39,
           45,
           22,
           11,
           49,
           46,
           2,
           14,
           64,
           25,
           34,
           23,
           41,
           9,
           21,
           26,
           12,
           18,
           75,
           8,
           34,
           28,
           4,
           32,
           44,
           12,
           49,
           27,
           35,
           22,
           8,
           20,
           15,
           44,
           22,
           23,
           4,
           86,
           32,
           33,
           25,
           4,
           66,
           7,
           31,
           14,
           16,
           16,
           10,
           10,
           17,
           8,
           8,
           9,
           22,
           23,
           47,
           37,
           64,
           44,
           93,
           100,
           38,
           98,
           12,
           137,
           50,
           32,
           31,
           35,
           38,
           32,
           31,
           15,
           44,
           4,
           3,
           148,
           14,
           20,
           7,
           16,
           32,
           27,
           68,
           24,
           24,
           17,
           90,
           25,
           62,
           28,
           8,
           40,
           25,
           46,
           134,
           73,
           25,
           43,
           41,
           25,
           24,
           23,
           10,
           10,
           22,
           15,
           35,
           39,
           29,
           12,
           41,
           4,
           53,
           16,
           44,
           12,
           18,
           27,
           16,
           7,
           66,
           77,
           7,
           12,
           8,
           22,
           45,
           2,
           8,
           8,
           6,
           21,
           11,
           21,
           10,
           13,
           38,
           37,
           43,
           12,
           23,
           12,
           29,
           3,
           18,
           42,
           13,
           8,
           74,
           7,
           19,
           4,
           18,
           4,
           18,
           5,
           28,
           41,
           7,
           15,
           22,
           10,
           29,
           13,
           19,
           47,
           59,
           17,
           21,
           1,
           3,
           12,
           4,
           32,
           11,
           13,
           28,
           1,
           13,
           32,
           30,
           38,
           46,
           29,
           29,
           5,
           33,
           17,
           9,
           44,
           15,
           3,
           9,
           3,
           21,
           9,
           26,
           9,
           7,
           28,
           19,
           12,
           3,
           1,
           25,
           4,
           11,
           26,
           13,
           5,
           25,
           6,
           14,
           12,
           11,
           22,
           10,
           27,
           14,
           15,
           7,
           8,
           5,
           22,
           7,
           19,
           9,
           10,
           10,
           13,
           19,
           10,
           18,
           3,
           13,
           44,
           3,
           11,
           3,
           13,
           10,
           31,
           11,
           3,
           45,
           7,
           23,
           7,
           1,
           8,
           21,
           18,
           6,
           19,
           17,
           20,
           15,
           38,
           12,
           6,
           6,
           9,
           30,
           6,
           39,
           26,
           20,
           30,
           39,
           25,
           4,
           12,
           14,
           32,
           8,
           48,
           13,
           18,
           22,
           17,
           6,
           8,
           1,
           1,
           6,
           8,
           18,
           26,
           6,
           5,
           7,
           36,
           19,
           7,
           6,
           19,
           12,
           6,
           8,
           9,
           7,
           11,
           8,
           3,
           4,
           23,
           4,
           4,
           4,
           8,
           15,
           7,
           19,
           12,
           33,
           10,
           10,
           7,
           7,
           5,
           15,
           11,
           4,
           8,
           19,
           16,
           9,
           16,
           13,
           9,
           19,
           26,
           15,
           17,
           6,
           7,
           7,
           2,
           15,
           3,
           3,
           7,
           7,
           20,
           12,
           9,
           8,
           9,
           5,
           5,
           18,
           2,
           7,
           2,
           2,
           2,
           1,
           1,
           16,
           7,
           14,
           11,
           23,
           7,
           4,
           3,
           4,
           1,
           2,
           6,
           3,
           5,
           1,
           6,
           3,
           6,
           1,
           4,
           4,
           2,
           5,
           2,
           11,
           10,
           9,
           4,
           1,
           1,
           1,
           2,
           1,
           5,
           2,
           5,
           4,
           1,
           1,
           2,
           3,
           1,
           5,
           2,
           6,
           3,
           3,
           2,
           2,
           2,
           3,
           2,
           1,
           1,
           2,
           1,
           5,
           6,
           4,
           3,
           2,
           3,
           1,
           2,
           10,
           7,
           4,
           5,
           7,
           6,
           8,
           4,
           6,
           3,
           5,
           6,
           3,
           6,
           3,
           2,
           3,
           5,
           9,
           7,
           6,
           5,
           5,
           2,
           7,
           10,
           18,
           4,
           4,
           13,
           6,
           5,
           20,
           3,
           7,
           4,
           28,
           6,
           8,
           1,
           9,
           5,
           2,
           3,
           16,
           3,
           11,
           4,
           4,
           3,
           10,
           8,
           5,
           12,
           4,
           3,
           5,
           3,
           2,
           10,
           7,
           2,
           9,
           5,
           8,
           5,
           7,
           5,
           4,
           19,
           4,
           15,
           1,
           3,
           8,
           2,
           15,
           1,
           1,
           6,
           2,
           7,
           1,
           1,
           7,
           1,
           1,
           7,
           3,
           3,
           3,
           6,
           2,
           6,
           12,
           5,
           9,
           2,
           9,
           6,
           8,
           1,
           2,
           18,
           8,
           11,
           2,
           1,
           12,
           3,
           4,
           1,
           5,
           4,
           5,
           3,
           2,
           1,
           1,
           1,
           5,
           5,
           2,
           1,
           4,
           2,
           5,
           2,
           10,
           3,
           1,
           3,
           1,
           3,
           5,
           1,
           5,
           6,
           3,
           7,
           1,
           3,
           5,
           12,
           2,
           1,
           4,
           7,
           2,
           8,
           1,
           1,
           7,
           3,
           5,
           5,
           7,
           2,
           1,
           6,
           4,
           1,
           4,
           3,
           4,
           10,
           2,
           2,
           1,
           3,
           4,
           1,
           2,
           1,
           2,
           2,
           2,
           3,
           4,
           2,
           5,
           2,
           1,
           7,
           1,
           4,
           1,
           1,
           1,
           1,
           1,
           1,
           1,
           1,
           1,
           1,
           1,
           1,
           2,
           1,
           1,
           1,
           1,
           2,
           1,
           1,
           1,
           1,
           1,
           1,
           2,
           1,
           1,
           2,
           4,
           2,
           6,
           5,
           1,
           2,
           1,
           1,
           5,
           6,
           1,
           4,
           1,
           3,
           1,
           1,
           4,
           1,
           3,
           4,
           3,
           3,
           2,
           4,
           1,
           1,
           10,
           1,
           2,
           1,
           1,
           9,
           1,
           3,
           3,
           1,
           1,
           1,
           1,
           4,
           2,
           1,
           2,
           1,
           1,
           1,
           1,
           1,
           1,
           1,
           3,
           1,
           1,
           2,
           4,
           2,
           1,
           2,
           1,
           1,
           1,
           1,
           1,
           3,
           1,
           1,
           1,
           2,
           1,
           3,
           1,
           1,
           1,
           2,
           1,
           4,
           1,
           1,
           1,
           1,
           1,
           1,
           1,
           2,
           1,
           1,
           1,
           1,
           1,
           1,
           1,
           1,
           1,
           1
          ],
          "coloraxis": "coloraxis",
          "symbol": "circle"
         },
         "mode": "markers",
         "name": "",
         "showlegend": false,
         "type": "scattergl",
         "x": [
          1.8017081022262573,
          7.434559345245361,
          13.461918830871582,
          -19.37884521484375,
          6.424224376678467,
          -23.441431045532227,
          -13.488368034362793,
          -24.25054168701172,
          -28.12904930114746,
          -20.83980941772461,
          -20.419462203979492,
          -33.07276916503906,
          -14.339156150817871,
          -18.115062713623047,
          1.1745833158493042,
          -15.970104217529297,
          13.290206909179688,
          -8.211959838867188,
          -27.2470760345459,
          -16.64476203918457,
          16.99542236328125,
          2.6849582195281982,
          -22.066192626953125,
          9.921002388000488,
          -1.0706576108932495,
          -1.3039640188217163,
          0.6097599267959595,
          -6.406991481781006,
          23.780664443969727,
          -14.986746788024902,
          0.9126365780830383,
          -21.06243324279785,
          12.510766983032227,
          1.9319502115249634,
          33.74751281738281,
          18.448110580444336,
          -4.18013858795166,
          6.544862747192383,
          -13.627008438110352,
          -5.1459059715271,
          10.980162620544434,
          -31.366226196289062,
          19.810548782348633,
          -23.171289443969727,
          -28.519079208374023,
          -20.477890014648438,
          -12.168764114379883,
          -27.683298110961914,
          -8.066664695739746,
          4.089718818664551,
          0.732342541217804,
          -29.10056495666504,
          -7.090138912200928,
          7.247562408447266,
          -32.2066535949707,
          -30.028133392333984,
          -23.613651275634766,
          -16.397119522094727,
          -24.587024688720703,
          -24.639211654663086,
          -23.9882755279541,
          8.729723930358887,
          3.66668438911438,
          -33.43262481689453,
          -21.51634979248047,
          5.19993782043457,
          14.756379127502441,
          10.332015991210938,
          -25.173601150512695,
          -6.087786674499512,
          -1.6403652429580688,
          6.140441417694092,
          5.90093994140625,
          2.2118289470672607,
          -8.203303337097168,
          2.6218435764312744,
          11.72630786895752,
          10.210647583007812,
          3.648505449295044,
          12.448171615600586,
          -4.60154914855957,
          7.218949317932129,
          -26.20301055908203,
          -2.6670148372650146,
          17.64601707458496,
          -21.191389083862305,
          -2.780547618865967,
          4.845888137817383,
          -29.52657127380371,
          9.345778465270996,
          -15.087163925170898,
          -9.819406509399414,
          -8.822078704833984,
          12.36458683013916,
          2.884749412536621,
          4.282227993011475,
          -24.40420150756836,
          -24.719690322875977,
          -22.224483489990234,
          -32.516639709472656,
          4.6225481033325195,
          -0.9685620069503784,
          33.76640319824219,
          36.1688117980957,
          23.639789581298828,
          7.716159820556641,
          -24.34585189819336,
          -10.200501441955566,
          -7.5635857582092285,
          19.4043025970459,
          -5.529849529266357,
          14.455011367797852,
          -28.19318199157715,
          -22.440731048583984,
          -2.387141227722168,
          -30.112985610961914,
          2.762254238128662,
          4.649782657623291,
          -28.345115661621094,
          18.5648136138916,
          4.257624626159668,
          8.430863380432129,
          10.081389427185059,
          -29.22575569152832,
          5.94419002532959,
          -7.690684795379639,
          -29.09102439880371,
          9.865734100341797,
          8.42592716217041,
          25.7131290435791,
          -21.881784439086914,
          -22.816808700561523,
          -22.918821334838867,
          -24.300975799560547,
          -29.523818969726562,
          -25.291969299316406,
          -18.31331443786621,
          11.728309631347656,
          6.006968975067139,
          1.9541875123977661,
          -21.33252716064453,
          -1.151076078414917,
          -5.033934593200684,
          -18.1268253326416,
          15.484726905822754,
          -4.308082580566406,
          8.104193687438965,
          6.313853740692139,
          -0.19376562535762787,
          -23.1931095123291,
          -14.512494087219238,
          -17.958377838134766,
          -10.49179458618164,
          -12.520476341247559,
          5.928232192993164,
          -31.272523880004883,
          -16.771455764770508,
          7.013925075531006,
          0.6628504395484924,
          -8.652251243591309,
          3.1921424865722656,
          -19.17519760131836,
          1.216763973236084,
          0.7451409697532654,
          -28.171567916870117,
          -24.55158042907715,
          5.908552646636963,
          -19.067296981811523,
          -32.31199264526367,
          -26.766054153442383,
          -30.59849739074707,
          4.291049957275391,
          5.8308820724487305,
          4.676457405090332,
          -19.32121467590332,
          -18.28004264831543,
          -20.26344871520996,
          -27.563678741455078,
          -18.098806381225586,
          -30.7785587310791,
          4.154175281524658,
          -18.859289169311523,
          -16.84334373474121,
          8.969602584838867,
          -26.441082000732422,
          6.350800514221191,
          -27.717050552368164,
          -18.851612091064453,
          -25.758750915527344,
          -26.066761016845703,
          -32.05242919921875,
          -17.573577880859375,
          -19.805706024169922,
          -23.188785552978516,
          4.719577312469482,
          -29.02634620666504,
          -24.987934112548828,
          -29.76182746887207,
          -23.290613174438477,
          -12.41344928741455,
          -17.143047332763672,
          4.028254508972168,
          -23.235105514526367,
          2.592974901199341,
          -19.048391342163086,
          -18.034791946411133,
          -28.703201293945312,
          -18.723814010620117,
          -23.94599723815918,
          2.6663475036621094,
          -19.6435489654541,
          -19.955387115478516,
          -27.778554916381836,
          -5.642439842224121,
          -26.036102294921875,
          -5.84861421585083,
          14.244124412536621,
          8.46471881866455,
          8.880788803100586,
          -1.3181440830230713,
          -30.096237182617188,
          5.709844589233398,
          -24.498310089111328,
          -27.334484100341797,
          8.617919921875,
          9.813475608825684,
          6.6033220291137695,
          5.21977424621582,
          9.19672679901123,
          5.773510932922363,
          26.42986297607422,
          7.829885482788086,
          19.034198760986328,
          -19.587156295776367,
          -8.09402847290039,
          -23.260169982910156,
          2.809797525405884,
          -13.172712326049805,
          7.453334331512451,
          8.66765022277832,
          -8.34854507446289,
          -19.720258712768555,
          13.109588623046875,
          -6.56928825378418,
          -1.026037573814392,
          -33.96786117553711,
          17.73479652404785,
          -28.126256942749023,
          6.610696792602539,
          -13.36433219909668,
          -24.872411727905273,
          19.52752685546875,
          -23.724952697753906,
          19.822917938232422,
          2.760948896408081,
          -16.47931671142578,
          2.724552869796753,
          -1.3236852884292603,
          14.20129680633545,
          17.837095260620117,
          20.075551986694336,
          -14.728690147399902,
          31.026748657226562,
          0.7925931811332703,
          2.206869125366211,
          -18.363204956054688,
          -7.178112030029297,
          -33.9868278503418,
          -32.68950271606445,
          4.8130106925964355,
          2.1422536373138428,
          -35.611534118652344,
          -10.386066436767578,
          4.5550856590271,
          -32.2068977355957,
          -12.248208045959473,
          -3.501857042312622,
          3.448737144470215,
          4.510174751281738,
          5.123597621917725,
          -1.4468939304351807,
          3.58231258392334,
          -21.41656494140625,
          -0.006966668181121349,
          -28.768327713012695,
          -32.34210205078125,
          -6.837294578552246,
          1.5498523712158203,
          0.25042539834976196,
          9.205435752868652,
          -0.70218825340271,
          -18.904237747192383,
          -21.21251106262207,
          9.49424934387207,
          1.4281615018844604,
          15.999311447143555,
          -21.60545539855957,
          -11.687641143798828,
          -3.7175240516662598,
          3.706448793411255,
          -3.383277654647827,
          -33.362281799316406,
          -17.368541717529297,
          0.6351056098937988,
          -15.487564086914062,
          -28.214725494384766,
          0.03598135709762573,
          -17.450937271118164,
          -2.851985216140747,
          -2.454838752746582,
          -30.46360969543457,
          -16.626522064208984,
          3.779893398284912,
          39.982887268066406,
          -35.72151184082031,
          -35.7142333984375,
          -32.49714660644531,
          -32.09785079956055,
          -18.477210998535156,
          6.986017227172852,
          -6.86973762512207,
          4.373044490814209,
          15.305596351623535,
          -9.883196830749512,
          17.10991668701172,
          4.8804612159729,
          -35.75863265991211,
          -0.5308143496513367,
          13.078118324279785,
          -12.276824951171875,
          -1.2144055366516113,
          -2.5159525871276855,
          -0.35180866718292236,
          -15.849150657653809,
          -6.125632286071777,
          15.51391887664795,
          -21.776872634887695,
          16.557889938354492,
          -12.046525001525879,
          -32.7426872253418,
          -15.551336288452148,
          12.662519454956055,
          -11.244318008422852,
          -16.211944580078125,
          -14.973209381103516,
          -35.50218963623047,
          -16.803525924682617,
          12.432137489318848,
          10.385018348693848,
          -20.233922958374023,
          12.772174835205078,
          26.26568603515625,
          21.703575134277344,
          6.403931617736816,
          10.894389152526855,
          4.7189435958862305,
          -27.26127815246582,
          16.238380432128906,
          -18.819053649902344,
          -23.86105728149414,
          -10.15112018585205,
          4.253907203674316,
          17.37894058227539,
          15.78868293762207,
          4.985900402069092,
          6.393768310546875,
          -11.482609748840332,
          9.538240432739258,
          18.33946418762207,
          10.233915328979492,
          -11.364781379699707,
          -17.086929321289062,
          23.026247024536133,
          14.654324531555176,
          26.455530166625977,
          9.528716087341309,
          14.553910255432129,
          -1.4449734687805176,
          -13.83842658996582,
          6.153518199920654,
          -11.528264999389648,
          -28.341646194458008,
          24.6563777923584,
          15.31760025024414,
          3.114637613296509,
          15.526374816894531,
          -13.950578689575195,
          26.713647842407227,
          5.733778476715088,
          -5.591373920440674,
          11.314587593078613,
          1.000208854675293,
          3.63057279586792,
          5.541779518127441,
          25.751480102539062,
          -10.066080093383789,
          22.902130126953125,
          21.8814640045166,
          0.17224891483783722,
          14.338444709777832,
          -2.4095330238342285,
          4.658474922180176,
          16.510923385620117,
          -21.069690704345703,
          3.559502601623535,
          13.64127254486084,
          20.212961196899414,
          -32.247894287109375,
          1.5768170356750488,
          12.458205223083496,
          20.005329132080078,
          26.579864501953125,
          4.297664642333984,
          -15.353569984436035,
          1.545411467552185,
          0.7069107294082642,
          -2.773772716522217,
          -5.0561604499816895,
          -23.226011276245117,
          -10.869078636169434,
          -3.113079309463501,
          7.4477643966674805,
          -22.334009170532227,
          33.07857894897461,
          -18.63258171081543,
          -10.457456588745117,
          -28.441347122192383,
          -26.071834564208984,
          -21.424837112426758,
          -16.806760787963867,
          4.268476486206055,
          -19.777524948120117,
          -7.083126544952393,
          -21.754375457763672,
          -25.40186882019043,
          -10.747014045715332,
          36.48937225341797,
          34.824195861816406,
          37.910194396972656,
          33.17091369628906,
          15.059284210205078,
          25.92997932434082,
          -25.6776065826416,
          -3.802187442779541,
          6.760982513427734,
          0.23803767561912537,
          -1.9637579917907715,
          7.495885372161865,
          2.1317098140716553,
          28.826412200927734,
          7.969661712646484,
          14.999265670776367,
          23.690095901489258,
          11.592694282531738,
          9.972557067871094,
          17.794496536254883,
          18.910120010375977,
          -9.399084091186523,
          -17.612388610839844,
          -7.977696418762207,
          -14.0147705078125,
          -25.148386001586914,
          -27.829450607299805,
          -13.670829772949219,
          -5.450808048248291,
          -25.576204299926758,
          -22.490869522094727,
          5.515953540802002,
          -15.209033966064453,
          -0.30178216099739075,
          -6.580352783203125,
          4.0809431076049805,
          -8.242268562316895,
          -22.306556701660156,
          -12.20665168762207,
          2.0038199424743652,
          -12.062491416931152,
          -25.33724021911621,
          -26.521757125854492,
          -30.748544692993164,
          -17.032873153686523,
          -16.22651481628418,
          -28.6269474029541,
          -24.293033599853516,
          -12.818544387817383,
          1.1565806865692139,
          -27.523481369018555,
          -20.030826568603516,
          -27.671175003051758,
          -26.235225677490234,
          -19.906347274780273,
          -20.735971450805664,
          -25.68025779724121,
          -20.96856117248535,
          -22.476675033569336,
          -25.14231300354004,
          -21.467018127441406,
          -21.081344604492188,
          -24.24081039428711,
          -1.8142553567886353,
          -21.064876556396484,
          7.725692272186279,
          -24.357261657714844,
          -21.070026397705078,
          -22.773752212524414,
          -23.32925796508789,
          -15.535425186157227,
          -11.793778419494629,
          -26.240530014038086,
          -13.65403938293457,
          -27.762060165405273,
          -26.39655876159668,
          -28.703351974487305,
          -15.241250038146973,
          -31.8670654296875,
          -15.053189277648926,
          -15.264922142028809,
          -31.663667678833008,
          -24.40436553955078,
          -25.511754989624023,
          -16.596296310424805,
          -26.058210372924805,
          -25.596187591552734,
          -24.2614688873291,
          -23.95274543762207,
          -23.037668228149414,
          -23.765771865844727,
          -24.195327758789062,
          -27.931392669677734,
          -24.947494506835938,
          -25.61127281188965,
          -21.836002349853516,
          -21.684595108032227,
          -12.363510131835938,
          -0.8510460257530212,
          -17.739442825317383,
          -26.428836822509766,
          -13.693320274353027,
          12.89467716217041,
          2.589360237121582,
          7.4784836769104,
          21.166486740112305,
          -19.86501121520996,
          -31.351381301879883,
          26.860057830810547,
          9.590228080749512,
          -29.9278564453125,
          25.2694149017334,
          -15.62976360321045,
          9.058198928833008,
          10.38564682006836,
          14.365312576293945,
          -0.15709255635738373,
          9.656929969787598,
          28.66792869567871,
          0.23259425163269043,
          -19.71784782409668,
          -12.37884521484375,
          13.05294418334961,
          14.284180641174316,
          15.874122619628906,
          -8.84676456451416,
          10.182714462280273,
          18.05168342590332,
          17.504751205444336,
          7.813024520874023,
          14.345992088317871,
          2.4936680793762207,
          17.224905014038086,
          -2.873246192932129,
          25.12090492248535,
          -3.951417922973633,
          12.7459135055542,
          17.519956588745117,
          25.955589294433594,
          9.955255508422852,
          35.580745697021484,
          6.7754645347595215,
          1.9596389532089233,
          -20.046798706054688,
          -9.774638175964355,
          -20.595300674438477,
          -7.1408820152282715,
          -15.207751274108887,
          19.733915328979492,
          18.113170623779297,
          -26.218854904174805,
          0.9967411756515503,
          -19.82011604309082,
          29.80238914489746,
          2.698348045349121,
          -3.453397035598755,
          -15.891395568847656,
          3.127619981765747,
          4.269170761108398,
          2.3405158519744873,
          21.784582138061523,
          3.704603910446167,
          40.37809371948242,
          4.770012855529785,
          -7.7130632400512695,
          -23.265674591064453,
          -30.7955322265625,
          -18.62215805053711,
          -8.895706176757812,
          -19.881175994873047,
          -19.213735580444336,
          -26.31265640258789,
          -21.18662452697754,
          -14.383133888244629,
          -17.586750030517578,
          -21.021564483642578,
          -20.345998764038086,
          -8.795697212219238,
          -28.708417892456055,
          -6.2259521484375,
          -13.44556999206543,
          -15.760333061218262,
          -3.484781265258789,
          13.898378372192383,
          4.689511299133301,
          -2.3981330394744873,
          8.888310432434082,
          5.740428447723389,
          -4.752295017242432,
          -16.476457595825195,
          2.82883358001709,
          3.4277560710906982,
          7.301548480987549,
          6.3781280517578125,
          -17.92279815673828,
          -23.77378273010254,
          -19.738704681396484,
          -1.0575193166732788,
          -8.79606819152832,
          6.033511638641357,
          -3.0354130268096924,
          -25.27170181274414,
          -18.200496673583984,
          -8.422428131103516,
          -21.184572219848633,
          -13.619582176208496,
          -9.436115264892578,
          -21.005950927734375,
          -21.770950317382812,
          -20.055757522583008,
          -21.139938354492188,
          -19.745880126953125,
          -19.07201385498047,
          -26.08782196044922,
          -24.836851119995117,
          -35.429988861083984,
          -22.20036506652832,
          -18.906436920166016,
          -23.851381301879883,
          -20.022668838500977,
          -29.4472599029541,
          0.7181473970413208,
          -28.562679290771484,
          -12.256782531738281,
          -27.4376220703125,
          -0.4951035678386688,
          -14.953348159790039,
          -14.680624008178711,
          -9.183188438415527,
          20.51293182373047,
          15.045354843139648,
          -4.494119167327881,
          29.093517303466797,
          8.346429824829102,
          -18.57112693786621,
          -5.386041164398193,
          5.139325141906738,
          11.636298179626465,
          -19.669830322265625,
          -25.069108963012695,
          51.00212478637695,
          14.392426490783691,
          4.657138824462891,
          -18.140830993652344,
          16.129701614379883,
          1.2239049673080444,
          -2.976538896560669,
          -0.8786928653717041,
          1.7997156381607056,
          6.301416873931885,
          17.015228271484375,
          23.323673248291016,
          9.792613983154297,
          -2.4994962215423584,
          6.168234825134277,
          5.038322448730469,
          -11.377876281738281,
          -26.951255798339844,
          7.133023738861084,
          -5.349425792694092,
          -8.2647705078125,
          -16.593732833862305,
          -8.948246002197266,
          11.790698051452637,
          -28.028034210205078,
          9.991623878479004,
          -10.408823013305664,
          16.547611236572266,
          -27.504812240600586,
          6.401294231414795,
          -18.4180965423584,
          -19.87753677368164,
          -21.844928741455078,
          7.167374134063721,
          51.8106575012207,
          -8.530919075012207,
          -25.759672164916992,
          -11.983244895935059,
          -18.147911071777344,
          -1.2000218629837036,
          0.36852824687957764,
          -22.81454849243164,
          21.276826858520508,
          5.762307643890381,
          10.4232759475708,
          -2.0869011878967285,
          -0.03170311450958252,
          -5.527425765991211,
          17.65097999572754,
          9.20186710357666,
          -10.177985191345215,
          22.83479881286621,
          1.2283536195755005,
          -27.768217086791992,
          8.586118698120117,
          3.1302292346954346,
          -16.815061569213867,
          9.527447700500488,
          -8.039238929748535,
          -26.18186378479004,
          3.3594584465026855,
          18.09769058227539,
          4.344549655914307,
          -14.81023120880127,
          -10.67439079284668,
          3.088776111602783,
          26.70294761657715,
          -24.44512176513672,
          -15.380810737609863,
          -8.344175338745117,
          -0.8206294178962708,
          14.520684242248535,
          -4.143947124481201,
          -31.551340103149414,
          -2.300140857696533,
          11.75521183013916,
          -23.379318237304688,
          -11.319767951965332,
          9.373897552490234,
          10.171104431152344,
          -4.498476505279541,
          26.9064884185791,
          16.692195892333984,
          14.789348602294922,
          -8.052092552185059,
          12.447955131530762,
          11.706089973449707,
          -3.5606935024261475,
          -12.79415225982666,
          -17.50716209411621,
          -6.9871745109558105,
          22.66118621826172,
          14.637979507446289,
          -16.735408782958984,
          19.04533576965332,
          -12.750832557678223,
          0.168790802359581,
          7.721909523010254,
          19.556915283203125,
          -3.5587058067321777,
          21.4575252532959,
          -12.586881637573242,
          17.47319221496582,
          -5.368178844451904,
          5.255777835845947,
          -5.246242046356201,
          19.164974212646484,
          53.78589630126953,
          -3.9813263416290283,
          12.250686645507812,
          6.466947078704834,
          52.933345794677734,
          -23.384918212890625,
          -9.257929801940918,
          28.890506744384766,
          -14.883722305297852,
          -7.9695024490356445,
          2.068967580795288,
          22.654706954956055,
          10.533895492553711,
          11.960779190063477,
          24.213138580322266,
          -14.437509536743164,
          -1.0677193403244019,
          -1.031362533569336,
          17.456390380859375,
          3.0340006351470947,
          11.886310577392578,
          -21.428760528564453,
          -23.394319534301758,
          -3.228780746459961,
          16.490131378173828,
          12.114139556884766,
          -1.017327070236206,
          -23.4995059967041,
          0.5341100096702576,
          -30.2222957611084,
          54.078548431396484,
          22.80524253845215,
          16.941831588745117,
          20.253887176513672,
          -7.227728843688965,
          11.168134689331055,
          13.609931945800781,
          6.6392436027526855,
          -6.36151123046875,
          9.142899513244629,
          1.1424332857131958,
          7.006163120269775,
          11.014216423034668,
          11.653801918029785,
          10.688788414001465,
          12.045662879943848,
          41.19436264038086,
          28.810211181640625,
          1.7656670808792114,
          -2.975400686264038,
          18.08168601989746,
          -22.38745880126953,
          -20.497713088989258,
          -26.294384002685547,
          24.954547882080078,
          40.87797546386719,
          11.253140449523926,
          16.843379974365234,
          -14.005266189575195,
          4.6717848777771,
          -12.292616844177246,
          -3.1257050037384033,
          9.547708511352539,
          -14.54621410369873,
          -16.45245361328125,
          8.901594161987305,
          -23.714412689208984,
          -22.163528442382812,
          41.12696838378906,
          -11.88276195526123,
          -11.780014038085938,
          -24.5490779876709,
          -21.932863235473633,
          22.737390518188477,
          38.480506896972656,
          15.674416542053223,
          6.531016826629639,
          -4.944719314575195,
          23.444684982299805,
          -22.51555824279785,
          1.828132152557373,
          -16.546653747558594,
          5.246883392333984,
          -15.908293724060059,
          -23.621360778808594,
          7.749228477478027,
          4.364111423492432,
          16.97368049621582,
          -10.446255683898926,
          11.62644100189209,
          -16.86090850830078,
          12.843823432922363,
          3.4046924114227295,
          21.331140518188477,
          5.1794281005859375,
          -1.7709935903549194,
          -0.5387822985649109,
          3.4028079509735107,
          -21.987215042114258,
          -25.148298263549805,
          -20.037750244140625,
          21.148305892944336,
          -31.093896865844727,
          -19.639745712280273,
          -18.88901710510254,
          -30.715667724609375,
          28.73072052001953,
          -5.997941493988037,
          8.04443645477295,
          -1.400290608406067,
          32.173770904541016,
          1.2133163213729858,
          -15.117422103881836,
          23.946273803710938,
          -31.777942657470703,
          -29.700292587280273,
          -12.706941604614258,
          28.07411003112793,
          -26.736148834228516,
          0.18225625157356262,
          -29.415904998779297,
          -6.948333740234375,
          -14.209063529968262,
          23.812801361083984,
          -20.394559860229492,
          -25.7535343170166,
          24.337587356567383,
          23.368148803710938,
          -8.01824951171875,
          40.51679611206055,
          -13.741734504699707,
          -17.008010864257812,
          -11.135292053222656,
          -0.06382486969232559,
          6.562489986419678,
          -27.064180374145508,
          -18.69892692565918,
          -24.26580047607422,
          -20.003522872924805,
          -24.51911735534668,
          -4.1148295402526855,
          4.779103755950928,
          21.756465911865234,
          34.91658020019531,
          9.183945655822754,
          -4.943342685699463,
          18.757143020629883,
          23.294404983520508,
          22.149324417114258,
          1.7768959999084473,
          12.223883628845215,
          -9.820728302001953,
          -9.266653060913086,
          -10.329957008361816,
          -2.6863033771514893,
          -9.121984481811523,
          20.26101303100586,
          2.704667568206787,
          -27.38067054748535,
          -11.207878112792969,
          17.649499893188477,
          -6.7902092933654785,
          -4.459469795227051,
          -21.93061637878418,
          21.004667282104492,
          0.09102470427751541,
          0.4740146994590759,
          -4.079677581787109,
          11.849090576171875,
          -12.211064338684082,
          -3.539886474609375,
          -22.81299591064453,
          -15.290878295898438,
          -1.1475883722305298,
          -25.811784744262695,
          -21.78171157836914,
          -14.804811477661133,
          -18.023881912231445,
          -5.255591869354248,
          -26.376962661743164,
          -19.533472061157227,
          -20.74103546142578,
          -0.2086419314146042,
          -3.427065134048462,
          -11.921175956726074,
          -24.572416305541992,
          -15.809039115905762,
          -22.338598251342773,
          -19.5662899017334,
          -5.8648457527160645,
          13.295394897460938,
          3.5140485763549805,
          30.362512588500977,
          16.051721572875977,
          -6.265757083892822,
          -4.491951942443848,
          -8.192391395568848,
          18.85103416442871,
          17.080659866333008,
          8.776543617248535,
          12.462093353271484,
          -16.086374282836914,
          16.496618270874023,
          30.668922424316406,
          12.305695533752441,
          -4.205495834350586,
          -17.16214370727539,
          0.7528720498085022,
          21.828914642333984,
          0.679764986038208,
          -6.73418664932251,
          -13.78519344329834,
          12.62686824798584,
          19.220874786376953,
          14.371272087097168,
          6.956028938293457,
          12.78569221496582,
          31.82339859008789,
          18.585651397705078,
          15.965532302856445,
          0.17797096073627472,
          -13.269143104553223,
          -11.289841651916504,
          -3.031547784805298,
          -19.11177635192871,
          -12.458168983459473,
          -9.40700626373291,
          -12.099419593811035,
          -8.608293533325195,
          14.403193473815918,
          9.974967002868652,
          -7.140285015106201,
          10.398065567016602,
          -5.123356342315674,
          -6.570566654205322,
          -16.68818473815918,
          -20.637874603271484,
          -21.679893493652344,
          -7.967520236968994,
          7.80975341796875,
          -17.122089385986328,
          -3.434723377227783,
          -20.626468658447266,
          36.015892028808594,
          10.973739624023438,
          27.348844528198242,
          15.355803489685059,
          17.67690086364746,
          16.27924156188965,
          6.245464324951172,
          26.180423736572266,
          2.0943145751953125,
          15.175789833068848,
          33.2419548034668,
          -15.223310470581055,
          -26.71895408630371,
          15.379867553710938,
          10.004433631896973,
          -11.116719245910645,
          -4.169766902923584,
          -7.513007164001465,
          -6.987185955047607,
          -1.4559600353240967,
          18.06145477294922,
          -0.5811576247215271,
          10.145991325378418,
          -16.40771484375,
          -0.43333202600479126,
          20.802379608154297,
          6.7781596183776855,
          20.757158279418945,
          1.180403709411621,
          -19.90412712097168,
          16.655302047729492,
          -4.922357559204102,
          -2.2811343669891357,
          -19.596696853637695,
          18.776317596435547,
          -21.92354965209961,
          4.7149658203125,
          -17.021739959716797,
          -12.009868621826172,
          -13.624988555908203,
          -26.858257293701172,
          -11.332382202148438,
          -2.0569045543670654,
          -17.231935501098633,
          -4.246519088745117,
          11.57693862915039,
          -14.719515800476074,
          7.148306846618652,
          -6.9562788009643555,
          17.09676742553711,
          -18.20787239074707,
          4.241521835327148,
          29.32314682006836,
          -9.985858917236328,
          -9.042510986328125,
          -8.23850154876709,
          2.6749842166900635,
          -18.501882553100586,
          -9.115593910217285,
          -9.242854118347168,
          37.14940643310547,
          29.756139755249023,
          27.985607147216797,
          15.682012557983398,
          12.725532531738281,
          18.987422943115234,
          -12.337614059448242,
          23.318153381347656,
          19.316469192504883,
          -5.742978572845459,
          -19.494516372680664,
          -13.35092830657959,
          -20.699447631835938,
          24.3519229888916,
          -14.766533851623535,
          16.889768600463867,
          -22.1646671295166,
          23.180326461791992,
          12.777169227600098,
          -20.255285263061523,
          3.621713161468506,
          -10.207318305969238,
          -11.866077423095703,
          -1.6945229768753052,
          -15.177020072937012,
          -2.762145519256592,
          -9.98452091217041,
          -13.617805480957031,
          -15.523768424987793,
          -30.162906646728516,
          -6.076260089874268,
          -10.314760208129883,
          5.3405303955078125,
          -6.088749408721924,
          -23.207059860229492,
          -9.7042236328125,
          -23.590442657470703,
          -26.688081741333008,
          -22.837617874145508,
          -14.518205642700195,
          -1.2455720901489258,
          -10.188131332397461,
          -19.296546936035156,
          -6.509472846984863,
          -19.14999008178711,
          -12.44393253326416,
          -2.847750186920166,
          -10.136704444885254,
          6.267452716827393,
          -6.00210428237915,
          -21.909080505371094,
          -0.8601782321929932,
          9.20877742767334,
          23.506750106811523,
          -11.782820701599121,
          -30.62710952758789,
          -23.18443489074707,
          -16.320804595947266,
          3.7735135555267334,
          37.286537170410156,
          -25.828758239746094,
          -7.72108793258667,
          -27.580259323120117,
          -13.541871070861816,
          18.416149139404297,
          0.3134990930557251,
          -16.28072166442871,
          -19.111379623413086,
          53.72199630737305,
          -5.7809576988220215,
          21.964311599731445,
          -23.16605567932129,
          -25.052209854125977,
          -7.286519527435303,
          -10.814258575439453,
          29.601806640625,
          8.227398872375488,
          8.336588859558105,
          27.459089279174805,
          -8.170950889587402,
          -9.248878479003906,
          -4.366935729980469,
          -20.98396110534668,
          -11.845966339111328,
          -13.565792083740234,
          -22.588815689086914,
          7.818007946014404,
          -10.326569557189941,
          -22.77033805847168,
          -22.951881408691406,
          26.037012100219727,
          21.439777374267578,
          17.41704750061035,
          13.91670036315918,
          27.53545570373535,
          21.699951171875,
          16.2705135345459,
          6.719324588775635,
          18.228487014770508,
          -14.748888969421387,
          -9.719285011291504,
          13.697916984558105,
          -0.05988233909010887,
          3.1025352478027344,
          -24.58506965637207,
          -17.11710548400879,
          -24.265541076660156,
          -24.240924835205078,
          -17.0775146484375,
          -1.6912027597427368,
          -13.103713035583496,
          -1.7358347177505493,
          2.9850914478302,
          -23.612764358520508,
          53.5496940612793,
          -16.82236099243164,
          -17.86748695373535,
          -20.446758270263672,
          10.189655303955078,
          14.826578140258789,
          21.992204666137695,
          12.326484680175781,
          23.222652435302734,
          3.522204875946045,
          -16.496606826782227,
          -9.173297882080078,
          18.638816833496094,
          24.97014617919922,
          30.760269165039062,
          -4.8296661376953125,
          14.770992279052734,
          6.721067905426025,
          12.843717575073242,
          0.3802025318145752,
          -6.012682914733887,
          -4.926258563995361,
          -16.380491256713867,
          -3.692197799682617,
          12.68071174621582,
          -11.966485977172852,
          19.291561126708984,
          16.60475730895996,
          19.788589477539062,
          28.61063003540039,
          13.900762557983398,
          2.2176811695098877,
          2.1002213954925537,
          -6.2328362464904785,
          -9.478833198547363,
          50.58877944946289,
          -4.868166446685791,
          -23.87183380126953,
          14.61628246307373,
          -29.68097686767578,
          -16.619401931762695,
          -1.3299416303634644,
          -25.832664489746094,
          21.99966812133789,
          -20.189250946044922,
          16.14043426513672,
          16.559955596923828,
          -9.215448379516602,
          8.250689506530762,
          34.34101867675781,
          -21.289892196655273,
          -22.74473762512207,
          4.542465686798096,
          26.370349884033203,
          3.58762526512146,
          23.404949188232422,
          26.630762100219727,
          17.2160701751709,
          20.26582908630371,
          18.497039794921875,
          -19.53689956665039,
          -9.704951286315918,
          -14.139921188354492,
          -2.167741060256958,
          -15.663238525390625,
          -19.712230682373047,
          -14.347295761108398,
          -9.628726959228516,
          2.685553789138794,
          16.150949478149414,
          19.40159034729004,
          25.506406784057617,
          22.740222930908203,
          29.76058578491211,
          13.093490600585938,
          5.920506477355957,
          -6.200466156005859,
          -2.5017600059509277,
          13.570731163024902,
          22.22066879272461,
          4.139191627502441,
          -5.696791172027588,
          19.707277297973633,
          13.6569242477417,
          2.312788963317871,
          -25.29282569885254,
          36.4929313659668,
          -13.192824363708496,
          7.0536298751831055,
          52.43071365356445,
          20.683856964111328,
          23.146453857421875,
          -22.797874450683594,
          -1.3063478469848633,
          15.727471351623535,
          -8.252486228942871,
          19.477115631103516,
          -17.932697296142578,
          -17.5224609375,
          23.906856536865234,
          -5.423459053039551,
          -22.806785583496094,
          22.578384399414062,
          53.684322357177734,
          15.456042289733887,
          -10.587833404541016,
          21.509374618530273,
          35.122283935546875,
          54.91694641113281,
          19.445585250854492,
          21.033626556396484,
          -3.216686487197876,
          -11.183622360229492,
          14.410016059875488,
          3.153775215148926,
          -18.8198299407959,
          33.780799865722656,
          18.808351516723633,
          3.4593803882598877,
          35.70105743408203,
          13.24085521697998,
          -0.40691763162612915,
          -12.897176742553711,
          17.19797706604004,
          35.58722686767578,
          -18.926897048950195,
          28.62564468383789,
          -10.746726989746094,
          53.24721908569336,
          -17.38882064819336,
          -23.45206069946289,
          20.029836654663086,
          -12.252120018005371,
          35.173973083496094,
          17.260879516601562,
          32.60103988647461,
          16.66419219970703,
          16.186532974243164,
          35.43648147583008,
          34.45771789550781,
          34.729087829589844,
          -9.605274200439453,
          35.426307678222656,
          -24.01116180419922,
          -3.337040901184082,
          -16.570968627929688,
          20.51190948486328,
          34.93077087402344,
          55.07333755493164,
          35.32905960083008,
          0.9945551753044128,
          34.86738967895508,
          -17.220043182373047,
          32.900455474853516,
          7.268432140350342,
          1.0183459520339966,
          33.2427864074707,
          -22.653322219848633,
          34.849082946777344,
          21.12870979309082,
          -18.465728759765625,
          34.312721252441406,
          35.35161590576172,
          52.71320343017578,
          25.14797592163086,
          35.17537307739258,
          -23.11592674255371,
          -15.11279010772705,
          -12.927461624145508,
          13.929825782775879,
          30.5091552734375,
          -24.359615325927734,
          34.59541702270508,
          34.400272369384766,
          -15.493685722351074,
          32.238365173339844,
          -17.62856674194336,
          -16.6021728515625,
          -13.65859603881836,
          0.1584121286869049,
          -6.994573593139648,
          -17.671476364135742,
          14.411975860595703,
          40.022254943847656,
          -20.68684196472168,
          34.388267517089844,
          12.569928169250488,
          -26.995838165283203,
          12.51997184753418,
          13.683367729187012,
          12.293251037597656,
          15.8510160446167,
          16.518342971801758,
          -16.99085807800293,
          -13.806468963623047,
          -20.942834854125977,
          -25.631023406982422,
          -1.3210344314575195,
          -3.2837541103363037,
          -9.400397300720215,
          -10.74988842010498,
          19.83745002746582,
          4.413623809814453,
          -17.986852645874023,
          -16.954219818115234,
          -2.99764084815979,
          18.72991371154785,
          38.73313522338867,
          -4.6179704666137695,
          7.0108418464660645,
          -1.803425908088684,
          24.383615493774414,
          20.25815200805664,
          25.707883834838867,
          22.906679153442383,
          25.28664779663086,
          -3.9269444942474365,
          -14.5053129196167,
          14.474520683288574,
          23.51992416381836,
          -8.937952041625977,
          18.368227005004883,
          24.883625030517578,
          0.0805283933877945,
          -3.2950825691223145,
          -14.157424926757812,
          20.596920013427734,
          -16.70842933654785,
          -18.565589904785156,
          -5.818462371826172,
          -26.45802116394043,
          27.2932186126709,
          -5.761979579925537,
          -10.503215789794922,
          13.495190620422363,
          23.304241180419922,
          21.197364807128906,
          -5.171610355377197,
          0.8557575345039368,
          -0.1722593605518341,
          -6.841135501861572,
          9.105731010437012,
          -2.350339651107788,
          8.96123218536377,
          -15.414457321166992,
          11.519669532775879,
          -5.3064985275268555,
          50.944480895996094,
          -23.51342010498047,
          -5.233621120452881,
          -25.59451675415039,
          -15.38994026184082,
          54.64302062988281,
          -3.7704215049743652,
          -1.158401608467102,
          -27.581954956054688,
          -5.339188098907471,
          -15.370186805725098,
          -11.868706703186035,
          53.816646575927734,
          24.62128448486328,
          -21.27017593383789,
          23.492887496948242,
          -4.502829551696777,
          19.90424156188965,
          -22.06456756591797,
          -22.95819664001465,
          -6.651665687561035,
          5.215625286102295,
          19.806726455688477,
          18.131437301635742,
          52.003662109375,
          -21.424203872680664,
          -6.8314104080200195,
          -6.414586544036865,
          53.99848937988281,
          14.149361610412598,
          -8.586023330688477,
          12.128920555114746,
          25.793210983276367,
          13.353034019470215,
          -5.911614894866943,
          6.219181537628174,
          -4.133146286010742,
          9.218656539916992,
          37.41593551635742,
          23.390079498291016,
          -12.526104927062988,
          27.950733184814453,
          12.967504501342773,
          54.58657455444336,
          13.707681655883789,
          51.140926361083984,
          40.190834045410156,
          8.936503410339355,
          29.645944595336914,
          31.852310180664062,
          13.291440963745117,
          -21.94312858581543,
          -22.001779556274414,
          -1.327746033668518,
          40.985599517822266,
          -4.527102470397949,
          -5.157634258270264,
          52.371036529541016,
          -15.907352447509766,
          -0.5136877298355103,
          9.640806198120117,
          27.844545364379883,
          24.150009155273438,
          -17.879907608032227,
          -17.539812088012695,
          20.448810577392578,
          -6.6503825187683105,
          -6.205064296722412,
          -1.8097478151321411,
          9.145587921142578,
          3.284496784210205,
          6.817997455596924,
          8.217705726623535,
          -7.924358367919922,
          21.669282913208008,
          23.07200813293457,
          -22.55986976623535,
          -17.947481155395508,
          53.154808044433594,
          32.355934143066406,
          -5.406355857849121,
          -14.563851356506348,
          26.615741729736328,
          -9.502506256103516,
          23.350099563598633,
          -6.409416198730469,
          18.939058303833008,
          -15.332952499389648,
          -18.328201293945312,
          -25.52318572998047,
          -9.92918586730957,
          26.947195053100586,
          20.532451629638672,
          -16.581138610839844,
          7.0343098640441895,
          53.31464385986328,
          -3.7237303256988525,
          -4.984083652496338,
          35.910972595214844,
          54.15869903564453,
          35.084510803222656,
          39.93491744995117,
          17.86176109313965,
          53.521236419677734,
          13.421196937561035,
          11.325828552246094,
          18.197254180908203,
          -13.124025344848633,
          -3.9248874187469482,
          36.178955078125,
          -17.12504768371582,
          36.90767288208008,
          -6.241331100463867,
          35.692115783691406,
          36.42329406738281,
          36.639286041259766,
          55.62958526611328,
          37.09569549560547,
          52.01396942138672,
          52.50724792480469,
          35.75435256958008,
          36.15401840209961,
          52.606624603271484,
          36.57514190673828,
          35.9248161315918,
          36.028472900390625,
          36.04161071777344,
          35.47895812988281,
          35.69712829589844,
          36.236717224121094,
          2.1359827518463135,
          38.74930953979492,
          39.70817184448242,
          52.30941390991211,
          36.54975891113281,
          54.90700912475586,
          53.171688079833984,
          1.7272753715515137,
          35.59654235839844,
          37.002227783203125,
          14.194893836975098,
          -14.217101097106934,
          13.832663536071777,
          -24.999738693237305,
          -13.977935791015625,
          52.616119384765625,
          -1.1707886457443237,
          53.740657806396484,
          24.807090759277344,
          -17.34991455078125,
          21.511661529541016,
          -16.469444274902344,
          -4.537479400634766,
          32.49513244628906,
          -18.423009872436523,
          51.828819274902344,
          -9.20224380493164,
          -1.832381248474121,
          25.243534088134766,
          -17.85397720336914,
          22.67334747314453,
          39.52988052368164,
          22.346210479736328,
          -4.977725982666016,
          -25.136943817138672,
          -5.77609920501709,
          51.935646057128906,
          6.720913887023926,
          52.66703796386719,
          -24.175748825073242,
          52.79035949707031,
          3.3424925804138184,
          5.509108066558838,
          40.650657653808594,
          17.223819732666016,
          -12.49571418762207,
          20.730363845825195,
          -12.743484497070312,
          33.165287017822266,
          -3.5061287879943848,
          -5.954150676727295,
          -22.463823318481445,
          2.4076952934265137,
          23.27716064453125,
          1.7808808088302612,
          2.198209524154663,
          27.119356155395508,
          1.692533254623413,
          54.33623504638672,
          2.2452783584594727,
          54.72870635986328,
          1.3776209354400635,
          2.166301965713501,
          50.816184997558594,
          -12.641275405883789,
          -5.443090915679932,
          53.12211227416992,
          52.02102279663086,
          -17.496246337890625,
          2.048407554626465,
          50.86367416381836,
          1.9701253175735474,
          54.12139892578125,
          51.57602310180664,
          22.50391387939453,
          54.34772872924805,
          52.185028076171875,
          52.51898193359375,
          24.214019775390625,
          17.6536808013916,
          -7.190710067749023,
          40.174110412597656,
          23.712108612060547,
          40.600868225097656,
          22.79241943359375,
          20.749021530151367,
          -21.36277961730957,
          53.221839904785156,
          20.237485885620117,
          13.519341468811035,
          13.461811065673828,
          20.379905700683594,
          13.753617286682129,
          41.14289855957031,
          21.94380760192871,
          19.87985610961914,
          -6.58154821395874,
          51.997859954833984,
          21.68634033203125,
          -4.628988742828369,
          40.60679626464844,
          -3.1643500328063965,
          24.796785354614258,
          16.728168487548828,
          -0.19611316919326782
         ],
         "xaxis": "x",
         "y": [
          2.232555627822876,
          -3.8181564807891846,
          10.584758758544922,
          25.699979782104492,
          -6.521079063415527,
          -9.623311042785645,
          28.81894302368164,
          24.64096450805664,
          21.15131950378418,
          4.851063251495361,
          22.36671257019043,
          12.945773124694824,
          18.54115867614746,
          8.532793998718262,
          -9.773453712463379,
          17.124433517456055,
          8.838844299316406,
          17.1739559173584,
          -6.288862228393555,
          5.917781829833984,
          -23.69365692138672,
          2.0532546043395996,
          14.302522659301758,
          15.679545402526855,
          -21.679353713989258,
          16.967687606811523,
          -2.2057721614837646,
          -1.530558466911316,
          -19.115093231201172,
          11.574520111083984,
          -3.8203353881835938,
          5.981297969818115,
          12.146055221557617,
          -14.848119735717773,
          -8.608085632324219,
          -9.554186820983887,
          15.279086112976074,
          -19.469446182250977,
          1.1294524669647217,
          -21.410913467407227,
          -0.03700492903590202,
          19.736852645874023,
          -13.162517547607422,
          -0.3608147203922272,
          1.3631011247634888,
          2.18552827835083,
          21.30251693725586,
          19.543128967285156,
          -10.5319185256958,
          4.479910373687744,
          -7.922895908355713,
          3.267320394515991,
          21.69318962097168,
          -2.971494197845459,
          6.7228827476501465,
          21.78339385986328,
          -2.9860968589782715,
          14.110883712768555,
          -6.801856517791748,
          -6.581387519836426,
          -7.121390342712402,
          -16.220951080322266,
          -15.376693725585938,
          13.07414722442627,
          0.8969057202339172,
          -12.97735595703125,
          5.972842693328857,
          9.050992012023926,
          28.768266677856445,
          1.3988336324691772,
          -6.910181999206543,
          -4.149028778076172,
          -12.958059310913086,
          14.063570976257324,
          -3.3863773345947266,
          6.530572414398193,
          -14.412028312683105,
          -19.12381362915039,
          2.3312742710113525,
          6.795855522155762,
          19.183076858520508,
          -0.013493278063833714,
          1.625158429145813,
          -9.031237602233887,
          7.192742347717285,
          6.9822211265563965,
          -3.547562599182129,
          -13.046278953552246,
          25.213821411132812,
          13.392755508422852,
          16.33365821838379,
          14.780977249145508,
          8.292166709899902,
          -15.049714088439941,
          1.9079066514968872,
          2.7280895709991455,
          28.29906463623047,
          23.00617027282715,
          27.18301010131836,
          13.138266563415527,
          0.08578012883663177,
          -12.545854568481445,
          -3.4021918773651123,
          1.7891751527786255,
          -3.17329478263855,
          -24.175718307495117,
          5.911885738372803,
          9.413476943969727,
          15.560752868652344,
          -18.483938217163086,
          -16.404603958129883,
          -16.797754287719727,
          1.1847634315490723,
          20.84429168701172,
          -6.262360095977783,
          9.941787719726562,
          -8.974952697753906,
          -9.226049423217773,
          6.509140491485596,
          -23.044147491455078,
          -7.676934719085693,
          18.769901275634766,
          11.210222244262695,
          11.87881088256836,
          -8.39956283569336,
          -16.051403045654297,
          22.485078811645508,
          15.419196128845215,
          13.273146629333496,
          3.673077344894409,
          17.401805877685547,
          24.782072067260742,
          28.948503494262695,
          14.237424850463867,
          25.215728759765625,
          26.140748977661133,
          9.235248565673828,
          -24.571001052856445,
          -1.8060073852539062,
          -21.0190486907959,
          26.797117233276367,
          -12.375876426696777,
          -0.6792558431625366,
          29.888425827026367,
          -13.602641105651855,
          -14.126604080200195,
          -0.7634925246238708,
          -19.612524032592773,
          20.200973510742188,
          16.680280685424805,
          23.904010772705078,
          26.141361236572266,
          26.1503849029541,
          21.736103057861328,
          -13.04817008972168,
          19.915977478027344,
          19.990747451782227,
          -10.233345031738281,
          -23.210830688476562,
          21.580638885498047,
          -11.814579010009766,
          10.813535690307617,
          -1.4132269620895386,
          -5.510657787322998,
          -1.3613828420639038,
          9.232580184936523,
          -1.4832539558410645,
          23.634044647216797,
          9.19628620147705,
          -1.598586082458496,
          5.330507278442383,
          4.254945755004883,
          3.7810189723968506,
          3.8089516162872314,
          15.871240615844727,
          29.73655891418457,
          21.805078506469727,
          21.28327751159668,
          12.981664657592773,
          20.23967933654785,
          4.267674446105957,
          21.57619285583496,
          28.37057113647461,
          9.983386993408203,
          22.747800827026367,
          4.276803016662598,
          23.510128021240234,
          21.75316047668457,
          2.7216837406158447,
          16.211294174194336,
          16.533235549926758,
          18.242509841918945,
          28.28301239013672,
          26.927919387817383,
          2.7991209030151367,
          15.739442825317383,
          12.69071102142334,
          6.879995346069336,
          24.860986709594727,
          18.25318717956543,
          16.361751556396484,
          0.6714832186698914,
          20.675201416015625,
          0.4698560833930969,
          29.261096954345703,
          16.580934524536133,
          -1.8273931741714478,
          25.7624454498291,
          14.635242462158203,
          0.2855098843574524,
          28.11137580871582,
          1.5132042169570923,
          12.333148956298828,
          23.498735427856445,
          26.99781036376953,
          0.2208518087863922,
          2.3102095127105713,
          -2.667757511138916,
          -1.1790180206298828,
          -15.96306324005127,
          9.97775936126709,
          1.2926520109176636,
          22.822256088256836,
          1.0831215381622314,
          -22.493680953979492,
          4.502547264099121,
          1.0570902824401855,
          2.565732955932617,
          -5.116759777069092,
          1.3972855806350708,
          -17.46501350402832,
          2.4377713203430176,
          5.343540668487549,
          24.209060668945312,
          16.800392150878906,
          -11.266242980957031,
          -5.658132076263428,
          22.063655853271484,
          2.1059916019439697,
          18.869565963745117,
          -8.997819900512695,
          5.6412482261657715,
          -23.183311462402344,
          4.139551639556885,
          4.508747577667236,
          5.1812424659729,
          -17.446725845336914,
          0.08070001006126404,
          16.755170822143555,
          28.782161712646484,
          -1.1051414012908936,
          -22.27332305908203,
          -1.6002215147018433,
          -20.959074020385742,
          -7.983173847198486,
          -1.6435056924819946,
          -5.5220842361450195,
          6.944093227386475,
          -12.43459701538086,
          13.069771766662598,
          -15.806164741516113,
          22.003917694091797,
          0.6444754600524902,
          8.5011568069458,
          -0.848129391670227,
          -15.038660049438477,
          -6.94390344619751,
          5.231254577636719,
          -2.770249843597412,
          -4.970948219299316,
          6.5586981773376465,
          -1.40915846824646,
          -0.6295134425163269,
          -9.242918968200684,
          2.7332992553710938,
          10.26792049407959,
          -2.819969654083252,
          -22.324237823486328,
          8.801837921142578,
          -10.946582794189453,
          -9.639105796813965,
          -7.051705360412598,
          -1.8301775455474854,
          -9.786300659179688,
          11.319524765014648,
          1.9919641017913818,
          -10.337632179260254,
          6.02490758895874,
          -10.517843246459961,
          7.725865364074707,
          3.729074716567993,
          3.996922254562378,
          24.874343872070312,
          -24.870466232299805,
          -6.157369613647461,
          -3.1538949012756348,
          0.34476935863494873,
          9.038310050964355,
          -25.77080726623535,
          -6.571976184844971,
          6.170114517211914,
          -1.4423811435699463,
          9.466461181640625,
          -11.956389427185059,
          10.189245223999023,
          -3.400603771209717,
          7.220834255218506,
          -12.561591148376465,
          2.2344892024993896,
          5.014122009277344,
          -0.0965552031993866,
          -17.670488357543945,
          -4.483347415924072,
          -1.939064860343933,
          -1.396553635597229,
          -1.3891886472702026,
          12.074362754821777,
          16.56638526916504,
          5.877776622772217,
          17.89255142211914,
          8.079327583312988,
          -22.67168426513672,
          -24.149765014648438,
          17.995086669921875,
          -9.101423263549805,
          -22.829078674316406,
          8.98524284362793,
          3.522768497467041,
          -10.964701652526855,
          -12.638993263244629,
          7.413412570953369,
          4.990260124206543,
          5.490225791931152,
          7.829562187194824,
          12.225214958190918,
          -0.6252307295799255,
          -13.150812149047852,
          -7.4490251541137695,
          -14.607295989990234,
          -3.304583787918091,
          -14.245027542114258,
          1.2683086395263672,
          -16.53061866760254,
          11.160602569580078,
          19.0743465423584,
          9.705100059509277,
          24.62828826904297,
          -11.66384220123291,
          -10.135493278503418,
          -10.75297737121582,
          -10.511789321899414,
          1.703048586845398,
          -5.162989139556885,
          -3.5542221069335938,
          2.185638666152954,
          -1.762233853340149,
          21.816850662231445,
          1.1610513925552368,
          -3.7600882053375244,
          6.711465358734131,
          -8.45212173461914,
          14.055900573730469,
          -10.809944152832031,
          4.311707019805908,
          9.920058250427246,
          -6.285922050476074,
          3.278118371963501,
          -21.032543182373047,
          -4.187341213226318,
          -20.821828842163086,
          -20.205812454223633,
          -3.9052796363830566,
          -14.555004119873047,
          -19.14131736755371,
          -1.936357021331787,
          -8.623189926147461,
          -16.778512954711914,
          -6.0629563331604,
          -15.4433012008667,
          -10.39968204498291,
          11.310332298278809,
          3.1618993282318115,
          -8.058690071105957,
          5.333008289337158,
          -2.758110523223877,
          3.0334784984588623,
          -7.825788497924805,
          -9.104227066040039,
          -7.057605743408203,
          15.842572212219238,
          -4.273728847503662,
          -14.10937213897705,
          -11.042798042297363,
          -20.56390953063965,
          -14.037135124206543,
          20.681325912475586,
          -14.33944320678711,
          -15.309056282043457,
          -3.05764102935791,
          -3.2416257858276367,
          15.144817352294922,
          -13.18053913116455,
          8.693768501281738,
          30.52210807800293,
          -8.503786087036133,
          -1.6835263967514038,
          -3.3785126209259033,
          9.131708145141602,
          -13.321429252624512,
          17.03346824645996,
          10.499427795410156,
          8.99191951751709,
          7.016156196594238,
          23.50698471069336,
          -15.125544548034668,
          10.601419448852539,
          -8.512212753295898,
          -2.1851325035095215,
          29.761398315429688,
          23.917715072631836,
          -16.3956356048584,
          11.146462440490723,
          28.49980926513672,
          1.3034470081329346,
          17.901124954223633,
          -12.4755859375,
          14.028810501098633,
          12.076277732849121,
          22.359907150268555,
          27.38686752319336,
          0.3783521354198456,
          20.140419006347656,
          22.91393280029297,
          21.96023178100586,
          19.594379425048828,
          13.003877639770508,
          -4.120421409606934,
          -5.294257164001465,
          -4.207260608673096,
          -1.7541406154632568,
          -8.762088775634766,
          -5.3116455078125,
          21.99968719482422,
          19.593860626220703,
          9.99585247039795,
          -18.474082946777344,
          17.64676284790039,
          7.838528633117676,
          11.501507759094238,
          4.074007511138916,
          -6.317342758178711,
          -9.945703506469727,
          -15.085916519165039,
          -24.405696868896484,
          15.926281929016113,
          -11.996633529663086,
          -16.464763641357422,
          4.062193393707275,
          -7.9992995262146,
          1.0476419925689697,
          16.14295768737793,
          0.6234081983566284,
          -3.2876827716827393,
          -3.5825159549713135,
          -2.7311699390411377,
          4.277281761169434,
          -5.281958103179932,
          -8.643092155456543,
          16.140953063964844,
          -4.505309104919434,
          -4.229711532592773,
          -2.2254562377929688,
          17.70716094970703,
          15.311673164367676,
          20.01951026916504,
          -18.923946380615234,
          5.516544342041016,
          17.525373458862305,
          11.20260238647461,
          14.56176471710205,
          21.956857681274414,
          24.157251358032227,
          17.316974639892578,
          17.544906616210938,
          -6.253771781921387,
          0.4112601578235626,
          15.153117179870605,
          14.599994659423828,
          9.775562286376953,
          13.706489562988281,
          20.70326042175293,
          18.408775329589844,
          8.235790252685547,
          26.04549217224121,
          27.399988174438477,
          28.60956573486328,
          23.47665023803711,
          8.714377403259277,
          8.302140235900879,
          -1.7130926847457886,
          30.56268882751465,
          9.133249282836914,
          19.77120018005371,
          13.315509796142578,
          19.005334854125977,
          12.990438461303711,
          25.211484909057617,
          9.37246322631836,
          13.059642791748047,
          -0.28512367606163025,
          23.401945114135742,
          6.724801063537598,
          6.050776481628418,
          21.095378875732422,
          7.511824607849121,
          -5.871958255767822,
          21.361778259277344,
          19.06498908996582,
          17.832801818847656,
          25.9121036529541,
          19.800798416137695,
          13.774962425231934,
          25.2387638092041,
          4.10656213760376,
          17.439363479614258,
          29.046113967895508,
          24.88214874267578,
          11.537419319152832,
          11.912093162536621,
          24.428409576416016,
          -2.903719425201416,
          -0.8530396819114685,
          18.217222213745117,
          13.831679344177246,
          -18.837377548217773,
          9.895402908325195,
          15.69835376739502,
          -18.02313995361328,
          -21.79030990600586,
          -17.186552047729492,
          -16.60429573059082,
          -22.122732162475586,
          2.0216312408447266,
          -4.717613697052002,
          -7.139418125152588,
          1.2329477071762085,
          -6.025964736938477,
          5.930760860443115,
          1.6136256456375122,
          3.9242000579833984,
          -6.725043296813965,
          -6.3257155418396,
          -17.071874618530273,
          -16.491689682006836,
          -3.552065134048462,
          17.740602493286133,
          -1.0184825658798218,
          16.398845672607422,
          3.06425142288208,
          -3.280082941055298,
          -4.351914882659912,
          -14.208473205566406,
          -6.718503952026367,
          -0.01596696861088276,
          0.8803841471672058,
          4.81785774230957,
          12.79344367980957,
          -3.9747328758239746,
          0.13545657694339752,
          -0.47027504444122314,
          -14.757448196411133,
          -11.920875549316406,
          -4.445723533630371,
          -18.64297866821289,
          -10.319210052490234,
          -4.3721442222595215,
          -2.3368523120880127,
          -16.06806182861328,
          -16.94827651977539,
          -3.4058213233947754,
          10.985234260559082,
          3.1068532466888428,
          19.8664493560791,
          -3.133162498474121,
          -20.206796646118164,
          3.129228115081787,
          5.277335166931152,
          0.35857242345809937,
          13.361960411071777,
          -5.219338893890381,
          -5.976583480834961,
          -0.28613102436065674,
          -0.6224464774131775,
          21.131776809692383,
          -20.34332847595215,
          -14.406060218811035,
          -24.10367774963379,
          11.342599868774414,
          -3.2545597553253174,
          11.879925727844238,
          -9.449247360229492,
          3.7550199031829834,
          14.503026008605957,
          4.730170726776123,
          7.903733730316162,
          9.917152404785156,
          8.351675033569336,
          -3.5235941410064697,
          28.056346893310547,
          8.092767715454102,
          3.8748297691345215,
          20.835506439208984,
          -2.3083271980285645,
          6.6934967041015625,
          5.435776233673096,
          16.20098114013672,
          -0.12569895386695862,
          23.717376708984375,
          7.546006202697754,
          7.1647257804870605,
          10.51361083984375,
          -13.6029052734375,
          -20.07853126525879,
          12.382352828979492,
          -3.886065721511841,
          4.418655872344971,
          -10.537467002868652,
          -6.983717918395996,
          -6.579665660858154,
          -5.083846569061279,
          6.653918743133545,
          11.312214851379395,
          11.583277702331543,
          0.5715709328651428,
          19.253482818603516,
          12.644683837890625,
          19.536447525024414,
          10.0159330368042,
          -0.7222780585289001,
          19.79289436340332,
          15.521028518676758,
          12.881954193115234,
          6.786202430725098,
          16.97239112854004,
          3.43605375289917,
          20.863910675048828,
          16.43915367126465,
          -1.4254921674728394,
          17.64712142944336,
          15.126686096191406,
          26.490514755249023,
          9.864118576049805,
          15.37925910949707,
          13.387213706970215,
          22.95315170288086,
          12.965544700622559,
          7.80431604385376,
          -7.916411876678467,
          7.5279693603515625,
          1.7007027864456177,
          22.870908737182617,
          -3.8267645835876465,
          2.1328141689300537,
          13.728403091430664,
          -6.997940540313721,
          -10.134981155395508,
          -4.954444408416748,
          13.962477684020996,
          -5.544574737548828,
          -2.717560291290283,
          18.779766082763672,
          -11.833500862121582,
          -3.7340729236602783,
          8.65392780303955,
          12.249346733093262,
          -12.518948554992676,
          -11.189356803894043,
          -24.257469177246094,
          13.809097290039062,
          -15.088939666748047,
          -16.36763572692871,
          5.057858943939209,
          2.0470948219299316,
          0.6106036901473999,
          -2.7851943969726562,
          8.647297859191895,
          -15.2166109085083,
          -6.753390312194824,
          -9.839600563049316,
          9.041187286376953,
          9.881834030151367,
          -2.5263113975524902,
          19.27100372314453,
          8.242920875549316,
          17.77001190185547,
          -13.021124839782715,
          -18.165016174316406,
          -5.479861736297607,
          -20.195110321044922,
          -0.723267674446106,
          7.264306545257568,
          8.572449684143066,
          2.0415897369384766,
          2.386863946914673,
          13.178303718566895,
          -26.109928131103516,
          -8.790326118469238,
          6.930545330047607,
          3.6253557205200195,
          4.320141315460205,
          -9.831700325012207,
          -0.27354082465171814,
          -10.66559886932373,
          3.38094162940979,
          14.512262344360352,
          -15.940740585327148,
          -19.796459197998047,
          -6.78378438949585,
          -10.701919555664062,
          -18.28310203552246,
          7.447027683258057,
          -8.22481632232666,
          -13.385478019714355,
          -0.18812042474746704,
          -6.093306064605713,
          -12.103365898132324,
          -11.410943031311035,
          -19.202190399169922,
          -3.1251165866851807,
          6.7289137840271,
          -10.692137718200684,
          -1.3503323793411255,
          -3.7495429515838623,
          -9.354294776916504,
          -7.984554767608643,
          -8.525012969970703,
          12.252483367919922,
          -14.028779029846191,
          -11.936504364013672,
          -10.736968994140625,
          14.745509147644043,
          -8.239950180053711,
          -8.278162956237793,
          -11.469573974609375,
          -9.580647468566895,
          -1.2439581155776978,
          -2.474966049194336,
          -24.22113609313965,
          8.70718002319336,
          -2.975841999053955,
          6.993218898773193,
          -11.26826286315918,
          -0.5261168479919434,
          -6.874507904052734,
          -4.747535228729248,
          -24.086702346801758,
          -10.440673828125,
          -7.18091344833374,
          -1.521483063697815,
          -7.476424694061279,
          -12.897665977478027,
          17.03206443786621,
          12.645025253295898,
          -18.903804779052734,
          -9.457419395446777,
          27.011375427246094,
          5.171096324920654,
          -19.224308013916016,
          -20.147199630737305,
          13.495891571044922,
          4.887268543243408,
          16.30890655517578,
          16.76909065246582,
          -17.227432250976562,
          -13.279327392578125,
          -15.769126892089844,
          -3.785629987716675,
          25.54585838317871,
          -11.356670379638672,
          -15.015820503234863,
          -10.719404220581055,
          7.391823768615723,
          -20.63858413696289,
          -11.097036361694336,
          -7.703890800476074,
          -2.7925140857696533,
          -3.921931028366089,
          -11.575115203857422,
          5.257636070251465,
          -13.702836990356445,
          2.75173282623291,
          22.700239181518555,
          11.012027740478516,
          -12.040393829345703,
          -20.950376510620117,
          2.3383312225341797,
          5.0743937492370605,
          2.7432069778442383,
          -5.2942657470703125,
          -20.140554428100586,
          -5.400150299072266,
          -20.138336181640625,
          22.426897048950195,
          -17.013498306274414,
          25.5643253326416,
          19.744970321655273,
          -20.62101173400879,
          -7.4827880859375,
          -14.589191436767578,
          -15.685790061950684,
          -4.289936065673828,
          -15.046529769897461,
          -0.1550646275281906,
          -11.719022750854492,
          -18.352243423461914,
          13.475172996520996,
          -10.097341537475586,
          9.596609115600586,
          -21.289884567260742,
          4.674945831298828,
          -11.728939056396484,
          22.007022857666016,
          -7.766547679901123,
          16.730304718017578,
          -4.747534275054932,
          -2.7161383628845215,
          -25.94521713256836,
          -21.115192413330078,
          -6.109577655792236,
          -2.879276990890503,
          3.646686553955078,
          8.884854316711426,
          -22.764970779418945,
          -26.872426986694336,
          -0.9691590666770935,
          -4.359757900238037,
          18.072601318359375,
          -4.0780558586120605,
          -3.0241432189941406,
          -2.7555458545684814,
          -14.223931312561035,
          4.983341217041016,
          12.297351837158203,
          15.824294090270996,
          -16.857807159423828,
          -23.596174240112305,
          -4.902205944061279,
          16.11916732788086,
          -14.293063163757324,
          19.4437313079834,
          10.931190490722656,
          -2.8024983406066895,
          17.24675750732422,
          17.225936889648438,
          -0.09208285063505173,
          5.401524543762207,
          3.1232330799102783,
          -5.456798553466797,
          -8.880072593688965,
          -26.372943878173828,
          15.030448913574219,
          -21.256868362426758,
          7.2217583656311035,
          8.927863121032715,
          10.23028564453125,
          -17.049091339111328,
          3.490354537963867,
          19.000940322875977,
          -9.911641120910645,
          -5.510054588317871,
          -12.326959609985352,
          -0.3085155785083771,
          -9.376224517822266,
          -11.112112045288086,
          11.402027130126953,
          -26.03963279724121,
          13.56773853302002,
          -25.869014739990234,
          2.9998257160186768,
          13.811555862426758,
          -26.05105972290039,
          -2.8467369079589844,
          -4.723692893981934,
          -8.713467597961426,
          -7.471020698547363,
          -3.6981537342071533,
          4.348715305328369,
          -11.855489730834961,
          0.7732649445533752,
          -6.160072326660156,
          4.832164764404297,
          -8.34937572479248,
          7.627806663513184,
          -10.471938133239746,
          5.167834281921387,
          0.2834552228450775,
          -4.941301345825195,
          1.2626889944076538,
          -6.093411922454834,
          -1.9503580331802368,
          -2.3231735229492188,
          -4.628992557525635,
          22.82615089416504,
          -7.219130039215088,
          -14.466842651367188,
          3.428107500076294,
          -3.1993374824523926,
          -11.003861427307129,
          -5.4744486808776855,
          6.648273468017578,
          6.538704872131348,
          4.726419925689697,
          -2.8800134658813477,
          -17.915298461914062,
          22.25536346435547,
          -16.254587173461914,
          -1.1619703769683838,
          -10.678594589233398,
          17.336565017700195,
          18.82952880859375,
          -4.435596466064453,
          6.6703643798828125,
          1.6875684261322021,
          3.6958131790161133,
          -20.558897018432617,
          -24.066837310791016,
          -0.1822301149368286,
          -2.363964557647705,
          -21.21722412109375,
          -23.024974822998047,
          -9.506912231445312,
          -21.12938690185547,
          13.58802318572998,
          -19.94953155517578,
          1.3580464124679565,
          -9.758941650390625,
          3.771015167236328,
          9.301350593566895,
          -16.86171531677246,
          -6.483122825622559,
          -15.395709991455078,
          19.449121475219727,
          -5.130317211151123,
          -20.02265739440918,
          -8.090629577636719,
          -4.136448383331299,
          10.50733470916748,
          -9.066514015197754,
          12.591209411621094,
          20.00229263305664,
          -4.912622451782227,
          15.115877151489258,
          2.5951507091522217,
          -7.148982048034668,
          5.011711120605469,
          18.768091201782227,
          15.581047058105469,
          -1.9772872924804688,
          18.649789810180664,
          -1.36540687084198,
          1.1772874593734741,
          22.049659729003906,
          0.20894743502140045,
          10.662290573120117,
          4.989465236663818,
          -6.673022270202637,
          -6.137100696563721,
          -2.8293700218200684,
          2.7602925300598145,
          5.262850761413574,
          1.0959744453430176,
          2.98952054977417,
          -8.181949615478516,
          -13.910659790039062,
          18.53387451171875,
          -1.202879548072815,
          -11.547773361206055,
          3.6472089290618896,
          -9.175275802612305,
          13.982447624206543,
          -11.381319046020508,
          4.696336269378662,
          -22.793516159057617,
          -22.15707778930664,
          -8.41419792175293,
          -11.712384223937988,
          -3.832780361175537,
          -23.849349975585938,
          -20.37343406677246,
          -13.60831069946289,
          18.238189697265625,
          0.4515286386013031,
          -23.190715789794922,
          6.334316730499268,
          9.85805606842041,
          -19.346433639526367,
          -6.6817193031311035,
          4.545308589935303,
          -14.333420753479004,
          5.722560405731201,
          -7.9921722412109375,
          -9.877008438110352,
          -18.330347061157227,
          -16.532262802124023,
          -2.2917110919952393,
          -11.602517127990723,
          -3.097822427749634,
          -6.455049514770508,
          -13.021574020385742,
          12.638811111450195,
          7.556065082550049,
          -3.0598196983337402,
          -11.76503849029541,
          6.220646381378174,
          -11.85974407196045,
          -16.476417541503906,
          17.829465866088867,
          13.135208129882812,
          -3.9077157974243164,
          8.933226585388184,
          11.76423168182373,
          -5.041552543640137,
          -13.11935043334961,
          -2.333237648010254,
          1.6639318466186523,
          -0.33368512988090515,
          -5.290359020233154,
          -17.88876724243164,
          -6.499485015869141,
          -14.932924270629883,
          -17.390039443969727,
          -14.737470626831055,
          -24.548892974853516,
          -6.58928108215332,
          -21.16703987121582,
          -16.58391761779785,
          -6.676486968994141,
          -14.648636817932129,
          15.981452941894531,
          -19.31344985961914,
          -13.544901847839355,
          -10.106849670410156,
          -20.638885498046875,
          -19.679319381713867,
          21.4553165435791,
          -10.8994722366333,
          -26.87541389465332,
          19.223745346069336,
          -13.497949600219727,
          -7.170071125030518,
          -19.28375816345215,
          -7.555778980255127,
          -11.318296432495117,
          -18.236919403076172,
          -13.549657821655273,
          -5.264535903930664,
          14.24977970123291,
          -6.7951178550720215,
          13.679563522338867,
          0.2549324035644531,
          -14.513102531433105,
          2.0308902263641357,
          -3.6119587421417236,
          3.9433088302612305,
          -1.7774602174758911,
          -10.691222190856934,
          -6.754923343658447,
          1.2050546407699585,
          -2.0122573375701904,
          11.78093147277832,
          16.144790649414062,
          3.989682674407959,
          -1.5911093950271606,
          -8.110114097595215,
          -17.212406158447266,
          1.9136854410171509,
          -4.218386173248291,
          -16.90157127380371,
          -0.3549768924713135,
          4.517843723297119,
          11.899881362915039,
          2.5855765342712402,
          14.300613403320312,
          2.4132673740386963,
          16.090007781982422,
          -5.20973014831543,
          1.385364055633545,
          -8.931241989135742,
          -11.124069213867188,
          -20.817852020263672,
          11.314811706542969,
          -7.5490851402282715,
          -7.114235877990723,
          9.43422794342041,
          -3.3224029541015625,
          14.008140563964844,
          -8.252318382263184,
          -4.976666450500488,
          5.744495868682861,
          6.381715774536133,
          -6.741873741149902,
          -22.09993553161621,
          -4.046314716339111,
          -0.3876156806945801,
          -8.565868377685547,
          -12.941944122314453,
          18.318767547607422,
          5.660947799682617,
          -8.619035720825195,
          -14.750019073486328,
          -4.146236896514893,
          -11.88866138458252,
          8.844823837280273,
          -12.138518333435059,
          15.059357643127441,
          2.769976854324341,
          1.9419620037078857,
          6.992403507232666,
          -6.7439775466918945,
          -13.489463806152344,
          -4.012126445770264,
          -10.821234703063965,
          2.2177462577819824,
          5.43956184387207,
          -8.353439331054688,
          5.896731853485107,
          20.58456802368164,
          18.743431091308594,
          -6.443333148956299,
          14.798431396484375,
          8.331869125366211,
          -11.104327201843262,
          -10.368124961853027,
          -8.391183853149414,
          7.14155912399292,
          -9.26625919342041,
          -6.814167499542236,
          -7.9739909172058105,
          6.009843349456787,
          9.381631851196289,
          5.469905853271484,
          6.646822929382324,
          17.05702018737793,
          -1.497995376586914,
          -11.684314727783203,
          -7.923484802246094,
          7.883082866668701,
          13.134376525878906,
          4.710934638977051,
          -2.9621057510375977,
          -6.4862260818481445,
          -10.081192970275879,
          2.67568039894104,
          -13.499189376831055,
          -7.443154811859131,
          13.461673736572266,
          -13.712018966674805,
          3.1938107013702393,
          -2.967714309692383,
          -17.36623764038086,
          -6.089414596557617,
          -8.344256401062012,
          -23.200069427490234,
          -18.636646270751953,
          -4.998225688934326,
          -18.178159713745117,
          -12.111351013183594,
          -18.780061721801758,
          -6.9307637214660645,
          20.92743682861328,
          -9.97199535369873,
          8.559195518493652,
          -11.697566032409668,
          4.433596134185791,
          -8.297929763793945,
          0.9669264554977417,
          -2.2619292736053467,
          -12.652645111083984,
          -19.851957321166992,
          -19.124311447143555,
          -8.247076034545898,
          -11.496559143066406,
          5.820057392120361,
          15.680924415588379,
          -20.12253189086914,
          5.246428966522217,
          18.63982391357422,
          -1.7068370580673218,
          -6.764922618865967,
          -8.645857810974121,
          -3.7887566089630127,
          23.17116355895996,
          -2.0371828079223633,
          -3.0994770526885986,
          2.6632697582244873,
          22.523548126220703,
          4.021304607391357,
          22.534122467041016,
          14.98339557647705,
          0.6365662813186646,
          -9.922547340393066,
          3.101078748703003,
          1.1684069633483887,
          17.616071701049805,
          2.1192448139190674,
          -14.811236381530762,
          -11.061936378479004,
          14.924674987792969,
          -14.990887641906738,
          -18.336145401000977,
          8.581692695617676,
          -6.988832473754883,
          -9.563227653503418,
          4.35667610168457,
          2.0588488578796387,
          10.234176635742188,
          -21.147192001342773,
          -1.7391436100006104,
          -6.907796382904053,
          -23.393714904785156,
          -18.110475540161133,
          13.073690414428711,
          10.896578788757324,
          -13.033561706542969,
          -0.3569498360157013,
          7.556825637817383,
          -2.1135060787200928,
          -20.901111602783203,
          -10.814519882202148,
          -8.37631893157959,
          6.31826114654541,
          23.65137481689453,
          20.576799392700195,
          11.124163627624512,
          -3.120103359222412,
          -9.922683715820312,
          -7.68667459487915,
          6.664393901824951,
          -19.666584014892578,
          -5.117491245269775,
          -13.142361640930176,
          10.2184419631958,
          -0.9936621785163879,
          -9.747159957885742,
          15.256010055541992,
          -18.037616729736328,
          5.049939155578613,
          4.934223651885986,
          -18.73143196105957,
          -7.585296154022217,
          -3.3109967708587646,
          -1.7996305227279663,
          -18.294574737548828,
          3.4159135818481445,
          21.756092071533203,
          9.412935256958008,
          -3.470430374145508,
          -5.132590293884277,
          -4.268379211425781,
          -7.578332424163818,
          -0.20863869786262512,
          6.426393985748291,
          6.529695987701416,
          -3.260568380355835,
          -12.629140853881836,
          2.3239049911499023,
          14.433802604675293,
          -12.771491050720215,
          -1.6548545360565186,
          -20.393325805664062,
          -8.406752586364746,
          0.34936967492103577,
          3.392683982849121,
          -7.667827606201172,
          -3.973656415939331,
          -21.576698303222656,
          -4.63567590713501,
          -5.028599262237549,
          -5.470542907714844,
          2.046419382095337,
          23.177719116210938,
          -6.194173336029053,
          -19.867639541625977,
          -7.617851734161377,
          -1.8282902240753174,
          1.8952871561050415,
          1.019531011581421,
          -2.7277145385742188,
          -24.20530128479004,
          -12.170389175415039,
          0.9899858236312866,
          -7.145252704620361,
          -1.4533177614212036,
          5.713671684265137,
          -6.038594722747803,
          2.5104353427886963,
          -13.226305961608887,
          -0.12131895124912262,
          -12.812909126281738,
          -13.264280319213867,
          -8.268562316894531,
          -2.830932855606079,
          6.9998779296875,
          -7.597602367401123,
          6.95629358291626,
          -9.835379600524902,
          -3.3902430534362793,
          -5.866336822509766,
          -10.403966903686523,
          -5.461517810821533,
          3.6157591342926025,
          -10.83434009552002,
          -4.167806148529053,
          0.6696322560310364,
          -12.999940872192383,
          -11.20121955871582,
          0.8152651786804199,
          -5.562133312225342,
          20.622478485107422,
          0.574992299079895,
          6.068378925323486,
          14.310550689697266,
          -11.035737037658691,
          -2.667938232421875,
          0.363090842962265,
          -2.396092653274536,
          1.0023231506347656,
          -13.856913566589355,
          -8.603423118591309,
          2.8708019256591797,
          -2.547574996948242,
          -1.316098928451538,
          13.307991981506348,
          -0.23390798270702362,
          5.69201135635376,
          -0.7732929587364197,
          -20.061880111694336,
          -3.801961660385132,
          0.0054739853367209435,
          -0.19935929775238037,
          1.0460383892059326,
          -11.649212837219238,
          0.006121968384832144,
          -11.01245403289795,
          7.537928104400635,
          -12.449467658996582,
          -0.5776418447494507,
          0.8377891778945923,
          -7.903710842132568,
          -0.4361453950405121,
          21.375146865844727,
          0.5283311009407043,
          -5.53107213973999,
          -0.0020069475285708904,
          -14.763914108276367,
          21.362770080566406,
          0.12616892158985138,
          -2.942487955093384,
          1.6307066679000854,
          -0.30611303448677063,
          15.178760528564453,
          -0.24421165883541107,
          0.8279640674591064,
          -7.346747875213623,
          -3.5466153621673584,
          0.8240252137184143,
          9.56166934967041,
          9.578842163085938,
          12.753196716308594,
          -6.634615898132324,
          -0.33624401688575745,
          1.030068039894104,
          -0.0606129914522171,
          0.31345298886299133,
          -10.067656517028809,
          -2.9977898597717285,
          -7.115752696990967,
          10.19382381439209,
          -7.973526954650879,
          20.21954345703125,
          -16.720230102539062,
          -6.570995330810547,
          -11.415942192077637,
          -6.1056413650512695,
          0.5298009514808655,
          2.4351112842559814,
          -9.4574613571167,
          -3.1545677185058594,
          -9.643372535705566,
          -9.180176734924316,
          -9.507087707519531,
          -6.018362045288086,
          -15.39211368560791,
          -9.58741283416748,
          10.33563232421875,
          -5.906740665435791,
          11.391576766967773,
          17.377197265625,
          10.699712753295898,
          -5.305246353149414,
          -2.267343521118164,
          -4.343349456787109,
          21.837438583374023,
          16.001728057861328,
          7.842818737030029,
          -5.609382152557373,
          -16.609895706176758,
          -2.844024896621704,
          -10.429341316223145,
          -15.64309310913086,
          12.263484001159668,
          -1.1402782201766968,
          -12.648846626281738,
          -3.1316418647766113,
          -21.062265396118164,
          3.5441110134124756,
          9.520685195922852,
          8.341318130493164,
          0.6960350275039673,
          -4.914437770843506,
          -20.237306594848633,
          -2.0210912227630615,
          2.7588658332824707,
          17.195327758789062,
          12.63481330871582,
          -12.208250999450684,
          7.685494422912598,
          8.291504859924316,
          -11.606571197509766,
          -7.2079339027404785,
          -1.1607128381729126,
          -0.3072724938392639,
          10.531083106994629,
          14.720563888549805,
          12.560613632202148,
          6.512241363525391,
          -10.112580299377441,
          13.671862602233887,
          -17.178207397460938,
          -3.2277722358703613,
          -11.735692977905273,
          -12.929506301879883,
          -5.117001533508301,
          5.879595756530762,
          5.595554828643799,
          -17.40211296081543,
          8.359119415283203,
          -8.787101745605469,
          14.808233261108398,
          8.298111915588379,
          2.574751615524292,
          4.656342506408691,
          -9.70499324798584,
          -9.659903526306152,
          -5.256886959075928,
          3.039923906326294,
          8.308876037597656,
          4.705663204193115,
          -2.98057222366333,
          -9.736133575439453,
          0.13579444587230682,
          11.596009254455566,
          0.9042205810546875,
          12.031846046447754,
          -1.452552318572998,
          1.9262944459915161,
          -5.290536403656006,
          -8.419549942016602,
          -14.873475074768066,
          -9.111821174621582,
          -10.901666641235352,
          -9.003732681274414,
          26.595211029052734,
          -6.252329349517822,
          4.7114362716674805,
          -8.273055076599121,
          -10.11689281463623,
          -11.838898658752441,
          -2.9279699325561523,
          -13.60876178741455,
          5.4383015632629395,
          17.336200714111328,
          -8.472076416015625,
          -9.405952453613281,
          8.189484596252441,
          -3.60772705078125,
          -1.5974986553192139,
          -4.645403861999512,
          -11.059524536132812,
          5.752514839172363,
          -8.736502647399902,
          5.938999652862549,
          -8.94559097290039,
          -4.11258602142334,
          8.376956939697266,
          -8.366150856018066,
          -4.642613887786865,
          6.060678958892822,
          10.830703735351562,
          20.624343872070312,
          10.396862030029297,
          -4.436159610748291,
          -6.1451096534729,
          -9.792961120605469,
          -9.174914360046387,
          18.666067123413086,
          14.805201530456543,
          -20.94086456298828,
          -5.756173610687256,
          3.4613990783691406,
          -2.3992559909820557,
          -0.5411341190338135,
          -2.015334129333496,
          13.731452941894531,
          22.16571617126465,
          -3.258841037750244,
          -18.610572814941406,
          -11.183942794799805,
          -7.844349384307861,
          -12.313544273376465,
          9.860270500183105,
          3.393977403640747,
          -1.6815334558486938,
          10.04281234741211,
          15.181462287902832,
          -8.655006408691406,
          -4.743268013000488,
          14.761433601379395,
          13.945658683776855,
          -3.661242723464966,
          -10.659706115722656,
          5.648898124694824,
          12.432576179504395,
          -4.543883323669434,
          -0.01741686649620533,
          15.089813232421875,
          6.2348737716674805,
          4.786400318145752,
          -5.544373989105225,
          -19.73858070373535,
          15.198652267456055,
          8.202864646911621,
          -10.39578628540039,
          -10.888463973999023,
          5.369006633758545,
          -6.0335893630981445,
          -10.197294235229492,
          -6.415465354919434,
          -5.331674098968506,
          1.9814430475234985,
          -11.287825584411621,
          0.16464219987392426,
          -1.3382166624069214,
          2.0150187015533447,
          12.400257110595703,
          -5.173732280731201,
          -5.838351726531982,
          -0.18431386351585388,
          -6.253030300140381,
          -10.492607116699219,
          -6.393081188201904,
          -5.180376052856445,
          -6.767482280731201,
          -9.441960334777832,
          -6.6911396980285645,
          -8.310906410217285,
          -8.140045166015625,
          -5.298221588134766,
          -7.140437602996826,
          -10.092002868652344,
          -6.859005928039551,
          -6.89928674697876,
          -4.936529636383057,
          -7.159583568572998,
          -5.336463451385498,
          -6.522385120391846,
          -6.235123634338379,
          22.30235481262207,
          -5.660248279571533,
          -6.065524578094482,
          -9.870153427124023,
          -5.791439533233643,
          -10.038421630859375,
          -8.921052932739258,
          22.534503936767578,
          -6.866809368133545,
          -5.936036586761475,
          -8.711031913757324,
          -3.0816216468811035,
          -9.589945793151855,
          -4.103045463562012,
          -3.2034494876861572,
          -11.016716957092285,
          -3.0663490295410156,
          -8.915168762207031,
          3.1408979892730713,
          12.278857231140137,
          -6.103575706481934,
          3.6112895011901855,
          -6.8523054122924805,
          -4.418487071990967,
          4.730139255523682,
          -11.521842956542969,
          10.553974151611328,
          -8.05187702178955,
          -0.30558159947395325,
          5.096165180206299,
          -7.129337787628174,
          -3.2717714309692383,
          -3.9770495891571045,
          9.252409934997559,
          -1.956001877784729,
          -4.562840461730957,
          -7.3252763748168945,
          -3.906874418258667,
          -11.418593406677246,
          -1.841996669769287,
          -9.315494537353516,
          10.714320182800293,
          -18.62398910522461,
          -3.929064989089966,
          -3.9928762912750244,
          -5.0709123611450195,
          -4.985664367675781,
          -4.862069129943848,
          -3.5069127082824707,
          14.27200698852539,
          -10.812650680541992,
          8.905560493469238,
          21.474496841430664,
          2.4219841957092285,
          21.28304672241211,
          21.518564224243164,
          -0.33440840244293213,
          20.901674270629883,
          -8.878766059875488,
          21.423948287963867,
          -10.967294692993164,
          22.452861785888672,
          21.044998168945312,
          -10.843947410583496,
          -6.108712196350098,
          -12.71318244934082,
          -7.9952826499938965,
          -8.097312927246094,
          5.094130516052246,
          21.04645538330078,
          -9.438058853149414,
          21.446319580078125,
          -7.840887546539307,
          -10.024470329284668,
          -4.218070983886719,
          -10.573137283325195,
          -10.593942642211914,
          -10.390405654907227,
          0.7874639630317688,
          6.836457252502441,
          11.988734245300293,
          -2.9338598251342773,
          2.4039556980133057,
          -3.656362295150757,
          -7.2871575355529785,
          -5.731074810028076,
          -4.932035446166992,
          -9.511244773864746,
          -5.290234565734863,
          -9.104483604431152,
          -9.215675354003906,
          -5.6407246589660645,
          -8.99039363861084,
          -3.500502586364746,
          0.8681964874267578,
          -5.145069599151611,
          11.691156387329102,
          -11.095269203186035,
          -1.5546711683273315,
          14.637411117553711,
          -3.253276824951172,
          6.873940944671631,
          0.1798618733882904,
          8.431775093078613,
          17.041519165039062
         ],
         "yaxis": "y"
        }
       ],
       "layout": {
        "coloraxis": {
         "colorbar": {
          "title": {
           "text": "popularity"
          }
         },
         "colorscale": [
          [
           0,
           "#0d0887"
          ],
          [
           0.1111111111111111,
           "#46039f"
          ],
          [
           0.2222222222222222,
           "#7201a8"
          ],
          [
           0.3333333333333333,
           "#9c179e"
          ],
          [
           0.4444444444444444,
           "#bd3786"
          ],
          [
           0.5555555555555556,
           "#d8576b"
          ],
          [
           0.6666666666666666,
           "#ed7953"
          ],
          [
           0.7777777777777778,
           "#fb9f3a"
          ],
          [
           0.8888888888888888,
           "#fdca26"
          ],
          [
           1,
           "#f0f921"
          ]
         ]
        },
        "legend": {
         "tracegroupgap": 0
        },
        "margin": {
         "t": 60
        },
        "template": {
         "data": {
          "bar": [
           {
            "error_x": {
             "color": "#2a3f5f"
            },
            "error_y": {
             "color": "#2a3f5f"
            },
            "marker": {
             "line": {
              "color": "#E5ECF6",
              "width": 0.5
             },
             "pattern": {
              "fillmode": "overlay",
              "size": 10,
              "solidity": 0.2
             }
            },
            "type": "bar"
           }
          ],
          "barpolar": [
           {
            "marker": {
             "line": {
              "color": "#E5ECF6",
              "width": 0.5
             },
             "pattern": {
              "fillmode": "overlay",
              "size": 10,
              "solidity": 0.2
             }
            },
            "type": "barpolar"
           }
          ],
          "carpet": [
           {
            "aaxis": {
             "endlinecolor": "#2a3f5f",
             "gridcolor": "white",
             "linecolor": "white",
             "minorgridcolor": "white",
             "startlinecolor": "#2a3f5f"
            },
            "baxis": {
             "endlinecolor": "#2a3f5f",
             "gridcolor": "white",
             "linecolor": "white",
             "minorgridcolor": "white",
             "startlinecolor": "#2a3f5f"
            },
            "type": "carpet"
           }
          ],
          "choropleth": [
           {
            "colorbar": {
             "outlinewidth": 0,
             "ticks": ""
            },
            "type": "choropleth"
           }
          ],
          "contour": [
           {
            "colorbar": {
             "outlinewidth": 0,
             "ticks": ""
            },
            "colorscale": [
             [
              0,
              "#0d0887"
             ],
             [
              0.1111111111111111,
              "#46039f"
             ],
             [
              0.2222222222222222,
              "#7201a8"
             ],
             [
              0.3333333333333333,
              "#9c179e"
             ],
             [
              0.4444444444444444,
              "#bd3786"
             ],
             [
              0.5555555555555556,
              "#d8576b"
             ],
             [
              0.6666666666666666,
              "#ed7953"
             ],
             [
              0.7777777777777778,
              "#fb9f3a"
             ],
             [
              0.8888888888888888,
              "#fdca26"
             ],
             [
              1,
              "#f0f921"
             ]
            ],
            "type": "contour"
           }
          ],
          "contourcarpet": [
           {
            "colorbar": {
             "outlinewidth": 0,
             "ticks": ""
            },
            "type": "contourcarpet"
           }
          ],
          "heatmap": [
           {
            "colorbar": {
             "outlinewidth": 0,
             "ticks": ""
            },
            "colorscale": [
             [
              0,
              "#0d0887"
             ],
             [
              0.1111111111111111,
              "#46039f"
             ],
             [
              0.2222222222222222,
              "#7201a8"
             ],
             [
              0.3333333333333333,
              "#9c179e"
             ],
             [
              0.4444444444444444,
              "#bd3786"
             ],
             [
              0.5555555555555556,
              "#d8576b"
             ],
             [
              0.6666666666666666,
              "#ed7953"
             ],
             [
              0.7777777777777778,
              "#fb9f3a"
             ],
             [
              0.8888888888888888,
              "#fdca26"
             ],
             [
              1,
              "#f0f921"
             ]
            ],
            "type": "heatmap"
           }
          ],
          "heatmapgl": [
           {
            "colorbar": {
             "outlinewidth": 0,
             "ticks": ""
            },
            "colorscale": [
             [
              0,
              "#0d0887"
             ],
             [
              0.1111111111111111,
              "#46039f"
             ],
             [
              0.2222222222222222,
              "#7201a8"
             ],
             [
              0.3333333333333333,
              "#9c179e"
             ],
             [
              0.4444444444444444,
              "#bd3786"
             ],
             [
              0.5555555555555556,
              "#d8576b"
             ],
             [
              0.6666666666666666,
              "#ed7953"
             ],
             [
              0.7777777777777778,
              "#fb9f3a"
             ],
             [
              0.8888888888888888,
              "#fdca26"
             ],
             [
              1,
              "#f0f921"
             ]
            ],
            "type": "heatmapgl"
           }
          ],
          "histogram": [
           {
            "marker": {
             "pattern": {
              "fillmode": "overlay",
              "size": 10,
              "solidity": 0.2
             }
            },
            "type": "histogram"
           }
          ],
          "histogram2d": [
           {
            "colorbar": {
             "outlinewidth": 0,
             "ticks": ""
            },
            "colorscale": [
             [
              0,
              "#0d0887"
             ],
             [
              0.1111111111111111,
              "#46039f"
             ],
             [
              0.2222222222222222,
              "#7201a8"
             ],
             [
              0.3333333333333333,
              "#9c179e"
             ],
             [
              0.4444444444444444,
              "#bd3786"
             ],
             [
              0.5555555555555556,
              "#d8576b"
             ],
             [
              0.6666666666666666,
              "#ed7953"
             ],
             [
              0.7777777777777778,
              "#fb9f3a"
             ],
             [
              0.8888888888888888,
              "#fdca26"
             ],
             [
              1,
              "#f0f921"
             ]
            ],
            "type": "histogram2d"
           }
          ],
          "histogram2dcontour": [
           {
            "colorbar": {
             "outlinewidth": 0,
             "ticks": ""
            },
            "colorscale": [
             [
              0,
              "#0d0887"
             ],
             [
              0.1111111111111111,
              "#46039f"
             ],
             [
              0.2222222222222222,
              "#7201a8"
             ],
             [
              0.3333333333333333,
              "#9c179e"
             ],
             [
              0.4444444444444444,
              "#bd3786"
             ],
             [
              0.5555555555555556,
              "#d8576b"
             ],
             [
              0.6666666666666666,
              "#ed7953"
             ],
             [
              0.7777777777777778,
              "#fb9f3a"
             ],
             [
              0.8888888888888888,
              "#fdca26"
             ],
             [
              1,
              "#f0f921"
             ]
            ],
            "type": "histogram2dcontour"
           }
          ],
          "mesh3d": [
           {
            "colorbar": {
             "outlinewidth": 0,
             "ticks": ""
            },
            "type": "mesh3d"
           }
          ],
          "parcoords": [
           {
            "line": {
             "colorbar": {
              "outlinewidth": 0,
              "ticks": ""
             }
            },
            "type": "parcoords"
           }
          ],
          "pie": [
           {
            "automargin": true,
            "type": "pie"
           }
          ],
          "scatter": [
           {
            "fillpattern": {
             "fillmode": "overlay",
             "size": 10,
             "solidity": 0.2
            },
            "type": "scatter"
           }
          ],
          "scatter3d": [
           {
            "line": {
             "colorbar": {
              "outlinewidth": 0,
              "ticks": ""
             }
            },
            "marker": {
             "colorbar": {
              "outlinewidth": 0,
              "ticks": ""
             }
            },
            "type": "scatter3d"
           }
          ],
          "scattercarpet": [
           {
            "marker": {
             "colorbar": {
              "outlinewidth": 0,
              "ticks": ""
             }
            },
            "type": "scattercarpet"
           }
          ],
          "scattergeo": [
           {
            "marker": {
             "colorbar": {
              "outlinewidth": 0,
              "ticks": ""
             }
            },
            "type": "scattergeo"
           }
          ],
          "scattergl": [
           {
            "marker": {
             "colorbar": {
              "outlinewidth": 0,
              "ticks": ""
             }
            },
            "type": "scattergl"
           }
          ],
          "scattermapbox": [
           {
            "marker": {
             "colorbar": {
              "outlinewidth": 0,
              "ticks": ""
             }
            },
            "type": "scattermapbox"
           }
          ],
          "scatterpolar": [
           {
            "marker": {
             "colorbar": {
              "outlinewidth": 0,
              "ticks": ""
             }
            },
            "type": "scatterpolar"
           }
          ],
          "scatterpolargl": [
           {
            "marker": {
             "colorbar": {
              "outlinewidth": 0,
              "ticks": ""
             }
            },
            "type": "scatterpolargl"
           }
          ],
          "scatterternary": [
           {
            "marker": {
             "colorbar": {
              "outlinewidth": 0,
              "ticks": ""
             }
            },
            "type": "scatterternary"
           }
          ],
          "surface": [
           {
            "colorbar": {
             "outlinewidth": 0,
             "ticks": ""
            },
            "colorscale": [
             [
              0,
              "#0d0887"
             ],
             [
              0.1111111111111111,
              "#46039f"
             ],
             [
              0.2222222222222222,
              "#7201a8"
             ],
             [
              0.3333333333333333,
              "#9c179e"
             ],
             [
              0.4444444444444444,
              "#bd3786"
             ],
             [
              0.5555555555555556,
              "#d8576b"
             ],
             [
              0.6666666666666666,
              "#ed7953"
             ],
             [
              0.7777777777777778,
              "#fb9f3a"
             ],
             [
              0.8888888888888888,
              "#fdca26"
             ],
             [
              1,
              "#f0f921"
             ]
            ],
            "type": "surface"
           }
          ],
          "table": [
           {
            "cells": {
             "fill": {
              "color": "#EBF0F8"
             },
             "line": {
              "color": "white"
             }
            },
            "header": {
             "fill": {
              "color": "#C8D4E3"
             },
             "line": {
              "color": "white"
             }
            },
            "type": "table"
           }
          ]
         },
         "layout": {
          "annotationdefaults": {
           "arrowcolor": "#2a3f5f",
           "arrowhead": 0,
           "arrowwidth": 1
          },
          "autotypenumbers": "strict",
          "coloraxis": {
           "colorbar": {
            "outlinewidth": 0,
            "ticks": ""
           }
          },
          "colorscale": {
           "diverging": [
            [
             0,
             "#8e0152"
            ],
            [
             0.1,
             "#c51b7d"
            ],
            [
             0.2,
             "#de77ae"
            ],
            [
             0.3,
             "#f1b6da"
            ],
            [
             0.4,
             "#fde0ef"
            ],
            [
             0.5,
             "#f7f7f7"
            ],
            [
             0.6,
             "#e6f5d0"
            ],
            [
             0.7,
             "#b8e186"
            ],
            [
             0.8,
             "#7fbc41"
            ],
            [
             0.9,
             "#4d9221"
            ],
            [
             1,
             "#276419"
            ]
           ],
           "sequential": [
            [
             0,
             "#0d0887"
            ],
            [
             0.1111111111111111,
             "#46039f"
            ],
            [
             0.2222222222222222,
             "#7201a8"
            ],
            [
             0.3333333333333333,
             "#9c179e"
            ],
            [
             0.4444444444444444,
             "#bd3786"
            ],
            [
             0.5555555555555556,
             "#d8576b"
            ],
            [
             0.6666666666666666,
             "#ed7953"
            ],
            [
             0.7777777777777778,
             "#fb9f3a"
            ],
            [
             0.8888888888888888,
             "#fdca26"
            ],
            [
             1,
             "#f0f921"
            ]
           ],
           "sequentialminus": [
            [
             0,
             "#0d0887"
            ],
            [
             0.1111111111111111,
             "#46039f"
            ],
            [
             0.2222222222222222,
             "#7201a8"
            ],
            [
             0.3333333333333333,
             "#9c179e"
            ],
            [
             0.4444444444444444,
             "#bd3786"
            ],
            [
             0.5555555555555556,
             "#d8576b"
            ],
            [
             0.6666666666666666,
             "#ed7953"
            ],
            [
             0.7777777777777778,
             "#fb9f3a"
            ],
            [
             0.8888888888888888,
             "#fdca26"
            ],
            [
             1,
             "#f0f921"
            ]
           ]
          },
          "colorway": [
           "#636efa",
           "#EF553B",
           "#00cc96",
           "#ab63fa",
           "#FFA15A",
           "#19d3f3",
           "#FF6692",
           "#B6E880",
           "#FF97FF",
           "#FECB52"
          ],
          "font": {
           "color": "#2a3f5f"
          },
          "geo": {
           "bgcolor": "white",
           "lakecolor": "white",
           "landcolor": "#E5ECF6",
           "showlakes": true,
           "showland": true,
           "subunitcolor": "white"
          },
          "hoverlabel": {
           "align": "left"
          },
          "hovermode": "closest",
          "mapbox": {
           "style": "light"
          },
          "paper_bgcolor": "white",
          "plot_bgcolor": "#E5ECF6",
          "polar": {
           "angularaxis": {
            "gridcolor": "white",
            "linecolor": "white",
            "ticks": ""
           },
           "bgcolor": "#E5ECF6",
           "radialaxis": {
            "gridcolor": "white",
            "linecolor": "white",
            "ticks": ""
           }
          },
          "scene": {
           "xaxis": {
            "backgroundcolor": "#E5ECF6",
            "gridcolor": "white",
            "gridwidth": 2,
            "linecolor": "white",
            "showbackground": true,
            "ticks": "",
            "zerolinecolor": "white"
           },
           "yaxis": {
            "backgroundcolor": "#E5ECF6",
            "gridcolor": "white",
            "gridwidth": 2,
            "linecolor": "white",
            "showbackground": true,
            "ticks": "",
            "zerolinecolor": "white"
           },
           "zaxis": {
            "backgroundcolor": "#E5ECF6",
            "gridcolor": "white",
            "gridwidth": 2,
            "linecolor": "white",
            "showbackground": true,
            "ticks": "",
            "zerolinecolor": "white"
           }
          },
          "shapedefaults": {
           "line": {
            "color": "#2a3f5f"
           }
          },
          "ternary": {
           "aaxis": {
            "gridcolor": "white",
            "linecolor": "white",
            "ticks": ""
           },
           "baxis": {
            "gridcolor": "white",
            "linecolor": "white",
            "ticks": ""
           },
           "bgcolor": "#E5ECF6",
           "caxis": {
            "gridcolor": "white",
            "linecolor": "white",
            "ticks": ""
           }
          },
          "title": {
           "x": 0.05
          },
          "xaxis": {
           "automargin": true,
           "gridcolor": "white",
           "linecolor": "white",
           "ticks": "",
           "title": {
            "standoff": 15
           },
           "zerolinecolor": "white",
           "zerolinewidth": 2
          },
          "yaxis": {
           "automargin": true,
           "gridcolor": "white",
           "linecolor": "white",
           "ticks": "",
           "title": {
            "standoff": 15
           },
           "zerolinecolor": "white",
           "zerolinewidth": 2
          }
         }
        },
        "xaxis": {
         "anchor": "y",
         "domain": [
          0,
          1
         ],
         "title": {
          "text": "tsne_1"
         }
        },
        "yaxis": {
         "anchor": "x",
         "domain": [
          0,
          1
         ],
         "title": {
          "text": "tsne_2"
         }
        }
       }
      },
      "text/html": [
       "<div>                        <script type=\"text/javascript\">window.PlotlyConfig = {MathJaxConfig: 'local'};</script>\n",
       "        <script charset=\"utf-8\" src=\"https://cdn.plot.ly/plotly-2.35.2.min.js\"></script>                <div id=\"18615ba2-beba-4d7e-81a6-fe80d4271f33\" class=\"plotly-graph-div\" style=\"height:100%; width:100%;\"></div>            <script type=\"text/javascript\">                                    window.PLOTLYENV=window.PLOTLYENV || {};                                    if (document.getElementById(\"18615ba2-beba-4d7e-81a6-fe80d4271f33\")) {                    Plotly.newPlot(                        \"18615ba2-beba-4d7e-81a6-fe80d4271f33\",                        [{\"customdata\":[[1,\"Toy Story (1995)\",452],[2,\"GoldenEye (1995)\",131],[3,\"Four Rooms (1995)\",90],[4,\"Get Shorty (1995)\",209],[5,\"Copycat (1995)\",86],[6,\"Shanghai Triad (Yao a yao yao dao waipo qiao) (1995)\",26],[7,\"Twelve Monkeys (1995)\",392],[8,\"Babe (1995)\",219],[9,\"Dead Man Walking (1995)\",299],[10,\"Richard III (1995)\",89],[11,\"Seven (Se7en) (1995)\",236],[12,\"Usual Suspects, The (1995)\",267],[13,\"Mighty Aphrodite (1995)\",184],[14,\"Postino, Il (1994)\",183],[15,\"Mr. Holland's Opus (1995)\",293],[16,\"French Twist (Gazon maudit) (1995)\",39],[17,\"From Dusk Till Dawn (1996)\",92],[18,\"White Balloon, The (1995)\",10],[19,\"Antonia's Line (1995)\",69],[20,\"Angels and Insects (1995)\",72],[21,\"Muppet Treasure Island (1996)\",84],[22,\"Braveheart (1995)\",297],[23,\"Taxi Driver (1976)\",182],[24,\"Rumble in the Bronx (1995)\",174],[25,\"Birdcage, The (1996)\",293],[26,\"Brothers McMullen, The (1995)\",73],[27,\"Bad Boys (1995)\",57],[28,\"Apollo 13 (1995)\",276],[29,\"Batman Forever (1995)\",114],[30,\"Belle de jour (1967)\",37],[31,\"Crimson Tide (1995)\",154],[32,\"Crumb (1994)\",81],[33,\"Desperado (1995)\",97],[34,\"Doom Generation, The (1995)\",7],[35,\"Free Willy 2: The Adventure Home (1995)\",11],[36,\"Mad Love (1995)\",13],[37,\"Nadja (1994)\",8],[38,\"Net, The (1995)\",120],[39,\"Strange Days (1995)\",87],[40,\"To Wong Foo, Thanks for Everything! Julie Newmar (1995)\",57],[41,\"Billy Madison (1995)\",37],[42,\"Clerks (1994)\",148],[43,\"Disclosure (1994)\",40],[44,\"Dolores Claiborne (1994)\",79],[45,\"Eat Drink Man Woman (1994)\",80],[46,\"Exotica (1994)\",27],[47,\"Ed Wood (1994)\",133],[48,\"Hoop Dreams (1994)\",117],[49,\"I.Q. (1994)\",81],[50,\"Star Wars (1977)\",583],[51,\"Legends of the Fall (1994)\",81],[52,\"Madness of King George, The (1994)\",91],[53,\"Natural Born Killers (1994)\",128],[54,\"Outbreak (1995)\",104],[55,\"Professional, The (1994)\",149],[56,\"Pulp Fiction (1994)\",394],[57,\"Priest (1994)\",40],[58,\"Quiz Show (1994)\",175],[59,\"Three Colors: Red (1994)\",83],[60,\"Three Colors: Blue (1993)\",64],[61,\"Three Colors: White (1994)\",59],[62,\"Stargate (1994)\",127],[63,\"Santa Clause, The (1994)\",82],[64,\"Shawshank Redemption, The (1994)\",283],[65,\"What's Eating Gilbert Grape (1993)\",115],[66,\"While You Were Sleeping (1995)\",162],[67,\"Ace Ventura: Pet Detective (1994)\",103],[68,\"Crow, The (1994)\",134],[69,\"Forrest Gump (1994)\",321],[70,\"Four Weddings and a Funeral (1994)\",251],[71,\"Lion King, The (1994)\",220],[72,\"Mask, The (1994)\",129],[73,\"Maverick (1994)\",128],[74,\"Faster Pussycat! Kill! Kill! (1965)\",7],[75,\"Brother Minister: The Assassination of Malcolm X (1994)\",5],[76,\"Carlito's Way (1993)\",54],[77,\"Firm, The (1993)\",151],[78,\"Free Willy (1993)\",33],[79,\"Fugitive, The (1993)\",336],[80,\"Hot Shots! Part Deux (1993)\",68],[81,\"Hudsucker Proxy, The (1994)\",110],[82,\"Jurassic Park (1993)\",261],[83,\"Much Ado About Nothing (1993)\",176],[84,\"Robert A. Heinlein's The Puppet Masters (1994)\",18],[85,\"Ref, The (1994)\",58],[86,\"Remains of the Day, The (1993)\",150],[87,\"Searching for Bobby Fischer (1993)\",138],[88,\"Sleepless in Seattle (1993)\",213],[89,\"Blade Runner (1982)\",275],[90,\"So I Married an Axe Murderer (1993)\",95],[91,\"Nightmare Before Christmas, The (1993)\",143],[92,\"True Romance (1993)\",104],[93,\"Welcome to the Dollhouse (1995)\",112],[94,\"Home Alone (1990)\",137],[95,\"Aladdin (1992)\",219],[96,\"Terminator 2: Judgment Day (1991)\",295],[97,\"Dances with Wolves (1990)\",256],[98,\"Silence of the Lambs, The (1991)\",390],[99,\"Snow White and the Seven Dwarfs (1937)\",172],[100,\"Fargo (1996)\",508],[101,\"Heavy Metal (1981)\",73],[102,\"Aristocats, The (1970)\",54],[103,\"All Dogs Go to Heaven 2 (1996)\",15],[104,\"Theodore Rex (1995)\",5],[105,\"Sgt. Bilko (1996)\",74],[106,\"Diabolique (1996)\",71],[107,\"Moll Flanders (1996)\",42],[108,\"Kids in the Hall: Brain Candy (1996)\",65],[109,\"Mystery Science Theater 3000: The Movie (1996)\",130],[110,\"Operation Dumbo Drop (1995)\",31],[111,\"Truth About Cats & Dogs, The (1996)\",272],[112,\"Flipper (1996)\",20],[113,\"Horseman on the Roof, The (Hussard sur le toit, Le) (1995)\",9],[114,\"Wallace & Gromit: The Best of Aardman Animation (1996)\",67],[115,\"Haunted World of Edward D. Wood Jr., The (1995)\",15],[116,\"Cold Comfort Farm (1995)\",125],[117,\"Rock, The (1996)\",378],[118,\"Twister (1996)\",293],[119,\"Maya Lin: A Strong Clear Vision (1994)\",4],[120,\"Striptease (1996)\",67],[121,\"Independence Day (ID4) (1996)\",429],[122,\"Cable Guy, The (1996)\",106],[123,\"Frighteners, The (1996)\",115],[124,\"Lone Star (1996)\",187],[125,\"Phenomenon (1996)\",244],[126,\"Spitfire Grill, The (1996)\",97],[127,\"Godfather, The (1972)\",413],[128,\"Supercop (1992)\",65],[129,\"Bound (1996)\",129],[130,\"Kansas City (1996)\",23],[131,\"Breakfast at Tiffany's (1961)\",95],[132,\"Wizard of Oz, The (1939)\",246],[133,\"Gone with the Wind (1939)\",171],[134,\"Citizen Kane (1941)\",198],[135,\"2001: A Space Odyssey (1968)\",259],[136,\"Mr. Smith Goes to Washington (1939)\",105],[137,\"Big Night (1996)\",171],[138,\"D3: The Mighty Ducks (1996)\",19],[139,\"Love Bug, The (1969)\",50],[140,\"Homeward Bound: The Incredible Journey (1993)\",61],[141,\"20,000 Leagues Under the Sea (1954)\",72],[142,\"Bedknobs and Broomsticks (1971)\",57],[143,\"Sound of Music, The (1965)\",222],[144,\"Die Hard (1988)\",243],[145,\"Lawnmower Man, The (1992)\",65],[146,\"Unhook the Stars (1996)\",10],[147,\"Long Kiss Goodnight, The (1996)\",185],[148,\"Ghost and the Darkness, The (1996)\",128],[149,\"Jude (1996)\",23],[150,\"Swingers (1996)\",157],[151,\"Willy Wonka and the Chocolate Factory (1971)\",326],[152,\"Sleeper (1973)\",82],[153,\"Fish Called Wanda, A (1988)\",247],[154,\"Monty Python's Life of Brian (1979)\",174],[155,\"Dirty Dancing (1987)\",98],[156,\"Reservoir Dogs (1992)\",148],[157,\"Platoon (1986)\",127],[158,\"Weekend at Bernie's (1989)\",60],[159,\"Basic Instinct (1992)\",101],[160,\"Glengarry Glen Ross (1992)\",69],[161,\"Top Gun (1986)\",220],[162,\"On Golden Pond (1981)\",106],[163,\"Return of the Pink Panther, The (1974)\",92],[164,\"Abyss, The (1989)\",151],[165,\"Jean de Florette (1986)\",64],[166,\"Manon of the Spring (Manon des sources) (1986)\",58],[167,\"Private Benjamin (1980)\",67],[168,\"Monty Python and the Holy Grail (1974)\",316],[169,\"Wrong Trousers, The (1993)\",118],[170,\"Cinema Paradiso (1988)\",121],[171,\"Delicatessen (1991)\",65],[172,\"Empire Strikes Back, The (1980)\",367],[173,\"Princess Bride, The (1987)\",324],[174,\"Raiders of the Lost Ark (1981)\",420],[175,\"Brazil (1985)\",208],[176,\"Aliens (1986)\",284],[177,\"Good, The Bad and The Ugly, The (1966)\",137],[178,\"12 Angry Men (1957)\",125],[179,\"Clockwork Orange, A (1971)\",221],[180,\"Apocalypse Now (1979)\",221],[181,\"Return of the Jedi (1983)\",507],[182,\"GoodFellas (1990)\",226],[183,\"Alien (1979)\",291],[184,\"Army of Darkness (1993)\",116],[185,\"Psycho (1960)\",239],[186,\"Blues Brothers, The (1980)\",251],[187,\"Godfather: Part II, The (1974)\",209],[188,\"Full Metal Jacket (1987)\",170],[189,\"Grand Day Out, A (1992)\",66],[190,\"Henry V (1989)\",124],[191,\"Amadeus (1984)\",276],[192,\"Raging Bull (1980)\",116],[193,\"Right Stuff, The (1983)\",157],[194,\"Sting, The (1973)\",241],[195,\"Terminator, The (1984)\",301],[196,\"Dead Poets Society (1989)\",251],[197,\"Graduate, The (1967)\",239],[198,\"Nikita (La Femme Nikita) (1990)\",127],[199,\"Bridge on the River Kwai, The (1957)\",165],[200,\"Shining, The (1980)\",206],[201,\"Evil Dead II (1987)\",89],[202,\"Groundhog Day (1993)\",280],[203,\"Unforgiven (1992)\",182],[204,\"Back to the Future (1985)\",350],[205,\"Patton (1970)\",136],[206,\"Akira (1988)\",50],[207,\"Cyrano de Bergerac (1990)\",66],[208,\"Young Frankenstein (1974)\",200],[209,\"This Is Spinal Tap (1984)\",191],[210,\"Indiana Jones and the Last Crusade (1989)\",331],[211,\"M*A*S*H (1970)\",206],[212,\"Unbearable Lightness of Being, The (1988)\",92],[213,\"Room with a View, A (1986)\",134],[214,\"Pink Floyd - The Wall (1982)\",114],[215,\"Field of Dreams (1989)\",212],[216,\"When Harry Met Sally... (1989)\",290],[217,\"Bram Stoker's Dracula (1992)\",120],[218,\"Cape Fear (1991)\",171],[219,\"Nightmare on Elm Street, A (1984)\",111],[220,\"Mirror Has Two Faces, The (1996)\",66],[221,\"Breaking the Waves (1996)\",74],[222,\"Star Trek: First Contact (1996)\",365],[223,\"Sling Blade (1996)\",136],[224,\"Ridicule (1996)\",44],[225,\"101 Dalmatians (1996)\",109],[226,\"Die Hard 2 (1990)\",166],[227,\"Star Trek VI: The Undiscovered Country (1991)\",161],[228,\"Star Trek: The Wrath of Khan (1982)\",244],[229,\"Star Trek III: The Search for Spock (1984)\",171],[230,\"Star Trek IV: The Voyage Home (1986)\",199],[231,\"Batman Returns (1992)\",142],[232,\"Young Guns (1988)\",101],[233,\"Under Siege (1992)\",124],[234,\"Jaws (1975)\",280],[235,\"Mars Attacks! (1996)\",217],[236,\"Citizen Ruth (1996)\",45],[237,\"Jerry Maguire (1996)\",384],[238,\"Raising Arizona (1987)\",256],[239,\"Sneakers (1992)\",150],[240,\"Beavis and Butt-head Do America (1996)\",156],[241,\"Last of the Mohicans, The (1992)\",128],[242,\"Kolya (1996)\",117],[243,\"Jungle2Jungle (1997)\",132],[244,\"Smilla's Sense of Snow (1997)\",48],[245,\"Devil's Own, The (1997)\",240],[246,\"Chasing Amy (1997)\",124],[247,\"Turbo: A Power Rangers Movie (1997)\",5],[248,\"Grosse Pointe Blank (1997)\",160],[249,\"Austin Powers: International Man of Mystery (1997)\",130],[250,\"Fifth Element, The (1997)\",197],[251,\"Shall We Dance? (1996)\",46],[252,\"Lost World: Jurassic Park, The (1997)\",158],[253,\"Pillow Book, The (1995)\",26],[254,\"Batman & Robin (1997)\",62],[255,\"My Best Friend's Wedding (1997)\",172],[256,\"When the Cats Away (Chacun cherche son chat) (1996)\",16],[257,\"Men in Black (1997)\",303],[258,\"Contact (1997)\",509],[259,\"George of the Jungle (1997)\",162],[260,\"Event Horizon (1997)\",127],[261,\"Air Bud (1997)\",43],[262,\"In the Company of Men (1997)\",66],[263,\"Steel (1997)\",19],[264,\"Mimic (1997)\",101],[265,\"Hunt for Red October, The (1990)\",227],[266,\"Kull the Conqueror (1997)\",35],[267,\"unknown\",9],[268,\"Chasing Amy (1997)\",255],[269,\"Full Monty, The (1997)\",315],[270,\"Gattaca (1997)\",136],[271,\"Starship Troopers (1997)\",211],[272,\"Good Will Hunting (1997)\",198],[273,\"Heat (1995)\",223],[274,\"Sabrina (1995)\",190],[275,\"Sense and Sensibility (1995)\",268],[276,\"Leaving Las Vegas (1995)\",298],[277,\"Restoration (1995)\",71],[278,\"Bed of Roses (1996)\",60],[279,\"Once Upon a Time... When We Were Colored (1995)\",28],[280,\"Up Close and Personal (1996)\",85],[281,\"River Wild, The (1994)\",146],[282,\"Time to Kill, A (1996)\",232],[283,\"Emma (1996)\",177],[284,\"Tin Cup (1996)\",193],[285,\"Secrets & Lies (1996)\",162],[286,\"English Patient, The (1996)\",481],[287,\"Marvin's Room (1996)\",78],[288,\"Scream (1996)\",478],[289,\"Evita (1996)\",259],[290,\"Fierce Creatures (1997)\",96],[291,\"Absolute Power (1997)\",127],[292,\"Rosewood (1997)\",114],[293,\"Donnie Brasco (1997)\",147],[294,\"Liar Liar (1997)\",485],[295,\"Breakdown (1997)\",77],[296,\"Promesse, La (1996)\",6],[297,\"Ulee's Gold (1997)\",50],[298,\"Face\\u002fOff (1997)\",194],[299,\"Hoodlum (1997)\",73],[300,\"Air Force One (1997)\",431],[301,\"In & Out (1997)\",230],[302,\"L.A. Confidential (1997)\",297],[303,\"Ulee's Gold (1997)\",134],[304,\"Fly Away Home (1996)\",149],[305,\"Ice Storm, The (1997)\",87],[306,\"Mrs. Brown (Her Majesty, Mrs. Brown) (1997)\",96],[307,\"Devil's Advocate, The (1997)\",188],[308,\"FairyTale: A True Story (1997)\",30],[309,\"Deceiver (1997)\",28],[310,\"Rainmaker, The (1997)\",145],[311,\"Wings of the Dove, The (1997)\",75],[312,\"Midnight in the Garden of Good and Evil (1997)\",80],[313,\"Titanic (1997)\",350],[314,\"3 Ninjas: High Noon At Mega Mountain (1998)\",5],[315,\"Apt Pupil (1998)\",160],[316,\"As Good As It Gets (1997)\",112],[317,\"In the Name of the Father (1993)\",102],[318,\"Schindler's List (1993)\",298],[319,\"Everyone Says I Love You (1996)\",168],[320,\"Paradise Lost: The Child Murders at Robin Hood Hills (1996)\",20],[321,\"Mother (1996)\",169],[322,\"Murder at 1600 (1997)\",218],[323,\"Dante's Peak (1997)\",240],[324,\"Lost Highway (1997)\",125],[325,\"Crash (1996)\",128],[326,\"G.I. Jane (1997)\",175],[327,\"Cop Land (1997)\",175],[328,\"Conspiracy Theory (1997)\",295],[329,\"Desperate Measures (1998)\",45],[330,\"187 (1997)\",41],[331,\"Edge, The (1997)\",113],[332,\"Kiss the Girls (1997)\",143],[333,\"Game, The (1997)\",251],[334,\"U Turn (1997)\",64],[335,\"How to Be a Player (1997)\",21],[336,\"Playing God (1997)\",43],[337,\"House of Yes, The (1997)\",18],[338,\"Bean (1997)\",91],[339,\"Mad City (1997)\",47],[340,\"Boogie Nights (1997)\",189],[341,\"Critical Care (1997)\",11],[342,\"Man Who Knew Too Little, The (1997)\",52],[343,\"Alien: Resurrection (1997)\",124],[344,\"Apostle, The (1997)\",55],[345,\"Deconstructing Harry (1997)\",65],[346,\"Jackie Brown (1997)\",126],[347,\"Wag the Dog (1997)\",137],[348,\"Desperate Measures (1998)\",27],[349,\"Hard Rain (1998)\",31],[350,\"Fallen (1998)\",41],[351,\"Prophecy II, The (1998)\",20],[352,\"Spice World (1997)\",26],[353,\"Deep Rising (1998)\",14],[354,\"Wedding Singer, The (1998)\",72],[355,\"Sphere (1998)\",41],[356,\"Client, The (1994)\",97],[357,\"One Flew Over the Cuckoo's Nest (1975)\",264],[358,\"Spawn (1997)\",143],[359,\"Assignment, The (1997)\",18],[360,\"Wonderland (1997)\",10],[361,\"Incognito (1997)\",10],[362,\"Blues Brothers 2000 (1998)\",28],[363,\"Sudden Death (1995)\",47],[364,\"Ace Ventura: When Nature Calls (1995)\",37],[365,\"Powder (1995)\",48],[366,\"Dangerous Minds (1995)\",47],[367,\"Clueless (1995)\",170],[368,\"Bio-Dome (1996)\",31],[369,\"Black Sheep (1996)\",55],[370,\"Mary Reilly (1996)\",39],[371,\"Bridges of Madison County, The (1995)\",67],[372,\"Jeffrey (1995)\",34],[373,\"Judge Dredd (1995)\",39],[374,\"Mighty Morphin Power Rangers: The Movie (1995)\",11],[375,\"Showgirls (1995)\",23],[376,\"Houseguest (1994)\",24],[377,\"Heavyweights (1994)\",13],[378,\"Miracle on 34th Street (1994)\",101],[379,\"Tales From the Crypt Presents: Demon Knight (1995)\",43],[380,\"Star Trek: Generations (1994)\",116],[381,\"Muriel's Wedding (1994)\",100],[382,\"Adventures of Priscilla, Queen of the Desert, The (1994)\",111],[383,\"Flintstones, The (1994)\",31],[384,\"Naked Gun 33 1\\u002f3: The Final Insult (1994)\",69],[385,\"True Lies (1994)\",208],[386,\"Addams Family Values (1993)\",87],[387,\"Age of Innocence, The (1993)\",65],[388,\"Beverly Hills Cop III (1994)\",28],[389,\"Black Beauty (1994)\",27],[390,\"Fear of a Black Hat (1993)\",10],[391,\"Last Action Hero (1993)\",59],[392,\"Man Without a Face, The (1993)\",68],[393,\"Mrs. Doubtfire (1993)\",192],[394,\"Radioland Murders (1994)\",12],[395,\"Robin Hood: Men in Tights (1993)\",56],[396,\"Serial Mom (1994)\",54],[397,\"Striking Distance (1993)\",12],[398,\"Super Mario Bros. (1993)\",26],[399,\"Three Musketeers, The (1993)\",89],[400,\"Little Rascals, The (1994)\",18],[401,\"Brady Bunch Movie, The (1995)\",76],[402,\"Ghost (1990)\",170],[403,\"Batman (1989)\",201],[404,\"Pinocchio (1940)\",101],[405,\"Mission: Impossible (1996)\",344],[406,\"Thinner (1996)\",49],[407,\"Spy Hard (1996)\",43],[408,\"Close Shave, A (1995)\",112],[409,\"Jack (1996)\",70],[410,\"Kingpin (1996)\",162],[411,\"Nutty Professor, The (1996)\",163],[412,\"Very Brady Sequel, A (1996)\",93],[413,\"Tales from the Crypt Presents: Bordello of Blood (1996)\",55],[414,\"My Favorite Year (1982)\",62],[415,\"Apple Dumpling Gang, The (1975)\",25],[416,\"Old Yeller (1957)\",64],[417,\"Parent Trap, The (1961)\",73],[418,\"Cinderella (1950)\",129],[419,\"Mary Poppins (1964)\",178],[420,\"Alice in Wonderland (1951)\",81],[421,\"William Shakespeare's Romeo and Juliet (1996)\",106],[422,\"Aladdin and the King of Thieves (1996)\",26],[423,\"E.T. the Extra-Terrestrial (1982)\",300],[424,\"Children of the Corn: The Gathering (1996)\",19],[425,\"Bob Roberts (1992)\",85],[426,\"Transformers: The Movie, The (1986)\",32],[427,\"To Kill a Mockingbird (1962)\",219],[428,\"Harold and Maude (1971)\",121],[429,\"Day the Earth Stood Still, The (1951)\",97],[430,\"Duck Soup (1933)\",93],[431,\"Highlander (1986)\",153],[432,\"Fantasia (1940)\",174],[433,\"Heathers (1989)\",171],[434,\"Forbidden Planet (1956)\",67],[435,\"Butch Cassidy and the Sundance Kid (1969)\",216],[436,\"American Werewolf in London, An (1981)\",99],[437,\"Amityville 1992: It's About Time (1992)\",5],[438,\"Amityville 3-D (1983)\",6],[439,\"Amityville: A New Generation (1993)\",5],[440,\"Amityville II: The Possession (1982)\",14],[441,\"Amityville Horror, The (1979)\",53],[442,\"Amityville Curse, The (1990)\",4],[443,\"Birds, The (1963)\",162],[444,\"Blob, The (1958)\",46],[445,\"Body Snatcher, The (1945)\",22],[446,\"Burnt Offerings (1976)\",9],[447,\"Carrie (1976)\",121],[448,\"Omen, The (1976)\",85],[449,\"Star Trek: The Motion Picture (1979)\",117],[450,\"Star Trek V: The Final Frontier (1989)\",63],[451,\"Grease (1978)\",170],[452,\"Jaws 2 (1978)\",66],[453,\"Jaws 3-D (1983)\",16],[454,\"Bastard Out of Carolina (1996)\",16],[455,\"Jackie Chan's First Strike (1996)\",145],[456,\"Beverly Hills Ninja (1997)\",48],[457,\"Free Willy 3: The Rescue (1997)\",27],[458,\"Nixon (1995)\",90],[459,\"Cry, the Beloved Country (1995)\",24],[460,\"Crossing Guard, The (1995)\",28],[461,\"Smoke (1995)\",74],[462,\"Like Water For Chocolate (Como agua para chocolate) (1992)\",148],[463,\"Secret of Roan Inish, The (1994)\",71],[464,\"Vanya on 42nd Street (1994)\",27],[465,\"Jungle Book, The (1994)\",85],[466,\"Red Rock West (1992)\",52],[467,\"Bronx Tale, A (1993)\",48],[468,\"Rudy (1993)\",64],[469,\"Short Cuts (1993)\",67],[470,\"Tombstone (1993)\",108],[471,\"Courage Under Fire (1996)\",221],[472,\"Dragonheart (1996)\",158],[473,\"James and the Giant Peach (1996)\",126],[474,\"Dr. Strangelove or: How I Learned to Stop Worrying and Love the Bomb (1963)\",194],[475,\"Trainspotting (1996)\",250],[476,\"First Wives Club, The (1996)\",160],[477,\"Matilda (1996)\",95],[478,\"Philadelphia Story, The (1940)\",104],[479,\"Vertigo (1958)\",179],[480,\"North by Northwest (1959)\",179],[481,\"Apartment, The (1960)\",63],[482,\"Some Like It Hot (1959)\",128],[483,\"Casablanca (1942)\",243],[484,\"Maltese Falcon, The (1941)\",138],[485,\"My Fair Lady (1964)\",125],[486,\"Sabrina (1954)\",64],[487,\"Roman Holiday (1953)\",68],[488,\"Sunset Blvd. (1950)\",65],[489,\"Notorious (1946)\",52],[490,\"To Catch a Thief (1955)\",50],[491,\"Adventures of Robin Hood, The (1938)\",67],[492,\"East of Eden (1955)\",59],[493,\"Thin Man, The (1934)\",60],[494,\"His Girl Friday (1940)\",56],[495,\"Around the World in 80 Days (1956)\",59],[496,\"It's a Wonderful Life (1946)\",231],[497,\"Bringing Up Baby (1938)\",68],[498,\"African Queen, The (1951)\",152],[499,\"Cat on a Hot Tin Roof (1958)\",62],[500,\"Fly Away Home (1996)\",31],[501,\"Dumbo (1941)\",123],[502,\"Bananas (1971)\",57],[503,\"Candidate, The (1972)\",39],[504,\"Bonnie and Clyde (1967)\",122],[505,\"Dial M for Murder (1954)\",68],[506,\"Rebel Without a Cause (1955)\",90],[507,\"Streetcar Named Desire, A (1951)\",98],[508,\"People vs. Larry Flynt, The (1996)\",215],[509,\"My Left Foot (1989)\",121],[510,\"Magnificent Seven, The (1954)\",121],[511,\"Lawrence of Arabia (1962)\",173],[512,\"Wings of Desire (1987)\",57],[513,\"Third Man, The (1949)\",72],[514,\"Annie Hall (1977)\",180],[515,\"Boot, Das (1981)\",201],[516,\"Local Hero (1983)\",63],[517,\"Manhattan (1979)\",91],[518,\"Miller's Crossing (1990)\",89],[519,\"Treasure of the Sierra Madre, The (1948)\",80],[520,\"Great Escape, The (1963)\",124],[521,\"Deer Hunter, The (1978)\",120],[522,\"Down by Law (1986)\",35],[523,\"Cool Hand Luke (1967)\",164],[524,\"Great Dictator, The (1940)\",46],[525,\"Big Sleep, The (1946)\",73],[526,\"Ben-Hur (1959)\",124],[527,\"Gandhi (1982)\",195],[528,\"Killing Fields, The (1984)\",121],[529,\"My Life as a Dog (Mitt liv som hund) (1985)\",93],[530,\"Man Who Would Be King, The (1975)\",80],[531,\"Shine (1996)\",129],[532,\"Kama Sutra: A Tale of Love (1996)\",22],[533,\"Daytrippers, The (1996)\",15],[534,\"Traveller (1997)\",13],[535,\"Addicted to Love (1997)\",54],[536,\"Ponette (1996)\",10],[537,\"My Own Private Idaho (1991)\",30],[538,\"Anastasia (1997)\",66],[539,\"Mouse Hunt (1997)\",44],[540,\"Money Train (1995)\",43],[541,\"Mortal Kombat (1995)\",49],[542,\"Pocahontas (1995)\",51],[543,\"Mis\\u00e9rables, Les (1995)\",21],[544,\"Things to Do in Denver when You're Dead (1995)\",71],[545,\"Vampire in Brooklyn (1995)\",12],[546,\"Broken Arrow (1996)\",254],[547,\"Young Poisoner's Handbook, The (1995)\",41],[548,\"NeverEnding Story III, The (1994)\",12],[549,\"Rob Roy (1995)\",92],[550,\"Die Hard: With a Vengeance (1995)\",151],[551,\"Lord of Illusions (1995)\",24],[552,\"Species (1995)\",45],[553,\"Walk in the Clouds, A (1995)\",63],[554,\"Waterworld (1995)\",102],[555,\"White Man's Burden (1995)\",10],[556,\"Wild Bill (1995)\",12],[557,\"Farinelli: il castrato (1994)\",17],[558,\"Heavenly Creatures (1994)\",70],[559,\"Interview with the Vampire (1994)\",137],[560,\"Kid in King Arthur's Court, A (1995)\",22],[561,\"Mary Shelley's Frankenstein (1994)\",59],[562,\"Quick and the Dead, The (1995)\",48],[563,\"Stephen King's The Langoliers (1995)\",29],[564,\"Tales from the Hood (1995)\",27],[565,\"Village of the Damned (1995)\",22],[566,\"Clear and Present Danger (1994)\",179],[567,\"Wes Craven's New Nightmare (1994)\",35],[568,\"Speed (1994)\",230],[569,\"Wolf (1994)\",67],[570,\"Wyatt Earp (1994)\",50],[571,\"Another Stakeout (1993)\",28],[572,\"Blown Away (1994)\",29],[573,\"Body Snatchers (1993)\",33],[574,\"Boxing Helena (1993)\",15],[575,\"City Slickers II: The Legend of Curly's Gold (1994)\",44],[576,\"Cliffhanger (1993)\",93],[577,\"Coneheads (1993)\",41],[578,\"Demolition Man (1993)\",92],[579,\"Fatal Instinct (1993)\",19],[580,\"Englishman Who Went Up a Hill, But Came Down a Mountain, The (1995)\",32],[581,\"Kalifornia (1993)\",59],[582,\"Piano, The (1993)\",168],[583,\"Romeo Is Bleeding (1993)\",37],[584,\"Secret Garden, The (1993)\",79],[585,\"Son in Law (1993)\",39],[586,\"Terminal Velocity (1994)\",34],[587,\"Hour of the Pig, The (1993)\",14],[588,\"Beauty and the Beast (1991)\",202],[589,\"Wild Bunch, The (1969)\",43],[590,\"Hellraiser: Bloodline (1996)\",18],[591,\"Primal Fear (1996)\",178],[592,\"True Crime (1995)\",9],[593,\"Stalingrad (1993)\",12],[594,\"Heavy (1995)\",5],[595,\"Fan, The (1996)\",64],[596,\"Hunchback of Notre Dame, The (1996)\",127],[597,\"Eraser (1996)\",206],[598,\"Big Squeeze, The (1996)\",4],[599,\"Police Story 4: Project S (Chao ji ji hua) (1993)\",1],[600,\"Daniel Defoe's Robinson Crusoe (1996)\",2],[601,\"For Whom the Bell Tolls (1943)\",20],[602,\"American in Paris, An (1951)\",50],[603,\"Rear Window (1954)\",209],[604,\"It Happened One Night (1934)\",81],[605,\"Meet Me in St. Louis (1944)\",31],[606,\"All About Eve (1950)\",66],[607,\"Rebecca (1940)\",66],[608,\"Spellbound (1945)\",30],[609,\"Father of the Bride (1950)\",60],[610,\"Gigi (1958)\",41],[611,\"Laura (1944)\",40],[612,\"Lost Horizon (1937)\",34],[613,\"My Man Godfrey (1936)\",27],[614,\"Giant (1956)\",51],[615,\"39 Steps, The (1935)\",59],[616,\"Night of the Living Dead (1968)\",64],[617,\"Blue Angel, The (Blaue Engel, Der) (1930)\",18],[618,\"Picnic (1955)\",18],[619,\"Extreme Measures (1996)\",64],[620,\"Chamber, The (1996)\",43],[621,\"Davy Crockett, King of the Wild Frontier (1955)\",11],[622,\"Swiss Family Robinson (1960)\",39],[623,\"Angels in the Outfield (1994)\",39],[624,\"Three Caballeros, The (1945)\",22],[625,\"Sword in the Stone, The (1963)\",82],[626,\"So Dear to My Heart (1949)\",4],[627,\"Robin Hood: Prince of Thieves (1991)\",75],[628,\"Sleepers (1996)\",169],[629,\"Victor\\u002fVictoria (1982)\",77],[630,\"Great Race, The (1965)\",31],[631,\"Crying Game, The (1992)\",119],[632,\"Sophie's Choice (1982)\",58],[633,\"Christmas Carol, A (1938)\",69],[634,\"Microcosmos: Le peuple de l'herbe (1996)\",24],[635,\"Fog, The (1980)\",23],[636,\"Escape from New York (1981)\",91],[637,\"Howling, The (1981)\",38],[638,\"Return of Martin Guerre, The (Retour de Martin Guerre, Le) (1982)\",44],[639,\"Tin Drum, The (Blechtrommel, Die) (1979)\",40],[640,\"Cook the Thief His Wife & Her Lover, The (1989)\",82],[641,\"Paths of Glory (1957)\",33],[642,\"Grifters, The (1990)\",89],[643,\"The Innocent (1994)\",4],[644,\"Thin Blue Line, The (1988)\",35],[645,\"Paris Is Burning (1990)\",27],[646,\"Once Upon a Time in the West (1969)\",38],[647,\"Ran (1985)\",70],[648,\"Quiet Man, The (1952)\",67],[649,\"Once Upon a Time in America (1984)\",50],[650,\"Seventh Seal, The (Sjunde inseglet, Det) (1957)\",72],[651,\"Glory (1989)\",171],[652,\"Rosencrantz and Guildenstern Are Dead (1990)\",90],[653,\"Touch of Evil (1958)\",34],[654,\"Chinatown (1974)\",147],[655,\"Stand by Me (1986)\",227],[656,\"M (1931)\",44],[657,\"Manchurian Candidate, The (1962)\",131],[658,\"Pump Up the Volume (1990)\",79],[659,\"Arsenic and Old Lace (1944)\",115],[660,\"Fried Green Tomatoes (1991)\",153],[661,\"High Noon (1952)\",88],[662,\"Somewhere in Time (1980)\",82],[663,\"Being There (1979)\",116],[664,\"Paris, Texas (1984)\",46],[665,\"Alien 3 (1992)\",100],[666,\"Blood For Dracula (Andy Warhol's Dracula) (1974)\",5],[667,\"Audrey Rose (1977)\",12],[668,\"Blood Beach (1981)\",6],[669,\"Body Parts (1991)\",13],[670,\"Body Snatchers (1993)\",36],[671,\"Bride of Frankenstein (1935)\",46],[672,\"Candyman (1992)\",65],[673,\"Cape Fear (1962)\",86],[674,\"Cat People (1982)\",48],[675,\"Nosferatu (Nosferatu, eine Symphonie des Grauens) (1922)\",54],[676,\"Crucible, The (1996)\",77],[677,\"Fire on the Mountain (1996)\",1],[678,\"Volcano (1997)\",219],[679,\"Conan the Barbarian (1981)\",107],[680,\"Kull the Conqueror (1997)\",34],[681,\"Wishmaster (1997)\",27],[682,\"I Know What You Did Last Summer (1997)\",100],[683,\"Rocket Man (1997)\",49],[684,\"In the Line of Fire (1993)\",169],[685,\"Executive Decision (1996)\",157],[686,\"Perfect World, A (1993)\",50],[687,\"McHale's Navy (1997)\",69],[688,\"Leave It to Beaver (1997)\",44],[689,\"Jackal, The (1997)\",87],[690,\"Seven Years in Tibet (1997)\",155],[691,\"Dark City (1998)\",16],[692,\"American President, The (1995)\",164],[693,\"Casino (1995)\",91],[694,\"Persuasion (1995)\",44],[695,\"Kicking and Screaming (1995)\",13],[696,\"City Hall (1996)\",79],[697,\"Basketball Diaries, The (1995)\",40],[698,\"Browning Version, The (1994)\",10],[699,\"Little Women (1994)\",102],[700,\"Miami Rhapsody (1995)\",15],[701,\"Wonderful, Horrible Life of Leni Riefenstahl, The (1993)\",10],[702,\"Barcelona (1994)\",53],[703,\"Widows' Peak (1994)\",19],[704,\"House of the Spirits, The (1993)\",24],[705,\"Singin' in the Rain (1952)\",137],[706,\"Bad Moon (1996)\",6],[707,\"Enchanted April (1991)\",70],[708,\"Sex, Lies, and Videotape (1989)\",101],[709,\"Strictly Ballroom (1992)\",104],[710,\"Better Off Dead... (1985)\",79],[711,\"Substance of Fire, The (1996)\",1],[712,\"Tin Men (1987)\",51],[713,\"Othello (1995)\",72],[714,\"Carrington (1995)\",13],[715,\"To Die For (1995)\",87],[716,\"Home for the Holidays (1995)\",58],[717,\"Juror, The (1996)\",82],[718,\"In the Bleak Midwinter (1995)\",16],[719,\"Canadian Bacon (1994)\",29],[720,\"First Knight (1995)\",86],[721,\"Mallrats (1995)\",54],[722,\"Nine Months (1995)\",58],[723,\"Boys on the Side (1995)\",34],[724,\"Circle of Friends (1995)\",76],[725,\"Exit to Eden (1994)\",16],[726,\"Fluke (1995)\",14],[727,\"Immortal Beloved (1994)\",63],[728,\"Junior (1994)\",45],[729,\"Nell (1994)\",81],[730,\"Queen Margot (Reine Margot, La) (1994)\",24],[731,\"Corrina, Corrina (1994)\",39],[732,\"Dave (1993)\",180],[733,\"Go Fish (1994)\",15],[734,\"Made in America (1993)\",27],[735,\"Philadelphia (1993)\",137],[736,\"Shadowlands (1993)\",78],[737,\"Sirens (1994)\",59],[738,\"Threesome (1994)\",31],[739,\"Pretty Woman (1990)\",164],[740,\"Jane Eyre (1996)\",63],[741,\"Last Supper, The (1995)\",58],[742,\"Ransom (1996)\",267],[743,\"Crow: City of Angels, The (1996)\",39],[744,\"Michael Collins (1996)\",92],[745,\"Ruling Class, The (1972)\",16],[746,\"Real Genius (1985)\",119],[747,\"Benny & Joon (1993)\",102],[748,\"Saint, The (1997)\",316],[749,\"MatchMaker, The (1997)\",51],[750,\"Amistad (1997)\",124],[751,\"Tomorrow Never Dies (1997)\",180],[752,\"Replacement Killers, The (1998)\",39],[753,\"Burnt By the Sun (1994)\",24],[754,\"Red Corner (1997)\",57],[755,\"Jumanji (1995)\",96],[756,\"Father of the Bride Part II (1995)\",128],[757,\"Across the Sea of Time (1995)\",4],[758,\"Lawnmower Man 2: Beyond Cyberspace (1996)\",21],[759,\"Fair Game (1995)\",11],[760,\"Screamers (1995)\",46],[761,\"Nick of Time (1995)\",44],[762,\"Beautiful Girls (1996)\",115],[763,\"Happy Gilmore (1996)\",149],[764,\"If Lucy Fell (1996)\",29],[765,\"Boomerang (1992)\",32],[766,\"Man of the Year (1995)\",9],[767,\"Addiction, The (1995)\",11],[768,\"Casper (1995)\",52],[769,\"Congo (1995)\",42],[770,\"Devil in a Blue Dress (1995)\",57],[771,\"Johnny Mnemonic (1995)\",41],[772,\"Kids (1995)\",49],[773,\"Mute Witness (1994)\",17],[774,\"Prophecy, The (1995)\",32],[775,\"Something to Talk About (1995)\",26],[776,\"Three Wishes (1995)\",9],[777,\"Castle Freak (1995)\",4],[778,\"Don Juan DeMarco (1995)\",76],[779,\"Drop Zone (1994)\",31],[780,\"Dumb & Dumber (1994)\",69],[781,\"French Kiss (1995)\",84],[782,\"Little Odessa (1994)\",10],[783,\"Milk Money (1994)\",37],[784,\"Beyond Bedlam (1993)\",2],[785,\"Only You (1994)\",39],[786,\"Perez Family, The (1995)\",14],[787,\"Roommates (1995)\",13],[788,\"Relative Fear (1994)\",3],[789,\"Swimming with Sharks (1995)\",47],[790,\"Tommy Boy (1995)\",66],[791,\"Baby-Sitters Club, The (1995)\",10],[792,\"Bullets Over Broadway (1994)\",86],[793,\"Crooklyn (1994)\",10],[794,\"It Could Happen to You (1994)\",46],[795,\"Richie Rich (1994)\",21],[796,\"Speechless (1994)\",36],[797,\"Timecop (1994)\",31],[798,\"Bad Company (1995)\",9],[799,\"Boys Life (1995)\",5],[800,\"In the Mouth of Madness (1995)\",26],[801,\"Air Up There, The (1994)\",16],[802,\"Hard Target (1993)\",40],[803,\"Heaven & Earth (1993)\",9],[804,\"Jimmy Hollywood (1994)\",8],[805,\"Manhattan Murder Mystery (1993)\",27],[806,\"Menace II Society (1993)\",50],[807,\"Poetic Justice (1993)\",9],[808,\"Program, The (1993)\",31],[809,\"Rising Sun (1993)\",43],[810,\"Shadow, The (1994)\",45],[811,\"Thirty-Two Short Films About Glenn Gould (1993)\",18],[812,\"Andre (1994)\",18],[813,\"Celluloid Closet, The (1995)\",56],[814,\"Great Day in Harlem, A (1994)\",1],[815,\"One Fine Day (1996)\",112],[816,\"Candyman: Farewell to the Flesh (1995)\",21],[817,\"Frisk (1995)\",3],[818,\"Girl 6 (1996)\",25],[819,\"Eddie (1996)\",40],[820,\"Space Jam (1996)\",93],[821,\"Mrs. Winterbourne (1996)\",22],[822,\"Faces (1968)\",4],[823,\"Mulholland Falls (1996)\",82],[824,\"Great White Hype, The (1996)\",49],[825,\"Arrival, The (1996)\",83],[826,\"Phantom, The (1996)\",80],[827,\"Daylight (1996)\",57],[828,\"Alaska (1996)\",13],[829,\"Fled (1996)\",34],[830,\"Power 98 (1995)\",1],[831,\"Escape from L.A. (1996)\",91],[832,\"Bogus (1996)\",22],[833,\"Bulletproof (1996)\",49],[834,\"Halloween: The Curse of Michael Myers (1995)\",25],[835,\"Gay Divorcee, The (1934)\",15],[836,\"Ninotchka (1939)\",26],[837,\"Meet John Doe (1941)\",25],[838,\"In the Line of Duty 2 (1987)\",4],[839,\"Loch Ness (1995)\",4],[840,\"Last Man Standing (1996)\",53],[841,\"Glimmer Man, The (1996)\",48],[842,\"Pollyanna (1960)\",27],[843,\"Shaggy Dog, The (1959)\",30],[844,\"Freeway (1996)\",42],[845,\"That Thing You Do! (1996)\",176],[846,\"To Gillian on Her 37th Birthday (1996)\",44],[847,\"Looking for Richard (1996)\",55],[848,\"Murder, My Sweet (1944)\",9],[849,\"Days of Thunder (1990)\",53],[850,\"Perfect Candidate, A (1996)\",4],[851,\"Two or Three Things I Know About Her (1966)\",4],[852,\"Bloody Child, The (1996)\",1],[853,\"Braindead (1992)\",14],[854,\"Bad Taste (1987)\",16],[855,\"Diva (1981)\",66],[856,\"Night on Earth (1991)\",36],[857,\"Paris Was a Woman (1995)\",1],[858,\"Amityville: Dollhouse (1996)\",3],[859,\"April Fool's Day (1986)\",15],[860,\"Believers, The (1987)\",16],[861,\"Nosferatu a Venezia (1986)\",3],[862,\"Jingle All the Way (1996)\",18],[863,\"Garden of Finzi-Contini, The (Giardino dei Finzi-Contini, Il) (1970)\",24],[864,\"My Fellow Americans (1996)\",86],[865,\"Ice Storm, The (1997)\",21],[866,\"Michael (1996)\",119],[867,\"Whole Wide World, The (1996)\",6],[868,\"Hearts and Minds (1996)\",5],[869,\"Fools Rush In (1997)\",24],[870,\"Touch (1997)\",9],[871,\"Vegas Vacation (1997)\",75],[872,\"Love Jones (1997)\",42],[873,\"Picture Perfect (1997)\",81],[874,\"Career Girls (1997)\",39],[875,\"She's So Lovely (1997)\",53],[876,\"Money Talks (1997)\",47],[877,\"Excess Baggage (1997)\",52],[878,\"That Darn Cat! (1997)\",33],[879,\"Peacemaker, The (1997)\",136],[880,\"Soul Food (1997)\",59],[881,\"Money Talks (1997)\",45],[882,\"Washington Square (1997)\",34],[883,\"Telling Lies in America (1997)\",13],[884,\"Year of the Horse (1997)\",7],[885,\"Phantoms (1998)\",13],[886,\"Life Less Ordinary, A (1997)\",53],[887,\"Eve's Bayou (1997)\",64],[888,\"One Night Stand (1997)\",15],[889,\"Tango Lesson, The (1997)\",13],[890,\"Mortal Kombat: Annihilation (1997)\",43],[891,\"Bent (1997)\",6],[892,\"Flubber (1997)\",53],[893,\"For Richer or Poorer (1997)\",14],[894,\"Home Alone 3 (1997)\",19],[895,\"Scream 2 (1997)\",106],[896,\"Sweet Hereafter, The (1997)\",44],[897,\"Time Tracers (1995)\",2],[898,\"Postman, The (1997)\",58],[899,\"Winter Guest, The (1997)\",9],[900,\"Kundun (1997)\",42],[901,\"Mr. Magoo (1997)\",12],[902,\"Big Lebowski, The (1998)\",42],[903,\"Afterglow (1997)\",18],[904,\"Ma vie en rose (My Life in Pink) (1997)\",20],[905,\"Great Expectations (1998)\",27],[906,\"Oscar & Lucinda (1997)\",21],[907,\"Vermin (1998)\",2],[908,\"Half Baked (1998)\",20],[909,\"Dangerous Beauty (1998)\",13],[910,\"Nil By Mouth (1997)\",4],[911,\"Twilight (1998)\",4],[912,\"U.S. Marshalls (1998)\",9],[913,\"Love and Death on Long Island (1997)\",2],[914,\"Wild Things (1998)\",11],[915,\"Primary Colors (1998)\",13],[916,\"Lost in Space (1998)\",18],[917,\"Mercury Rising (1998)\",7],[918,\"City of Angels (1998)\",8],[919,\"City of Lost Children, The (1995)\",96],[920,\"Two Bits (1995)\",5],[921,\"Farewell My Concubine (1993)\",46],[922,\"Dead Man (1995)\",34],[923,\"Raise the Red Lantern (1991)\",58],[924,\"White Squall (1996)\",85],[925,\"Unforgettable (1996)\",34],[926,\"Down Periscope (1996)\",101],[927,\"Flower of My Secret, The (Flor de mi secreto, La) (1995)\",6],[928,\"Craft, The (1996)\",104],[929,\"Harriet the Spy (1996)\",40],[930,\"Chain Reaction (1996)\",80],[931,\"Island of Dr. Moreau, The (1996)\",57],[932,\"First Kid (1996)\",40],[933,\"Funeral, The (1996)\",21],[934,\"Preacher's Wife, The (1996)\",68],[935,\"Paradise Road (1997)\",7],[936,\"Brassed Off (1996)\",32],[937,\"Thousand Acres, A (1997)\",37],[938,\"Smile Like Yours, A (1997)\",25],[939,\"Murder in the First (1995)\",60],[940,\"Airheads (1994)\",32],[941,\"With Honors (1994)\",46],[942,\"What's Love Got to Do with It (1993)\",45],[943,\"Killing Zoe (1994)\",40],[944,\"Renaissance Man (1994)\",43],[945,\"Charade (1963)\",40],[946,\"Fox and the Hound, The (1981)\",61],[947,\"Big Blue, The (Grand bleu, Le) (1988)\",17],[948,\"Booty Call (1997)\",48],[949,\"How to Make an American Quilt (1995)\",71],[950,\"Georgia (1995)\",30],[951,\"Indian in the Cupboard, The (1995)\",39],[952,\"Blue in the Face (1995)\",45],[953,\"Unstrung Heroes (1995)\",22],[954,\"Unzipped (1995)\",11],[955,\"Before Sunrise (1995)\",49],[956,\"Nobody's Fool (1994)\",46],[957,\"Pushing Hands (1992)\",2],[958,\"To Live (Huozhe) (1994)\",14],[959,\"Dazed and Confused (1993)\",64],[960,\"Naked (1993)\",25],[961,\"Orlando (1993)\",34],[962,\"Ruby in Paradise (1993)\",23],[963,\"Some Folks Call It a Sling Blade (1993)\",41],[964,\"Month by the Lake, A (1995)\",9],[965,\"Funny Face (1957)\",21],[966,\"Affair to Remember, An (1957)\",26],[967,\"Little Lord Fauntleroy (1936)\",12],[968,\"Inspector General, The (1949)\",18],[969,\"Winnie the Pooh and the Blustery Day (1968)\",75],[970,\"Hear My Song (1991)\",8],[971,\"Mediterraneo (1991)\",34],[972,\"Passion Fish (1992)\",28],[973,\"Grateful Dead (1995)\",4],[974,\"Eye for an Eye (1996)\",32],[975,\"Fear (1996)\",44],[976,\"Solo (1996)\",12],[977,\"Substitute, The (1996)\",49],[978,\"Heaven's Prisoners (1996)\",27],[979,\"Trigger Effect, The (1996)\",35],[980,\"Mother Night (1996)\",22],[981,\"Dangerous Ground (1997)\",8],[982,\"Maximum Risk (1996)\",20],[983,\"Rich Man's Wife, The (1996)\",15],[984,\"Shadow Conspiracy (1997)\",44],[985,\"Blood & Wine (1997)\",22],[986,\"Turbulence (1997)\",23],[987,\"Underworld (1997)\",4],[988,\"Beautician and the Beast, The (1997)\",86],[989,\"Cats Don't Dance (1997)\",32],[990,\"Anna Karenina (1997)\",33],[991,\"Keys to Tulsa (1997)\",25],[992,\"Head Above Water (1996)\",4],[993,\"Hercules (1997)\",66],[994,\"Last Time I Committed Suicide, The (1997)\",7],[995,\"Kiss Me, Guido (1997)\",31],[996,\"Big Green, The (1995)\",14],[997,\"Stuart Saves His Family (1995)\",16],[998,\"Cabin Boy (1994)\",16],[999,\"Clean Slate (1994)\",10],[1000,\"Lightning Jack (1994)\",10],[1001,\"Stupids, The (1996)\",17],[1002,\"Pest, The (1997)\",8],[1003,\"That Darn Cat! (1997)\",8],[1004,\"Geronimo: An American Legend (1993)\",9],[1005,\"Double vie de V\\u00e9ronique, La (Double Life of Veronique, The) (1991)\",22],[1006,\"Until the End of the World (Bis ans Ende der Welt) (1991)\",23],[1007,\"Waiting for Guffman (1996)\",47],[1008,\"I Shot Andy Warhol (1996)\",37],[1009,\"Stealing Beauty (1996)\",64],[1010,\"Basquiat (1996)\",44],[1011,\"2 Days in the Valley (1996)\",93],[1012,\"Private Parts (1997)\",100],[1013,\"Anaconda (1997)\",38],[1014,\"Romy and Michele's High School Reunion (1997)\",98],[1015,\"Shiloh (1997)\",12],[1016,\"Con Air (1997)\",137],[1017,\"Trees Lounge (1996)\",50],[1018,\"Tie Me Up! Tie Me Down! (1990)\",32],[1019,\"Die xue shuang xiong (Killer, The) (1989)\",31],[1020,\"Gaslight (1944)\",35],[1021,\"8 1\\u002f2 (1963)\",38],[1022,\"Fast, Cheap & Out of Control (1997)\",32],[1023,\"Fathers' Day (1997)\",31],[1024,\"Mrs. Dalloway (1997)\",15],[1025,\"Fire Down Below (1997)\",44],[1026,\"Lay of the Land, The (1997)\",4],[1027,\"Shooter, The (1995)\",3],[1028,\"Grumpier Old Men (1995)\",148],[1029,\"Jury Duty (1995)\",14],[1030,\"Beverly Hillbillies, The (1993)\",20],[1031,\"Lassie (1994)\",7],[1032,\"Little Big League (1994)\",16],[1033,\"Homeward Bound II: Lost in San Francisco (1996)\",32],[1034,\"Quest, The (1996)\",27],[1035,\"Cool Runnings (1993)\",68],[1036,\"Drop Dead Fred (1991)\",24],[1037,\"Grease 2 (1982)\",24],[1038,\"Switchback (1997)\",17],[1039,\"Hamlet (1996)\",90],[1040,\"Two if by Sea (1996)\",25],[1041,\"Forget Paris (1995)\",62],[1042,\"Just Cause (1995)\",28],[1043,\"Rent-a-Kid (1995)\",8],[1044,\"Paper, The (1994)\",40],[1045,\"Fearless (1993)\",25],[1046,\"Malice (1993)\",46],[1047,\"Multiplicity (1996)\",134],[1048,\"She's the One (1996)\",73],[1049,\"House Arrest (1996)\",25],[1050,\"Ghost and Mrs. Muir, The (1947)\",43],[1051,\"Associate, The (1996)\",41],[1052,\"Dracula: Dead and Loving It (1995)\",25],[1053,\"Now and Then (1995)\",24],[1054,\"Mr. Wrong (1996)\",23],[1055,\"Simple Twist of Fate, A (1994)\",10],[1056,\"Cronos (1992)\",10],[1057,\"Pallbearer, The (1996)\",22],[1058,\"War, The (1994)\",15],[1059,\"Don't Be a Menace to South Central While Drinking Your Juice in the Hood (1996)\",35],[1060,\"Adventures of Pinocchio, The (1996)\",39],[1061,\"Evening Star, The (1996)\",29],[1062,\"Four Days in September (1997)\",12],[1063,\"Little Princess, A (1995)\",41],[1064,\"Crossfire (1947)\",4],[1065,\"Koyaanisqatsi (1983)\",53],[1066,\"Balto (1995)\",16],[1067,\"Bottle Rocket (1996)\",44],[1068,\"Star Maker, The (Uomo delle stelle, L') (1995)\",12],[1069,\"Amateur (1994)\",18],[1070,\"Living in Oblivion (1995)\",27],[1071,\"Party Girl (1995)\",16],[1072,\"Pyromaniac's Love Story, A (1995)\",7],[1073,\"Shallow Grave (1994)\",66],[1074,\"Reality Bites (1994)\",77],[1075,\"Man of No Importance, A (1994)\",7],[1076,\"Pagemaster, The (1994)\",12],[1077,\"Love and a .45 (1994)\",8],[1078,\"Oliver & Company (1988)\",22],[1079,\"Joe's Apartment (1996)\",45],[1080,\"Celestial Clockwork (1994)\",2],[1081,\"Curdled (1996)\",8],[1082,\"Female Perversions (1996)\",8],[1083,\"Albino Alligator (1996)\",6],[1084,\"Anne Frank Remembered (1995)\",21],[1085,\"Carried Away (1996)\",11],[1086,\"It's My Party (1995)\",21],[1087,\"Bloodsport 2 (1995)\",10],[1088,\"Double Team (1997)\",13],[1089,\"Speed 2: Cruise Control (1997)\",38],[1090,\"Sliver (1993)\",37],[1091,\"Pete's Dragon (1977)\",43],[1092,\"Dear God (1996)\",12],[1093,\"Live Nude Girls (1995)\",23],[1094,\"Thin Line Between Love and Hate, A (1996)\",12],[1095,\"High School High (1996)\",29],[1096,\"Commandments (1997)\",3],[1097,\"Hate (Haine, La) (1995)\",18],[1098,\"Flirting With Disaster (1996)\",42],[1099,\"Red Firecracker, Green Firecracker (1994)\",13],[1100,\"What Happened Was... (1994)\",8],[1101,\"Six Degrees of Separation (1993)\",74],[1102,\"Two Much (1996)\",7],[1103,\"Trust (1990)\",19],[1104,\"C'est arriv\\u00e9 pr\\u00e8s de chez vous (1992)\",4],[1105,\"Firestorm (1998)\",18],[1106,\"Newton Boys, The (1998)\",4],[1107,\"Beyond Rangoon (1995)\",18],[1108,\"Feast of July (1995)\",5],[1109,\"Death and the Maiden (1994)\",28],[1110,\"Tank Girl (1995)\",41],[1111,\"Double Happiness (1994)\",7],[1112,\"Cobb (1994)\",15],[1113,\"Mrs. Parker and the Vicious Circle (1994)\",22],[1114,\"Faithful (1996)\",10],[1115,\"Twelfth Night (1996)\",29],[1116,\"Mark of Zorro, The (1940)\",13],[1117,\"Surviving Picasso (1996)\",19],[1118,\"Up in Smoke (1978)\",47],[1119,\"Some Kind of Wonderful (1987)\",59],[1120,\"I'm Not Rappaport (1996)\",17],[1121,\"Umbrellas of Cherbourg, The (Parapluies de Cherbourg, Les) (1964)\",21],[1122,\"They Made Me a Criminal (1939)\",1],[1123,\"Last Time I Saw Paris, The (1954)\",3],[1124,\"Farewell to Arms, A (1932)\",12],[1125,\"Innocents, The (1961)\",4],[1126,\"Old Man and the Sea, The (1958)\",32],[1127,\"Truman Show, The (1998)\",11],[1128,\"Heidi Fleiss: Hollywood Madam (1995) \",13],[1129,\"Chungking Express (1994)\",28],[1130,\"Jupiter's Wife (1994)\",1],[1131,\"Safe (1995)\",13],[1132,\"Feeling Minnesota (1996)\",32],[1133,\"Escape to Witch Mountain (1975)\",30],[1134,\"Get on the Bus (1996)\",38],[1135,\"Doors, The (1991)\",46],[1136,\"Ghosts of Mississippi (1996)\",29],[1137,\"Beautiful Thing (1996)\",29],[1138,\"Best Men (1997)\",5],[1139,\"Hackers (1995)\",33],[1140,\"Road to Wellville, The (1994)\",17],[1141,\"War Room, The (1993)\",9],[1142,\"When We Were Kings (1996)\",44],[1143,\"Hard Eight (1996)\",15],[1144,\"Quiet Room, The (1996)\",3],[1145,\"Blue Chips (1994)\",9],[1146,\"Calendar Girl (1993)\",3],[1147,\"My Family (1995)\",21],[1148,\"Tom & Viv (1994)\",9],[1149,\"Walkabout (1971)\",26],[1150,\"Last Dance (1996)\",9],[1151,\"Original Gangstas (1996)\",7],[1152,\"In Love and War (1996)\",28],[1153,\"Backbeat (1993)\",19],[1154,\"Alphaville (1965)\",12],[1155,\"Rendezvous in Paris (Rendez-vous de Paris, Les) (1995)\",3],[1156,\"Cyclo (1995)\",1],[1157,\"Relic, The (1997)\",25],[1158,\"Fille seule, La (A Single Girl) (1995)\",4],[1159,\"Stalker (1979)\",11],[1160,\"Love! Valour! Compassion! (1997)\",26],[1161,\"Palookaville (1996)\",13],[1162,\"Phat Beach (1996)\",5],[1163,\"Portrait of a Lady, The (1996)\",25],[1164,\"Zeus and Roxanne (1997)\",6],[1165,\"Big Bully (1996)\",14],[1166,\"Love & Human Remains (1993)\",12],[1167,\"Sum of Us, The (1994)\",11],[1168,\"Little Buddha (1993)\",22],[1169,\"Fresh (1994)\",10],[1170,\"Spanking the Monkey (1994)\",27],[1171,\"Wild Reeds (1994)\",14],[1172,\"Women, The (1939)\",15],[1173,\"Bliss (1997)\",7],[1174,\"Caught (1996)\",8],[1175,\"Hugo Pool (1997)\",5],[1176,\"Welcome To Sarajevo (1997)\",22],[1177,\"Dunston Checks In (1996)\",7],[1178,\"Major Payne (1994)\",19],[1179,\"Man of the House (1995)\",9],[1180,\"I Love Trouble (1994)\",10],[1181,\"Low Down Dirty Shame, A (1994)\",10],[1182,\"Cops and Robbersons (1994)\",13],[1183,\"Cowboy Way, The (1994)\",19],[1184,\"Endless Summer 2, The (1994)\",10],[1185,\"In the Army Now (1994)\",18],[1186,\"Inkwell, The (1994)\",3],[1187,\"Switchblade Sisters (1975)\",13],[1188,\"Young Guns II (1990)\",44],[1189,\"Prefontaine (1997)\",3],[1190,\"That Old Feeling (1997)\",11],[1191,\"Letter From Death Row, A (1998)\",3],[1192,\"Boys of St. Vincent, The (1993)\",13],[1193,\"Before the Rain (Pred dozhdot) (1994)\",10],[1194,\"Once Were Warriors (1994)\",31],[1195,\"Strawberry and Chocolate (Fresa y chocolate) (1993)\",11],[1196,\"Savage Nights (Nuits fauves, Les) (1992)\",3],[1197,\"Family Thing, A (1996)\",45],[1198,\"Purple Noon (1960)\",7],[1199,\"Cemetery Man (Dellamorte Dellamore) (1994)\",23],[1200,\"Kim (1950)\",7],[1201,\"Marlene Dietrich: Shadow and Light (1996) \",1],[1202,\"Maybe, Maybe Not (Bewegte Mann, Der) (1994)\",8],[1203,\"Top Hat (1935)\",21],[1204,\"To Be or Not to Be (1942)\",18],[1205,\"Secret Agent, The (1996)\",6],[1206,\"Amos & Andrew (1993)\",19],[1207,\"Jade (1995)\",17],[1208,\"Kiss of Death (1995)\",20],[1209,\"Mixed Nuts (1994)\",15],[1210,\"Virtuosity (1995)\",38],[1211,\"Blue Sky (1994)\",12],[1212,\"Flesh and Bone (1993)\",6],[1213,\"Guilty as Sin (1993)\",6],[1214,\"In the Realm of the Senses (Ai no corrida) (1976)\",9],[1215,\"Barb Wire (1996)\",30],[1216,\"Kissed (1996)\",6],[1217,\"Assassins (1995)\",39],[1218,\"Friday (1995)\",26],[1219,\"Goofy Movie, A (1995)\",20],[1220,\"Higher Learning (1995)\",30],[1221,\"When a Man Loves a Woman (1994)\",39],[1222,\"Judgment Night (1993)\",25],[1223,\"King of the Hill (1993)\",4],[1224,\"Scout, The (1994)\",12],[1225,\"Angus (1995)\",14],[1226,\"Night Falls on Manhattan (1997)\",32],[1227,\"Awfully Big Adventure, An (1995)\",8],[1228,\"Under Siege 2: Dark Territory (1995)\",48],[1229,\"Poison Ivy II (1995)\",13],[1230,\"Ready to Wear (Pret-A-Porter) (1994)\",18],[1231,\"Marked for Death (1990)\",22],[1232,\"Madonna: Truth or Dare (1991)\",17],[1233,\"N\\u00e9nette et Boni (1996)\",6],[1234,\"Chairman of the Board (1998)\",8],[1235,\"Big Bang Theory, The (1994)\",1],[1236,\"Other Voices, Other Rooms (1997)\",1],[1237,\"Twisted (1996)\",6],[1238,\"Full Speed (1996)\",8],[1239,\"Cutthroat Island (1995)\",18],[1240,\"Ghost in the Shell (Kokaku kidotai) (1995)\",26],[1241,\"Van, The (1996)\",6],[1242,\"Old Lady Who Walked in the Sea, The (Vieille qui marchait dans la mer, La) (1991)\",5],[1243,\"Night Flier (1997)\",7],[1244,\"Metro (1997)\",36],[1245,\"Gridlock'd (1997)\",19],[1246,\"Bushwhacked (1995)\",7],[1247,\"Bad Girls (1994)\",6],[1248,\"Blink (1994)\",19],[1249,\"For Love or Money (1993)\",12],[1250,\"Best of the Best 3: No Turning Back (1995)\",6],[1251,\"A Chef in Love (1996)\",8],[1252,\"Contempt (M\\u00e9pris, Le) (1963)\",9],[1253,\"Tie That Binds, The (1995)\",7],[1254,\"Gone Fishin' (1997)\",11],[1255,\"Broken English (1996)\",8],[1256,\"Designated Mourner, The (1997)\",3],[1257,\"Designated Mourner, The (1997)\",4],[1258,\"Trial and Error (1997)\",23],[1259,\"Pie in the Sky (1995)\",4],[1260,\"Total Eclipse (1995)\",4],[1261,\"Run of the Country, The (1995)\",4],[1262,\"Walking and Talking (1996)\",8],[1263,\"Foxfire (1996)\",15],[1264,\"Nothing to Lose (1994)\",7],[1265,\"Star Maps (1997)\",19],[1266,\"Bread and Chocolate (Pane e cioccolata) (1973)\",12],[1267,\"Clockers (1995)\",33],[1268,\"Bitter Moon (1992)\",10],[1269,\"Love in the Afternoon (1957)\",10],[1270,\"Life with Mikey (1993)\",7],[1271,\"North (1994)\",7],[1272,\"Talking About Sex (1994)\",5],[1273,\"Color of Night (1994)\",15],[1274,\"Robocop 3 (1993)\",11],[1275,\"Killer (Bulletproof Heart) (1994)\",4],[1276,\"Sunset Park (1996)\",8],[1277,\"Set It Off (1996)\",19],[1278,\"Selena (1997)\",16],[1279,\"Wild America (1997)\",9],[1280,\"Gang Related (1997)\",16],[1281,\"Manny & Lo (1996)\",13],[1282,\"Grass Harp, The (1995)\",9],[1283,\"Out to Sea (1997)\",19],[1284,\"Before and After (1996)\",26],[1285,\"Princess Caraboo (1994)\",15],[1286,\"Shall We Dance? (1937)\",17],[1287,\"Ed (1996)\",6],[1288,\"Denise Calls Up (1995)\",7],[1289,\"Jack and Sarah (1995)\",7],[1290,\"Country Life (1994)\",2],[1291,\"Celtic Pride (1996)\",15],[1292,\"Simple Wish, A (1997)\",3],[1293,\"Star Kid (1997)\",3],[1294,\"Ayn Rand: A Sense of Life (1997)\",7],[1295,\"Kicked in the Head (1997)\",7],[1296,\"Indian Summer (1996)\",20],[1297,\"Love Affair (1994)\",12],[1298,\"Band Wagon, The (1953)\",9],[1299,\"Penny Serenade (1941)\",8],[1300,\"'Til There Was You (1997)\",9],[1301,\"Stripes (1981)\",5],[1302,\"Late Bloomers (1996)\",5],[1303,\"Getaway, The (1994)\",18],[1304,\"New York Cop (1996)\",2],[1305,\"National Lampoon's Senior Trip (1995)\",7],[1306,\"Delta of Venus (1994)\",2],[1307,\"Carmen Miranda: Bananas Is My Business (1994)\",2],[1308,\"Babyfever (1994)\",2],[1309,\"Very Natural Thing, A (1974)\",1],[1310,\"Walk in the Sun, A (1945)\",1],[1311,\"Waiting to Exhale (1995)\",16],[1312,\"Pompatus of Love, The (1996)\",7],[1313,\"Palmetto (1998)\",14],[1314,\"Surviving the Game (1994)\",11],[1315,\"Inventing the Abbotts (1997)\",23],[1316,\"Horse Whisperer, The (1998)\",7],[1317,\"Journey of August King, The (1995)\",4],[1318,\"Catwalk (1995)\",3],[1319,\"Neon Bible, The (1995)\",4],[1320,\"Homage (1995)\",1],[1321,\"Open Season (1996)\",2],[1322,\"Metisse (Caf\\u00e9 au Lait) (1993)\",6],[1323,\"Wooden Man's Bride, The (Wu Kui) (1994)\",3],[1324,\"Loaded (1994)\",5],[1325,\"August (1996)\",1],[1326,\"Boys (1996)\",6],[1327,\"Captives (1994)\",3],[1328,\"Of Love and Shadows (1994)\",6],[1329,\"Low Life, The (1994)\",1],[1330,\"An Unforgettable Summer (1994)\",4],[1331,\"Last Klezmer: Leopold Kozlowski, His Life and Music, The (1995)\",4],[1332,\"My Life and Times With Antonin Artaud (En compagnie d'Antonin Artaud) (1993)\",2],[1333,\"Midnight Dancers (Sibak) (1994)\",5],[1334,\"Somebody to Love (1994)\",2],[1335,\"American Buffalo (1996)\",11],[1336,\"Kazaam (1996)\",10],[1337,\"Larger Than Life (1996)\",9],[1338,\"Two Deaths (1995)\",4],[1339,\"Stefano Quantestorie (1993)\",1],[1340,\"Crude Oasis, The (1995)\",1],[1341,\"Hedd Wyn (1992)\",1],[1342,\"Convent, The (Convento, O) (1995)\",2],[1343,\"Lotto Land (1995)\",1],[1344,\"Story of Xinghua, The (1993)\",5],[1345,\"Day the Sun Turned Cold, The (Tianguo niezi) (1994)\",2],[1346,\"Dingo (1992)\",5],[1347,\"Ballad of Narayama, The (Narayama Bushiko) (1958)\",4],[1348,\"Every Other Weekend (1990)\",1],[1349,\"Mille bolle blu (1993)\",1],[1350,\"Crows and Sparrows (1949)\",2],[1351,\"Lover's Knot (1996)\",3],[1352,\"Shadow of Angels (Schatten der Engel) (1976)\",1],[1353,\"1-900 (1994)\",5],[1354,\"Venice\\u002fVenice (1992)\",2],[1355,\"Infinity (1996)\",6],[1356,\"Ed's Next Move (1996)\",3],[1357,\"For the Moment (1994)\",3],[1358,\"The Deadly Cure (1996)\",2],[1359,\"Boys in Venice (1996)\",2],[1360,\"Sexual Life of the Belgians, The (1994)\",2],[1361,\"Search for One-eye Jimmy, The (1996)\",3],[1362,\"American Strays (1996)\",2],[1363,\"Leopard Son, The (1996)\",1],[1364,\"Bird of Prey (1996)\",1],[1365,\"Johnny 100 Pesos (1993)\",2],[1366,\"JLG\\u002fJLG - autoportrait de d\\u00e9cembre (1994)\",1],[1367,\"Faust (1994)\",5],[1368,\"Mina Tannenbaum (1994)\",6],[1369,\"Forbidden Christ, The (Cristo proibito, Il) (1950)\",4],[1370,\"I Can't Sleep (J'ai pas sommeil) (1994)\",3],[1371,\"Machine, The (1994)\",2],[1372,\"Stranger, The (1994)\",3],[1373,\"Good Morning (1971)\",1],[1374,\"Falling in Love Again (1980)\",2],[1375,\"Cement Garden, The (1993)\",10],[1376,\"Meet Wally Sparks (1997)\",7],[1377,\"Hotel de Love (1996)\",4],[1378,\"Rhyme & Reason (1997)\",5],[1379,\"Love and Other Catastrophes (1996)\",7],[1380,\"Hollow Reed (1996)\",6],[1381,\"Losing Chase (1996)\",8],[1382,\"Bonheur, Le (1965)\",4],[1383,\"Second Jungle Book: Mowgli & Baloo, The (1997)\",6],[1384,\"Squeeze (1996)\",3],[1385,\"Roseanna's Grave (For Roseanna) (1997)\",5],[1386,\"Tetsuo II: Body Hammer (1992)\",6],[1387,\"Fall (1997)\",3],[1388,\"Gabbeh (1996)\",6],[1389,\"Mondo (1996)\",3],[1390,\"Innocent Sleep, The (1995)\",2],[1391,\"For Ever Mozart (1996)\",3],[1392,\"Locusts, The (1997)\",5],[1393,\"Stag (1997)\",9],[1394,\"Swept from the Sea (1997)\",7],[1395,\"Hurricane Streets (1998)\",6],[1396,\"Stonewall (1995)\",5],[1397,\"Of Human Bondage (1934)\",5],[1398,\"Anna (1996)\",2],[1399,\"Stranger in the House (1997)\",7],[1400,\"Picture Bride (1995)\",10],[1401,\"M. Butterfly (1993)\",18],[1402,\"Ciao, Professore! (1993)\",4],[1403,\"Caro Diario (Dear Diary) (1994)\",4],[1404,\"Withnail and I (1987)\",13],[1405,\"Boy's Life 2 (1997)\",6],[1406,\"When Night Is Falling (1995)\",5],[1407,\"Specialist, The (1994)\",20],[1408,\"Gordy (1995)\",3],[1409,\"Swan Princess, The (1994)\",7],[1410,\"Harlem (1993)\",4],[1411,\"Barbarella (1968)\",28],[1412,\"Land Before Time III: The Time of the Great Giving (1995) (V)\",6],[1413,\"Street Fighter (1994)\",8],[1414,\"Coldblooded (1995)\",1],[1415,\"Next Karate Kid, The (1994)\",9],[1416,\"No Escape (1994)\",5],[1417,\"Turning, The (1992)\",2],[1418,\"Joy Luck Club, The (1993)\",3],[1419,\"Highlander III: The Sorcerer (1994)\",16],[1420,\"Gilligan's Island: The Movie (1998)\",3],[1421,\"My Crazy Life (Mi vida loca) (1993)\",11],[1422,\"Suture (1993)\",4],[1423,\"Walking Dead, The (1995)\",4],[1424,\"I Like It Like That (1994)\",3],[1425,\"I'll Do Anything (1994)\",10],[1426,\"Grace of My Heart (1996)\",8],[1427,\"Drunks (1995)\",5],[1428,\"SubUrbia (1997)\",12],[1429,\"Sliding Doors (1998)\",4],[1430,\"Ill Gotten Gains (1997)\",3],[1431,\"Legal Deceit (1997)\",5],[1432,\"Mighty, The (1998)\",3],[1433,\"Men of Means (1998)\",2],[1434,\"Shooting Fish (1997)\",10],[1435,\"Steal Big, Steal Little (1995)\",7],[1436,\"Mr. Jones (1993)\",2],[1437,\"House Party 3 (1994)\",9],[1438,\"Panther (1995)\",5],[1439,\"Jason's Lyric (1994)\",8],[1440,\"Above the Rim (1994)\",5],[1441,\"Moonlight and Valentino (1995)\",7],[1442,\"Scarlet Letter, The (1995)\",5],[1443,\"8 Seconds (1994)\",4],[1444,\"That Darn Cat! (1965)\",19],[1445,\"Ladybird Ladybird (1994)\",4],[1446,\"Bye Bye, Love (1995)\",15],[1447,\"Century (1993)\",1],[1448,\"My Favorite Season (1993)\",3],[1449,\"Pather Panchali (1955)\",8],[1450,\"Golden Earrings (1947)\",2],[1451,\"Foreign Correspondent (1940)\",15],[1452,\"Lady of Burlesque (1943)\",1],[1453,\"Angel on My Shoulder (1946)\",1],[1454,\"Angel and the Badman (1947)\",6],[1455,\"Outlaw, The (1943)\",2],[1456,\"Beat the Devil (1954)\",7],[1457,\"Love Is All There Is (1996)\",1],[1458,\"Damsel in Distress, A (1937)\",1],[1459,\"Madame Butterfly (1995)\",7],[1460,\"Sleepover (1995)\",1],[1461,\"Here Comes Cookie (1935)\",1],[1462,\"Thieves (Voleurs, Les) (1996)\",7],[1463,\"Boys, Les (1997)\",3],[1464,\"Stars Fell on Henrietta, The (1995)\",3],[1465,\"Last Summer in the Hamptons (1995)\",3],[1466,\"Margaret's Museum (1995)\",6],[1467,\"Saint of Fort Washington, The (1993)\",2],[1468,\"Cure, The (1995)\",6],[1469,\"Tom and Huck (1995)\",12],[1470,\"Gumby: The Movie (1995)\",5],[1471,\"Hideaway (1995)\",9],[1472,\"Visitors, The (Visiteurs, Les) (1993)\",2],[1473,\"Little Princess, The (1939)\",9],[1474,\"Nina Takes a Lover (1994)\",6],[1475,\"Bhaji on the Beach (1993)\",8],[1476,\"Raw Deal (1948)\",1],[1477,\"Nightwatch (1997)\",2],[1478,\"Dead Presidents (1995)\",18],[1479,\"Reckless (1995)\",8],[1480,\"Herbie Rides Again (1974)\",11],[1481,\"S.F.W. (1994)\",2],[1482,\"Gate of Heavenly Peace, The (1995)\",1],[1483,\"Man in the Iron Mask, The (1998)\",12],[1484,\"Jerky Boys, The (1994)\",3],[1485,\"Colonel Chabert, Le (1994)\",4],[1486,\"Girl in the Cadillac (1995)\",1],[1487,\"Even Cowgirls Get the Blues (1993)\",5],[1488,\"Germinal (1993)\",4],[1489,\"Chasers (1994)\",5],[1490,\"Fausto (1993)\",3],[1491,\"Tough and Deadly (1995)\",2],[1492,\"Window to Paris (1994)\",1],[1493,\"Modern Affair, A (1995)\",1],[1494,\"Mostro, Il (1994)\",1],[1495,\"Flirt (1995)\",5],[1496,\"Carpool (1996)\",5],[1497,\"Line King: Al Hirschfeld, The (1996)\",2],[1498,\"Farmer & Chase (1995)\",1],[1499,\"Grosse Fatigue (1994)\",4],[1500,\"Santa with Muscles (1996)\",2],[1501,\"Prisoner of the Mountains (Kavkazsky Plennik) (1996)\",5],[1502,\"Naked in New York (1994)\",2],[1503,\"Gold Diggers: The Secret of Bear Mountain (1995)\",10],[1504,\"Bewegte Mann, Der (1994)\",3],[1505,\"Killer: A Journal of Murder (1995)\",1],[1506,\"Nelly & Monsieur Arnaud (1995)\",3],[1507,\"Three Lives and Only One Death (1996)\",1],[1508,\"Babysitter, The (1995)\",3],[1509,\"Getting Even with Dad (1994)\",5],[1510,\"Mad Dog Time (1996)\",1],[1511,\"Children of the Revolution (1996)\",5],[1512,\"World of Apu, The (Apur Sansar) (1959)\",6],[1513,\"Sprung (1997)\",3],[1514,\"Dream With the Fishes (1997)\",7],[1515,\"Wings of Courage (1995)\",1],[1516,\"Wedding Gift, The (1994)\",3],[1517,\"Race the Sun (1996)\",5],[1518,\"Losing Isaiah (1995)\",12],[1519,\"New Jersey Drive (1995)\",2],[1520,\"Fear, The (1995)\",1],[1521,\"Mr. Wonderful (1993)\",4],[1522,\"Trial by Jury (1994)\",7],[1523,\"Good Man in Africa, A (1994)\",2],[1524,\"Kaspar Hauser (1993)\",8],[1525,\"Object of My Affection, The (1998)\",1],[1526,\"Witness (1985)\",1],[1527,\"Senseless (1998)\",7],[1528,\"Nowhere (1997)\",3],[1529,\"Underground (1995)\",5],[1530,\"Jefferson in Paris (1995)\",5],[1531,\"Far From Home: The Adventures of Yellow Dog (1995)\",7],[1532,\"Foreign Student (1994)\",2],[1533,\"I Don't Want to Talk About It (De eso no se habla) (1993)\",1],[1534,\"Twin Town (1997)\",6],[1535,\"Enfer, L' (1994)\",4],[1536,\"Aiqing wansui (1994)\",1],[1537,\"Cosi (1996)\",4],[1538,\"All Over Me (1997)\",3],[1539,\"Being Human (1993)\",4],[1540,\"Amazing Panda Adventure, The (1995)\",10],[1541,\"Beans of Egypt, Maine, The (1994)\",2],[1542,\"Scarlet Letter, The (1926)\",2],[1543,\"Johns (1996)\",1],[1544,\"It Takes Two (1995)\",3],[1545,\"Frankie Starlight (1995)\",4],[1546,\"Shadows (Cienie) (1988)\",1],[1547,\"Show, The (1995)\",2],[1548,\"The Courtyard (1995)\",1],[1549,\"Dream Man (1995)\",2],[1550,\"Destiny Turns on the Radio (1995)\",2],[1551,\"Glass Shield, The (1994)\",2],[1552,\"Hunted, The (1995)\",3],[1553,\"Underneath, The (1995)\",4],[1554,\"Safe Passage (1994)\",2],[1555,\"Secret Adventures of Tom Thumb, The (1993)\",5],[1556,\"Condition Red (1995)\",2],[1557,\"Yankee Zulu (1994)\",1],[1558,\"Aparajito (1956)\",7],[1559,\"Hostile Intentions (1994)\",1],[1560,\"Clean Slate (Coup de Torchon) (1981)\",4],[1561,\"Tigrero: A Film That Was Never Made (1994)\",1],[1562,\"Eye of Vichy, The (Oeil de Vichy, L') (1993)\",1],[1563,\"Promise, The (Versprechen, Das) (1994)\",1],[1564,\"To Cross the Rubicon (1991)\",1],[1565,\"Daens (1992)\",1],[1566,\"Man from Down Under, The (1943)\",1],[1567,\"Careful (1992)\",1],[1568,\"Vermont Is For Lovers (1992)\",1],[1569,\"Vie est belle, La (Life is Rosey) (1987)\",1],[1570,\"Quartier Mozart (1992)\",1],[1571,\"Touki Bouki (Journey of the Hyena) (1973)\",1],[1572,\"Wend Kuuni (God's Gift) (1982)\",1],[1573,\"Spirits of the Dead (Tre passi nel delirio) (1968)\",2],[1574,\"Pharaoh's Army (1995)\",1],[1575,\"I, Worst of All (Yo, la peor de todas) (1990)\",1],[1576,\"Hungarian Fairy Tale, A (1987)\",1],[1577,\"Death in the Garden (Mort en ce jardin, La) (1956)\",1],[1578,\"Collectionneuse, La (1967)\",2],[1579,\"Baton Rouge (1988)\",1],[1580,\"Liebelei (1933)\",1],[1581,\"Woman in Question, The (1950)\",1],[1582,\"T-Men (1947)\",1],[1583,\"Invitation, The (Zaproszenie) (1986)\",1],[1584,\"Symphonie pastorale, La (1946)\",1],[1585,\"American Dream (1990)\",2],[1586,\"Lashou shentan (1992)\",1],[1587,\"Terror in a Texas Town (1958)\",1],[1588,\"Salut cousin! (1996)\",2],[1589,\"Schizopolis (1996)\",4],[1590,\"To Have, or Not (1995)\",2],[1591,\"Duoluo tianshi (1995)\",6],[1592,\"Magic Hour, The (1998)\",5],[1593,\"Death in Brunswick (1991)\",1],[1594,\"Everest (1998)\",2],[1595,\"Shopping (1994)\",1],[1596,\"Nemesis 2: Nebula (1995)\",1],[1597,\"Romper Stomper (1992)\",5],[1598,\"City of Industry (1997)\",6],[1599,\"Someone Else's America (1995)\",1],[1600,\"Guantanamera (1994)\",4],[1601,\"Office Killer (1997)\",1],[1602,\"Price Above Rubies, A (1998)\",3],[1603,\"Angela (1995)\",1],[1604,\"He Walked by Night (1948)\",1],[1605,\"Love Serenade (1996)\",4],[1606,\"Deceiver (1997)\",1],[1607,\"Hurricane Streets (1998)\",3],[1608,\"Buddy (1997)\",4],[1609,\"B*A*P*S (1997)\",3],[1610,\"Truth or Consequences, N.M. (1997)\",3],[1611,\"Intimate Relations (1996)\",2],[1612,\"Leading Man, The (1996)\",4],[1613,\"Tokyo Fist (1995)\",1],[1614,\"Reluctant Debutante, The (1958)\",1],[1615,\"Warriors of Virtue (1997)\",10],[1616,\"Desert Winds (1995)\",1],[1617,\"Hugo Pool (1997)\",2],[1618,\"King of New York (1990)\",1],[1619,\"All Things Fair (1996)\",1],[1620,\"Sixth Man, The (1997)\",9],[1621,\"Butterfly Kiss (1995)\",1],[1622,\"Paris, France (1993)\",3],[1623,\"C\\u00e9r\\u00e9monie, La (1995)\",3],[1624,\"Hush (1998)\",1],[1625,\"Nightwatch (1997)\",1],[1626,\"Nobody Loves Me (Keiner liebt mich) (1994)\",1],[1627,\"Wife, The (1995)\",1],[1628,\"Lamerica (1994)\",4],[1629,\"Nico Icon (1995)\",2],[1630,\"Silence of the Palace, The (Saimt el Qusur) (1994)\",1],[1631,\"Slingshot, The (1993)\",2],[1632,\"Land and Freedom (Tierra y libertad) (1995)\",1],[1633,\"\\u00c1 k\\u00f6ldum klaka (Cold Fever) (1994)\",1],[1634,\"Etz Hadomim Tafus (Under the Domin Tree) (1994)\",1],[1635,\"Two Friends (1986) \",1],[1636,\"Brothers in Trouble (1995)\",1],[1637,\"Girls Town (1996)\",1],[1638,\"Normal Life (1996)\",1],[1639,\"Bitter Sugar (Azucar Amargo) (1996)\",3],[1640,\"Eighth Day, The (1996)\",1],[1641,\"Dadetown (1995)\",1],[1642,\"Some Mother's Son (1996)\",2],[1643,\"Angel Baby (1995)\",4],[1644,\"Sudden Manhattan (1996)\",2],[1645,\"Butcher Boy, The (1998)\",1],[1646,\"Men With Guns (1997)\",2],[1647,\"Hana-bi (1997)\",1],[1648,\"Niagara, Niagara (1997)\",1],[1649,\"Big One, The (1997)\",1],[1650,\"Butcher Boy, The (1998)\",1],[1651,\"Spanish Prisoner, The (1997)\",1],[1652,\"Temptress Moon (Feng Yue) (1996)\",3],[1653,\"Entertaining Angels: The Dorothy Day Story (1996)\",1],[1654,\"Chairman of the Board (1998)\",1],[1655,\"Favor, The (1994)\",1],[1656,\"Little City (1998)\",2],[1657,\"Target (1995)\",1],[1658,\"Substance of Fire, The (1996)\",3],[1659,\"Getting Away With Murder (1996)\",1],[1660,\"Small Faces (1995)\",1],[1661,\"New Age, The (1994)\",1],[1662,\"Rough Magic (1995)\",2],[1663,\"Nothing Personal (1995)\",1],[1664,\"8 Heads in a Duffel Bag (1997)\",4],[1665,\"Brother's Kiss, A (1997)\",1],[1666,\"Ripe (1996)\",1],[1667,\"Next Step, The (1995)\",1],[1668,\"Wedding Bell Blues (1996)\",1],[1669,\"MURDER and murder (1996)\",1],[1670,\"Tainted (1998)\",1],[1671,\"Further Gesture, A (1996)\",1],[1672,\"Kika (1993)\",2],[1673,\"Mirage (1995)\",1],[1674,\"Mamma Roma (1962)\",1],[1675,\"Sunchaser, The (1996)\",1],[1676,\"War at Home, The (1996)\",1],[1677,\"Sweet Nothing (1995)\",1],[1678,\"Mat' i syn (1997)\",1],[1679,\"B. Monkey (1998)\",1],[1680,\"Sliding Doors (1998)\",1],[1681,\"You So Crazy (1994)\",1],[1682,\"Scream of Stone (Schrei aus Stein) (1991)\",1]],\"hovertemplate\":\"tsne_1=%{x}\\u003cbr\\u003etsne_2=%{y}\\u003cbr\\u003eitem_id=%{customdata[0]}\\u003cbr\\u003etitle=%{customdata[1]}\\u003cbr\\u003epopularity=%{marker.color}\\u003cextra\\u003e\\u003c\\u002fextra\\u003e\",\"legendgroup\":\"\",\"marker\":{\"color\":[452,131,90,209,86,26,392,219,299,89,236,267,184,183,293,39,92,10,69,72,84,297,182,174,293,73,57,276,114,37,154,81,97,7,11,13,8,120,87,57,37,148,40,79,80,27,133,117,81,583,81,91,128,104,149,394,40,175,83,64,59,127,82,283,115,162,103,134,321,251,220,129,128,7,5,54,151,33,336,68,110,261,176,18,58,150,138,213,275,95,143,104,112,137,219,295,256,390,172,508,73,54,15,5,74,71,42,65,130,31,272,20,9,67,15,125,378,293,4,67,429,106,115,187,244,97,413,65,129,23,95,246,171,198,259,105,171,19,50,61,72,57,222,243,65,10,185,128,23,157,326,82,247,174,98,148,127,60,101,69,220,106,92,151,64,58,67,316,118,121,65,367,324,420,208,284,137,125,221,221,507,226,291,116,239,251,209,170,66,124,276,116,157,241,301,251,239,127,165,206,89,280,182,350,136,50,66,200,191,331,206,92,134,114,212,290,120,171,111,66,74,365,136,44,109,166,161,244,171,199,142,101,124,280,217,45,384,256,150,156,128,117,132,48,240,124,5,160,130,197,46,158,26,62,172,16,303,509,162,127,43,66,19,101,227,35,9,255,315,136,211,198,223,190,268,298,71,60,28,85,146,232,177,193,162,481,78,478,259,96,127,114,147,485,77,6,50,194,73,431,230,297,134,149,87,96,188,30,28,145,75,80,350,5,160,112,102,298,168,20,169,218,240,125,128,175,175,295,45,41,113,143,251,64,21,43,18,91,47,189,11,52,124,55,65,126,137,27,31,41,20,26,14,72,41,97,264,143,18,10,10,28,47,37,48,47,170,31,55,39,67,34,39,11,23,24,13,101,43,116,100,111,31,69,208,87,65,28,27,10,59,68,192,12,56,54,12,26,89,18,76,170,201,101,344,49,43,112,70,162,163,93,55,62,25,64,73,129,178,81,106,26,300,19,85,32,219,121,97,93,153,174,171,67,216,99,5,6,5,14,53,4,162,46,22,9,121,85,117,63,170,66,16,16,145,48,27,90,24,28,74,148,71,27,85,52,48,64,67,108,221,158,126,194,250,160,95,104,179,179,63,128,243,138,125,64,68,65,52,50,67,59,60,56,59,231,68,152,62,31,123,57,39,122,68,90,98,215,121,121,173,57,72,180,201,63,91,89,80,124,120,35,164,46,73,124,195,121,93,80,129,22,15,13,54,10,30,66,44,43,49,51,21,71,12,254,41,12,92,151,24,45,63,102,10,12,17,70,137,22,59,48,29,27,22,179,35,230,67,50,28,29,33,15,44,93,41,92,19,32,59,168,37,79,39,34,14,202,43,18,178,9,12,5,64,127,206,4,1,2,20,50,209,81,31,66,66,30,60,41,40,34,27,51,59,64,18,18,64,43,11,39,39,22,82,4,75,169,77,31,119,58,69,24,23,91,38,44,40,82,33,89,4,35,27,38,70,67,50,72,171,90,34,147,227,44,131,79,115,153,88,82,116,46,100,5,12,6,13,36,46,65,86,48,54,77,1,219,107,34,27,100,49,169,157,50,69,44,87,155,16,164,91,44,13,79,40,10,102,15,10,53,19,24,137,6,70,101,104,79,1,51,72,13,87,58,82,16,29,86,54,58,34,76,16,14,63,45,81,24,39,180,15,27,137,78,59,31,164,63,58,267,39,92,16,119,102,316,51,124,180,39,24,57,96,128,4,21,11,46,44,115,149,29,32,9,11,52,42,57,41,49,17,32,26,9,4,76,31,69,84,10,37,2,39,14,13,3,47,66,10,86,10,46,21,36,31,9,5,26,16,40,9,8,27,50,9,31,43,45,18,18,56,1,112,21,3,25,40,93,22,4,82,49,83,80,57,13,34,1,91,22,49,25,15,26,25,4,4,53,48,27,30,42,176,44,55,9,53,4,4,1,14,16,66,36,1,3,15,16,3,18,24,86,21,119,6,5,24,9,75,42,81,39,53,47,52,33,136,59,45,34,13,7,13,53,64,15,13,43,6,53,14,19,106,44,2,58,9,42,12,42,18,20,27,21,2,20,13,4,4,9,2,11,13,18,7,8,96,5,46,34,58,85,34,101,6,104,40,80,57,40,21,68,7,32,37,25,60,32,46,45,40,43,40,61,17,48,71,30,39,45,22,11,49,46,2,14,64,25,34,23,41,9,21,26,12,18,75,8,34,28,4,32,44,12,49,27,35,22,8,20,15,44,22,23,4,86,32,33,25,4,66,7,31,14,16,16,10,10,17,8,8,9,22,23,47,37,64,44,93,100,38,98,12,137,50,32,31,35,38,32,31,15,44,4,3,148,14,20,7,16,32,27,68,24,24,17,90,25,62,28,8,40,25,46,134,73,25,43,41,25,24,23,10,10,22,15,35,39,29,12,41,4,53,16,44,12,18,27,16,7,66,77,7,12,8,22,45,2,8,8,6,21,11,21,10,13,38,37,43,12,23,12,29,3,18,42,13,8,74,7,19,4,18,4,18,5,28,41,7,15,22,10,29,13,19,47,59,17,21,1,3,12,4,32,11,13,28,1,13,32,30,38,46,29,29,5,33,17,9,44,15,3,9,3,21,9,26,9,7,28,19,12,3,1,25,4,11,26,13,5,25,6,14,12,11,22,10,27,14,15,7,8,5,22,7,19,9,10,10,13,19,10,18,3,13,44,3,11,3,13,10,31,11,3,45,7,23,7,1,8,21,18,6,19,17,20,15,38,12,6,6,9,30,6,39,26,20,30,39,25,4,12,14,32,8,48,13,18,22,17,6,8,1,1,6,8,18,26,6,5,7,36,19,7,6,19,12,6,8,9,7,11,8,3,4,23,4,4,4,8,15,7,19,12,33,10,10,7,7,5,15,11,4,8,19,16,9,16,13,9,19,26,15,17,6,7,7,2,15,3,3,7,7,20,12,9,8,9,5,5,18,2,7,2,2,2,1,1,16,7,14,11,23,7,4,3,4,1,2,6,3,5,1,6,3,6,1,4,4,2,5,2,11,10,9,4,1,1,1,2,1,5,2,5,4,1,1,2,3,1,5,2,6,3,3,2,2,2,3,2,1,1,2,1,5,6,4,3,2,3,1,2,10,7,4,5,7,6,8,4,6,3,5,6,3,6,3,2,3,5,9,7,6,5,5,2,7,10,18,4,4,13,6,5,20,3,7,4,28,6,8,1,9,5,2,3,16,3,11,4,4,3,10,8,5,12,4,3,5,3,2,10,7,2,9,5,8,5,7,5,4,19,4,15,1,3,8,2,15,1,1,6,2,7,1,1,7,1,1,7,3,3,3,6,2,6,12,5,9,2,9,6,8,1,2,18,8,11,2,1,12,3,4,1,5,4,5,3,2,1,1,1,5,5,2,1,4,2,5,2,10,3,1,3,1,3,5,1,5,6,3,7,1,3,5,12,2,1,4,7,2,8,1,1,7,3,5,5,7,2,1,6,4,1,4,3,4,10,2,2,1,3,4,1,2,1,2,2,2,3,4,2,5,2,1,7,1,4,1,1,1,1,1,1,1,1,1,1,1,1,2,1,1,1,1,2,1,1,1,1,1,1,2,1,1,2,4,2,6,5,1,2,1,1,5,6,1,4,1,3,1,1,4,1,3,4,3,3,2,4,1,1,10,1,2,1,1,9,1,3,3,1,1,1,1,4,2,1,2,1,1,1,1,1,1,1,3,1,1,2,4,2,1,2,1,1,1,1,1,3,1,1,1,2,1,3,1,1,1,2,1,4,1,1,1,1,1,1,1,2,1,1,1,1,1,1,1,1,1,1],\"coloraxis\":\"coloraxis\",\"symbol\":\"circle\"},\"mode\":\"markers\",\"name\":\"\",\"showlegend\":false,\"x\":[1.8017081022262573,7.434559345245361,13.461918830871582,-19.37884521484375,6.424224376678467,-23.441431045532227,-13.488368034362793,-24.25054168701172,-28.12904930114746,-20.83980941772461,-20.419462203979492,-33.07276916503906,-14.339156150817871,-18.115062713623047,1.1745833158493042,-15.970104217529297,13.290206909179688,-8.211959838867188,-27.2470760345459,-16.64476203918457,16.99542236328125,2.6849582195281982,-22.066192626953125,9.921002388000488,-1.0706576108932495,-1.3039640188217163,0.6097599267959595,-6.406991481781006,23.780664443969727,-14.986746788024902,0.9126365780830383,-21.06243324279785,12.510766983032227,1.9319502115249634,33.74751281738281,18.448110580444336,-4.18013858795166,6.544862747192383,-13.627008438110352,-5.1459059715271,10.980162620544434,-31.366226196289062,19.810548782348633,-23.171289443969727,-28.519079208374023,-20.477890014648438,-12.168764114379883,-27.683298110961914,-8.066664695739746,4.089718818664551,0.732342541217804,-29.10056495666504,-7.090138912200928,7.247562408447266,-32.2066535949707,-30.028133392333984,-23.613651275634766,-16.397119522094727,-24.587024688720703,-24.639211654663086,-23.9882755279541,8.729723930358887,3.66668438911438,-33.43262481689453,-21.51634979248047,5.19993782043457,14.756379127502441,10.332015991210938,-25.173601150512695,-6.087786674499512,-1.6403652429580688,6.140441417694092,5.90093994140625,2.2118289470672607,-8.203303337097168,2.6218435764312744,11.72630786895752,10.210647583007812,3.648505449295044,12.448171615600586,-4.60154914855957,7.218949317932129,-26.20301055908203,-2.6670148372650146,17.64601707458496,-21.191389083862305,-2.780547618865967,4.845888137817383,-29.52657127380371,9.345778465270996,-15.087163925170898,-9.819406509399414,-8.822078704833984,12.36458683013916,2.884749412536621,4.282227993011475,-24.40420150756836,-24.719690322875977,-22.224483489990234,-32.516639709472656,4.6225481033325195,-0.9685620069503784,33.76640319824219,36.1688117980957,23.639789581298828,7.716159820556641,-24.34585189819336,-10.200501441955566,-7.5635857582092285,19.4043025970459,-5.529849529266357,14.455011367797852,-28.19318199157715,-22.440731048583984,-2.387141227722168,-30.112985610961914,2.762254238128662,4.649782657623291,-28.345115661621094,18.5648136138916,4.257624626159668,8.430863380432129,10.081389427185059,-29.22575569152832,5.94419002532959,-7.690684795379639,-29.09102439880371,9.865734100341797,8.42592716217041,25.7131290435791,-21.881784439086914,-22.816808700561523,-22.918821334838867,-24.300975799560547,-29.523818969726562,-25.291969299316406,-18.31331443786621,11.728309631347656,6.006968975067139,1.9541875123977661,-21.33252716064453,-1.151076078414917,-5.033934593200684,-18.1268253326416,15.484726905822754,-4.308082580566406,8.104193687438965,6.313853740692139,-0.19376562535762787,-23.1931095123291,-14.512494087219238,-17.958377838134766,-10.49179458618164,-12.520476341247559,5.928232192993164,-31.272523880004883,-16.771455764770508,7.013925075531006,0.6628504395484924,-8.652251243591309,3.1921424865722656,-19.17519760131836,1.216763973236084,0.7451409697532654,-28.171567916870117,-24.55158042907715,5.908552646636963,-19.067296981811523,-32.31199264526367,-26.766054153442383,-30.59849739074707,4.291049957275391,5.8308820724487305,4.676457405090332,-19.32121467590332,-18.28004264831543,-20.26344871520996,-27.563678741455078,-18.098806381225586,-30.7785587310791,4.154175281524658,-18.859289169311523,-16.84334373474121,8.969602584838867,-26.441082000732422,6.350800514221191,-27.717050552368164,-18.851612091064453,-25.758750915527344,-26.066761016845703,-32.05242919921875,-17.573577880859375,-19.805706024169922,-23.188785552978516,4.719577312469482,-29.02634620666504,-24.987934112548828,-29.76182746887207,-23.290613174438477,-12.41344928741455,-17.143047332763672,4.028254508972168,-23.235105514526367,2.592974901199341,-19.048391342163086,-18.034791946411133,-28.703201293945312,-18.723814010620117,-23.94599723815918,2.6663475036621094,-19.6435489654541,-19.955387115478516,-27.778554916381836,-5.642439842224121,-26.036102294921875,-5.84861421585083,14.244124412536621,8.46471881866455,8.880788803100586,-1.3181440830230713,-30.096237182617188,5.709844589233398,-24.498310089111328,-27.334484100341797,8.617919921875,9.813475608825684,6.6033220291137695,5.21977424621582,9.19672679901123,5.773510932922363,26.42986297607422,7.829885482788086,19.034198760986328,-19.587156295776367,-8.09402847290039,-23.260169982910156,2.809797525405884,-13.172712326049805,7.453334331512451,8.66765022277832,-8.34854507446289,-19.720258712768555,13.109588623046875,-6.56928825378418,-1.026037573814392,-33.96786117553711,17.73479652404785,-28.126256942749023,6.610696792602539,-13.36433219909668,-24.872411727905273,19.52752685546875,-23.724952697753906,19.822917938232422,2.760948896408081,-16.47931671142578,2.724552869796753,-1.3236852884292603,14.20129680633545,17.837095260620117,20.075551986694336,-14.728690147399902,31.026748657226562,0.7925931811332703,2.206869125366211,-18.363204956054688,-7.178112030029297,-33.9868278503418,-32.68950271606445,4.8130106925964355,2.1422536373138428,-35.611534118652344,-10.386066436767578,4.5550856590271,-32.2068977355957,-12.248208045959473,-3.501857042312622,3.448737144470215,4.510174751281738,5.123597621917725,-1.4468939304351807,3.58231258392334,-21.41656494140625,-0.006966668181121349,-28.768327713012695,-32.34210205078125,-6.837294578552246,1.5498523712158203,0.25042539834976196,9.205435752868652,-0.70218825340271,-18.904237747192383,-21.21251106262207,9.49424934387207,1.4281615018844604,15.999311447143555,-21.60545539855957,-11.687641143798828,-3.7175240516662598,3.706448793411255,-3.383277654647827,-33.362281799316406,-17.368541717529297,0.6351056098937988,-15.487564086914062,-28.214725494384766,0.03598135709762573,-17.450937271118164,-2.851985216140747,-2.454838752746582,-30.46360969543457,-16.626522064208984,3.779893398284912,39.982887268066406,-35.72151184082031,-35.7142333984375,-32.49714660644531,-32.09785079956055,-18.477210998535156,6.986017227172852,-6.86973762512207,4.373044490814209,15.305596351623535,-9.883196830749512,17.10991668701172,4.8804612159729,-35.75863265991211,-0.5308143496513367,13.078118324279785,-12.276824951171875,-1.2144055366516113,-2.5159525871276855,-0.35180866718292236,-15.849150657653809,-6.125632286071777,15.51391887664795,-21.776872634887695,16.557889938354492,-12.046525001525879,-32.7426872253418,-15.551336288452148,12.662519454956055,-11.244318008422852,-16.211944580078125,-14.973209381103516,-35.50218963623047,-16.803525924682617,12.432137489318848,10.385018348693848,-20.233922958374023,12.772174835205078,26.26568603515625,21.703575134277344,6.403931617736816,10.894389152526855,4.7189435958862305,-27.26127815246582,16.238380432128906,-18.819053649902344,-23.86105728149414,-10.15112018585205,4.253907203674316,17.37894058227539,15.78868293762207,4.985900402069092,6.393768310546875,-11.482609748840332,9.538240432739258,18.33946418762207,10.233915328979492,-11.364781379699707,-17.086929321289062,23.026247024536133,14.654324531555176,26.455530166625977,9.528716087341309,14.553910255432129,-1.4449734687805176,-13.83842658996582,6.153518199920654,-11.528264999389648,-28.341646194458008,24.6563777923584,15.31760025024414,3.114637613296509,15.526374816894531,-13.950578689575195,26.713647842407227,5.733778476715088,-5.591373920440674,11.314587593078613,1.000208854675293,3.63057279586792,5.541779518127441,25.751480102539062,-10.066080093383789,22.902130126953125,21.8814640045166,0.17224891483783722,14.338444709777832,-2.4095330238342285,4.658474922180176,16.510923385620117,-21.069690704345703,3.559502601623535,13.64127254486084,20.212961196899414,-32.247894287109375,1.5768170356750488,12.458205223083496,20.005329132080078,26.579864501953125,4.297664642333984,-15.353569984436035,1.545411467552185,0.7069107294082642,-2.773772716522217,-5.0561604499816895,-23.226011276245117,-10.869078636169434,-3.113079309463501,7.4477643966674805,-22.334009170532227,33.07857894897461,-18.63258171081543,-10.457456588745117,-28.441347122192383,-26.071834564208984,-21.424837112426758,-16.806760787963867,4.268476486206055,-19.777524948120117,-7.083126544952393,-21.754375457763672,-25.40186882019043,-10.747014045715332,36.48937225341797,34.824195861816406,37.910194396972656,33.17091369628906,15.059284210205078,25.92997932434082,-25.6776065826416,-3.802187442779541,6.760982513427734,0.23803767561912537,-1.9637579917907715,7.495885372161865,2.1317098140716553,28.826412200927734,7.969661712646484,14.999265670776367,23.690095901489258,11.592694282531738,9.972557067871094,17.794496536254883,18.910120010375977,-9.399084091186523,-17.612388610839844,-7.977696418762207,-14.0147705078125,-25.148386001586914,-27.829450607299805,-13.670829772949219,-5.450808048248291,-25.576204299926758,-22.490869522094727,5.515953540802002,-15.209033966064453,-0.30178216099739075,-6.580352783203125,4.0809431076049805,-8.242268562316895,-22.306556701660156,-12.20665168762207,2.0038199424743652,-12.062491416931152,-25.33724021911621,-26.521757125854492,-30.748544692993164,-17.032873153686523,-16.22651481628418,-28.6269474029541,-24.293033599853516,-12.818544387817383,1.1565806865692139,-27.523481369018555,-20.030826568603516,-27.671175003051758,-26.235225677490234,-19.906347274780273,-20.735971450805664,-25.68025779724121,-20.96856117248535,-22.476675033569336,-25.14231300354004,-21.467018127441406,-21.081344604492188,-24.24081039428711,-1.8142553567886353,-21.064876556396484,7.725692272186279,-24.357261657714844,-21.070026397705078,-22.773752212524414,-23.32925796508789,-15.535425186157227,-11.793778419494629,-26.240530014038086,-13.65403938293457,-27.762060165405273,-26.39655876159668,-28.703351974487305,-15.241250038146973,-31.8670654296875,-15.053189277648926,-15.264922142028809,-31.663667678833008,-24.40436553955078,-25.511754989624023,-16.596296310424805,-26.058210372924805,-25.596187591552734,-24.2614688873291,-23.95274543762207,-23.037668228149414,-23.765771865844727,-24.195327758789062,-27.931392669677734,-24.947494506835938,-25.61127281188965,-21.836002349853516,-21.684595108032227,-12.363510131835938,-0.8510460257530212,-17.739442825317383,-26.428836822509766,-13.693320274353027,12.89467716217041,2.589360237121582,7.4784836769104,21.166486740112305,-19.86501121520996,-31.351381301879883,26.860057830810547,9.590228080749512,-29.9278564453125,25.2694149017334,-15.62976360321045,9.058198928833008,10.38564682006836,14.365312576293945,-0.15709255635738373,9.656929969787598,28.66792869567871,0.23259425163269043,-19.71784782409668,-12.37884521484375,13.05294418334961,14.284180641174316,15.874122619628906,-8.84676456451416,10.182714462280273,18.05168342590332,17.504751205444336,7.813024520874023,14.345992088317871,2.4936680793762207,17.224905014038086,-2.873246192932129,25.12090492248535,-3.951417922973633,12.7459135055542,17.519956588745117,25.955589294433594,9.955255508422852,35.580745697021484,6.7754645347595215,1.9596389532089233,-20.046798706054688,-9.774638175964355,-20.595300674438477,-7.1408820152282715,-15.207751274108887,19.733915328979492,18.113170623779297,-26.218854904174805,0.9967411756515503,-19.82011604309082,29.80238914489746,2.698348045349121,-3.453397035598755,-15.891395568847656,3.127619981765747,4.269170761108398,2.3405158519744873,21.784582138061523,3.704603910446167,40.37809371948242,4.770012855529785,-7.7130632400512695,-23.265674591064453,-30.7955322265625,-18.62215805053711,-8.895706176757812,-19.881175994873047,-19.213735580444336,-26.31265640258789,-21.18662452697754,-14.383133888244629,-17.586750030517578,-21.021564483642578,-20.345998764038086,-8.795697212219238,-28.708417892456055,-6.2259521484375,-13.44556999206543,-15.760333061218262,-3.484781265258789,13.898378372192383,4.689511299133301,-2.3981330394744873,8.888310432434082,5.740428447723389,-4.752295017242432,-16.476457595825195,2.82883358001709,3.4277560710906982,7.301548480987549,6.3781280517578125,-17.92279815673828,-23.77378273010254,-19.738704681396484,-1.0575193166732788,-8.79606819152832,6.033511638641357,-3.0354130268096924,-25.27170181274414,-18.200496673583984,-8.422428131103516,-21.184572219848633,-13.619582176208496,-9.436115264892578,-21.005950927734375,-21.770950317382812,-20.055757522583008,-21.139938354492188,-19.745880126953125,-19.07201385498047,-26.08782196044922,-24.836851119995117,-35.429988861083984,-22.20036506652832,-18.906436920166016,-23.851381301879883,-20.022668838500977,-29.4472599029541,0.7181473970413208,-28.562679290771484,-12.256782531738281,-27.4376220703125,-0.4951035678386688,-14.953348159790039,-14.680624008178711,-9.183188438415527,20.51293182373047,15.045354843139648,-4.494119167327881,29.093517303466797,8.346429824829102,-18.57112693786621,-5.386041164398193,5.139325141906738,11.636298179626465,-19.669830322265625,-25.069108963012695,51.00212478637695,14.392426490783691,4.657138824462891,-18.140830993652344,16.129701614379883,1.2239049673080444,-2.976538896560669,-0.8786928653717041,1.7997156381607056,6.301416873931885,17.015228271484375,23.323673248291016,9.792613983154297,-2.4994962215423584,6.168234825134277,5.038322448730469,-11.377876281738281,-26.951255798339844,7.133023738861084,-5.349425792694092,-8.2647705078125,-16.593732833862305,-8.948246002197266,11.790698051452637,-28.028034210205078,9.991623878479004,-10.408823013305664,16.547611236572266,-27.504812240600586,6.401294231414795,-18.4180965423584,-19.87753677368164,-21.844928741455078,7.167374134063721,51.8106575012207,-8.530919075012207,-25.759672164916992,-11.983244895935059,-18.147911071777344,-1.2000218629837036,0.36852824687957764,-22.81454849243164,21.276826858520508,5.762307643890381,10.4232759475708,-2.0869011878967285,-0.03170311450958252,-5.527425765991211,17.65097999572754,9.20186710357666,-10.177985191345215,22.83479881286621,1.2283536195755005,-27.768217086791992,8.586118698120117,3.1302292346954346,-16.815061569213867,9.527447700500488,-8.039238929748535,-26.18186378479004,3.3594584465026855,18.09769058227539,4.344549655914307,-14.81023120880127,-10.67439079284668,3.088776111602783,26.70294761657715,-24.44512176513672,-15.380810737609863,-8.344175338745117,-0.8206294178962708,14.520684242248535,-4.143947124481201,-31.551340103149414,-2.300140857696533,11.75521183013916,-23.379318237304688,-11.319767951965332,9.373897552490234,10.171104431152344,-4.498476505279541,26.9064884185791,16.692195892333984,14.789348602294922,-8.052092552185059,12.447955131530762,11.706089973449707,-3.5606935024261475,-12.79415225982666,-17.50716209411621,-6.9871745109558105,22.66118621826172,14.637979507446289,-16.735408782958984,19.04533576965332,-12.750832557678223,0.168790802359581,7.721909523010254,19.556915283203125,-3.5587058067321777,21.4575252532959,-12.586881637573242,17.47319221496582,-5.368178844451904,5.255777835845947,-5.246242046356201,19.164974212646484,53.78589630126953,-3.9813263416290283,12.250686645507812,6.466947078704834,52.933345794677734,-23.384918212890625,-9.257929801940918,28.890506744384766,-14.883722305297852,-7.9695024490356445,2.068967580795288,22.654706954956055,10.533895492553711,11.960779190063477,24.213138580322266,-14.437509536743164,-1.0677193403244019,-1.031362533569336,17.456390380859375,3.0340006351470947,11.886310577392578,-21.428760528564453,-23.394319534301758,-3.228780746459961,16.490131378173828,12.114139556884766,-1.017327070236206,-23.4995059967041,0.5341100096702576,-30.2222957611084,54.078548431396484,22.80524253845215,16.941831588745117,20.253887176513672,-7.227728843688965,11.168134689331055,13.609931945800781,6.6392436027526855,-6.36151123046875,9.142899513244629,1.1424332857131958,7.006163120269775,11.014216423034668,11.653801918029785,10.688788414001465,12.045662879943848,41.19436264038086,28.810211181640625,1.7656670808792114,-2.975400686264038,18.08168601989746,-22.38745880126953,-20.497713088989258,-26.294384002685547,24.954547882080078,40.87797546386719,11.253140449523926,16.843379974365234,-14.005266189575195,4.6717848777771,-12.292616844177246,-3.1257050037384033,9.547708511352539,-14.54621410369873,-16.45245361328125,8.901594161987305,-23.714412689208984,-22.163528442382812,41.12696838378906,-11.88276195526123,-11.780014038085938,-24.5490779876709,-21.932863235473633,22.737390518188477,38.480506896972656,15.674416542053223,6.531016826629639,-4.944719314575195,23.444684982299805,-22.51555824279785,1.828132152557373,-16.546653747558594,5.246883392333984,-15.908293724060059,-23.621360778808594,7.749228477478027,4.364111423492432,16.97368049621582,-10.446255683898926,11.62644100189209,-16.86090850830078,12.843823432922363,3.4046924114227295,21.331140518188477,5.1794281005859375,-1.7709935903549194,-0.5387822985649109,3.4028079509735107,-21.987215042114258,-25.148298263549805,-20.037750244140625,21.148305892944336,-31.093896865844727,-19.639745712280273,-18.88901710510254,-30.715667724609375,28.73072052001953,-5.997941493988037,8.04443645477295,-1.400290608406067,32.173770904541016,1.2133163213729858,-15.117422103881836,23.946273803710938,-31.777942657470703,-29.700292587280273,-12.706941604614258,28.07411003112793,-26.736148834228516,0.18225625157356262,-29.415904998779297,-6.948333740234375,-14.209063529968262,23.812801361083984,-20.394559860229492,-25.7535343170166,24.337587356567383,23.368148803710938,-8.01824951171875,40.51679611206055,-13.741734504699707,-17.008010864257812,-11.135292053222656,-0.06382486969232559,6.562489986419678,-27.064180374145508,-18.69892692565918,-24.26580047607422,-20.003522872924805,-24.51911735534668,-4.1148295402526855,4.779103755950928,21.756465911865234,34.91658020019531,9.183945655822754,-4.943342685699463,18.757143020629883,23.294404983520508,22.149324417114258,1.7768959999084473,12.223883628845215,-9.820728302001953,-9.266653060913086,-10.329957008361816,-2.6863033771514893,-9.121984481811523,20.26101303100586,2.704667568206787,-27.38067054748535,-11.207878112792969,17.649499893188477,-6.7902092933654785,-4.459469795227051,-21.93061637878418,21.004667282104492,0.09102470427751541,0.4740146994590759,-4.079677581787109,11.849090576171875,-12.211064338684082,-3.539886474609375,-22.81299591064453,-15.290878295898438,-1.1475883722305298,-25.811784744262695,-21.78171157836914,-14.804811477661133,-18.023881912231445,-5.255591869354248,-26.376962661743164,-19.533472061157227,-20.74103546142578,-0.2086419314146042,-3.427065134048462,-11.921175956726074,-24.572416305541992,-15.809039115905762,-22.338598251342773,-19.5662899017334,-5.8648457527160645,13.295394897460938,3.5140485763549805,30.362512588500977,16.051721572875977,-6.265757083892822,-4.491951942443848,-8.192391395568848,18.85103416442871,17.080659866333008,8.776543617248535,12.462093353271484,-16.086374282836914,16.496618270874023,30.668922424316406,12.305695533752441,-4.205495834350586,-17.16214370727539,0.7528720498085022,21.828914642333984,0.679764986038208,-6.73418664932251,-13.78519344329834,12.62686824798584,19.220874786376953,14.371272087097168,6.956028938293457,12.78569221496582,31.82339859008789,18.585651397705078,15.965532302856445,0.17797096073627472,-13.269143104553223,-11.289841651916504,-3.031547784805298,-19.11177635192871,-12.458168983459473,-9.40700626373291,-12.099419593811035,-8.608293533325195,14.403193473815918,9.974967002868652,-7.140285015106201,10.398065567016602,-5.123356342315674,-6.570566654205322,-16.68818473815918,-20.637874603271484,-21.679893493652344,-7.967520236968994,7.80975341796875,-17.122089385986328,-3.434723377227783,-20.626468658447266,36.015892028808594,10.973739624023438,27.348844528198242,15.355803489685059,17.67690086364746,16.27924156188965,6.245464324951172,26.180423736572266,2.0943145751953125,15.175789833068848,33.2419548034668,-15.223310470581055,-26.71895408630371,15.379867553710938,10.004433631896973,-11.116719245910645,-4.169766902923584,-7.513007164001465,-6.987185955047607,-1.4559600353240967,18.06145477294922,-0.5811576247215271,10.145991325378418,-16.40771484375,-0.43333202600479126,20.802379608154297,6.7781596183776855,20.757158279418945,1.180403709411621,-19.90412712097168,16.655302047729492,-4.922357559204102,-2.2811343669891357,-19.596696853637695,18.776317596435547,-21.92354965209961,4.7149658203125,-17.021739959716797,-12.009868621826172,-13.624988555908203,-26.858257293701172,-11.332382202148438,-2.0569045543670654,-17.231935501098633,-4.246519088745117,11.57693862915039,-14.719515800476074,7.148306846618652,-6.9562788009643555,17.09676742553711,-18.20787239074707,4.241521835327148,29.32314682006836,-9.985858917236328,-9.042510986328125,-8.23850154876709,2.6749842166900635,-18.501882553100586,-9.115593910217285,-9.242854118347168,37.14940643310547,29.756139755249023,27.985607147216797,15.682012557983398,12.725532531738281,18.987422943115234,-12.337614059448242,23.318153381347656,19.316469192504883,-5.742978572845459,-19.494516372680664,-13.35092830657959,-20.699447631835938,24.3519229888916,-14.766533851623535,16.889768600463867,-22.1646671295166,23.180326461791992,12.777169227600098,-20.255285263061523,3.621713161468506,-10.207318305969238,-11.866077423095703,-1.6945229768753052,-15.177020072937012,-2.762145519256592,-9.98452091217041,-13.617805480957031,-15.523768424987793,-30.162906646728516,-6.076260089874268,-10.314760208129883,5.3405303955078125,-6.088749408721924,-23.207059860229492,-9.7042236328125,-23.590442657470703,-26.688081741333008,-22.837617874145508,-14.518205642700195,-1.2455720901489258,-10.188131332397461,-19.296546936035156,-6.509472846984863,-19.14999008178711,-12.44393253326416,-2.847750186920166,-10.136704444885254,6.267452716827393,-6.00210428237915,-21.909080505371094,-0.8601782321929932,9.20877742767334,23.506750106811523,-11.782820701599121,-30.62710952758789,-23.18443489074707,-16.320804595947266,3.7735135555267334,37.286537170410156,-25.828758239746094,-7.72108793258667,-27.580259323120117,-13.541871070861816,18.416149139404297,0.3134990930557251,-16.28072166442871,-19.111379623413086,53.72199630737305,-5.7809576988220215,21.964311599731445,-23.16605567932129,-25.052209854125977,-7.286519527435303,-10.814258575439453,29.601806640625,8.227398872375488,8.336588859558105,27.459089279174805,-8.170950889587402,-9.248878479003906,-4.366935729980469,-20.98396110534668,-11.845966339111328,-13.565792083740234,-22.588815689086914,7.818007946014404,-10.326569557189941,-22.77033805847168,-22.951881408691406,26.037012100219727,21.439777374267578,17.41704750061035,13.91670036315918,27.53545570373535,21.699951171875,16.2705135345459,6.719324588775635,18.228487014770508,-14.748888969421387,-9.719285011291504,13.697916984558105,-0.05988233909010887,3.1025352478027344,-24.58506965637207,-17.11710548400879,-24.265541076660156,-24.240924835205078,-17.0775146484375,-1.6912027597427368,-13.103713035583496,-1.7358347177505493,2.9850914478302,-23.612764358520508,53.5496940612793,-16.82236099243164,-17.86748695373535,-20.446758270263672,10.189655303955078,14.826578140258789,21.992204666137695,12.326484680175781,23.222652435302734,3.522204875946045,-16.496606826782227,-9.173297882080078,18.638816833496094,24.97014617919922,30.760269165039062,-4.8296661376953125,14.770992279052734,6.721067905426025,12.843717575073242,0.3802025318145752,-6.012682914733887,-4.926258563995361,-16.380491256713867,-3.692197799682617,12.68071174621582,-11.966485977172852,19.291561126708984,16.60475730895996,19.788589477539062,28.61063003540039,13.900762557983398,2.2176811695098877,2.1002213954925537,-6.2328362464904785,-9.478833198547363,50.58877944946289,-4.868166446685791,-23.87183380126953,14.61628246307373,-29.68097686767578,-16.619401931762695,-1.3299416303634644,-25.832664489746094,21.99966812133789,-20.189250946044922,16.14043426513672,16.559955596923828,-9.215448379516602,8.250689506530762,34.34101867675781,-21.289892196655273,-22.74473762512207,4.542465686798096,26.370349884033203,3.58762526512146,23.404949188232422,26.630762100219727,17.2160701751709,20.26582908630371,18.497039794921875,-19.53689956665039,-9.704951286315918,-14.139921188354492,-2.167741060256958,-15.663238525390625,-19.712230682373047,-14.347295761108398,-9.628726959228516,2.685553789138794,16.150949478149414,19.40159034729004,25.506406784057617,22.740222930908203,29.76058578491211,13.093490600585938,5.920506477355957,-6.200466156005859,-2.5017600059509277,13.570731163024902,22.22066879272461,4.139191627502441,-5.696791172027588,19.707277297973633,13.6569242477417,2.312788963317871,-25.29282569885254,36.4929313659668,-13.192824363708496,7.0536298751831055,52.43071365356445,20.683856964111328,23.146453857421875,-22.797874450683594,-1.3063478469848633,15.727471351623535,-8.252486228942871,19.477115631103516,-17.932697296142578,-17.5224609375,23.906856536865234,-5.423459053039551,-22.806785583496094,22.578384399414062,53.684322357177734,15.456042289733887,-10.587833404541016,21.509374618530273,35.122283935546875,54.91694641113281,19.445585250854492,21.033626556396484,-3.216686487197876,-11.183622360229492,14.410016059875488,3.153775215148926,-18.8198299407959,33.780799865722656,18.808351516723633,3.4593803882598877,35.70105743408203,13.24085521697998,-0.40691763162612915,-12.897176742553711,17.19797706604004,35.58722686767578,-18.926897048950195,28.62564468383789,-10.746726989746094,53.24721908569336,-17.38882064819336,-23.45206069946289,20.029836654663086,-12.252120018005371,35.173973083496094,17.260879516601562,32.60103988647461,16.66419219970703,16.186532974243164,35.43648147583008,34.45771789550781,34.729087829589844,-9.605274200439453,35.426307678222656,-24.01116180419922,-3.337040901184082,-16.570968627929688,20.51190948486328,34.93077087402344,55.07333755493164,35.32905960083008,0.9945551753044128,34.86738967895508,-17.220043182373047,32.900455474853516,7.268432140350342,1.0183459520339966,33.2427864074707,-22.653322219848633,34.849082946777344,21.12870979309082,-18.465728759765625,34.312721252441406,35.35161590576172,52.71320343017578,25.14797592163086,35.17537307739258,-23.11592674255371,-15.11279010772705,-12.927461624145508,13.929825782775879,30.5091552734375,-24.359615325927734,34.59541702270508,34.400272369384766,-15.493685722351074,32.238365173339844,-17.62856674194336,-16.6021728515625,-13.65859603881836,0.1584121286869049,-6.994573593139648,-17.671476364135742,14.411975860595703,40.022254943847656,-20.68684196472168,34.388267517089844,12.569928169250488,-26.995838165283203,12.51997184753418,13.683367729187012,12.293251037597656,15.8510160446167,16.518342971801758,-16.99085807800293,-13.806468963623047,-20.942834854125977,-25.631023406982422,-1.3210344314575195,-3.2837541103363037,-9.400397300720215,-10.74988842010498,19.83745002746582,4.413623809814453,-17.986852645874023,-16.954219818115234,-2.99764084815979,18.72991371154785,38.73313522338867,-4.6179704666137695,7.0108418464660645,-1.803425908088684,24.383615493774414,20.25815200805664,25.707883834838867,22.906679153442383,25.28664779663086,-3.9269444942474365,-14.5053129196167,14.474520683288574,23.51992416381836,-8.937952041625977,18.368227005004883,24.883625030517578,0.0805283933877945,-3.2950825691223145,-14.157424926757812,20.596920013427734,-16.70842933654785,-18.565589904785156,-5.818462371826172,-26.45802116394043,27.2932186126709,-5.761979579925537,-10.503215789794922,13.495190620422363,23.304241180419922,21.197364807128906,-5.171610355377197,0.8557575345039368,-0.1722593605518341,-6.841135501861572,9.105731010437012,-2.350339651107788,8.96123218536377,-15.414457321166992,11.519669532775879,-5.3064985275268555,50.944480895996094,-23.51342010498047,-5.233621120452881,-25.59451675415039,-15.38994026184082,54.64302062988281,-3.7704215049743652,-1.158401608467102,-27.581954956054688,-5.339188098907471,-15.370186805725098,-11.868706703186035,53.816646575927734,24.62128448486328,-21.27017593383789,23.492887496948242,-4.502829551696777,19.90424156188965,-22.06456756591797,-22.95819664001465,-6.651665687561035,5.215625286102295,19.806726455688477,18.131437301635742,52.003662109375,-21.424203872680664,-6.8314104080200195,-6.414586544036865,53.99848937988281,14.149361610412598,-8.586023330688477,12.128920555114746,25.793210983276367,13.353034019470215,-5.911614894866943,6.219181537628174,-4.133146286010742,9.218656539916992,37.41593551635742,23.390079498291016,-12.526104927062988,27.950733184814453,12.967504501342773,54.58657455444336,13.707681655883789,51.140926361083984,40.190834045410156,8.936503410339355,29.645944595336914,31.852310180664062,13.291440963745117,-21.94312858581543,-22.001779556274414,-1.327746033668518,40.985599517822266,-4.527102470397949,-5.157634258270264,52.371036529541016,-15.907352447509766,-0.5136877298355103,9.640806198120117,27.844545364379883,24.150009155273438,-17.879907608032227,-17.539812088012695,20.448810577392578,-6.6503825187683105,-6.205064296722412,-1.8097478151321411,9.145587921142578,3.284496784210205,6.817997455596924,8.217705726623535,-7.924358367919922,21.669282913208008,23.07200813293457,-22.55986976623535,-17.947481155395508,53.154808044433594,32.355934143066406,-5.406355857849121,-14.563851356506348,26.615741729736328,-9.502506256103516,23.350099563598633,-6.409416198730469,18.939058303833008,-15.332952499389648,-18.328201293945312,-25.52318572998047,-9.92918586730957,26.947195053100586,20.532451629638672,-16.581138610839844,7.0343098640441895,53.31464385986328,-3.7237303256988525,-4.984083652496338,35.910972595214844,54.15869903564453,35.084510803222656,39.93491744995117,17.86176109313965,53.521236419677734,13.421196937561035,11.325828552246094,18.197254180908203,-13.124025344848633,-3.9248874187469482,36.178955078125,-17.12504768371582,36.90767288208008,-6.241331100463867,35.692115783691406,36.42329406738281,36.639286041259766,55.62958526611328,37.09569549560547,52.01396942138672,52.50724792480469,35.75435256958008,36.15401840209961,52.606624603271484,36.57514190673828,35.9248161315918,36.028472900390625,36.04161071777344,35.47895812988281,35.69712829589844,36.236717224121094,2.1359827518463135,38.74930953979492,39.70817184448242,52.30941390991211,36.54975891113281,54.90700912475586,53.171688079833984,1.7272753715515137,35.59654235839844,37.002227783203125,14.194893836975098,-14.217101097106934,13.832663536071777,-24.999738693237305,-13.977935791015625,52.616119384765625,-1.1707886457443237,53.740657806396484,24.807090759277344,-17.34991455078125,21.511661529541016,-16.469444274902344,-4.537479400634766,32.49513244628906,-18.423009872436523,51.828819274902344,-9.20224380493164,-1.832381248474121,25.243534088134766,-17.85397720336914,22.67334747314453,39.52988052368164,22.346210479736328,-4.977725982666016,-25.136943817138672,-5.77609920501709,51.935646057128906,6.720913887023926,52.66703796386719,-24.175748825073242,52.79035949707031,3.3424925804138184,5.509108066558838,40.650657653808594,17.223819732666016,-12.49571418762207,20.730363845825195,-12.743484497070312,33.165287017822266,-3.5061287879943848,-5.954150676727295,-22.463823318481445,2.4076952934265137,23.27716064453125,1.7808808088302612,2.198209524154663,27.119356155395508,1.692533254623413,54.33623504638672,2.2452783584594727,54.72870635986328,1.3776209354400635,2.166301965713501,50.816184997558594,-12.641275405883789,-5.443090915679932,53.12211227416992,52.02102279663086,-17.496246337890625,2.048407554626465,50.86367416381836,1.9701253175735474,54.12139892578125,51.57602310180664,22.50391387939453,54.34772872924805,52.185028076171875,52.51898193359375,24.214019775390625,17.6536808013916,-7.190710067749023,40.174110412597656,23.712108612060547,40.600868225097656,22.79241943359375,20.749021530151367,-21.36277961730957,53.221839904785156,20.237485885620117,13.519341468811035,13.461811065673828,20.379905700683594,13.753617286682129,41.14289855957031,21.94380760192871,19.87985610961914,-6.58154821395874,51.997859954833984,21.68634033203125,-4.628988742828369,40.60679626464844,-3.1643500328063965,24.796785354614258,16.728168487548828,-0.19611316919326782],\"xaxis\":\"x\",\"y\":[2.232555627822876,-3.8181564807891846,10.584758758544922,25.699979782104492,-6.521079063415527,-9.623311042785645,28.81894302368164,24.64096450805664,21.15131950378418,4.851063251495361,22.36671257019043,12.945773124694824,18.54115867614746,8.532793998718262,-9.773453712463379,17.124433517456055,8.838844299316406,17.1739559173584,-6.288862228393555,5.917781829833984,-23.69365692138672,2.0532546043395996,14.302522659301758,15.679545402526855,-21.679353713989258,16.967687606811523,-2.2057721614837646,-1.530558466911316,-19.115093231201172,11.574520111083984,-3.8203353881835938,5.981297969818115,12.146055221557617,-14.848119735717773,-8.608085632324219,-9.554186820983887,15.279086112976074,-19.469446182250977,1.1294524669647217,-21.410913467407227,-0.03700492903590202,19.736852645874023,-13.162517547607422,-0.3608147203922272,1.3631011247634888,2.18552827835083,21.30251693725586,19.543128967285156,-10.5319185256958,4.479910373687744,-7.922895908355713,3.267320394515991,21.69318962097168,-2.971494197845459,6.7228827476501465,21.78339385986328,-2.9860968589782715,14.110883712768555,-6.801856517791748,-6.581387519836426,-7.121390342712402,-16.220951080322266,-15.376693725585938,13.07414722442627,0.8969057202339172,-12.97735595703125,5.972842693328857,9.050992012023926,28.768266677856445,1.3988336324691772,-6.910181999206543,-4.149028778076172,-12.958059310913086,14.063570976257324,-3.3863773345947266,6.530572414398193,-14.412028312683105,-19.12381362915039,2.3312742710113525,6.795855522155762,19.183076858520508,-0.013493278063833714,1.625158429145813,-9.031237602233887,7.192742347717285,6.9822211265563965,-3.547562599182129,-13.046278953552246,25.213821411132812,13.392755508422852,16.33365821838379,14.780977249145508,8.292166709899902,-15.049714088439941,1.9079066514968872,2.7280895709991455,28.29906463623047,23.00617027282715,27.18301010131836,13.138266563415527,0.08578012883663177,-12.545854568481445,-3.4021918773651123,1.7891751527786255,-3.17329478263855,-24.175718307495117,5.911885738372803,9.413476943969727,15.560752868652344,-18.483938217163086,-16.404603958129883,-16.797754287719727,1.1847634315490723,20.84429168701172,-6.262360095977783,9.941787719726562,-8.974952697753906,-9.226049423217773,6.509140491485596,-23.044147491455078,-7.676934719085693,18.769901275634766,11.210222244262695,11.87881088256836,-8.39956283569336,-16.051403045654297,22.485078811645508,15.419196128845215,13.273146629333496,3.673077344894409,17.401805877685547,24.782072067260742,28.948503494262695,14.237424850463867,25.215728759765625,26.140748977661133,9.235248565673828,-24.571001052856445,-1.8060073852539062,-21.0190486907959,26.797117233276367,-12.375876426696777,-0.6792558431625366,29.888425827026367,-13.602641105651855,-14.126604080200195,-0.7634925246238708,-19.612524032592773,20.200973510742188,16.680280685424805,23.904010772705078,26.141361236572266,26.1503849029541,21.736103057861328,-13.04817008972168,19.915977478027344,19.990747451782227,-10.233345031738281,-23.210830688476562,21.580638885498047,-11.814579010009766,10.813535690307617,-1.4132269620895386,-5.510657787322998,-1.3613828420639038,9.232580184936523,-1.4832539558410645,23.634044647216797,9.19628620147705,-1.598586082458496,5.330507278442383,4.254945755004883,3.7810189723968506,3.8089516162872314,15.871240615844727,29.73655891418457,21.805078506469727,21.28327751159668,12.981664657592773,20.23967933654785,4.267674446105957,21.57619285583496,28.37057113647461,9.983386993408203,22.747800827026367,4.276803016662598,23.510128021240234,21.75316047668457,2.7216837406158447,16.211294174194336,16.533235549926758,18.242509841918945,28.28301239013672,26.927919387817383,2.7991209030151367,15.739442825317383,12.69071102142334,6.879995346069336,24.860986709594727,18.25318717956543,16.361751556396484,0.6714832186698914,20.675201416015625,0.4698560833930969,29.261096954345703,16.580934524536133,-1.8273931741714478,25.7624454498291,14.635242462158203,0.2855098843574524,28.11137580871582,1.5132042169570923,12.333148956298828,23.498735427856445,26.99781036376953,0.2208518087863922,2.3102095127105713,-2.667757511138916,-1.1790180206298828,-15.96306324005127,9.97775936126709,1.2926520109176636,22.822256088256836,1.0831215381622314,-22.493680953979492,4.502547264099121,1.0570902824401855,2.565732955932617,-5.116759777069092,1.3972855806350708,-17.46501350402832,2.4377713203430176,5.343540668487549,24.209060668945312,16.800392150878906,-11.266242980957031,-5.658132076263428,22.063655853271484,2.1059916019439697,18.869565963745117,-8.997819900512695,5.6412482261657715,-23.183311462402344,4.139551639556885,4.508747577667236,5.1812424659729,-17.446725845336914,0.08070001006126404,16.755170822143555,28.782161712646484,-1.1051414012908936,-22.27332305908203,-1.6002215147018433,-20.959074020385742,-7.983173847198486,-1.6435056924819946,-5.5220842361450195,6.944093227386475,-12.43459701538086,13.069771766662598,-15.806164741516113,22.003917694091797,0.6444754600524902,8.5011568069458,-0.848129391670227,-15.038660049438477,-6.94390344619751,5.231254577636719,-2.770249843597412,-4.970948219299316,6.5586981773376465,-1.40915846824646,-0.6295134425163269,-9.242918968200684,2.7332992553710938,10.26792049407959,-2.819969654083252,-22.324237823486328,8.801837921142578,-10.946582794189453,-9.639105796813965,-7.051705360412598,-1.8301775455474854,-9.786300659179688,11.319524765014648,1.9919641017913818,-10.337632179260254,6.02490758895874,-10.517843246459961,7.725865364074707,3.729074716567993,3.996922254562378,24.874343872070312,-24.870466232299805,-6.157369613647461,-3.1538949012756348,0.34476935863494873,9.038310050964355,-25.77080726623535,-6.571976184844971,6.170114517211914,-1.4423811435699463,9.466461181640625,-11.956389427185059,10.189245223999023,-3.400603771209717,7.220834255218506,-12.561591148376465,2.2344892024993896,5.014122009277344,-0.0965552031993866,-17.670488357543945,-4.483347415924072,-1.939064860343933,-1.396553635597229,-1.3891886472702026,12.074362754821777,16.56638526916504,5.877776622772217,17.89255142211914,8.079327583312988,-22.67168426513672,-24.149765014648438,17.995086669921875,-9.101423263549805,-22.829078674316406,8.98524284362793,3.522768497467041,-10.964701652526855,-12.638993263244629,7.413412570953369,4.990260124206543,5.490225791931152,7.829562187194824,12.225214958190918,-0.6252307295799255,-13.150812149047852,-7.4490251541137695,-14.607295989990234,-3.304583787918091,-14.245027542114258,1.2683086395263672,-16.53061866760254,11.160602569580078,19.0743465423584,9.705100059509277,24.62828826904297,-11.66384220123291,-10.135493278503418,-10.75297737121582,-10.511789321899414,1.703048586845398,-5.162989139556885,-3.5542221069335938,2.185638666152954,-1.762233853340149,21.816850662231445,1.1610513925552368,-3.7600882053375244,6.711465358734131,-8.45212173461914,14.055900573730469,-10.809944152832031,4.311707019805908,9.920058250427246,-6.285922050476074,3.278118371963501,-21.032543182373047,-4.187341213226318,-20.821828842163086,-20.205812454223633,-3.9052796363830566,-14.555004119873047,-19.14131736755371,-1.936357021331787,-8.623189926147461,-16.778512954711914,-6.0629563331604,-15.4433012008667,-10.39968204498291,11.310332298278809,3.1618993282318115,-8.058690071105957,5.333008289337158,-2.758110523223877,3.0334784984588623,-7.825788497924805,-9.104227066040039,-7.057605743408203,15.842572212219238,-4.273728847503662,-14.10937213897705,-11.042798042297363,-20.56390953063965,-14.037135124206543,20.681325912475586,-14.33944320678711,-15.309056282043457,-3.05764102935791,-3.2416257858276367,15.144817352294922,-13.18053913116455,8.693768501281738,30.52210807800293,-8.503786087036133,-1.6835263967514038,-3.3785126209259033,9.131708145141602,-13.321429252624512,17.03346824645996,10.499427795410156,8.99191951751709,7.016156196594238,23.50698471069336,-15.125544548034668,10.601419448852539,-8.512212753295898,-2.1851325035095215,29.761398315429688,23.917715072631836,-16.3956356048584,11.146462440490723,28.49980926513672,1.3034470081329346,17.901124954223633,-12.4755859375,14.028810501098633,12.076277732849121,22.359907150268555,27.38686752319336,0.3783521354198456,20.140419006347656,22.91393280029297,21.96023178100586,19.594379425048828,13.003877639770508,-4.120421409606934,-5.294257164001465,-4.207260608673096,-1.7541406154632568,-8.762088775634766,-5.3116455078125,21.99968719482422,19.593860626220703,9.99585247039795,-18.474082946777344,17.64676284790039,7.838528633117676,11.501507759094238,4.074007511138916,-6.317342758178711,-9.945703506469727,-15.085916519165039,-24.405696868896484,15.926281929016113,-11.996633529663086,-16.464763641357422,4.062193393707275,-7.9992995262146,1.0476419925689697,16.14295768737793,0.6234081983566284,-3.2876827716827393,-3.5825159549713135,-2.7311699390411377,4.277281761169434,-5.281958103179932,-8.643092155456543,16.140953063964844,-4.505309104919434,-4.229711532592773,-2.2254562377929688,17.70716094970703,15.311673164367676,20.01951026916504,-18.923946380615234,5.516544342041016,17.525373458862305,11.20260238647461,14.56176471710205,21.956857681274414,24.157251358032227,17.316974639892578,17.544906616210938,-6.253771781921387,0.4112601578235626,15.153117179870605,14.599994659423828,9.775562286376953,13.706489562988281,20.70326042175293,18.408775329589844,8.235790252685547,26.04549217224121,27.399988174438477,28.60956573486328,23.47665023803711,8.714377403259277,8.302140235900879,-1.7130926847457886,30.56268882751465,9.133249282836914,19.77120018005371,13.315509796142578,19.005334854125977,12.990438461303711,25.211484909057617,9.37246322631836,13.059642791748047,-0.28512367606163025,23.401945114135742,6.724801063537598,6.050776481628418,21.095378875732422,7.511824607849121,-5.871958255767822,21.361778259277344,19.06498908996582,17.832801818847656,25.9121036529541,19.800798416137695,13.774962425231934,25.2387638092041,4.10656213760376,17.439363479614258,29.046113967895508,24.88214874267578,11.537419319152832,11.912093162536621,24.428409576416016,-2.903719425201416,-0.8530396819114685,18.217222213745117,13.831679344177246,-18.837377548217773,9.895402908325195,15.69835376739502,-18.02313995361328,-21.79030990600586,-17.186552047729492,-16.60429573059082,-22.122732162475586,2.0216312408447266,-4.717613697052002,-7.139418125152588,1.2329477071762085,-6.025964736938477,5.930760860443115,1.6136256456375122,3.9242000579833984,-6.725043296813965,-6.3257155418396,-17.071874618530273,-16.491689682006836,-3.552065134048462,17.740602493286133,-1.0184825658798218,16.398845672607422,3.06425142288208,-3.280082941055298,-4.351914882659912,-14.208473205566406,-6.718503952026367,-0.01596696861088276,0.8803841471672058,4.81785774230957,12.79344367980957,-3.9747328758239746,0.13545657694339752,-0.47027504444122314,-14.757448196411133,-11.920875549316406,-4.445723533630371,-18.64297866821289,-10.319210052490234,-4.3721442222595215,-2.3368523120880127,-16.06806182861328,-16.94827651977539,-3.4058213233947754,10.985234260559082,3.1068532466888428,19.8664493560791,-3.133162498474121,-20.206796646118164,3.129228115081787,5.277335166931152,0.35857242345809937,13.361960411071777,-5.219338893890381,-5.976583480834961,-0.28613102436065674,-0.6224464774131775,21.131776809692383,-20.34332847595215,-14.406060218811035,-24.10367774963379,11.342599868774414,-3.2545597553253174,11.879925727844238,-9.449247360229492,3.7550199031829834,14.503026008605957,4.730170726776123,7.903733730316162,9.917152404785156,8.351675033569336,-3.5235941410064697,28.056346893310547,8.092767715454102,3.8748297691345215,20.835506439208984,-2.3083271980285645,6.6934967041015625,5.435776233673096,16.20098114013672,-0.12569895386695862,23.717376708984375,7.546006202697754,7.1647257804870605,10.51361083984375,-13.6029052734375,-20.07853126525879,12.382352828979492,-3.886065721511841,4.418655872344971,-10.537467002868652,-6.983717918395996,-6.579665660858154,-5.083846569061279,6.653918743133545,11.312214851379395,11.583277702331543,0.5715709328651428,19.253482818603516,12.644683837890625,19.536447525024414,10.0159330368042,-0.7222780585289001,19.79289436340332,15.521028518676758,12.881954193115234,6.786202430725098,16.97239112854004,3.43605375289917,20.863910675048828,16.43915367126465,-1.4254921674728394,17.64712142944336,15.126686096191406,26.490514755249023,9.864118576049805,15.37925910949707,13.387213706970215,22.95315170288086,12.965544700622559,7.80431604385376,-7.916411876678467,7.5279693603515625,1.7007027864456177,22.870908737182617,-3.8267645835876465,2.1328141689300537,13.728403091430664,-6.997940540313721,-10.134981155395508,-4.954444408416748,13.962477684020996,-5.544574737548828,-2.717560291290283,18.779766082763672,-11.833500862121582,-3.7340729236602783,8.65392780303955,12.249346733093262,-12.518948554992676,-11.189356803894043,-24.257469177246094,13.809097290039062,-15.088939666748047,-16.36763572692871,5.057858943939209,2.0470948219299316,0.6106036901473999,-2.7851943969726562,8.647297859191895,-15.2166109085083,-6.753390312194824,-9.839600563049316,9.041187286376953,9.881834030151367,-2.5263113975524902,19.27100372314453,8.242920875549316,17.77001190185547,-13.021124839782715,-18.165016174316406,-5.479861736297607,-20.195110321044922,-0.723267674446106,7.264306545257568,8.572449684143066,2.0415897369384766,2.386863946914673,13.178303718566895,-26.109928131103516,-8.790326118469238,6.930545330047607,3.6253557205200195,4.320141315460205,-9.831700325012207,-0.27354082465171814,-10.66559886932373,3.38094162940979,14.512262344360352,-15.940740585327148,-19.796459197998047,-6.78378438949585,-10.701919555664062,-18.28310203552246,7.447027683258057,-8.22481632232666,-13.385478019714355,-0.18812042474746704,-6.093306064605713,-12.103365898132324,-11.410943031311035,-19.202190399169922,-3.1251165866851807,6.7289137840271,-10.692137718200684,-1.3503323793411255,-3.7495429515838623,-9.354294776916504,-7.984554767608643,-8.525012969970703,12.252483367919922,-14.028779029846191,-11.936504364013672,-10.736968994140625,14.745509147644043,-8.239950180053711,-8.278162956237793,-11.469573974609375,-9.580647468566895,-1.2439581155776978,-2.474966049194336,-24.22113609313965,8.70718002319336,-2.975841999053955,6.993218898773193,-11.26826286315918,-0.5261168479919434,-6.874507904052734,-4.747535228729248,-24.086702346801758,-10.440673828125,-7.18091344833374,-1.521483063697815,-7.476424694061279,-12.897665977478027,17.03206443786621,12.645025253295898,-18.903804779052734,-9.457419395446777,27.011375427246094,5.171096324920654,-19.224308013916016,-20.147199630737305,13.495891571044922,4.887268543243408,16.30890655517578,16.76909065246582,-17.227432250976562,-13.279327392578125,-15.769126892089844,-3.785629987716675,25.54585838317871,-11.356670379638672,-15.015820503234863,-10.719404220581055,7.391823768615723,-20.63858413696289,-11.097036361694336,-7.703890800476074,-2.7925140857696533,-3.921931028366089,-11.575115203857422,5.257636070251465,-13.702836990356445,2.75173282623291,22.700239181518555,11.012027740478516,-12.040393829345703,-20.950376510620117,2.3383312225341797,5.0743937492370605,2.7432069778442383,-5.2942657470703125,-20.140554428100586,-5.400150299072266,-20.138336181640625,22.426897048950195,-17.013498306274414,25.5643253326416,19.744970321655273,-20.62101173400879,-7.4827880859375,-14.589191436767578,-15.685790061950684,-4.289936065673828,-15.046529769897461,-0.1550646275281906,-11.719022750854492,-18.352243423461914,13.475172996520996,-10.097341537475586,9.596609115600586,-21.289884567260742,4.674945831298828,-11.728939056396484,22.007022857666016,-7.766547679901123,16.730304718017578,-4.747534275054932,-2.7161383628845215,-25.94521713256836,-21.115192413330078,-6.109577655792236,-2.879276990890503,3.646686553955078,8.884854316711426,-22.764970779418945,-26.872426986694336,-0.9691590666770935,-4.359757900238037,18.072601318359375,-4.0780558586120605,-3.0241432189941406,-2.7555458545684814,-14.223931312561035,4.983341217041016,12.297351837158203,15.824294090270996,-16.857807159423828,-23.596174240112305,-4.902205944061279,16.11916732788086,-14.293063163757324,19.4437313079834,10.931190490722656,-2.8024983406066895,17.24675750732422,17.225936889648438,-0.09208285063505173,5.401524543762207,3.1232330799102783,-5.456798553466797,-8.880072593688965,-26.372943878173828,15.030448913574219,-21.256868362426758,7.2217583656311035,8.927863121032715,10.23028564453125,-17.049091339111328,3.490354537963867,19.000940322875977,-9.911641120910645,-5.510054588317871,-12.326959609985352,-0.3085155785083771,-9.376224517822266,-11.112112045288086,11.402027130126953,-26.03963279724121,13.56773853302002,-25.869014739990234,2.9998257160186768,13.811555862426758,-26.05105972290039,-2.8467369079589844,-4.723692893981934,-8.713467597961426,-7.471020698547363,-3.6981537342071533,4.348715305328369,-11.855489730834961,0.7732649445533752,-6.160072326660156,4.832164764404297,-8.34937572479248,7.627806663513184,-10.471938133239746,5.167834281921387,0.2834552228450775,-4.941301345825195,1.2626889944076538,-6.093411922454834,-1.9503580331802368,-2.3231735229492188,-4.628992557525635,22.82615089416504,-7.219130039215088,-14.466842651367188,3.428107500076294,-3.1993374824523926,-11.003861427307129,-5.4744486808776855,6.648273468017578,6.538704872131348,4.726419925689697,-2.8800134658813477,-17.915298461914062,22.25536346435547,-16.254587173461914,-1.1619703769683838,-10.678594589233398,17.336565017700195,18.82952880859375,-4.435596466064453,6.6703643798828125,1.6875684261322021,3.6958131790161133,-20.558897018432617,-24.066837310791016,-0.1822301149368286,-2.363964557647705,-21.21722412109375,-23.024974822998047,-9.506912231445312,-21.12938690185547,13.58802318572998,-19.94953155517578,1.3580464124679565,-9.758941650390625,3.771015167236328,9.301350593566895,-16.86171531677246,-6.483122825622559,-15.395709991455078,19.449121475219727,-5.130317211151123,-20.02265739440918,-8.090629577636719,-4.136448383331299,10.50733470916748,-9.066514015197754,12.591209411621094,20.00229263305664,-4.912622451782227,15.115877151489258,2.5951507091522217,-7.148982048034668,5.011711120605469,18.768091201782227,15.581047058105469,-1.9772872924804688,18.649789810180664,-1.36540687084198,1.1772874593734741,22.049659729003906,0.20894743502140045,10.662290573120117,4.989465236663818,-6.673022270202637,-6.137100696563721,-2.8293700218200684,2.7602925300598145,5.262850761413574,1.0959744453430176,2.98952054977417,-8.181949615478516,-13.910659790039062,18.53387451171875,-1.202879548072815,-11.547773361206055,3.6472089290618896,-9.175275802612305,13.982447624206543,-11.381319046020508,4.696336269378662,-22.793516159057617,-22.15707778930664,-8.41419792175293,-11.712384223937988,-3.832780361175537,-23.849349975585938,-20.37343406677246,-13.60831069946289,18.238189697265625,0.4515286386013031,-23.190715789794922,6.334316730499268,9.85805606842041,-19.346433639526367,-6.6817193031311035,4.545308589935303,-14.333420753479004,5.722560405731201,-7.9921722412109375,-9.877008438110352,-18.330347061157227,-16.532262802124023,-2.2917110919952393,-11.602517127990723,-3.097822427749634,-6.455049514770508,-13.021574020385742,12.638811111450195,7.556065082550049,-3.0598196983337402,-11.76503849029541,6.220646381378174,-11.85974407196045,-16.476417541503906,17.829465866088867,13.135208129882812,-3.9077157974243164,8.933226585388184,11.76423168182373,-5.041552543640137,-13.11935043334961,-2.333237648010254,1.6639318466186523,-0.33368512988090515,-5.290359020233154,-17.88876724243164,-6.499485015869141,-14.932924270629883,-17.390039443969727,-14.737470626831055,-24.548892974853516,-6.58928108215332,-21.16703987121582,-16.58391761779785,-6.676486968994141,-14.648636817932129,15.981452941894531,-19.31344985961914,-13.544901847839355,-10.106849670410156,-20.638885498046875,-19.679319381713867,21.4553165435791,-10.8994722366333,-26.87541389465332,19.223745346069336,-13.497949600219727,-7.170071125030518,-19.28375816345215,-7.555778980255127,-11.318296432495117,-18.236919403076172,-13.549657821655273,-5.264535903930664,14.24977970123291,-6.7951178550720215,13.679563522338867,0.2549324035644531,-14.513102531433105,2.0308902263641357,-3.6119587421417236,3.9433088302612305,-1.7774602174758911,-10.691222190856934,-6.754923343658447,1.2050546407699585,-2.0122573375701904,11.78093147277832,16.144790649414062,3.989682674407959,-1.5911093950271606,-8.110114097595215,-17.212406158447266,1.9136854410171509,-4.218386173248291,-16.90157127380371,-0.3549768924713135,4.517843723297119,11.899881362915039,2.5855765342712402,14.300613403320312,2.4132673740386963,16.090007781982422,-5.20973014831543,1.385364055633545,-8.931241989135742,-11.124069213867188,-20.817852020263672,11.314811706542969,-7.5490851402282715,-7.114235877990723,9.43422794342041,-3.3224029541015625,14.008140563964844,-8.252318382263184,-4.976666450500488,5.744495868682861,6.381715774536133,-6.741873741149902,-22.09993553161621,-4.046314716339111,-0.3876156806945801,-8.565868377685547,-12.941944122314453,18.318767547607422,5.660947799682617,-8.619035720825195,-14.750019073486328,-4.146236896514893,-11.88866138458252,8.844823837280273,-12.138518333435059,15.059357643127441,2.769976854324341,1.9419620037078857,6.992403507232666,-6.7439775466918945,-13.489463806152344,-4.012126445770264,-10.821234703063965,2.2177462577819824,5.43956184387207,-8.353439331054688,5.896731853485107,20.58456802368164,18.743431091308594,-6.443333148956299,14.798431396484375,8.331869125366211,-11.104327201843262,-10.368124961853027,-8.391183853149414,7.14155912399292,-9.26625919342041,-6.814167499542236,-7.9739909172058105,6.009843349456787,9.381631851196289,5.469905853271484,6.646822929382324,17.05702018737793,-1.497995376586914,-11.684314727783203,-7.923484802246094,7.883082866668701,13.134376525878906,4.710934638977051,-2.9621057510375977,-6.4862260818481445,-10.081192970275879,2.67568039894104,-13.499189376831055,-7.443154811859131,13.461673736572266,-13.712018966674805,3.1938107013702393,-2.967714309692383,-17.36623764038086,-6.089414596557617,-8.344256401062012,-23.200069427490234,-18.636646270751953,-4.998225688934326,-18.178159713745117,-12.111351013183594,-18.780061721801758,-6.9307637214660645,20.92743682861328,-9.97199535369873,8.559195518493652,-11.697566032409668,4.433596134185791,-8.297929763793945,0.9669264554977417,-2.2619292736053467,-12.652645111083984,-19.851957321166992,-19.124311447143555,-8.247076034545898,-11.496559143066406,5.820057392120361,15.680924415588379,-20.12253189086914,5.246428966522217,18.63982391357422,-1.7068370580673218,-6.764922618865967,-8.645857810974121,-3.7887566089630127,23.17116355895996,-2.0371828079223633,-3.0994770526885986,2.6632697582244873,22.523548126220703,4.021304607391357,22.534122467041016,14.98339557647705,0.6365662813186646,-9.922547340393066,3.101078748703003,1.1684069633483887,17.616071701049805,2.1192448139190674,-14.811236381530762,-11.061936378479004,14.924674987792969,-14.990887641906738,-18.336145401000977,8.581692695617676,-6.988832473754883,-9.563227653503418,4.35667610168457,2.0588488578796387,10.234176635742188,-21.147192001342773,-1.7391436100006104,-6.907796382904053,-23.393714904785156,-18.110475540161133,13.073690414428711,10.896578788757324,-13.033561706542969,-0.3569498360157013,7.556825637817383,-2.1135060787200928,-20.901111602783203,-10.814519882202148,-8.37631893157959,6.31826114654541,23.65137481689453,20.576799392700195,11.124163627624512,-3.120103359222412,-9.922683715820312,-7.68667459487915,6.664393901824951,-19.666584014892578,-5.117491245269775,-13.142361640930176,10.2184419631958,-0.9936621785163879,-9.747159957885742,15.256010055541992,-18.037616729736328,5.049939155578613,4.934223651885986,-18.73143196105957,-7.585296154022217,-3.3109967708587646,-1.7996305227279663,-18.294574737548828,3.4159135818481445,21.756092071533203,9.412935256958008,-3.470430374145508,-5.132590293884277,-4.268379211425781,-7.578332424163818,-0.20863869786262512,6.426393985748291,6.529695987701416,-3.260568380355835,-12.629140853881836,2.3239049911499023,14.433802604675293,-12.771491050720215,-1.6548545360565186,-20.393325805664062,-8.406752586364746,0.34936967492103577,3.392683982849121,-7.667827606201172,-3.973656415939331,-21.576698303222656,-4.63567590713501,-5.028599262237549,-5.470542907714844,2.046419382095337,23.177719116210938,-6.194173336029053,-19.867639541625977,-7.617851734161377,-1.8282902240753174,1.8952871561050415,1.019531011581421,-2.7277145385742188,-24.20530128479004,-12.170389175415039,0.9899858236312866,-7.145252704620361,-1.4533177614212036,5.713671684265137,-6.038594722747803,2.5104353427886963,-13.226305961608887,-0.12131895124912262,-12.812909126281738,-13.264280319213867,-8.268562316894531,-2.830932855606079,6.9998779296875,-7.597602367401123,6.95629358291626,-9.835379600524902,-3.3902430534362793,-5.866336822509766,-10.403966903686523,-5.461517810821533,3.6157591342926025,-10.83434009552002,-4.167806148529053,0.6696322560310364,-12.999940872192383,-11.20121955871582,0.8152651786804199,-5.562133312225342,20.622478485107422,0.574992299079895,6.068378925323486,14.310550689697266,-11.035737037658691,-2.667938232421875,0.363090842962265,-2.396092653274536,1.0023231506347656,-13.856913566589355,-8.603423118591309,2.8708019256591797,-2.547574996948242,-1.316098928451538,13.307991981506348,-0.23390798270702362,5.69201135635376,-0.7732929587364197,-20.061880111694336,-3.801961660385132,0.0054739853367209435,-0.19935929775238037,1.0460383892059326,-11.649212837219238,0.006121968384832144,-11.01245403289795,7.537928104400635,-12.449467658996582,-0.5776418447494507,0.8377891778945923,-7.903710842132568,-0.4361453950405121,21.375146865844727,0.5283311009407043,-5.53107213973999,-0.0020069475285708904,-14.763914108276367,21.362770080566406,0.12616892158985138,-2.942487955093384,1.6307066679000854,-0.30611303448677063,15.178760528564453,-0.24421165883541107,0.8279640674591064,-7.346747875213623,-3.5466153621673584,0.8240252137184143,9.56166934967041,9.578842163085938,12.753196716308594,-6.634615898132324,-0.33624401688575745,1.030068039894104,-0.0606129914522171,0.31345298886299133,-10.067656517028809,-2.9977898597717285,-7.115752696990967,10.19382381439209,-7.973526954650879,20.21954345703125,-16.720230102539062,-6.570995330810547,-11.415942192077637,-6.1056413650512695,0.5298009514808655,2.4351112842559814,-9.4574613571167,-3.1545677185058594,-9.643372535705566,-9.180176734924316,-9.507087707519531,-6.018362045288086,-15.39211368560791,-9.58741283416748,10.33563232421875,-5.906740665435791,11.391576766967773,17.377197265625,10.699712753295898,-5.305246353149414,-2.267343521118164,-4.343349456787109,21.837438583374023,16.001728057861328,7.842818737030029,-5.609382152557373,-16.609895706176758,-2.844024896621704,-10.429341316223145,-15.64309310913086,12.263484001159668,-1.1402782201766968,-12.648846626281738,-3.1316418647766113,-21.062265396118164,3.5441110134124756,9.520685195922852,8.341318130493164,0.6960350275039673,-4.914437770843506,-20.237306594848633,-2.0210912227630615,2.7588658332824707,17.195327758789062,12.63481330871582,-12.208250999450684,7.685494422912598,8.291504859924316,-11.606571197509766,-7.2079339027404785,-1.1607128381729126,-0.3072724938392639,10.531083106994629,14.720563888549805,12.560613632202148,6.512241363525391,-10.112580299377441,13.671862602233887,-17.178207397460938,-3.2277722358703613,-11.735692977905273,-12.929506301879883,-5.117001533508301,5.879595756530762,5.595554828643799,-17.40211296081543,8.359119415283203,-8.787101745605469,14.808233261108398,8.298111915588379,2.574751615524292,4.656342506408691,-9.70499324798584,-9.659903526306152,-5.256886959075928,3.039923906326294,8.308876037597656,4.705663204193115,-2.98057222366333,-9.736133575439453,0.13579444587230682,11.596009254455566,0.9042205810546875,12.031846046447754,-1.452552318572998,1.9262944459915161,-5.290536403656006,-8.419549942016602,-14.873475074768066,-9.111821174621582,-10.901666641235352,-9.003732681274414,26.595211029052734,-6.252329349517822,4.7114362716674805,-8.273055076599121,-10.11689281463623,-11.838898658752441,-2.9279699325561523,-13.60876178741455,5.4383015632629395,17.336200714111328,-8.472076416015625,-9.405952453613281,8.189484596252441,-3.60772705078125,-1.5974986553192139,-4.645403861999512,-11.059524536132812,5.752514839172363,-8.736502647399902,5.938999652862549,-8.94559097290039,-4.11258602142334,8.376956939697266,-8.366150856018066,-4.642613887786865,6.060678958892822,10.830703735351562,20.624343872070312,10.396862030029297,-4.436159610748291,-6.1451096534729,-9.792961120605469,-9.174914360046387,18.666067123413086,14.805201530456543,-20.94086456298828,-5.756173610687256,3.4613990783691406,-2.3992559909820557,-0.5411341190338135,-2.015334129333496,13.731452941894531,22.16571617126465,-3.258841037750244,-18.610572814941406,-11.183942794799805,-7.844349384307861,-12.313544273376465,9.860270500183105,3.393977403640747,-1.6815334558486938,10.04281234741211,15.181462287902832,-8.655006408691406,-4.743268013000488,14.761433601379395,13.945658683776855,-3.661242723464966,-10.659706115722656,5.648898124694824,12.432576179504395,-4.543883323669434,-0.01741686649620533,15.089813232421875,6.2348737716674805,4.786400318145752,-5.544373989105225,-19.73858070373535,15.198652267456055,8.202864646911621,-10.39578628540039,-10.888463973999023,5.369006633758545,-6.0335893630981445,-10.197294235229492,-6.415465354919434,-5.331674098968506,1.9814430475234985,-11.287825584411621,0.16464219987392426,-1.3382166624069214,2.0150187015533447,12.400257110595703,-5.173732280731201,-5.838351726531982,-0.18431386351585388,-6.253030300140381,-10.492607116699219,-6.393081188201904,-5.180376052856445,-6.767482280731201,-9.441960334777832,-6.6911396980285645,-8.310906410217285,-8.140045166015625,-5.298221588134766,-7.140437602996826,-10.092002868652344,-6.859005928039551,-6.89928674697876,-4.936529636383057,-7.159583568572998,-5.336463451385498,-6.522385120391846,-6.235123634338379,22.30235481262207,-5.660248279571533,-6.065524578094482,-9.870153427124023,-5.791439533233643,-10.038421630859375,-8.921052932739258,22.534503936767578,-6.866809368133545,-5.936036586761475,-8.711031913757324,-3.0816216468811035,-9.589945793151855,-4.103045463562012,-3.2034494876861572,-11.016716957092285,-3.0663490295410156,-8.915168762207031,3.1408979892730713,12.278857231140137,-6.103575706481934,3.6112895011901855,-6.8523054122924805,-4.418487071990967,4.730139255523682,-11.521842956542969,10.553974151611328,-8.05187702178955,-0.30558159947395325,5.096165180206299,-7.129337787628174,-3.2717714309692383,-3.9770495891571045,9.252409934997559,-1.956001877784729,-4.562840461730957,-7.3252763748168945,-3.906874418258667,-11.418593406677246,-1.841996669769287,-9.315494537353516,10.714320182800293,-18.62398910522461,-3.929064989089966,-3.9928762912750244,-5.0709123611450195,-4.985664367675781,-4.862069129943848,-3.5069127082824707,14.27200698852539,-10.812650680541992,8.905560493469238,21.474496841430664,2.4219841957092285,21.28304672241211,21.518564224243164,-0.33440840244293213,20.901674270629883,-8.878766059875488,21.423948287963867,-10.967294692993164,22.452861785888672,21.044998168945312,-10.843947410583496,-6.108712196350098,-12.71318244934082,-7.9952826499938965,-8.097312927246094,5.094130516052246,21.04645538330078,-9.438058853149414,21.446319580078125,-7.840887546539307,-10.024470329284668,-4.218070983886719,-10.573137283325195,-10.593942642211914,-10.390405654907227,0.7874639630317688,6.836457252502441,11.988734245300293,-2.9338598251342773,2.4039556980133057,-3.656362295150757,-7.2871575355529785,-5.731074810028076,-4.932035446166992,-9.511244773864746,-5.290234565734863,-9.104483604431152,-9.215675354003906,-5.6407246589660645,-8.99039363861084,-3.500502586364746,0.8681964874267578,-5.145069599151611,11.691156387329102,-11.095269203186035,-1.5546711683273315,14.637411117553711,-3.253276824951172,6.873940944671631,0.1798618733882904,8.431775093078613,17.041519165039062],\"yaxis\":\"y\",\"type\":\"scattergl\"}],                        {\"template\":{\"data\":{\"histogram2dcontour\":[{\"type\":\"histogram2dcontour\",\"colorbar\":{\"outlinewidth\":0,\"ticks\":\"\"},\"colorscale\":[[0.0,\"#0d0887\"],[0.1111111111111111,\"#46039f\"],[0.2222222222222222,\"#7201a8\"],[0.3333333333333333,\"#9c179e\"],[0.4444444444444444,\"#bd3786\"],[0.5555555555555556,\"#d8576b\"],[0.6666666666666666,\"#ed7953\"],[0.7777777777777778,\"#fb9f3a\"],[0.8888888888888888,\"#fdca26\"],[1.0,\"#f0f921\"]]}],\"choropleth\":[{\"type\":\"choropleth\",\"colorbar\":{\"outlinewidth\":0,\"ticks\":\"\"}}],\"histogram2d\":[{\"type\":\"histogram2d\",\"colorbar\":{\"outlinewidth\":0,\"ticks\":\"\"},\"colorscale\":[[0.0,\"#0d0887\"],[0.1111111111111111,\"#46039f\"],[0.2222222222222222,\"#7201a8\"],[0.3333333333333333,\"#9c179e\"],[0.4444444444444444,\"#bd3786\"],[0.5555555555555556,\"#d8576b\"],[0.6666666666666666,\"#ed7953\"],[0.7777777777777778,\"#fb9f3a\"],[0.8888888888888888,\"#fdca26\"],[1.0,\"#f0f921\"]]}],\"heatmap\":[{\"type\":\"heatmap\",\"colorbar\":{\"outlinewidth\":0,\"ticks\":\"\"},\"colorscale\":[[0.0,\"#0d0887\"],[0.1111111111111111,\"#46039f\"],[0.2222222222222222,\"#7201a8\"],[0.3333333333333333,\"#9c179e\"],[0.4444444444444444,\"#bd3786\"],[0.5555555555555556,\"#d8576b\"],[0.6666666666666666,\"#ed7953\"],[0.7777777777777778,\"#fb9f3a\"],[0.8888888888888888,\"#fdca26\"],[1.0,\"#f0f921\"]]}],\"heatmapgl\":[{\"type\":\"heatmapgl\",\"colorbar\":{\"outlinewidth\":0,\"ticks\":\"\"},\"colorscale\":[[0.0,\"#0d0887\"],[0.1111111111111111,\"#46039f\"],[0.2222222222222222,\"#7201a8\"],[0.3333333333333333,\"#9c179e\"],[0.4444444444444444,\"#bd3786\"],[0.5555555555555556,\"#d8576b\"],[0.6666666666666666,\"#ed7953\"],[0.7777777777777778,\"#fb9f3a\"],[0.8888888888888888,\"#fdca26\"],[1.0,\"#f0f921\"]]}],\"contourcarpet\":[{\"type\":\"contourcarpet\",\"colorbar\":{\"outlinewidth\":0,\"ticks\":\"\"}}],\"contour\":[{\"type\":\"contour\",\"colorbar\":{\"outlinewidth\":0,\"ticks\":\"\"},\"colorscale\":[[0.0,\"#0d0887\"],[0.1111111111111111,\"#46039f\"],[0.2222222222222222,\"#7201a8\"],[0.3333333333333333,\"#9c179e\"],[0.4444444444444444,\"#bd3786\"],[0.5555555555555556,\"#d8576b\"],[0.6666666666666666,\"#ed7953\"],[0.7777777777777778,\"#fb9f3a\"],[0.8888888888888888,\"#fdca26\"],[1.0,\"#f0f921\"]]}],\"surface\":[{\"type\":\"surface\",\"colorbar\":{\"outlinewidth\":0,\"ticks\":\"\"},\"colorscale\":[[0.0,\"#0d0887\"],[0.1111111111111111,\"#46039f\"],[0.2222222222222222,\"#7201a8\"],[0.3333333333333333,\"#9c179e\"],[0.4444444444444444,\"#bd3786\"],[0.5555555555555556,\"#d8576b\"],[0.6666666666666666,\"#ed7953\"],[0.7777777777777778,\"#fb9f3a\"],[0.8888888888888888,\"#fdca26\"],[1.0,\"#f0f921\"]]}],\"mesh3d\":[{\"type\":\"mesh3d\",\"colorbar\":{\"outlinewidth\":0,\"ticks\":\"\"}}],\"scatter\":[{\"fillpattern\":{\"fillmode\":\"overlay\",\"size\":10,\"solidity\":0.2},\"type\":\"scatter\"}],\"parcoords\":[{\"type\":\"parcoords\",\"line\":{\"colorbar\":{\"outlinewidth\":0,\"ticks\":\"\"}}}],\"scatterpolargl\":[{\"type\":\"scatterpolargl\",\"marker\":{\"colorbar\":{\"outlinewidth\":0,\"ticks\":\"\"}}}],\"bar\":[{\"error_x\":{\"color\":\"#2a3f5f\"},\"error_y\":{\"color\":\"#2a3f5f\"},\"marker\":{\"line\":{\"color\":\"#E5ECF6\",\"width\":0.5},\"pattern\":{\"fillmode\":\"overlay\",\"size\":10,\"solidity\":0.2}},\"type\":\"bar\"}],\"scattergeo\":[{\"type\":\"scattergeo\",\"marker\":{\"colorbar\":{\"outlinewidth\":0,\"ticks\":\"\"}}}],\"scatterpolar\":[{\"type\":\"scatterpolar\",\"marker\":{\"colorbar\":{\"outlinewidth\":0,\"ticks\":\"\"}}}],\"histogram\":[{\"marker\":{\"pattern\":{\"fillmode\":\"overlay\",\"size\":10,\"solidity\":0.2}},\"type\":\"histogram\"}],\"scattergl\":[{\"type\":\"scattergl\",\"marker\":{\"colorbar\":{\"outlinewidth\":0,\"ticks\":\"\"}}}],\"scatter3d\":[{\"type\":\"scatter3d\",\"line\":{\"colorbar\":{\"outlinewidth\":0,\"ticks\":\"\"}},\"marker\":{\"colorbar\":{\"outlinewidth\":0,\"ticks\":\"\"}}}],\"scattermapbox\":[{\"type\":\"scattermapbox\",\"marker\":{\"colorbar\":{\"outlinewidth\":0,\"ticks\":\"\"}}}],\"scatterternary\":[{\"type\":\"scatterternary\",\"marker\":{\"colorbar\":{\"outlinewidth\":0,\"ticks\":\"\"}}}],\"scattercarpet\":[{\"type\":\"scattercarpet\",\"marker\":{\"colorbar\":{\"outlinewidth\":0,\"ticks\":\"\"}}}],\"carpet\":[{\"aaxis\":{\"endlinecolor\":\"#2a3f5f\",\"gridcolor\":\"white\",\"linecolor\":\"white\",\"minorgridcolor\":\"white\",\"startlinecolor\":\"#2a3f5f\"},\"baxis\":{\"endlinecolor\":\"#2a3f5f\",\"gridcolor\":\"white\",\"linecolor\":\"white\",\"minorgridcolor\":\"white\",\"startlinecolor\":\"#2a3f5f\"},\"type\":\"carpet\"}],\"table\":[{\"cells\":{\"fill\":{\"color\":\"#EBF0F8\"},\"line\":{\"color\":\"white\"}},\"header\":{\"fill\":{\"color\":\"#C8D4E3\"},\"line\":{\"color\":\"white\"}},\"type\":\"table\"}],\"barpolar\":[{\"marker\":{\"line\":{\"color\":\"#E5ECF6\",\"width\":0.5},\"pattern\":{\"fillmode\":\"overlay\",\"size\":10,\"solidity\":0.2}},\"type\":\"barpolar\"}],\"pie\":[{\"automargin\":true,\"type\":\"pie\"}]},\"layout\":{\"autotypenumbers\":\"strict\",\"colorway\":[\"#636efa\",\"#EF553B\",\"#00cc96\",\"#ab63fa\",\"#FFA15A\",\"#19d3f3\",\"#FF6692\",\"#B6E880\",\"#FF97FF\",\"#FECB52\"],\"font\":{\"color\":\"#2a3f5f\"},\"hovermode\":\"closest\",\"hoverlabel\":{\"align\":\"left\"},\"paper_bgcolor\":\"white\",\"plot_bgcolor\":\"#E5ECF6\",\"polar\":{\"bgcolor\":\"#E5ECF6\",\"angularaxis\":{\"gridcolor\":\"white\",\"linecolor\":\"white\",\"ticks\":\"\"},\"radialaxis\":{\"gridcolor\":\"white\",\"linecolor\":\"white\",\"ticks\":\"\"}},\"ternary\":{\"bgcolor\":\"#E5ECF6\",\"aaxis\":{\"gridcolor\":\"white\",\"linecolor\":\"white\",\"ticks\":\"\"},\"baxis\":{\"gridcolor\":\"white\",\"linecolor\":\"white\",\"ticks\":\"\"},\"caxis\":{\"gridcolor\":\"white\",\"linecolor\":\"white\",\"ticks\":\"\"}},\"coloraxis\":{\"colorbar\":{\"outlinewidth\":0,\"ticks\":\"\"}},\"colorscale\":{\"sequential\":[[0.0,\"#0d0887\"],[0.1111111111111111,\"#46039f\"],[0.2222222222222222,\"#7201a8\"],[0.3333333333333333,\"#9c179e\"],[0.4444444444444444,\"#bd3786\"],[0.5555555555555556,\"#d8576b\"],[0.6666666666666666,\"#ed7953\"],[0.7777777777777778,\"#fb9f3a\"],[0.8888888888888888,\"#fdca26\"],[1.0,\"#f0f921\"]],\"sequentialminus\":[[0.0,\"#0d0887\"],[0.1111111111111111,\"#46039f\"],[0.2222222222222222,\"#7201a8\"],[0.3333333333333333,\"#9c179e\"],[0.4444444444444444,\"#bd3786\"],[0.5555555555555556,\"#d8576b\"],[0.6666666666666666,\"#ed7953\"],[0.7777777777777778,\"#fb9f3a\"],[0.8888888888888888,\"#fdca26\"],[1.0,\"#f0f921\"]],\"diverging\":[[0,\"#8e0152\"],[0.1,\"#c51b7d\"],[0.2,\"#de77ae\"],[0.3,\"#f1b6da\"],[0.4,\"#fde0ef\"],[0.5,\"#f7f7f7\"],[0.6,\"#e6f5d0\"],[0.7,\"#b8e186\"],[0.8,\"#7fbc41\"],[0.9,\"#4d9221\"],[1,\"#276419\"]]},\"xaxis\":{\"gridcolor\":\"white\",\"linecolor\":\"white\",\"ticks\":\"\",\"title\":{\"standoff\":15},\"zerolinecolor\":\"white\",\"automargin\":true,\"zerolinewidth\":2},\"yaxis\":{\"gridcolor\":\"white\",\"linecolor\":\"white\",\"ticks\":\"\",\"title\":{\"standoff\":15},\"zerolinecolor\":\"white\",\"automargin\":true,\"zerolinewidth\":2},\"scene\":{\"xaxis\":{\"backgroundcolor\":\"#E5ECF6\",\"gridcolor\":\"white\",\"linecolor\":\"white\",\"showbackground\":true,\"ticks\":\"\",\"zerolinecolor\":\"white\",\"gridwidth\":2},\"yaxis\":{\"backgroundcolor\":\"#E5ECF6\",\"gridcolor\":\"white\",\"linecolor\":\"white\",\"showbackground\":true,\"ticks\":\"\",\"zerolinecolor\":\"white\",\"gridwidth\":2},\"zaxis\":{\"backgroundcolor\":\"#E5ECF6\",\"gridcolor\":\"white\",\"linecolor\":\"white\",\"showbackground\":true,\"ticks\":\"\",\"zerolinecolor\":\"white\",\"gridwidth\":2}},\"shapedefaults\":{\"line\":{\"color\":\"#2a3f5f\"}},\"annotationdefaults\":{\"arrowcolor\":\"#2a3f5f\",\"arrowhead\":0,\"arrowwidth\":1},\"geo\":{\"bgcolor\":\"white\",\"landcolor\":\"#E5ECF6\",\"subunitcolor\":\"white\",\"showland\":true,\"showlakes\":true,\"lakecolor\":\"white\"},\"title\":{\"x\":0.05},\"mapbox\":{\"style\":\"light\"}}},\"xaxis\":{\"anchor\":\"y\",\"domain\":[0.0,1.0],\"title\":{\"text\":\"tsne_1\"}},\"yaxis\":{\"anchor\":\"x\",\"domain\":[0.0,1.0],\"title\":{\"text\":\"tsne_2\"}},\"coloraxis\":{\"colorbar\":{\"title\":{\"text\":\"popularity\"}},\"colorscale\":[[0.0,\"#0d0887\"],[0.1111111111111111,\"#46039f\"],[0.2222222222222222,\"#7201a8\"],[0.3333333333333333,\"#9c179e\"],[0.4444444444444444,\"#bd3786\"],[0.5555555555555556,\"#d8576b\"],[0.6666666666666666,\"#ed7953\"],[0.7777777777777778,\"#fb9f3a\"],[0.8888888888888888,\"#fdca26\"],[1.0,\"#f0f921\"]]},\"legend\":{\"tracegroupgap\":0},\"margin\":{\"t\":60}},                        {\"responsive\": true}                    )                };                            </script>        </div>"
      ],
      "text/plain": [
       "Figure({\n",
       "    'data': [{'customdata': array([[1, 'Toy Story (1995)', 452],\n",
       "                                   [2, 'GoldenEye (1995)', 131],\n",
       "                                   [3, 'Four Rooms (1995)', 90],\n",
       "                                   ...,\n",
       "                                   [1680, 'Sliding Doors (1998)', 1],\n",
       "                                   [1681, 'You So Crazy (1994)', 1],\n",
       "                                   [1682, 'Scream of Stone (Schrei aus Stein) (1991)', 1]], dtype=object),\n",
       "              'hovertemplate': ('tsne_1=%{x}<br>tsne_2=%{y}<br>' ... '%{marker.color}<extra></extra>'),\n",
       "              'legendgroup': '',\n",
       "              'marker': {'color': array([452, 131,  90, ...,   1,   1,   1]),\n",
       "                         'coloraxis': 'coloraxis',\n",
       "                         'symbol': 'circle'},\n",
       "              'mode': 'markers',\n",
       "              'name': '',\n",
       "              'showlegend': False,\n",
       "              'type': 'scattergl',\n",
       "              'x': array([ 1.8017081 ,  7.4345593 , 13.461919  , ..., 24.796785  , 16.728168  ,\n",
       "                          -0.19611317], dtype=float32),\n",
       "              'xaxis': 'x',\n",
       "              'y': array([ 2.2325556 , -3.8181565 , 10.584759  , ...,  0.17986187,  8.431775  ,\n",
       "                          17.04152   ], dtype=float32),\n",
       "              'yaxis': 'y'}],\n",
       "    'layout': {'coloraxis': {'colorbar': {'title': {'text': 'popularity'}},\n",
       "                             'colorscale': [[0.0, '#0d0887'], [0.1111111111111111,\n",
       "                                            '#46039f'], [0.2222222222222222,\n",
       "                                            '#7201a8'], [0.3333333333333333,\n",
       "                                            '#9c179e'], [0.4444444444444444,\n",
       "                                            '#bd3786'], [0.5555555555555556,\n",
       "                                            '#d8576b'], [0.6666666666666666,\n",
       "                                            '#ed7953'], [0.7777777777777778,\n",
       "                                            '#fb9f3a'], [0.8888888888888888,\n",
       "                                            '#fdca26'], [1.0, '#f0f921']]},\n",
       "               'legend': {'tracegroupgap': 0},\n",
       "               'margin': {'t': 60},\n",
       "               'template': '...',\n",
       "               'xaxis': {'anchor': 'y', 'domain': [0.0, 1.0], 'title': {'text': 'tsne_1'}},\n",
       "               'yaxis': {'anchor': 'x', 'domain': [0.0, 1.0], 'title': {'text': 'tsne_2'}}}\n",
       "})"
      ]
     },
     "execution_count": 43,
     "metadata": {},
     "output_type": "execute_result"
    }
   ],
   "source": [
    "import plotly.express as px\n",
    "\n",
    "tsne_df = pd.DataFrame(item_tsne, columns=[\"tsne_1\", \"tsne_2\"])\n",
    "tsne_df[\"item_id\"] = np.arange(item_tsne.shape[0])\n",
    "tsne_df = tsne_df.merge(items.reset_index())\n",
    "\n",
    "px.scatter(tsne_df, x=\"tsne_1\", y=\"tsne_2\",\n",
    "           color=\"popularity\",\n",
    "           hover_data=[\"item_id\", \"title\", \"popularity\"])"
   ]
  },
  {
   "cell_type": "markdown",
   "metadata": {},
   "source": [
    "### Exercises\n",
    "\n",
    " - Add another layer to the neural network and retrain, compare train/test error.\n",
    " - Try adding more dropout and change layer sizes.\n"
   ]
  },
  {
   "cell_type": "markdown",
   "metadata": {},
   "source": [
    "### A recommendation function for a given user\n",
    "\n",
    "Once the model is trained, the system can be used to recommend a few items for a user that they haven't seen before. The following code does that.\n",
    "\n",
    "- we use the `model.predict` to compute the ratings a user would have given to all items\n",
    "- we build a function that sorts these items and excludes those the user has already seen."
   ]
  },
  {
   "cell_type": "code",
   "execution_count": 44,
   "metadata": {
    "scrolled": true
   },
   "outputs": [],
   "source": [
    "def recommend(user_id, top_n=10):\n",
    "    item_ids = range(1, items['item_id'].max())\n",
    "    seen_mask = all_ratings[\"user_id\"] == user_id\n",
    "    seen_movies = set(all_ratings[seen_mask][\"item_id\"])\n",
    "    item_ids = list(filter(lambda x: x not in seen_movies, item_ids))\n",
    "\n",
    "    user = np.zeros_like(item_ids)\n",
    "    user[:len(item_ids)] = user_id\n",
    "    items_ = np.array(item_ids)\n",
    "    ratings = model.predict([user, items_]).flatten()\n",
    "    top_items = ratings.argsort()[-top_n:][::-1]\n",
    "    return [(indexed_items.loc[item_id][\"title\"], ratings[item_id]) for item_id in top_items]"
   ]
  },
  {
   "cell_type": "code",
   "execution_count": 45,
   "metadata": {},
   "outputs": [
    {
     "name": "stdout",
     "output_type": "stream",
     "text": [
      "\u001b[1m48/48\u001b[0m \u001b[32m━━━━━━━━━━━━━━━━━━━━\u001b[0m\u001b[37m\u001b[0m \u001b[1m6s\u001b[0m 72ms/step\n",
      "    4.7: Dead Man Walking (1995)\n",
      "    4.6: 20,000 Leagues Under the Sea (1954)\n",
      "    4.5: Terminator 2: Judgment Day (1991)\n",
      "    4.4: Affair to Remember, An (1957)\n",
      "    4.4: Eat Drink Man Woman (1994)\n",
      "    4.3: Faster Pussycat! Kill! Kill! (1965)\n",
      "    4.2: How to Be a Player (1997)\n",
      "    4.1: Robert A. Heinlein's The Puppet Masters (1994)\n",
      "    4.1: House of Yes, The (1997)\n",
      "    4.1: Letter From Death Row, A (1998)\n"
     ]
    }
   ],
   "source": [
    "for title, pred_rating in recommend(5):\n",
    "    print(\"    %0.1f: %s\" % (pred_rating, title))"
   ]
  },
  {
   "cell_type": "markdown",
   "metadata": {
    "collapsed": false
   },
   "source": [
    "### Exercises\n",
    "\n",
    "- Try modifying our neural network to improve recommendation. You could try adding more layers, or using a different loss function. \n",
    "- Your goal is to improve the Mean Absolute Error on the test set. Show the results of your best model."
   ]
  },
  {
   "cell_type": "code",
   "execution_count": 46,
   "metadata": {
    "collapsed": false
   },
   "outputs": [
    {
     "name": "stderr",
     "output_type": "stream",
     "text": [
      "c:\\Users\\JEFFEY MARKUS\\AppData\\Local\\Programs\\Python\\Python312\\Lib\\site-packages\\keras\\src\\layers\\core\\embedding.py:90: UserWarning:\n",
      "\n",
      "Argument `input_length` is deprecated. Just remove it.\n",
      "\n"
     ]
    }
   ],
   "source": [
    "# Extend and improve the model below\n",
    "class RegressionModel(Model):\n",
    "    def __init__(self, embedding_size, max_user_id, max_item_id):\n",
    "        super().__init__()\n",
    "\n",
    "        self.user_embedding = Embedding(output_dim=embedding_size,\n",
    "                                        input_dim=max_user_id + 1,\n",
    "                                        input_length=1,\n",
    "                                        name='user_embedding')\n",
    "        self.item_embedding = Embedding(output_dim=embedding_size,\n",
    "                                        input_dim=max_item_id + 1,\n",
    "                                        input_length=1,\n",
    "                                        name='item_embedding')\n",
    "\n",
    "        # The following two layers don't have parameters.\n",
    "        self.flatten = Flatten()\n",
    "        self.dot = Dot(axes=1)\n",
    "\n",
    "    def call(self, inputs):\n",
    "        user_inputs = inputs[0]\n",
    "        item_inputs = inputs[1]\n",
    "\n",
    "        user_vecs = self.flatten(self.user_embedding(user_inputs))\n",
    "        item_vecs = self.flatten(self.item_embedding(item_inputs))\n",
    "\n",
    "        y = self.dot([user_vecs, item_vecs])\n",
    "        return y\n",
    "\n",
    "\n",
    "model = RegressionModel(embedding_size=64, max_user_id=all_ratings['user_id'].max(), max_item_id=all_ratings['item_id'].max())\n",
    "model.compile(optimizer=\"adam\", loss='mae')"
   ]
  },
  {
   "cell_type": "code",
   "execution_count": 47,
   "metadata": {
    "collapsed": false
   },
   "outputs": [
    {
     "name": "stdout",
     "output_type": "stream",
     "text": [
      "Epoch 1/10\n",
      "\u001b[1m1125/1125\u001b[0m \u001b[32m━━━━━━━━━━━━━━━━━━━━\u001b[0m\u001b[37m\u001b[0m \u001b[1m15s\u001b[0m 10ms/step - loss: 3.2730 - val_loss: 1.0268\n",
      "Epoch 2/10\n",
      "\u001b[1m1125/1125\u001b[0m \u001b[32m━━━━━━━━━━━━━━━━━━━━\u001b[0m\u001b[37m\u001b[0m \u001b[1m9s\u001b[0m 8ms/step - loss: 0.8953 - val_loss: 0.7952\n",
      "Epoch 3/10\n",
      "\u001b[1m1125/1125\u001b[0m \u001b[32m━━━━━━━━━━━━━━━━━━━━\u001b[0m\u001b[37m\u001b[0m \u001b[1m8s\u001b[0m 7ms/step - loss: 0.7573 - val_loss: 0.7695\n",
      "Epoch 4/10\n",
      "\u001b[1m1125/1125\u001b[0m \u001b[32m━━━━━━━━━━━━━━━━━━━━\u001b[0m\u001b[37m\u001b[0m \u001b[1m11s\u001b[0m 8ms/step - loss: 0.7340 - val_loss: 0.7607\n",
      "Epoch 5/10\n",
      "\u001b[1m1125/1125\u001b[0m \u001b[32m━━━━━━━━━━━━━━━━━━━━\u001b[0m\u001b[37m\u001b[0m \u001b[1m11s\u001b[0m 9ms/step - loss: 0.7204 - val_loss: 0.7569\n",
      "Epoch 6/10\n",
      "\u001b[1m1125/1125\u001b[0m \u001b[32m━━━━━━━━━━━━━━━━━━━━\u001b[0m\u001b[37m\u001b[0m \u001b[1m9s\u001b[0m 8ms/step - loss: 0.6981 - val_loss: 0.7474\n",
      "Epoch 7/10\n",
      "\u001b[1m1125/1125\u001b[0m \u001b[32m━━━━━━━━━━━━━━━━━━━━\u001b[0m\u001b[37m\u001b[0m \u001b[1m9s\u001b[0m 8ms/step - loss: 0.6746 - val_loss: 0.7439\n",
      "Epoch 8/10\n",
      "\u001b[1m1125/1125\u001b[0m \u001b[32m━━━━━━━━━━━━━━━━━━━━\u001b[0m\u001b[37m\u001b[0m \u001b[1m8s\u001b[0m 7ms/step - loss: 0.6495 - val_loss: 0.7391\n",
      "Epoch 9/10\n",
      "\u001b[1m1125/1125\u001b[0m \u001b[32m━━━━━━━━━━━━━━━━━━━━\u001b[0m\u001b[37m\u001b[0m \u001b[1m9s\u001b[0m 8ms/step - loss: 0.6305 - val_loss: 0.7374\n",
      "Epoch 10/10\n",
      "\u001b[1m1125/1125\u001b[0m \u001b[32m━━━━━━━━━━━━━━━━━━━━\u001b[0m\u001b[37m\u001b[0m \u001b[1m11s\u001b[0m 10ms/step - loss: 0.5994 - val_loss: 0.7384\n"
     ]
    }
   ],
   "source": [
    "# Training the model\n",
    "history = model.fit([user_id_train, item_id_train], rating_train,\n",
    "                    batch_size=64, epochs=10, validation_split=0.1,\n",
    "                    shuffle=True)"
   ]
  }
 ],
 "metadata": {
  "kernelspec": {
   "display_name": "Python 3",
   "language": "python",
   "name": "python3"
  },
  "language_info": {
   "codemirror_mode": {
    "name": "ipython",
    "version": 3
   },
   "file_extension": ".py",
   "mimetype": "text/x-python",
   "name": "python",
   "nbconvert_exporter": "python",
   "pygments_lexer": "ipython3",
   "version": "3.12.6"
  }
 },
 "nbformat": 4,
 "nbformat_minor": 4
}
